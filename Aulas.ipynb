{
 "cells": [
  {
   "cell_type": "markdown",
   "id": "0cde99e2",
   "metadata": {},
   "source": [
    "Rogério Mainardes\n",
    "\n",
    "- https://www.linkedin.com/in/rogerioomds/\n",
    "- Email: r.otavioms@gmail.com\n",
    "- Material: https://github.com/RogerioOMDS"
   ]
  },
  {
   "cell_type": "markdown",
   "id": "dc8425a4",
   "metadata": {},
   "source": [
    "### Conteúdo\n",
    "\n",
    "- Estatística distribuitiva;\n",
    "- Probabilidade;\n",
    "- Distribuições de probabilidade;\n",
    "- Distribuição normal;\n",
    "- Amostragem;\n",
    "- Teste de hipóteses;\n",
    "- Mais testes de hipóteses;\n",
    "- Séries temporais;\n",
    "- Projeto/Prova"
   ]
  },
  {
   "cell_type": "markdown",
   "id": "fb90d3d6",
   "metadata": {},
   "source": [
    "# 01 - Estatística Descritiva\n",
    "\n",
    "Nessa aula, iremos tratar dos seguintes conteúdos:\n",
    "- Introdução\n",
    "- Tipos de Variáveis\n",
    "- Estatística Descritiva\n",
    "- Métricas de Posição\n",
    "- Boxplot\n",
    "- Outliers\n",
    "- Métricas de Dispersão\n",
    "- Correlação\n",
    "- Assimetria\n",
    "- Tabela de Frequências"
   ]
  },
  {
   "cell_type": "markdown",
   "id": "b1fe5244",
   "metadata": {},
   "source": [
    "<img src = \"https://encrypted-tbn0.gstatic.com/images?q=tbn:ANd9GcTIqUDdVObHKev_QuHhakpATphyz6L62qflwl3vn79djOLS07sc4sbSot6M2oO_DR5tnycZygSagBuB6g&usqp=CAU\" width = 800>"
   ]
  },
  {
   "cell_type": "markdown",
   "id": "57c7c7c6",
   "metadata": {},
   "source": [
    "## "
   ]
  },
  {
   "cell_type": "markdown",
   "id": "527a5498",
   "metadata": {},
   "source": [
    "## Estatística Descritiva"
   ]
  },
  {
   "cell_type": "markdown",
   "id": "70095e71",
   "metadata": {},
   "source": [
    "Nessa e na próxima aula iniciaremos nossa introdução a **Probabilidade e Estatística**.\n",
    "\n",
    "Essas duas áreas são extremamente amplas, e fornecem toda a base da __ciência de dados__. Por isso, vamos dar uma olhada nos principais conceitos. A probabilidade e estatística podem ser divididas nos seguintes três pilares:\n",
    "\n",
    "**Probabilidade**: é a teoria matemática utilizada para se estudar a incerteza oriundas de `fenômenos de caráter aleátorio`.\n",
    "\n",
    "**Estatística Descritiva**: Etapa inicial da análise estatística, tendo como objetivo tirar informações prévias de modo informal e direto. A ideia é obter informações que `resumam` o conjuto de dados, a fim que estes possam ser `descritos`, e conclusões iniciais possam ser tiradas.\n",
    "\n",
    "**Inferência Estatística**: É o conjunto de técnicas que possibilitam a extrapolação de conclusões tiradas a partir de um conjunto pequeno de dados (denominado `amostra`) para todo o universo sob análise (denominado (`população`).\n"
   ]
  },
  {
   "cell_type": "markdown",
   "id": "c07abf80",
   "metadata": {},
   "source": [
    "##  "
   ]
  },
  {
   "cell_type": "markdown",
   "id": "309f78a1",
   "metadata": {},
   "source": [
    "## Tipos de Variáveis \n",
    "\n",
    "Antes de explorarmos a estatística descritiva é importante formalizarmos os **tipos de dados** com os quais normalmente trabalhamos:\n",
    "\n",
    "- **Variavél qualitativa** \n",
    "-- *Nominal* \n",
    "\n",
    "Valores que expressam **atributos sem nenhum tipo de ordem**. Ex : sexo, estado civil, país de origem, ser fumante ou não, etc.\n",
    "\n",
    "    - São representados por strings\n",
    "\n",
    "\n",
    "- **Variavél qualitativa** \n",
    "-- *Ordinal* \n",
    "\n",
    "Valores que expressam **atributos com algum tipo de ordem ou grau**. Ex: escolaridade, resposta de um paciente(piora, igual, melhora), classe social(alta, média,baixa), classe do navio, etc.\n",
    "\n",
    "    - São representados por strings\n",
    "    \n",
    "\n",
    "- **Variavél quantitativa** \n",
    "-- *Discreta*  \n",
    "\n",
    "Valores numéricos inteiros. Ex: idade em anos inteiros, número de banheiros em uma casa, número de filhos, etc.\n",
    "\n",
    "    - São representados por ints\n",
    "    \n",
    "\n",
    "- **Variavél quantitativa** \n",
    "-- *Contínua*  \n",
    "\n",
    "Valores numéricos racionais. Ex: salário, preço, temperatura, gorjeta, etc.\n",
    "\n",
    "    - São representados por floats"
   ]
  },
  {
   "cell_type": "markdown",
   "id": "f8d055c9",
   "metadata": {},
   "source": [
    "##  "
   ]
  },
  {
   "cell_type": "markdown",
   "id": "6fbe548d",
   "metadata": {},
   "source": [
    "## Métricas de Posição\n",
    "\n",
    "Como mencionamos anteriormente, o principal objetivo da estatística descritiva é gerar **medidas que resumam** o conjunto de dados que estamos analisando, ou seja, medidas que descrevam **a distribuição** dos dados, de forma quantitativa. Temos dois tipos de métricas disponíveis: as métricas de __posição__ e __dispersão__. Vamos conhecer melhor essas métricas a seguir:"
   ]
  },
  {
   "cell_type": "markdown",
   "id": "fe7abf76",
   "metadata": {},
   "source": [
    "__Métricas de Posição:__ Estas são medidas que **resumem** algumas propriedades do conjunto de dados:\n",
    "\n",
    "<img src=\"https://i.pinimg.com/originals/3e/8a/90/3e8a90c122ad25240cc46ac075cb0f4c.png\" width=200>\n",
    "\n",
    "### Média\n",
    "\n",
    "Seja $X$ uma variável quantitativa e $x_1,x_2,x_3, ...$ os valores assumidos por X. Define-se média de $\\overline{X}$ como sendo :\n",
    "\n",
    "$$\\overline{X} = \\frac{\\sum_{i=1}^{n}x_i}{n}= \\frac{x_1+ x_2 + x_3 +... +x_n}{n}$$"
   ]
  },
  {
   "cell_type": "code",
   "execution_count": 1,
   "id": "23d2bf68",
   "metadata": {
    "ExecuteTime": {
     "end_time": "2023-05-03T23:20:41.505502Z",
     "start_time": "2023-05-03T23:20:41.502072Z"
    }
   },
   "outputs": [
    {
     "name": "stderr",
     "output_type": "stream",
     "text": [
      "C:\\Users\\Amanda Rodrigues\\AppData\\Local\\Temp\\ipykernel_6500\\4279124494.py:2: DeprecationWarning: \n",
      "Pyarrow will become a required dependency of pandas in the next major release of pandas (pandas 3.0),\n",
      "(to allow more performant data types, such as the Arrow string type, and better interoperability with other libraries)\n",
      "but was not found to be installed on your system.\n",
      "If this would cause problems for you,\n",
      "please provide us feedback at https://github.com/pandas-dev/pandas/issues/54466\n",
      "        \n",
      "  import pandas as pd\n"
     ]
    }
   ],
   "source": [
    "# Import das Principais Bibliotecas\n",
    "import pandas as pd\n",
    "import numpy as np \n",
    "import matplotlib.pyplot as plt\n",
    "import seaborn as sns\n",
    "\n"
   ]
  },
  {
   "cell_type": "code",
   "execution_count": 2,
   "id": "b4ae2a3c",
   "metadata": {
    "ExecuteTime": {
     "end_time": "2023-04-28T23:43:41.039058Z",
     "start_time": "2023-04-28T23:43:41.021586Z"
    }
   },
   "outputs": [
    {
     "name": "stdout",
     "output_type": "stream",
     "text": [
      "amostra =, [ 7 15 11  8  7 19 11 11  4  8  3  2]\n",
      "Média = 8.833333333333334\n",
      "Média = 8.833333333333334\n"
     ]
    }
   ],
   "source": [
    "# Define uma semente randômica ----> para todas as execuções derem o mesmo valor\n",
    "np.random.seed(42)\n",
    "# Vamos criar uma amostra aleatória de numéros inteiros\n",
    "amostra = np.random.randint(1,20,12)\n",
    "\n",
    "# Print da amostra\n",
    "print(f'amostra =, {amostra}')\n",
    "# Print da Média da Amostra\n",
    "soma_total = sum(amostra)\n",
    "tamanho_total = len(amostra)\n",
    "print(f'Média = {soma_total/tamanho_total}')\n",
    "print(f'Média = {amostra.mean()}')\n"
   ]
  },
  {
   "cell_type": "markdown",
   "id": "2a25d399",
   "metadata": {},
   "source": [
    "## "
   ]
  },
  {
   "cell_type": "markdown",
   "id": "84dc8be1",
   "metadata": {},
   "source": [
    "### Mediana\n",
    "\n",
    "A **mediana** de uma variável é um número tal que há o mesmo número de observações maiores e menores do que ele, ocupando assim a **posição central** da série de observações.\n",
    "\n",
    "Assim, para calcularmos a mediana, basta **ordenarmos os dados, do menor pro maior**, e contar o que está no meio dos dados ordenados (se houver número par de dados, pega-se a média entre os dados que estão \"no meio\")\n",
    "\n",
    "- *Exemplo*\n",
    "\n",
    "i) 3,4,**7**,8,8 **mediana = 7**       (CASO ÍMPAR)\n",
    "\n",
    "ii) 3,4,**7**,**8**,8,9 **mediana = (7+8)/2 = 7,5**   (CASO PAR)\n",
    "\n",
    "<br>\n",
    "\n",
    "Logo, podemos definir: \n",
    "\n",
    "- Mediana de $X = X_{\\frac{n+1}{2}}$ `Se tamanho da amostra ímpar`\n",
    "\n",
    "\n",
    "- Mediana de $X = \\frac{X_{\\frac{n}{2}}+ X_{\\frac{n+1}{2}}}{2}$ `Se tamanho da amostra par`\n",
    "\n",
    "Como os valores de **indice no python** começam em `0`, devemos nos atentar que a equação acima deve ficar como:\n",
    "\n",
    "- Mediana de $X = X_{\\frac{n}{2}}$ `Se tamanho da amostra ímpar`\n",
    "\n",
    "\n",
    "- Mediana de $X = \\frac{X_{\\frac{n-1}{2}}+ X_{\\frac{n}{2}}}{2}$ `Se tamanho da amostra par`"
   ]
  },
  {
   "cell_type": "code",
   "execution_count": 3,
   "id": "cbedaa4e",
   "metadata": {
    "ExecuteTime": {
     "end_time": "2023-04-29T00:21:19.687804Z",
     "start_time": "2023-04-29T00:21:19.673315Z"
    }
   },
   "outputs": [
    {
     "name": "stdout",
     "output_type": "stream",
     "text": [
      "amostra [ 7 15 11  8  7 19 11 11  4  8  3  2 12]\n",
      "amostra ordenada  [2, 3, 4, 7, 7, 8, 8, 11, 11, 11, 12, 15, 19]\n",
      "Mediana  8.0\n"
     ]
    }
   ],
   "source": [
    "# Define a semente randômica\n",
    "np.random.seed(42)\n",
    "# Cria uma amostra de números aleatórios\n",
    "amostra = np.random.randint(1,20,13)\n",
    "# Print da Amostra\n",
    "print('amostra', amostra)\n",
    "# Print da Amostra Ordenada\n",
    "print('amostra ordenada ', sorted(amostra))\n",
    "# Print do Valor da Mediana\n",
    "print('Mediana ', np.median(amostra))"
   ]
  },
  {
   "cell_type": "markdown",
   "id": "39534c92",
   "metadata": {},
   "source": [
    "### Moda\n",
    "\n",
    "A **moda** é o valor que ocorre com **maior frequencia** em um conjunto de dados. Dependendo do conjunto de dados, ele pode ser:\n",
    "\n",
    "- Sem moda: quando nenhum valor se repete \n",
    "\n",
    "- unimodal: Quando existe apenas um valor repetido com maior frequência \n",
    "\n",
    "- multimodal: quando existem mais de um valor com a mesma frequência máxima"
   ]
  },
  {
   "cell_type": "code",
   "execution_count": 4,
   "id": "f09a1319",
   "metadata": {
    "ExecuteTime": {
     "end_time": "2023-04-29T00:32:46.322925Z",
     "start_time": "2023-04-29T00:32:46.314366Z"
    }
   },
   "outputs": [
    {
     "name": "stdout",
     "output_type": "stream",
     "text": [
      "amostra  [ 7 15 11  8  7 19 11 11  4  8  3  2 12]\n",
      "serie\n",
      " 0      7\n",
      "1     15\n",
      "2     11\n",
      "3      8\n",
      "4      7\n",
      "5     19\n",
      "6     11\n",
      "7     11\n",
      "8      4\n",
      "9      8\n",
      "10     3\n",
      "11     2\n",
      "12    12\n",
      "dtype: int32\n",
      "\n",
      "moda =  0    11\n",
      "dtype: int32\n"
     ]
    }
   ],
   "source": [
    "# Print da Amostra\n",
    "print('amostra ', amostra)\n",
    "# não existe método np.mode(), temos que transformar os dados em uma série\n",
    "serie = pd.Series(amostra)\n",
    "print('serie\\n', serie)\n",
    "print('\\nmoda = ', serie.mode()) #indexado"
   ]
  },
  {
   "cell_type": "code",
   "execution_count": 5,
   "id": "27324900",
   "metadata": {},
   "outputs": [
    {
     "name": "stdout",
     "output_type": "stream",
     "text": [
      "moda =  11\n"
     ]
    }
   ],
   "source": [
    "print('moda = ',serie.mode()[0])"
   ]
  },
  {
   "cell_type": "markdown",
   "id": "9d117d74",
   "metadata": {},
   "source": [
    "## "
   ]
  },
  {
   "cell_type": "markdown",
   "id": "4b3f49fa",
   "metadata": {},
   "source": [
    "### Quartis (Q1, Q2 e Q3)\n",
    "\n",
    "São valores dados a partir do conjunto de observações ordenado em ordem crescente, que dividem os dados **em quatro partes iguais**. \n",
    "\n",
    "- O primeiro quartil, Q1, é o número que deixa 25% das observações abaixo e 75% acima;\n",
    "- O segundo quartil, Q2 é a **mediana**, deixa 50% das observações abaixo e 50% das observações acima;\n",
    "- O terceiro quartil, Q3, deixa 75% das observações abaixo e 25% acima;\n",
    "\n",
    "\n",
    "<img src=\"https://aprendendogestao.com.br/wp-content/uploads/2016/07/QE-Figura-1.png\" />"
   ]
  },
  {
   "cell_type": "markdown",
   "id": "84a5d2e5",
   "metadata": {},
   "source": [
    "## "
   ]
  },
  {
   "cell_type": "markdown",
   "id": "7629881b",
   "metadata": {},
   "source": [
    "### Intervalo Interquartil (IQR)\n",
    "\n",
    "Por construção, aproximadamente metade dos dados estão entre o 1º e o 3º quartil, isto é, este também pode ser interpretado como **um intervalo de valores tipicamente assumidos pelas observações**, e também é uma **medida de dispersão**, pois nos dá uma ideia da variação que existe entre o Q1 e o Q3."
   ]
  },
  {
   "cell_type": "code",
   "execution_count": 6,
   "id": "3c851b67",
   "metadata": {
    "ExecuteTime": {
     "end_time": "2023-04-29T00:30:02.356000Z",
     "start_time": "2023-04-29T00:30:02.335815Z"
    }
   },
   "outputs": [
    {
     "name": "stdout",
     "output_type": "stream",
     "text": [
      "[ 7 15 11  8  7 19 11 11  4  8  3  2 12]\n",
      "amostra ordenada  [2, 3, 4, 7, 7, 8, 8, 11, 11, 11, 12, 15, 19]\n",
      "mediana =  8.0\n",
      " - - - - - - - - - - - \n",
      "primeiro quartil =  7.0\n",
      "segundo quartil =  8.0\n",
      "terceiro quartil =  11.0\n",
      "intervalo interquatílica (IQR) =  4.0\n"
     ]
    }
   ],
   "source": [
    "# Print da Amostra\n",
    "print(amostra)\n",
    "# Print da Amostra Ordenada\n",
    "print('amostra ordenada ', sorted(amostra))\n",
    "# Calcula o intervalo interquartil\n",
    "print('mediana = ', np.median(amostra))\n",
    "print(' - - - - - - - - - - - ')\n",
    "print('primeiro quartil = ', np.quantile(amostra,0.25))\n",
    "print('segundo quartil = ', np.quantile(amostra,0.5))\n",
    "print('terceiro quartil = ', np.quantile(amostra,0.75))\n",
    "# Print do IQR\n",
    "print('intervalo interquatílica (IQR) = ',np.quantile(amostra,0.75) - np.quantile(amostra,0.25))\n"
   ]
  },
  {
   "cell_type": "markdown",
   "id": "efa0b467",
   "metadata": {},
   "source": [
    "## "
   ]
  },
  {
   "cell_type": "markdown",
   "id": "4fa06373",
   "metadata": {},
   "source": [
    "Se construirmos uma série do pandas, é possível ter as estatísticas descritivas todas de uma vez, com o describe():"
   ]
  },
  {
   "cell_type": "code",
   "execution_count": 7,
   "id": "86b0f290",
   "metadata": {
    "ExecuteTime": {
     "end_time": "2023-04-29T00:33:24.953009Z",
     "start_time": "2023-04-29T00:33:24.931010Z"
    },
    "scrolled": false
   },
   "outputs": [
    {
     "name": "stdout",
     "output_type": "stream",
     "text": [
      "0      7\n",
      "1     15\n",
      "2     11\n",
      "3      8\n",
      "4      7\n",
      "5     19\n",
      "6     11\n",
      "7     11\n",
      "8      4\n",
      "9      8\n",
      "10     3\n",
      "11     2\n",
      "12    12\n",
      "dtype: int32\n"
     ]
    },
    {
     "data": {
      "text/plain": [
       "count    13.000000\n",
       "mean      9.076923\n",
       "std       4.803845\n",
       "min       2.000000\n",
       "25%       7.000000\n",
       "50%       8.000000\n",
       "75%      11.000000\n",
       "max      19.000000\n",
       "dtype: float64"
      ]
     },
     "execution_count": 7,
     "metadata": {},
     "output_type": "execute_result"
    }
   ],
   "source": [
    "# Cria uma Serie da amostra gerada anteriormente\n",
    "serie = pd.Series(amostra)\n",
    "# Print da Série\n",
    "print(serie)\n",
    "# Print do Sumário Estatístico\n",
    "#serie.describe(percentiles=[0.25,0.5,0.75])\n",
    "serie.describe()\n",
    "# Cálculo da Moda\n",
    "\n",
    "\n",
    "\n"
   ]
  },
  {
   "cell_type": "markdown",
   "id": "aaa7708e",
   "metadata": {},
   "source": [
    "## "
   ]
  },
  {
   "cell_type": "markdown",
   "id": "abf12ac9",
   "metadata": {},
   "source": [
    "### Box Plot\n",
    "\n",
    "O boxplot (gráfico de caixa) é um gráfico utilizado para avaliar a distribuição empírica do dados. O boxplot é formado pelo primeiro e terceiro quartil e pela mediana. As hastes conhecidos como bigodes (**whiskers**) inferiores e superiores se estendem, respectivamente, do quartil inferior até o menor valor não inferior ao limite inferior e do quartil superior até o maior valor não superior ao limite superior. Os limites são calculados da forma abaixo:\n",
    "\n",
    "$IQR = Q_3 - Q_1$\n",
    "\n",
    "Limite inferior: $ \\max\\{\\min(\\text{dados});Q_1-1,5 \\cdot IQR\\} $.\n",
    "\n",
    "Limite superior: $ \\min\\{\\max(\\text{dados});Q_3+1,5 \\cdot IQR\\} $.\n",
    "\n",
    "Para este caso, os pontos fora destes limites são considerados valores discrepantes (Outliers) e são denotados por asterisco (*). A Figura  a seguir apresenta um exemplo do formato de um boxplot.\n",
    "\n",
    "<img src=https://miro.medium.com/max/8000/1*0MPDTLn8KoLApoFvI0P2vQ.png width=500>\n",
    "\n",
    "O boxplot pode ainda ser utilizado para uma comparação visual entre dois ou mais grupos. Por exemplo, duas ou mais caixas são colocadas lado a lado e se compara a variabilidade entre elas, a mediana e assim por diante. Outro ponto importante é a diferença entre os quartis $ (Q_3 - Q_1) $ que é uma medida da variabilidade dos dados."
   ]
  },
  {
   "cell_type": "markdown",
   "id": "d7f57a54",
   "metadata": {},
   "source": [
    "## "
   ]
  },
  {
   "cell_type": "markdown",
   "id": "ef8edffb",
   "metadata": {},
   "source": [
    "### Outliers\n",
    "\n",
    "**Outliers** ou **discrepantes** referem-se a obsevações **extremas**, que se deslocam em muito das outras observações em um conjunto de dados, ou seja, que **destoam do padrão da distribuição** dos dados. Outliers podem existir por motivos diferentes, alguns dos quais são:\n",
    "\n",
    "- erro na entrada de dados (erro humano);\n",
    "- erro na medição/coleta dos dados (erro instrumental);\n",
    "- erros experimentais (planejamento/execução dos experimentos);\n",
    "- outliers naturais (não decorrente de erros)\n",
    "\n",
    "<img src=\"https://miro.medium.com/max/700/1*J5Xm0X-phCJJ-DKZMZ_88w.png\">\n",
    "\n",
    "No caso dos erros, é importante que os outliers sejam tratados (comumente são removidos). Por outro lado, outliers naturais são importantes constituintes dos dados, de modo que não devem ser eliminados mas, muitas vezes, devem ser tratados.\n",
    "\n",
    "De qualquer modo, antes de começarmos a pensar em como **tratar** os outliers, o primeiro passo é **identificá-los** e a melhor forma para isso é utilizar dos boxplots."
   ]
  },
  {
   "cell_type": "code",
   "execution_count": 8,
   "id": "68e36dfd",
   "metadata": {},
   "outputs": [
    {
     "name": "stdout",
     "output_type": "stream",
     "text": [
      "amostra_2 =  [52 93 15 72 61 21 83 87 75 75 88 24  3 22 53  2 88 30 38  2 64 60 21 33\n",
      " 76 58 22 89 49 91 59 42 92 60 80 15 62 62 47 62 51 55 64  3 51  7 21 73\n",
      " 39 18]\n"
     ]
    }
   ],
   "source": [
    "# semente randômica\n",
    "np.random.seed(42)\n",
    "\n",
    "# gerar a amostra\n",
    "amostra_2 = np.random.randint(1,100,50)\n",
    "print(\"amostra_2 = \", amostra_2)"
   ]
  },
  {
   "cell_type": "code",
   "execution_count": 9,
   "id": "e1bbb6b6",
   "metadata": {},
   "outputs": [
    {
     "data": {
      "image/png": "[encoded data removed]",
      "text/plain": [
       "<Figure size 600x500 with 1 Axes>"
      ]
     },
     "metadata": {},
     "output_type": "display_data"
    }
   ],
   "source": [
    "fig, ax = plt.subplots(figsize = (6,5))\n",
    "\n",
    "q1 = np.quantile(amostra_2, 0.25)\n",
    "q3 = np.quantile(amostra_2, 0.75)\n",
    "iqr = q3 - q1\n",
    "\n",
    "minimum = q1 - (1.5 * iqr)\n",
    "minimum_2 = np.max([np.min(amostra_2), minimum])\n",
    "\n",
    "maximum = q3 + (1.5 * iqr)\n",
    "maximum_2 = np.min([np.max(amostra_2), maximum])\n",
    "\n",
    "ax.boxplot(amostra_2)\n",
    "ax.axhline(y = np.median(amostra_2), label = \"mediana (q2)\", color= \"orange\")\n",
    "ax.axhline(y = q1, label =\"q1\", color =\"red\" )\n",
    "ax.axhline(y = q3, label =\"q3\", color =\"blue\" )\n",
    "ax.axhline(y = amostra_2.mean(), label =\"media\", color =\"gray\")\n",
    "ax.axhline(y = minimum_2, label =\"minimum\", color = \"yellow\" )\n",
    "ax.axhline(y = maximum_2, label =\"maximum\", color = \"green\" )\n",
    "ax.legend()\n",
    "ax = ax "
   ]
  },
  {
   "cell_type": "code",
   "execution_count": 10,
   "id": "6478d000",
   "metadata": {},
   "outputs": [
    {
     "data": {
      "text/plain": [
       "0    21\n",
       "1    62\n",
       "dtype: int32"
      ]
     },
     "execution_count": 10,
     "metadata": {},
     "output_type": "execute_result"
    }
   ],
   "source": [
    "# nossa amostra é bimodal, não será graficado\n",
    "serie_2 = pd.Series(amostra_2)\n",
    "serie_2.mode()"
   ]
  },
  {
   "cell_type": "markdown",
   "id": "29860ed2",
   "metadata": {},
   "source": [
    "##  "
   ]
  },
  {
   "cell_type": "markdown",
   "id": "36384393",
   "metadata": {},
   "source": [
    "### Medidas de Dispersão\n",
    "\n",
    "Estas são **medidas de variabilidade**, que indicam o quanto as observações variam ao redor de alguma medida de centralidade (média, mediana, etc.). Em outras palavras, indicam **o quão longe podemos esperar que uma observação esteja do valor típico para aquela variável**. \n",
    "\n",
    "Existem diversas medidas de variabilidade, algumas das quais apresentamos a seguir."
   ]
  },
  {
   "cell_type": "markdown",
   "id": "bf51bbc9",
   "metadata": {},
   "source": [
    "### Amplitude\n",
    "\n",
    "A amplitude é a **diferença entre o maior e o menor valor observado**. Algo bem importante a salientar sobre a amplitude é:\n",
    "\n",
    "- **Fortemente influenciada** por valores extremos nas observações, como outliers. "
   ]
  },
  {
   "cell_type": "code",
   "execution_count": 11,
   "id": "4dd1b1a2",
   "metadata": {
    "ExecuteTime": {
     "end_time": "2023-05-03T23:20:49.602102Z",
     "start_time": "2023-05-03T23:20:49.596614Z"
    }
   },
   "outputs": [
    {
     "data": {
      "text/plain": [
       "count    14.000000\n",
       "mean     14.642857\n",
       "std      21.331115\n",
       "min       2.000000\n",
       "25%       7.000000\n",
       "50%       9.500000\n",
       "75%      11.750000\n",
       "max      87.000000\n",
       "dtype: float64"
      ]
     },
     "execution_count": 11,
     "metadata": {},
     "output_type": "execute_result"
    }
   ],
   "source": [
    "# Define um array de amostra\n",
    "amostra3 = np.array([2, 3, 4, 7, 7, 8, 8, 11, 11, 11, 12, 15, 19, 87])\n",
    "\n",
    "amostra3\n",
    "serie_3 = pd.Series(amostra3)\n",
    "serie_3.describe()"
   ]
  },
  {
   "cell_type": "code",
   "execution_count": 12,
   "id": "23e23677",
   "metadata": {},
   "outputs": [
    {
     "data": {
      "text/plain": [
       "<matplotlib.legend.Legend at 0x297ab154390>"
      ]
     },
     "execution_count": 12,
     "metadata": {},
     "output_type": "execute_result"
    },
    {
     "data": {
      "image/png": "[encoded data removed]",
      "text/plain": [
       "<Figure size 640x480 with 1 Axes>"
      ]
     },
     "metadata": {},
     "output_type": "display_data"
    }
   ],
   "source": [
    "fig, ax = plt.subplots()\n",
    "media = amostra3.mean()\n",
    "dp = amostra3.std()\n",
    "ax.hist(amostra3)\n",
    "ax.axvline(x = media, label = 'media', color = 'red')\n",
    "ax.axvspan(xmin = media - dp, xmax = media, alpha = 0.2, color = 'yellow', label = 'media - dp')\n",
    "ax.axvspan(xmin = media, xmax = media + dp, alpha = 0.2, color =  'red', label = 'media + dp')\n",
    "ax.legend()\n"
   ]
  },
  {
   "cell_type": "code",
   "execution_count": 13,
   "id": "ceaaa20d",
   "metadata": {},
   "outputs": [
    {
     "data": {
      "text/plain": [
       "<matplotlib.legend.Legend at 0x297ab1e2950>"
      ]
     },
     "execution_count": 13,
     "metadata": {},
     "output_type": "execute_result"
    },
    {
     "data": {
      "image/png": "[encoded data removed]",
      "text/plain": [
       "<Figure size 640x480 with 1 Axes>"
      ]
     },
     "metadata": {},
     "output_type": "display_data"
    }
   ],
   "source": [
    "# Define um array de amostra\n",
    "amostra_4 = np.array([2, 3, 4, 7, 7, 8, 8, 11, 11, 11, 12, 15, 19, 19])\n",
    "fig, ax = plt.subplots()\n",
    "media = amostra_4.mean()\n",
    "dp = amostra_4.std()\n",
    "ax.hist(amostra_4)\n",
    "ax.axvline(x = media, label = 'media', color = 'red')\n",
    "ax.axvspan(xmin = media - dp, xmax = media, alpha = 0.2, color = 'yellow', label = 'media - dp')\n",
    "ax.axvspan(xmin = media, xmax = media + dp, alpha = 0.2, color =  'red', label = 'media + dp')\n",
    "ax.legend()"
   ]
  },
  {
   "cell_type": "code",
   "execution_count": 14,
   "id": "135fc2c9",
   "metadata": {},
   "outputs": [
    {
     "data": {
      "text/plain": [
       "count    14.000000\n",
       "mean      9.785714\n",
       "std       5.323079\n",
       "min       2.000000\n",
       "25%       7.000000\n",
       "50%       9.500000\n",
       "75%      11.750000\n",
       "max      19.000000\n",
       "dtype: float64"
      ]
     },
     "execution_count": 14,
     "metadata": {},
     "output_type": "execute_result"
    }
   ],
   "source": [
    "serie_4 = pd.Series(amostra_4)\n",
    "serie_4.describe()"
   ]
  },
  {
   "cell_type": "code",
   "execution_count": 15,
   "id": "1e38f75b",
   "metadata": {
    "ExecuteTime": {
     "end_time": "2023-05-03T23:21:47.391710Z",
     "start_time": "2023-05-03T23:21:47.217840Z"
    }
   },
   "outputs": [
    {
     "data": {
      "text/plain": [
       "<Axes: ylabel='Count'>"
      ]
     },
     "execution_count": 15,
     "metadata": {},
     "output_type": "execute_result"
    },
    {
     "data": {
      "image/png": "[encoded data removed]",
      "text/plain": [
       "<Figure size 640x480 with 1 Axes>"
      ]
     },
     "metadata": {},
     "output_type": "display_data"
    }
   ],
   "source": [
    "sns.histplot(amostra3)"
   ]
  },
  {
   "cell_type": "code",
   "execution_count": 16,
   "id": "7cc052df",
   "metadata": {},
   "outputs": [],
   "source": [
    "amostra3_ordenada = sorted(amostra3)"
   ]
  },
  {
   "cell_type": "code",
   "execution_count": 17,
   "id": "938c6f4d",
   "metadata": {},
   "outputs": [
    {
     "name": "stdout",
     "output_type": "stream",
     "text": [
      "amplitude = 85\n"
     ]
    }
   ],
   "source": [
    "amplitude = amostra3_ordenada[-1] - amostra3_ordenada[0]\n",
    "print(\"amplitude =\", amplitude)"
   ]
  },
  {
   "cell_type": "markdown",
   "id": "9c8b68b2",
   "metadata": {},
   "source": [
    "## "
   ]
  },
  {
   "cell_type": "markdown",
   "id": "6af75f44",
   "metadata": {},
   "source": [
    "### Variância \n",
    "\n",
    "A variância representa **o quanto os dados se afastam da média, em geral**. Por definição, tomamos a média dos **desvios quadráticos da média**:\n",
    "\n",
    "$$ Var(X) = \\sum_{i=1}^{n}\\frac{(x-\\overline{x})^{2}}{n-1} = \\frac{(x_1-\\overline{x})^{2}}{n-1} + \\frac{(x_2-\\overline{x})^{2}}{n-1} + \\cdots$$"
   ]
  },
  {
   "cell_type": "code",
   "execution_count": 18,
   "id": "e4a9d5e8",
   "metadata": {
    "ExecuteTime": {
     "end_time": "2023-05-03T23:23:53.176053Z",
     "start_time": "2023-05-03T23:23:53.172361Z"
    },
    "scrolled": true
   },
   "outputs": [
    {
     "name": "stdout",
     "output_type": "stream",
     "text": [
      "[ 2  3  4  7  7  8  8 11 11 11 12 15 19 87]\n",
      "média      14.642857142857142\n",
      "variância  422.51530612244903\n"
     ]
    }
   ],
   "source": [
    "# Print dos Dados\n",
    "print(amostra3)\n",
    "# Print do Valor da Variância\n",
    "print(\"média     \", amostra3.mean())\n",
    "print(\"variância \", np.var(amostra3)) # os dados são muito disperso\n"
   ]
  },
  {
   "cell_type": "markdown",
   "id": "8e5c0bbc",
   "metadata": {},
   "source": [
    "## "
   ]
  },
  {
   "cell_type": "markdown",
   "id": "f522582d",
   "metadata": {},
   "source": [
    "### Desvio padrão\n",
    "\n",
    "Note que, da forma como foi definida, a variância é um valor **quadrático** nos dados. Para evitar isso, é comum tirar a raiz quadrada da variância, o que define o **desvio padrão**:\n",
    "\n",
    "$$ \\sigma(X) \\equiv \\sqrt{Var(X)} = \\sqrt{\\sum_{i=1}^{n}\\frac{(x-\\overline{x})^{2}}{n - 1}}$$"
   ]
  },
  {
   "cell_type": "code",
   "execution_count": 19,
   "id": "05bef3a7",
   "metadata": {
    "ExecuteTime": {
     "end_time": "2023-05-03T23:27:46.671138Z",
     "start_time": "2023-05-03T23:27:46.666803Z"
    }
   },
   "outputs": [
    {
     "name": "stdout",
     "output_type": "stream",
     "text": [
      "[ 2  3  4  7  7  8  8 11 11 11 12 15 19 87]\n",
      "média          14.642857142857142\n",
      "Desvio Padrão  20.55517711240769\n"
     ]
    }
   ],
   "source": [
    "# Print dos Dados\n",
    "print(amostra3)\n",
    "# Print do Valor do Desvio Padrão\n",
    "print(\"média         \", amostra3.mean())\n",
    "print(\"Desvio Padrão \", np.std(amostra3)) # os dados são muito disperso"
   ]
  },
  {
   "cell_type": "markdown",
   "id": "7616554f",
   "metadata": {},
   "source": [
    "Até agora estamos analisando uma única variável separadamente: ANÁLISE UNIVARIADA\n",
    "\n",
    "Se quero saber a relação de 2 ou mais variáveis, utilizamos uma ANÁLISE MULTIVARIADA"
   ]
  },
  {
   "cell_type": "markdown",
   "id": "86328e97",
   "metadata": {},
   "source": [
    "## "
   ]
  },
  {
   "cell_type": "markdown",
   "id": "a5a576c9",
   "metadata": {},
   "source": [
    "## Métricas de associação entre variáveis quantitativas\n",
    "\n",
    "\n",
    "Sejam $X$ e $Y$ variáveis quantitativas de interesse e as amostras aleatórias observadas $x_1,\\ldots,x_n$ e $y_1,\\ldots,y_n$, respectivamente. As medidas de associação mais utilizadas são:\n",
    "<br>\n",
    "\n",
    "### Covariância \n",
    "\n",
    "A __Covariância__ faz uma comparação similar que a variância, com a diferença que está comparação é entre variáveis distintas $X$ e $Y$:\n",
    "\n",
    "$s_{XY} = \\displaystyle{\\frac{\\displaystyle\\sum_{i=1}^{n}(x_i-\\bar{x})(y_i-\\bar{y})}{n-1}}$\n",
    "\n",
    "| Covariância não é um valor padronizado"
   ]
  },
  {
   "cell_type": "markdown",
   "id": "b754ad90",
   "metadata": {},
   "source": [
    "## "
   ]
  },
  {
   "cell_type": "markdown",
   "id": "c0208637",
   "metadata": {},
   "source": [
    "### Correlação\n",
    "\n",
    "Um dos conceitos mais importantes em Data Science é o da **correlação**. A partir de estudos de correlação, é possível **descobrirmos como diferentes variáveis interagem**.\n",
    "<br>\n",
    "<img src=\"https://www.mathsisfun.com/data/images/correlation-examples.svg\" width=700>\n",
    "<br>\n",
    "É bem importante distinguirmos correlações **lineares** de **não lineares**. \n",
    "<br>\n",
    "<img src=\"https://miro.medium.com/max/1414/1*ZMwog-_YcD0qBHc9_1T1-w.png\" width=700>\n",
    "<br>\n",
    "Para fazer a distinção acima, há testes específicos para correlação. Vamos ver dois coeficientes de correlação específicos que sâo: __Pearson__ e __Spearmann__"
   ]
  },
  {
   "cell_type": "markdown",
   "id": "4612e89a",
   "metadata": {},
   "source": [
    "Para fazer a distinção acima, há testes específicos para correlação. Vamos ver dois coeficientes de correlação específicos que sâo: __Pearson__ e __Spearmann__\n",
    "\n",
    "**OBS.: CORRELAÇÃO NÃO IMPLICA EM CAUSALIDADE**\n",
    "\n",
    "https://www.tylervigen.com/spurious-correlations"
   ]
  },
  {
   "cell_type": "markdown",
   "id": "6f5535d2",
   "metadata": {},
   "source": [
    "## "
   ]
  },
  {
   "cell_type": "markdown",
   "id": "eabc7351",
   "metadata": {},
   "source": [
    "### Correlação de Pearson\n",
    "\n",
    "A [__Correlação de Pearson__](https://pt.wikipedia.org/wiki/Coeficiente_de_correla%C3%A7%C3%A3o_de_Pearson) é expressa como  a **taxa de relação linear entre duas variáveis numéricas**. Quanto mais próximo de 1 ou -1, mais **linearmente correlacionado estão as variáveis testadas**. A fórmula define-se como:\n",
    "\n",
    "\n",
    "$r = \\displaystyle{\\frac{s_{XY}}{\\sqrt{s^2_X s^2_Y }}}$\n",
    "\n",
    "\n",
    "Propriedade: \n",
    "\n",
    " $-1 \\leq r \\leq 1$\n",
    "\n",
    "\n",
    "É comum usar as seguintes classificações:\n",
    "\n",
    "1. $r=1$ indica uma correlação perfeita e positiva\n",
    "\n",
    "2. $r=-1$ indica uma correlação perfeita e negativa\n",
    "\n",
    "3. $0.7 \\leq |r| \\leq 1$ indica uma correlação forte\n",
    "\n",
    "4. $0.5 \\leq |r| \\leq 0.69$ indica uma correlação moderada\n",
    "\n",
    "5. $0 \\leq |r| \\leq 0.49$ indica uma correlação fraca\n",
    "<br>\n",
    "\n",
    "### Correlação de Spearman\n",
    "\n",
    "[__Correlação de Spearmann__](https://pt.wikipedia.org/wiki/Coeficiente_de_correla%C3%A7%C3%A3o_de_postos_de_Spearman) e outra correlação linear bem conhecida e este coeficiente indica se as amostras possuem correlação *monotônica*, isso é, **se aumentarmos ou diminuimos uma, a outra irá aumentar ou diminuir**. \n",
    "\n",
    "O coeficiente varia entre -1 e 1:\n",
    "\n",
    "> Quanto mais próximo de 1 for o coeficiente, mais positivamente correlacionada as amostras, isso é, se aumentarmos uma, a outra ira aumentar (ou se diminuimos uma, a outra irá diminuir); \n",
    "\n",
    "> Quanto mais próximo de -1 for o resultado, mais negativamente correlacionada estão as variáveis, isso é, aumentando uma, a outra irá dimunuir (ou se diminuímos uma, a outra irá aumentar). \n",
    "\n",
    "> Uma correlação de 0 indica ausência de correlação.\n",
    "\n",
    "**Importante:** o coeficiente de Spearman **não** indica correlação necessariamente linear!"
   ]
  },
  {
   "cell_type": "code",
   "execution_count": 20,
   "id": "b47ee925",
   "metadata": {
    "ExecuteTime": {
     "end_time": "2023-05-04T00:09:22.314266Z",
     "start_time": "2023-05-04T00:09:22.289797Z"
    }
   },
   "outputs": [
    {
     "data": {
      "text/html": [
       "<div>\n",
       "<style scoped>\n",
       "    .dataframe tbody tr th:only-of-type {\n",
       "        vertical-align: middle;\n",
       "    }\n",
       "\n",
       "    .dataframe tbody tr th {\n",
       "        vertical-align: top;\n",
       "    }\n",
       "\n",
       "    .dataframe thead th {\n",
       "        text-align: right;\n",
       "    }\n",
       "</style>\n",
       "<table border=\"1\" class=\"dataframe\">\n",
       "  <thead>\n",
       "    <tr style=\"text-align: right;\">\n",
       "      <th></th>\n",
       "      <th>mpg</th>\n",
       "      <th>cylinders</th>\n",
       "      <th>displacement</th>\n",
       "      <th>horsepower</th>\n",
       "      <th>weight</th>\n",
       "      <th>acceleration</th>\n",
       "      <th>model_year</th>\n",
       "      <th>origin</th>\n",
       "      <th>name</th>\n",
       "    </tr>\n",
       "  </thead>\n",
       "  <tbody>\n",
       "    <tr>\n",
       "      <th>0</th>\n",
       "      <td>18.0</td>\n",
       "      <td>8</td>\n",
       "      <td>307.0</td>\n",
       "      <td>130.0</td>\n",
       "      <td>3504</td>\n",
       "      <td>12.0</td>\n",
       "      <td>70</td>\n",
       "      <td>usa</td>\n",
       "      <td>chevrolet chevelle malibu</td>\n",
       "    </tr>\n",
       "    <tr>\n",
       "      <th>1</th>\n",
       "      <td>15.0</td>\n",
       "      <td>8</td>\n",
       "      <td>350.0</td>\n",
       "      <td>165.0</td>\n",
       "      <td>3693</td>\n",
       "      <td>11.5</td>\n",
       "      <td>70</td>\n",
       "      <td>usa</td>\n",
       "      <td>buick skylark 320</td>\n",
       "    </tr>\n",
       "    <tr>\n",
       "      <th>2</th>\n",
       "      <td>18.0</td>\n",
       "      <td>8</td>\n",
       "      <td>318.0</td>\n",
       "      <td>150.0</td>\n",
       "      <td>3436</td>\n",
       "      <td>11.0</td>\n",
       "      <td>70</td>\n",
       "      <td>usa</td>\n",
       "      <td>plymouth satellite</td>\n",
       "    </tr>\n",
       "    <tr>\n",
       "      <th>3</th>\n",
       "      <td>16.0</td>\n",
       "      <td>8</td>\n",
       "      <td>304.0</td>\n",
       "      <td>150.0</td>\n",
       "      <td>3433</td>\n",
       "      <td>12.0</td>\n",
       "      <td>70</td>\n",
       "      <td>usa</td>\n",
       "      <td>amc rebel sst</td>\n",
       "    </tr>\n",
       "    <tr>\n",
       "      <th>4</th>\n",
       "      <td>17.0</td>\n",
       "      <td>8</td>\n",
       "      <td>302.0</td>\n",
       "      <td>140.0</td>\n",
       "      <td>3449</td>\n",
       "      <td>10.5</td>\n",
       "      <td>70</td>\n",
       "      <td>usa</td>\n",
       "      <td>ford torino</td>\n",
       "    </tr>\n",
       "  </tbody>\n",
       "</table>\n",
       "</div>"
      ],
      "text/plain": [
       "    mpg  cylinders  displacement  horsepower  weight  acceleration  \\\n",
       "0  18.0          8         307.0       130.0    3504          12.0   \n",
       "1  15.0          8         350.0       165.0    3693          11.5   \n",
       "2  18.0          8         318.0       150.0    3436          11.0   \n",
       "3  16.0          8         304.0       150.0    3433          12.0   \n",
       "4  17.0          8         302.0       140.0    3449          10.5   \n",
       "\n",
       "   model_year origin                       name  \n",
       "0          70    usa  chevrolet chevelle malibu  \n",
       "1          70    usa          buick skylark 320  \n",
       "2          70    usa         plymouth satellite  \n",
       "3          70    usa              amc rebel sst  \n",
       "4          70    usa                ford torino  "
      ]
     },
     "execution_count": 20,
     "metadata": {},
     "output_type": "execute_result"
    }
   ],
   "source": [
    "mpg = sns.load_dataset('mpg')\n",
    "\n",
    "mpg.head()"
   ]
  },
  {
   "cell_type": "code",
   "execution_count": 21,
   "id": "55ef459b",
   "metadata": {
    "ExecuteTime": {
     "end_time": "2023-05-04T00:09:35.329536Z",
     "start_time": "2023-05-04T00:09:35.317904Z"
    }
   },
   "outputs": [
    {
     "data": {
      "text/html": [
       "<div>\n",
       "<style scoped>\n",
       "    .dataframe tbody tr th:only-of-type {\n",
       "        vertical-align: middle;\n",
       "    }\n",
       "\n",
       "    .dataframe tbody tr th {\n",
       "        vertical-align: top;\n",
       "    }\n",
       "\n",
       "    .dataframe thead th {\n",
       "        text-align: right;\n",
       "    }\n",
       "</style>\n",
       "<table border=\"1\" class=\"dataframe\">\n",
       "  <thead>\n",
       "    <tr style=\"text-align: right;\">\n",
       "      <th></th>\n",
       "      <th>mpg</th>\n",
       "      <th>cylinders</th>\n",
       "      <th>displacement</th>\n",
       "      <th>horsepower</th>\n",
       "      <th>weight</th>\n",
       "      <th>acceleration</th>\n",
       "      <th>model_year</th>\n",
       "    </tr>\n",
       "  </thead>\n",
       "  <tbody>\n",
       "    <tr>\n",
       "      <th>mpg</th>\n",
       "      <td>1.000000</td>\n",
       "      <td>-0.775396</td>\n",
       "      <td>-0.804203</td>\n",
       "      <td>-0.778427</td>\n",
       "      <td>-0.831741</td>\n",
       "      <td>0.420289</td>\n",
       "      <td>0.579267</td>\n",
       "    </tr>\n",
       "    <tr>\n",
       "      <th>cylinders</th>\n",
       "      <td>-0.775396</td>\n",
       "      <td>1.000000</td>\n",
       "      <td>0.950721</td>\n",
       "      <td>0.842983</td>\n",
       "      <td>0.896017</td>\n",
       "      <td>-0.505419</td>\n",
       "      <td>-0.348746</td>\n",
       "    </tr>\n",
       "    <tr>\n",
       "      <th>displacement</th>\n",
       "      <td>-0.804203</td>\n",
       "      <td>0.950721</td>\n",
       "      <td>1.000000</td>\n",
       "      <td>0.897257</td>\n",
       "      <td>0.932824</td>\n",
       "      <td>-0.543684</td>\n",
       "      <td>-0.370164</td>\n",
       "    </tr>\n",
       "    <tr>\n",
       "      <th>horsepower</th>\n",
       "      <td>-0.778427</td>\n",
       "      <td>0.842983</td>\n",
       "      <td>0.897257</td>\n",
       "      <td>1.000000</td>\n",
       "      <td>0.864538</td>\n",
       "      <td>-0.689196</td>\n",
       "      <td>-0.416361</td>\n",
       "    </tr>\n",
       "    <tr>\n",
       "      <th>weight</th>\n",
       "      <td>-0.831741</td>\n",
       "      <td>0.896017</td>\n",
       "      <td>0.932824</td>\n",
       "      <td>0.864538</td>\n",
       "      <td>1.000000</td>\n",
       "      <td>-0.417457</td>\n",
       "      <td>-0.306564</td>\n",
       "    </tr>\n",
       "    <tr>\n",
       "      <th>acceleration</th>\n",
       "      <td>0.420289</td>\n",
       "      <td>-0.505419</td>\n",
       "      <td>-0.543684</td>\n",
       "      <td>-0.689196</td>\n",
       "      <td>-0.417457</td>\n",
       "      <td>1.000000</td>\n",
       "      <td>0.288137</td>\n",
       "    </tr>\n",
       "    <tr>\n",
       "      <th>model_year</th>\n",
       "      <td>0.579267</td>\n",
       "      <td>-0.348746</td>\n",
       "      <td>-0.370164</td>\n",
       "      <td>-0.416361</td>\n",
       "      <td>-0.306564</td>\n",
       "      <td>0.288137</td>\n",
       "      <td>1.000000</td>\n",
       "    </tr>\n",
       "  </tbody>\n",
       "</table>\n",
       "</div>"
      ],
      "text/plain": [
       "                   mpg  cylinders  displacement  horsepower    weight  \\\n",
       "mpg           1.000000  -0.775396     -0.804203   -0.778427 -0.831741   \n",
       "cylinders    -0.775396   1.000000      0.950721    0.842983  0.896017   \n",
       "displacement -0.804203   0.950721      1.000000    0.897257  0.932824   \n",
       "horsepower   -0.778427   0.842983      0.897257    1.000000  0.864538   \n",
       "weight       -0.831741   0.896017      0.932824    0.864538  1.000000   \n",
       "acceleration  0.420289  -0.505419     -0.543684   -0.689196 -0.417457   \n",
       "model_year    0.579267  -0.348746     -0.370164   -0.416361 -0.306564   \n",
       "\n",
       "              acceleration  model_year  \n",
       "mpg               0.420289    0.579267  \n",
       "cylinders        -0.505419   -0.348746  \n",
       "displacement     -0.543684   -0.370164  \n",
       "horsepower       -0.689196   -0.416361  \n",
       "weight           -0.417457   -0.306564  \n",
       "acceleration      1.000000    0.288137  \n",
       "model_year        0.288137    1.000000  "
      ]
     },
     "execution_count": 21,
     "metadata": {},
     "output_type": "execute_result"
    }
   ],
   "source": [
    "mpg_numerico = mpg.select_dtypes(include = np.number)\n",
    "mpg_numerico.corr(method = 'pearson')"
   ]
  },
  {
   "cell_type": "code",
   "execution_count": 22,
   "id": "76d91aa2",
   "metadata": {
    "ExecuteTime": {
     "end_time": "2023-05-04T00:12:07.262942Z",
     "start_time": "2023-05-04T00:12:07.060402Z"
    }
   },
   "outputs": [
    {
     "data": {
      "text/plain": [
       "Text(0.5, 1.0, 'Correlação de spearman')"
      ]
     },
     "execution_count": 22,
     "metadata": {},
     "output_type": "execute_result"
    },
    {
     "data": {
      "image/png": "[encoded data removed]",
      "text/plain": [
       "<Figure size 1600x800 with 4 Axes>"
      ]
     },
     "metadata": {},
     "output_type": "display_data"
    }
   ],
   "source": [
    "fig, ax = plt.subplots(1,2, figsize = ( 16,8))\n",
    "sns.heatmap(mpg_numerico.corr(method = \"spearman\"), ax = ax[0], annot = True)\n",
    "sns.heatmap(mpg_numerico.corr(method = \"pearson\"), ax = ax[1], annot = True)\n",
    "ax[1].set_title(\"Correlação de pearson\")\n",
    "ax[0].set_title(\"Correlação de spearman\")"
   ]
  },
  {
   "cell_type": "markdown",
   "id": "18a7965d",
   "metadata": {},
   "source": [
    "## "
   ]
  },
  {
   "cell_type": "markdown",
   "id": "31699aeb",
   "metadata": {},
   "source": [
    "### Assimetria\n",
    "\n",
    "É o **grau de desvio ou afastamento** da **simetria** de uma distribuição. Quando a curva é simétrica, a `média`, a `mediana` e a `moda` coincidem, num mesmo ponto, havendo um perfeito equilíbrio na distribuição. Um exemplo de distribuição simétrica é a **distribuição normal**. Quando o equilíbrio não acontece, a média, a mediana e a moda recaem em pontos diferentes da distribuição, e a distribuição se torna **assimétrica**:\n",
    "\n",
    "<img src=\"https://www.researchgate.net/profile/Marco_Faria/publication/294890337/figure/fig5/AS:668873900716049@1536483373457/a-Negative-skewness-b-Normal-curve-c-Positive-skewness-Durkhure-and-Lodwal-2014.ppm\" width=600>\n",
    "\n",
    "\n",
    "- Distribuição assimétrica **Negativa ou enviesada a esquerda**: quando os valores se concentram na extremidade superior da escala e se distribuem gradativamente em direção à extremidade inferior.\n",
    "\n",
    "- Distribuição assimétrica **Positiva ou enviesada a direita**: quando os valores se concentram na extremidade inferior da escala e se distribuem gradativamente em direção à extremidade superior.\n",
    "\n",
    "A medidade de assimetria é conhecida como **skewness**, sendo calculada como:\n",
    "\n",
    "$$ s(X) = \\frac{1}{\\sigma^3}\\sum_{i=1}^{n}\\frac{(x-\\overline{x})^{3}}{n}$$\n",
    "\n",
    "O valor da skewness nos indica a assimetria da distribuição:\n",
    "\n",
    "- s = 0: distribuição simétrica\n",
    "- s > 0: assimetria à direira\n",
    "- s < 0: assimetria à esquerda"
   ]
  },
  {
   "cell_type": "code",
   "execution_count": 50,
   "id": "674cfb8f",
   "metadata": {
    "ExecuteTime": {
     "end_time": "2023-05-04T00:17:56.942840Z",
     "start_time": "2023-05-04T00:17:56.936181Z"
    }
   },
   "outputs": [
    {
     "name": "stdout",
     "output_type": "stream",
     "text": [
      "amostra [52 93 15 72 61 21 83 87 75 75 88 24  3 22 53  2 88 30 38  2 64 60 21 33\n",
      " 76 58 22 89 49 91 59 42 92 60 80 15 62 62 47 62 51 55 64  3 51  7 21 73\n",
      " 39 18  4 89 60 14  9 90 53  2 84 92 60 71 44  8 47 35 78 81 36 50]\n"
     ]
    }
   ],
   "source": [
    "# Vamos criar uma amostra aleatória de numéros inteiros\n",
    "np.random.seed(42)\n",
    "amostra = np.random.randint(1,100,70)\n",
    "# Print da amostra\n",
    "print('amostra', amostra)"
   ]
  },
  {
   "cell_type": "code",
   "execution_count": 51,
   "id": "35b988b1",
   "metadata": {
    "ExecuteTime": {
     "end_time": "2023-05-04T00:18:27.234637Z",
     "start_time": "2023-05-04T00:18:27.230156Z"
    }
   },
   "outputs": [
    {
     "data": {
      "text/plain": [
       "-0.21593483423588028"
      ]
     },
     "execution_count": 51,
     "metadata": {},
     "output_type": "execute_result"
    }
   ],
   "source": [
    "serie = pd.Series(amostra)\n",
    "serie.skew() \n",
    "\n",
    "# positivo -> pendendo para esquerda (vácuo na direita)\n",
    "# negativo -> pendendo para direita"
   ]
  },
  {
   "cell_type": "markdown",
   "id": "af5e53e0",
   "metadata": {},
   "source": [
    "### Tabelas de Frequência\n",
    "\n",
    "A distribuição de frequências é um agrupamento de dados em classes, de tal forma que contabilizamos o número de ocorrências em cada classe. O objetivo é apresentar os dados de uma maneira mais concisa e que nos permita extrair informação sobre seu comportamento. A seguir, apresentamos algumas definições necessárias à construção da distribuição de frequências.\n",
    "\n",
    "**Frequência absoluta (ƒi):** É o número de observações correspondente a cada classe. A frequência absoluta é, geralmente, chamada apenas de frequência.\n",
    "\n",
    "**Frequência relativa (ƒri):** É o quociente entre a frequência absoluta da classe correspondente e a soma das frequências (total observado), isto é, $ \\displaystyle f_{ri}=\\frac{f_i}{\\sum_{j}f_j} $ onde n representa o número total de observações.\n",
    "\n",
    "**Frequência percentual (pi):** É obtida multiplicando a frequência relativa por 100%.<br><br>"
   ]
  },
  {
   "cell_type": "code",
   "execution_count": 40,
   "id": "34ece879",
   "metadata": {
    "ExecuteTime": {
     "end_time": "2023-05-04T00:23:35.215500Z",
     "start_time": "2023-05-04T00:23:35.194893Z"
    },
    "scrolled": true
   },
   "outputs": [
    {
     "data": {
      "text/html": [
       "<div>\n",
       "<style scoped>\n",
       "    .dataframe tbody tr th:only-of-type {\n",
       "        vertical-align: middle;\n",
       "    }\n",
       "\n",
       "    .dataframe tbody tr th {\n",
       "        vertical-align: top;\n",
       "    }\n",
       "\n",
       "    .dataframe thead th {\n",
       "        text-align: right;\n",
       "    }\n",
       "</style>\n",
       "<table border=\"1\" class=\"dataframe\">\n",
       "  <thead>\n",
       "    <tr style=\"text-align: right;\">\n",
       "      <th></th>\n",
       "      <th>total_bill</th>\n",
       "      <th>tip</th>\n",
       "      <th>sex</th>\n",
       "      <th>smoker</th>\n",
       "      <th>day</th>\n",
       "      <th>time</th>\n",
       "      <th>size</th>\n",
       "    </tr>\n",
       "  </thead>\n",
       "  <tbody>\n",
       "    <tr>\n",
       "      <th>0</th>\n",
       "      <td>16.99</td>\n",
       "      <td>1.01</td>\n",
       "      <td>Female</td>\n",
       "      <td>No</td>\n",
       "      <td>Sun</td>\n",
       "      <td>Dinner</td>\n",
       "      <td>2</td>\n",
       "    </tr>\n",
       "    <tr>\n",
       "      <th>1</th>\n",
       "      <td>10.34</td>\n",
       "      <td>1.66</td>\n",
       "      <td>Male</td>\n",
       "      <td>No</td>\n",
       "      <td>Sun</td>\n",
       "      <td>Dinner</td>\n",
       "      <td>3</td>\n",
       "    </tr>\n",
       "    <tr>\n",
       "      <th>2</th>\n",
       "      <td>21.01</td>\n",
       "      <td>3.50</td>\n",
       "      <td>Male</td>\n",
       "      <td>No</td>\n",
       "      <td>Sun</td>\n",
       "      <td>Dinner</td>\n",
       "      <td>3</td>\n",
       "    </tr>\n",
       "    <tr>\n",
       "      <th>3</th>\n",
       "      <td>23.68</td>\n",
       "      <td>3.31</td>\n",
       "      <td>Male</td>\n",
       "      <td>No</td>\n",
       "      <td>Sun</td>\n",
       "      <td>Dinner</td>\n",
       "      <td>2</td>\n",
       "    </tr>\n",
       "    <tr>\n",
       "      <th>4</th>\n",
       "      <td>24.59</td>\n",
       "      <td>3.61</td>\n",
       "      <td>Female</td>\n",
       "      <td>No</td>\n",
       "      <td>Sun</td>\n",
       "      <td>Dinner</td>\n",
       "      <td>4</td>\n",
       "    </tr>\n",
       "  </tbody>\n",
       "</table>\n",
       "</div>"
      ],
      "text/plain": [
       "   total_bill   tip     sex smoker  day    time  size\n",
       "0       16.99  1.01  Female     No  Sun  Dinner     2\n",
       "1       10.34  1.66    Male     No  Sun  Dinner     3\n",
       "2       21.01  3.50    Male     No  Sun  Dinner     3\n",
       "3       23.68  3.31    Male     No  Sun  Dinner     2\n",
       "4       24.59  3.61  Female     No  Sun  Dinner     4"
      ]
     },
     "execution_count": 40,
     "metadata": {},
     "output_type": "execute_result"
    }
   ],
   "source": [
    "# Print carregando o dataset\n",
    "df = sns.load_dataset('tips')\n",
    "\n",
    "# Print das primeiras linhas\n",
    "df.head()"
   ]
  },
  {
   "cell_type": "code",
   "execution_count": 42,
   "id": "91164358",
   "metadata": {
    "ExecuteTime": {
     "end_time": "2023-05-04T00:25:26.273266Z",
     "start_time": "2023-05-04T00:25:26.266406Z"
    }
   },
   "outputs": [
    {
     "name": "stdout",
     "output_type": "stream",
     "text": [
      "Tabela de frequência ABSOLUTA da coluna 'sex':\n"
     ]
    },
    {
     "data": {
      "text/plain": [
       "sex\n",
       "Male      157\n",
       "Female     87\n",
       "Name: count, dtype: int64"
      ]
     },
     "execution_count": 42,
     "metadata": {},
     "output_type": "execute_result"
    }
   ],
   "source": [
    "# Print do Título\n",
    "print(\"Tabela de frequência ABSOLUTA da coluna 'sex':\")\n",
    "\n",
    "# Print da Tabela de Frequencia absoluta\n",
    "df[\"sex\"].value_counts()"
   ]
  },
  {
   "cell_type": "code",
   "execution_count": 44,
   "id": "8e1548f5",
   "metadata": {},
   "outputs": [
    {
     "data": {
      "text/plain": [
       "sex\n",
       "Male      157\n",
       "Female     87\n",
       "Name: count, dtype: int64"
      ]
     },
     "execution_count": 44,
     "metadata": {},
     "output_type": "execute_result"
    }
   ],
   "source": [
    "# contabilizando nulo\n",
    "df[\"sex\"].value_counts(dropna = False)"
   ]
  },
  {
   "cell_type": "code",
   "execution_count": 43,
   "id": "8d8f7c58",
   "metadata": {
    "ExecuteTime": {
     "end_time": "2023-05-04T00:26:26.327839Z",
     "start_time": "2023-05-04T00:26:26.319440Z"
    }
   },
   "outputs": [
    {
     "name": "stdout",
     "output_type": "stream",
     "text": [
      "Tabela de frequência RELATIVA da coluna 'sex':\n"
     ]
    },
    {
     "data": {
      "text/plain": [
       "sex\n",
       "Male      0.643443\n",
       "Female    0.356557\n",
       "Name: proportion, dtype: float64"
      ]
     },
     "execution_count": 43,
     "metadata": {},
     "output_type": "execute_result"
    }
   ],
   "source": [
    "# Print do Título\n",
    "print(\"Tabela de frequência RELATIVA da coluna 'sex':\")\n",
    "\n",
    "# Print da Tabela de Frequencia absoluta\n",
    "df[\"sex\"].value_counts(normalize=True)"
   ]
  },
  {
   "cell_type": "code",
   "execution_count": 45,
   "id": "8d66f179",
   "metadata": {
    "ExecuteTime": {
     "end_time": "2023-05-04T00:37:52.851944Z",
     "start_time": "2023-05-04T00:37:52.834696Z"
    }
   },
   "outputs": [
    {
     "name": "stdout",
     "output_type": "stream",
     "text": [
      "Média de gorjeta: 2.99827868852459\n",
      "Desvio padrão de gorjetas: 1.3836381890011822\n",
      "\n",
      "Gorjeta mínima: 1.0\n",
      "\n",
      "Gorjeta Q1: 2.0\n",
      "Mediana de Gorjetas: 2.9\n",
      "Gorjeta Q3: 3.5625\n",
      "IQR das Gorjetas: 1.5625\n",
      "\n",
      "Gorjeta máxima: 10.0\n",
      "\n",
      "Skewness das Gorjetas: 1.4654510370979401\n",
      "\n",
      " Gorjeta(s) mais comum(s):\n"
     ]
    },
    {
     "data": {
      "text/plain": [
       "0    2.0\n",
       "Name: tip, dtype: float64"
      ]
     },
     "metadata": {},
     "output_type": "display_data"
    }
   ],
   "source": [
    "# Calculo das Metricas para o tip\n",
    "print(\"Média de gorjeta:\", df[\"tip\"].mean())\n",
    "print(\"Desvio padrão de gorjetas:\", df[\"tip\"].std())\n",
    "print(\"\\nGorjeta mínima:\", df[\"tip\"].min())\n",
    "print(\"\\nGorjeta Q1:\", df[\"tip\"].quantile(0.25))\n",
    "print(\"Mediana de Gorjetas:\", df[\"tip\"].median())\n",
    "print(\"Gorjeta Q3:\", df[\"tip\"].quantile(0.75))\n",
    "print(\"IQR das Gorjetas:\", df[\"tip\"].quantile(0.75) - df[\"tip\"].quantile(0.25))\n",
    "print(\"\\nGorjeta máxima:\", df[\"tip\"].max())\n",
    "print(\"\\nSkewness das Gorjetas:\", df[\"tip\"].skew())\n",
    "print(\"\\n Gorjeta(s) mais comum(s):\")\n",
    "display(df[\"tip\"].mode())"
   ]
  },
  {
   "cell_type": "code",
   "execution_count": 46,
   "id": "4a14da58",
   "metadata": {},
   "outputs": [
    {
     "data": {
      "text/plain": [
       "count    244.000000\n",
       "mean       2.998279\n",
       "std        1.383638\n",
       "min        1.000000\n",
       "25%        2.000000\n",
       "50%        2.900000\n",
       "75%        3.562500\n",
       "max       10.000000\n",
       "Name: tip, dtype: float64"
      ]
     },
     "execution_count": 46,
     "metadata": {},
     "output_type": "execute_result"
    }
   ],
   "source": [
    "df['tip'].describe()"
   ]
  },
  {
   "cell_type": "markdown",
   "id": "5890f9bc",
   "metadata": {},
   "source": [
    "## "
   ]
  },
  {
   "cell_type": "markdown",
   "id": "7c4183f9",
   "metadata": {},
   "source": [
    "# 02 - Probabilidade\n",
    "\n",
    "Nessa aula, iremos tratar dos seguintes conteúdos:\n",
    "- Probabilidade\n",
    "- Variável Aleatória\n",
    "- Espaço Amostral\n",
    "- Probabilidade - Definição\n",
    "- Probabilidade da Uniâo de Eventos\n",
    "- Eventos Independentes\n",
    "- Teorema de Bayes"
   ]
  },
  {
   "cell_type": "markdown",
   "id": "7055c4cd",
   "metadata": {},
   "source": [
    "<img src = \"https://www.estudopratico.com.br/wp-content/uploads/2014/06/probabilidade-calcular-e1586431045913-1200x675.jpg\" width=800>"
   ]
  },
  {
   "cell_type": "markdown",
   "id": "a77dea2b",
   "metadata": {},
   "source": [
    "## "
   ]
  },
  {
   "cell_type": "markdown",
   "id": "75fa77a4",
   "metadata": {},
   "source": [
    "## Probabilidade\n",
    "\n",
    "Probabilidade é a área da matemática que estuda **eventos aleatórios**, cujos resultados são **probabilísticos** ou **estocásticos**.\n",
    "\n",
    "Existem poucos sistemas na natureza que são de fato inerentemente aleatórias e não-determinísticas. No entanto, uma descrição determinística pode ser muito complicada, de modo que **se torna conveniente** tratar o sistema como um sistema estocástico.\n",
    "\n",
    "Ex.: lançamento de moeda, lançamento de dados, etc.\n",
    "\n",
    "O objetivo da estatística é similar: analisar dados ou criar modelos que **generalizem relações** que não podem ser determinadas diretamente uma vez que não temos acesso à população. Neste sentido, há muita probabilidade envolvida em estatística, e é por isso que vamos olhar para os principais conceitos de probabilidade."
   ]
  },
  {
   "cell_type": "markdown",
   "id": "9f9e602e",
   "metadata": {},
   "source": [
    "## "
   ]
  },
  {
   "cell_type": "markdown",
   "id": "99b31850",
   "metadata": {},
   "source": [
    "## Variável aleatória\n",
    "\n",
    "Uma **variável aleatória** é uma variável cujo valor depende de fatores **não-deterministícos**, isto é, **probabilísticos**. \n",
    "\n",
    "**Exemplo**: resultado do lançamento de um dado.\n",
    "\n",
    "<img src=\"data:image/png;base64,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\" width=300>"
   ]
  },
  {
   "cell_type": "markdown",
   "id": "0d75a299",
   "metadata": {},
   "source": [
    "## "
   ]
  },
  {
   "cell_type": "markdown",
   "id": "bbeed106",
   "metadata": {},
   "source": [
    "## Espaço amostral\n",
    "\n",
    "Chamamos de **espaço amostral** o conjunto de **todos os resultados possíveis de um certo fenômeno aleatório**, ou seja, **os valores possíveis que a variável aleatória de interesse pode assumir**. Representamos o espaço amostral pela letra grega $\\omega$. \n",
    "\n",
    "Os subconjuntos de $\\omega$ são denominados **eventos** e representados pelas letras latinas maiúsculas A, B, etc. \n",
    "\n",
    "**Exemplo**: o espaço amostral dos resultados do lançamento de um dado é:\n",
    "\n",
    "$$ \\omega = \\{1, 2, 3, 4, 5, 6\\} $$\n",
    "\n",
    "Alguns eventos possíveis são:\n",
    "\n",
    "- Evento A = {3} : o resultado do lançamento do dado foi 3;\n",
    "- Evento B = {5} : o resultado do lançamento do dado foi 5.\n",
    "\n",
    "**Exemplo 2**: considere o lançamento de uma moeda:\n",
    "\n",
    "<img src=\"https://www.vertica.com/wp-content/uploads/2019/07/Coin_Flip_183981489-2160.jpg\" width=300>\n",
    "\n",
    "- Se lançarmos uma única moeda:\n",
    "    - A variável aleatória será **o resultado do lançamento da moeda**\n",
    "    - Portanto, o espaço amostral é: $$ \\omega = \\{ K, C \\} $$\n",
    "    \n",
    "- Se lançarmos uma does moedas:\n",
    "    - A variável aleatória será **o resultado do lançamento de cada moeda**\n",
    "    - Portanto, o espaço amostral é: $$ \\omega = \\{ (K, K), (K, C), (C, K), (C, C) \\} $$"
   ]
  },
  {
   "cell_type": "markdown",
   "id": "3d934a99",
   "metadata": {},
   "source": [
    "## "
   ]
  },
  {
   "cell_type": "markdown",
   "id": "ee4ca006",
   "metadata": {},
   "source": [
    "## Definição de probabilidade\n",
    "\n",
    "Definimos uma função $P(.)$ denominada **probabilidade** que deve satisfazer as seguintes propriedades:\n",
    "    \n",
    "- $0\\leq P(A) \\leq 1$ \n",
    "\n",
    "- $ P(\\omega)=1$\n",
    "\n",
    "- $ P(\\cup A_{j})= \\sum_{j=1}^{n}P(A_{j})$"
   ]
  },
  {
   "cell_type": "markdown",
   "id": "f0ac6712",
   "metadata": {},
   "source": [
    "## "
   ]
  },
  {
   "cell_type": "markdown",
   "id": "c364e8dd",
   "metadata": {},
   "source": [
    "## Atribuindo probabilidades aos elementos do espaço amostral\n",
    "\n",
    "Há, essencialmente, duas formas de se **atribuir a probabilidade de cada evento**:\n",
    "\n",
    "> 1) Baseando-se em características teóricas acerca do experimento.\n",
    "\n",
    "**Exemplo**: ao lançarmos um dado, temos o espaço amostral $\\omega=\\{1,2,3,4,5,6\\}$.\n",
    "\n",
    "Admitindo que o dado foi construído de forma homogênea e com medidas rigorosamente simétricas, não temos nenhuma razão para **privilegiar uma face em detrimento das demais**.\n",
    "\n",
    "Assim, consideramos: $p(1) = p(2) = p(3) = p(4) = p(5) = p(6) = \\frac{1}{6}$ \n",
    "\n",
    "> 2) Fazendo muitos experimentos.\n",
    "\n",
    "**Exemplo**: imagine que temos uma moeda não-honesta, que tende cair mais vezes cara do que coroa. Para descobrirmos qual é a probabilidade de cada um dos eventos ($\\omega = \\{K, C\\}$), podemos lançar a moeda muitas vezes, e anotar os resultados:\n"
   ]
  },
  {
   "cell_type": "code",
   "execution_count": 54,
   "id": "4fd15a85",
   "metadata": {},
   "outputs": [],
   "source": [
    "amostra = np.random.uniform(0, 1, 100000) #criando uma amostra aleatória uniformr que começa em 0 e vai até 1 com 100000 elementos"
   ]
  },
  {
   "cell_type": "code",
   "execution_count": 58,
   "id": "e08c1f0a",
   "metadata": {},
   "outputs": [],
   "source": [
    "p = 0.3 # 30% de chance de ser cara (k) e 70% de coroa (c)\n",
    "N = 100\n",
    "amostra = np.random.uniform(0, 1, N)\n",
    "resultados = np.where(amostra <= p, 'K', 'C')\n",
    "\n",
    "\n",
    "\n",
    "# 30% sai cara e 70% sai coroa no lançamento de uma moeda"
   ]
  },
  {
   "cell_type": "code",
   "execution_count": 59,
   "id": "fd865e0b",
   "metadata": {},
   "outputs": [
    {
     "data": {
      "text/plain": [
       "C    0.62\n",
       "K    0.38\n",
       "Name: proportion, dtype: float64"
      ]
     },
     "execution_count": 59,
     "metadata": {},
     "output_type": "execute_result"
    }
   ],
   "source": [
    "pd.Series(resultados).value_counts(normalize=True)"
   ]
  },
  {
   "cell_type": "code",
   "execution_count": 60,
   "id": "d814a500",
   "metadata": {},
   "outputs": [
    {
     "data": {
      "text/plain": [
       "C    0.698\n",
       "K    0.302\n",
       "Name: proportion, dtype: float64"
      ]
     },
     "execution_count": 60,
     "metadata": {},
     "output_type": "execute_result"
    }
   ],
   "source": [
    "p = 0.3\n",
    "N = 1000\n",
    "amostra = np.random.uniform(0, 1, N)\n",
    "resultados = np.where(amostra <= p, 'K', 'C')\n",
    "pd.Series(resultados).value_counts(normalize=True)"
   ]
  },
  {
   "cell_type": "code",
   "execution_count": 61,
   "id": "007829e8",
   "metadata": {},
   "outputs": [
    {
     "data": {
      "text/plain": [
       "C    0.70121\n",
       "K    0.29879\n",
       "Name: proportion, dtype: float64"
      ]
     },
     "execution_count": 61,
     "metadata": {},
     "output_type": "execute_result"
    }
   ],
   "source": [
    "p = 0.3\n",
    "N = 100000\n",
    "amostra = np.random.uniform(0, 1, N)\n",
    "resultados = np.where(amostra <= p, 'K', 'C')\n",
    "pd.Series(resultados).value_counts(normalize=True)"
   ]
  },
  {
   "cell_type": "markdown",
   "id": "070dfe05",
   "metadata": {},
   "source": [
    "Olhando o caso da moeda honesta agora:"
   ]
  },
  {
   "cell_type": "code",
   "execution_count": 62,
   "id": "48eed8d8",
   "metadata": {},
   "outputs": [
    {
     "data": {
      "text/plain": [
       "C    0.56\n",
       "K    0.44\n",
       "Name: proportion, dtype: float64"
      ]
     },
     "execution_count": 62,
     "metadata": {},
     "output_type": "execute_result"
    }
   ],
   "source": [
    "p = 0.5\n",
    "N = 100\n",
    "amostra = np.random.uniform(0, 1, N)\n",
    "resultados = np.where(amostra <= p, 'K', 'C')\n",
    "pd.Series(resultados).value_counts(normalize=True)"
   ]
  },
  {
   "cell_type": "code",
   "execution_count": 63,
   "id": "195a1de5",
   "metadata": {},
   "outputs": [
    {
     "data": {
      "text/plain": [
       "K    0.509\n",
       "C    0.491\n",
       "Name: proportion, dtype: float64"
      ]
     },
     "execution_count": 63,
     "metadata": {},
     "output_type": "execute_result"
    }
   ],
   "source": [
    "p = 0.5\n",
    "N = 10000\n",
    "amostra = np.random.uniform(0, 1, N)\n",
    "resultados = np.where(amostra <= p, 'K', 'C')\n",
    "pd.Series(resultados).value_counts(normalize=True)"
   ]
  },
  {
   "cell_type": "code",
   "execution_count": 65,
   "id": "ee54bc13",
   "metadata": {},
   "outputs": [
    {
     "data": {
      "text/plain": [
       "K    0.500567\n",
       "C    0.499433\n",
       "Name: proportion, dtype: float64"
      ]
     },
     "execution_count": 65,
     "metadata": {},
     "output_type": "execute_result"
    }
   ],
   "source": [
    "p = 0.5\n",
    "N = 1000000\n",
    "amostra = np.random.uniform(0, 1, N)\n",
    "resultados = np.where(amostra <= p, 'K', 'C')\n",
    "pd.Series(resultados).value_counts(normalize=True)"
   ]
  },
  {
   "cell_type": "code",
   "execution_count": 66,
   "id": "19994b7d",
   "metadata": {},
   "outputs": [
    {
     "data": {
      "text/plain": [
       "C    0.500097\n",
       "K    0.499903\n",
       "Name: proportion, dtype: float64"
      ]
     },
     "execution_count": 66,
     "metadata": {},
     "output_type": "execute_result"
    }
   ],
   "source": [
    "p = 0.5\n",
    "N = 10000000\n",
    "amostra = np.random.uniform(0, 1, N)\n",
    "resultados = np.where(amostra <= p, 'K', 'C')\n",
    "pd.Series(resultados).value_counts(normalize=True)"
   ]
  },
  {
   "cell_type": "markdown",
   "id": "03393130",
   "metadata": {},
   "source": [
    "## "
   ]
  },
  {
   "cell_type": "code",
   "execution_count": 67,
   "id": "453b0b5f",
   "metadata": {},
   "outputs": [
    {
     "data": {
      "text/plain": [
       "K    0.500059\n",
       "C    0.499941\n",
       "Name: proportion, dtype: float64"
      ]
     },
     "execution_count": 67,
     "metadata": {},
     "output_type": "execute_result"
    }
   ],
   "source": [
    "p = 0.5\n",
    "N = 100000000\n",
    "amostra = np.random.uniform(0, 1, N)\n",
    "resultados = np.where(amostra <= p, 'K', 'C')\n",
    "pd.Series(resultados).value_counts(normalize=True)"
   ]
  },
  {
   "cell_type": "markdown",
   "id": "e52f12cf",
   "metadata": {},
   "source": [
    "## Probabilidade da União de Eventos"
   ]
  },
  {
   "cell_type": "markdown",
   "id": "70184637",
   "metadata": {},
   "source": [
    "Dados dois elementos $A$ e $B$, o cálculo da união desses eventos é determinada da seguinte forma:\n",
    "    \n",
    "$$ P(A ∪ B) = P(A) + P(B) - P(A ∩ B) $$"
   ]
  },
  {
   "cell_type": "markdown",
   "id": "1e19462d",
   "metadata": {},
   "source": [
    "__Exemplo:__   Qual é a probabilidade de que em um lançamento de um dado saia um número par ou maior do que três?"
   ]
  },
  {
   "cell_type": "markdown",
   "id": "da8cc18c",
   "metadata": {},
   "source": [
    "S(dado) = {1, 2, 3, 4, 5, 6}\n",
    "\n",
    "#Espaço Amostral A\n",
    "\n",
    "S(A) = {2, 4, 6}\n",
    "\n",
    "P(A) = cnt(S(A)) / cnt(S(dado)) = 3/6 = 1/2\n",
    "\n",
    "\n",
    "\n",
    "#Espaço Amostral B\n",
    "\n",
    "S(B) = {4, 5, 6}\n",
    "\n",
    "P(B) = cnt(S(B)) / cnt(S(dado)) = 3/6 = 1/2\n",
    "\n",
    "\n",
    "\n",
    "#Espaço Amostral A ∩ B\n",
    "\n",
    "S(A ∩ B) = {4, 6}\n",
    "\n",
    "P(A ∩ B) = 2/6 = 1/3\n",
    "\n",
    "\n",
    "\n",
    "#Probabilidade da União de A e B\n",
    "\n",
    "P(A ∪ B) = P(A) + P(B) - P(A ∩ B) = 1/2 + 1/2 - 1/3 = 2/3\n",
    "\n",
    "\n",
    "\n",
    "#Espaço Amostral A ∪ B\n",
    "\n",
    "S(A ∪ B) = {2, 4, 5, 6}\n",
    "\n",
    "P(A ∪ B) = 4/6 = 2/3"
   ]
  },
  {
   "cell_type": "markdown",
   "id": "27df0531",
   "metadata": {},
   "source": [
    "## "
   ]
  },
  {
   "cell_type": "markdown",
   "id": "b3f953f1",
   "metadata": {},
   "source": [
    "## Probabilidade Condicional\n",
    "\n",
    "Seja dois eventos A e B, a probabilidade condicional entre esses eventos é definada como:\n",
    "    \n",
    "$$ P(A | B) = \\frac{P(A ∩ B)}{P(B)} $$\n",
    "\n",
    "Lembrando que isso é possível se e somente se $ P(B) > 0$.\n",
    "\n",
    "A forma mais comum de ler um problema de probabilidade condicional seria __\"qual a probabilidade de ocorrer o evento A, dado que ocorreu o evento B\"__.\n",
    "\n",
    "__Exemplo:__  Qual a probabilidade de ao lançar um dado sair um número par, dado que o número que saiu é maior do que 1?"
   ]
  },
  {
   "cell_type": "markdown",
   "id": "4790bd73",
   "metadata": {},
   "source": [
    "# Espaço Amostral\n",
    "\n",
    "S = {1, 2, 3, 4, 5, 6}\n",
    "\n",
    "# Evento B\n",
    "\n",
    "B = {2, 3, 4, 5, 6}\n",
    "\n",
    "P(B) = 5/6\n",
    "\n",
    "# Evento A\n",
    "\n",
    "A = {2, 4, 6}\n",
    "\n",
    "\n",
    "# Evento A ∩ B\n",
    "\n",
    "A ∩ B = {2, 4, 6}\n",
    "\n",
    "P(A ∩ B) = 3/6 = 1/2\n",
    "\n",
    "# Probabilidade condicional A | B\n",
    "\n",
    "P(A | B) = P(A ∩ B)/P(B) = (1/2)/(5/6) = 3/5"
   ]
  },
  {
   "cell_type": "markdown",
   "id": "79549911",
   "metadata": {},
   "source": [
    "![image.png](attachment:image.png)"
   ]
  },
  {
   "cell_type": "markdown",
   "id": "efcfbcaf",
   "metadata": {},
   "source": [
    "## "
   ]
  },
  {
   "cell_type": "markdown",
   "id": "fd0119b7",
   "metadata": {},
   "source": [
    "## Eventos Independentes"
   ]
  },
  {
   "cell_type": "markdown",
   "id": "dad5ded0",
   "metadata": {},
   "source": [
    "Dois eventos $A$ e $B$ são independentes, se e somente se acontecer a seguinte condição:\n",
    "    \n",
    "$$ P(A ∩ B) = P(A)P(B) $$"
   ]
  },
  {
   "cell_type": "markdown",
   "id": "c705c070",
   "metadata": {},
   "source": [
    "__Exemplo 1:__   Foi lançado um dado e uma moeda, qual é a probabilidade de ocorrer um número ímpar e sai cara na moeda?"
   ]
  },
  {
   "cell_type": "code",
   "execution_count": null,
   "id": "0cf0ea59",
   "metadata": {},
   "outputs": [],
   "source": [
    "# Evento A - Número ímpar no Dado\n",
    "S(A) = {1, 3, 5}\n",
    "P(A) = 3/6 = 1/2\n",
    "\n",
    "# Evento B - Sair cara na Moeda\n",
    "S(B) = {K}\n",
    "P(B) = 1/2\n",
    "\n",
    "# Probabilidade de A ∩ B\n",
    "P(A ∩ B) = P(A)P(B) = 1/2 * 1/2 = 1/4\n",
    "\n",
    "# Espaço Amostral Dado e Moeda\n",
    "S = {(1,K), (2,K), (3,K), (4,K), (5,K), (6,K),\n",
    "     (1,C), (2,C), (3,C), (4,C), (5,C), (6,C)}\n",
    "\n",
    "S(A ∩ B) = {(1,K), (3,K), (5,K)}\n",
    "P(A ∩ B) = 3/12 = 1/4"
   ]
  },
  {
   "cell_type": "markdown",
   "id": "1203fa84",
   "metadata": {},
   "source": [
    "![image.png](attachment:image.png)"
   ]
  },
  {
   "cell_type": "markdown",
   "id": "e14d1ef6",
   "metadata": {},
   "source": [
    "__Exemplo 2:__ Em uma caixa temos 8 bolas pretas e 12 brancas. Vamos calcular a probabilidade de alguns casos:\n",
    "\n",
    "__A)__ A primeira bola sorteada foi uma bola branca, qual a probabilidade disso ocorrer?"
   ]
  },
  {
   "cell_type": "code",
   "execution_count": null,
   "id": "a45e5d45",
   "metadata": {},
   "outputs": [],
   "source": [
    "P(B) = (bolas brancas) / (total bolas) = 12/20 = 3/5"
   ]
  },
  {
   "cell_type": "markdown",
   "id": "9b9451a1",
   "metadata": {},
   "source": [
    "__B)__ Depois do primeiro sorteio qual a probabilidade de sair uma bola preta, no caso que foi devolvida a bola do primeiro sorteio para a caixa"
   ]
  },
  {
   "cell_type": "code",
   "execution_count": null,
   "id": "5cab068b",
   "metadata": {},
   "outputs": [],
   "source": [
    "P(A) = (bolas pretas) / (total bolas) = 8/20 = 2/5"
   ]
  },
  {
   "cell_type": "markdown",
   "id": "c6fabf18",
   "metadata": {},
   "source": [
    "__C)__ Como ficaria essa probabilidade da bola preta caso a bola branca não seja devolvida a caixa?"
   ]
  },
  {
   "cell_type": "code",
   "execution_count": null,
   "id": "3ca24445",
   "metadata": {},
   "outputs": [],
   "source": [
    "P(B) = (bolas pretas) / (total bolas - 1) = 8/19"
   ]
  },
  {
   "cell_type": "markdown",
   "id": "af68256f",
   "metadata": {},
   "source": [
    "__D)__ Qual a probabilidade de sortear primeiro uma bola preta e depois uma branca, com reposição neste caso?"
   ]
  },
  {
   "cell_type": "code",
   "execution_count": null,
   "id": "1b421843",
   "metadata": {},
   "outputs": [],
   "source": [
    "P(A ∩ B) = P(A)P(B) = P(preta)P(branca) = (2/5)*(3/5) = 6/25"
   ]
  },
  {
   "cell_type": "markdown",
   "id": "5ac6803e",
   "metadata": {},
   "source": [
    "__E)__ Repita o item __D__ agora aplicando para o caso sem reposição."
   ]
  },
  {
   "cell_type": "code",
   "execution_count": null,
   "id": "24732348",
   "metadata": {},
   "outputs": [],
   "source": [
    "# Aqui calculamos a partir da probabilidade condicional\n",
    "P(A ∩ B) = P(B | A)P(A) = P(branca | preta)P(preta)\n",
    "\n",
    "# Probabilidade condicional\n",
    "# Dado que saiu uma bola preta, o nosso espaço amostral agora contem 19 bolas\n",
    "P(branca | preta) = (12/19)\n",
    "\n",
    "P(A ∩ B) = P(branca | preta)P(preta) = (12/19)*(2/5) = 24/95"
   ]
  },
  {
   "cell_type": "markdown",
   "id": "0dec3bc1",
   "metadata": {},
   "source": [
    "Propriedade importante sobre a probabilidade condicional! Seja os eventos A e B e a definição da probabilidade condicional:\n",
    "\n",
    "$$ P(A | B) = \\frac{P(A ∩ B)}{P(B)} $$\n",
    "\n",
    "Se pegarmos a probabilidade condicional agora do evento B dado que ocorreu o A:\n",
    "\n",
    "$$ P(B | A) = \\frac{P(A ∩ B)}{P(A)} $$\n",
    "\n",
    "Dessa forma conseguimos tirar a seguinte relação:\n",
    "\n",
    "$$ P(A | B)P(B) = P(B | A)P(A) $$\n",
    "    \n"
   ]
  },
  {
   "cell_type": "markdown",
   "id": "335407ab",
   "metadata": {},
   "source": [
    "## "
   ]
  },
  {
   "cell_type": "markdown",
   "id": "b0755723",
   "metadata": {},
   "source": [
    "![image.png](attachment:image.png)"
   ]
  },
  {
   "cell_type": "markdown",
   "id": "d48900c3",
   "metadata": {},
   "source": [
    "## Teorema de Bayes\n",
    "\n",
    "O **Teorema de Bayes** é um conceito importantíssimo da probabilidade e uma das ferramentas mais importantes de serem aprendidas para um Cientista de Dados, pois é a base de uma área com muitas aplicações práticas chamada [inferência bayesiana](https://en.wikipedia.org/wiki/Bayesian_inference).\n",
    "\n",
    "O Teorema de Bayes é uma forma **calcular probabilidades condicionais de forma reversa**.\n",
    "\n",
    "Vamos considerar o clássico exemplo para explicar o teorema. \n",
    "\n",
    "Temos uma determinada doença C, e um teste T utilizado para detectar esta doença. \n",
    "\n",
    "O teste não é 100% confiável, indicando pessoas que **não têm a doença como doentes (falsos positivos)** e **não detectando a doença em pessoas que a possuem (falsos negativos)**\n",
    "\n",
    "> Consideremos que 1% das pessoas possui a doença: $P(C) = 0.01$\n",
    "\n",
    "> Logo, 99% das pessoas não a possui: $P(¬C) = 0.99$\n",
    "\n",
    "O teste detecta a doença em pessoas efetivamente doentes 90% das vezes e, consequentemente, não detecta a doença em pessoas doentes em 10% dos casos. \n",
    "\n",
    "Em pessoas não doentes, o teste detecta a doença (erradamente) em 5% dos casos e não detecta em 95% dos casos. Podemos resumir desta forma:\n",
    "\n",
    "|                | Pessoa Doente | Pessoa Não Doente |\n",
    "|----------------|---------------|-------------------|\n",
    "| Teste positivo | 90 %          | 5 %               |\n",
    "| Teste Negativo | 10 %          | 95 %              |\n",
    "\n",
    "A tabela acima é chamada de **matriz de confusão**, indicando fora da diagonal os caos confusos (errados), e na diagonal os casos corretos\n",
    "\n",
    "<img src=\"https://miro.medium.com/max/2102/1*fxiTNIgOyvAombPJx5KGeA.png\" width=300>\n",
    "\n",
    "Agora, a chance de você **ter a doença e o teste detecta-la (verdadeiro positivo)** é igual **a chance de você ter a doença multiplicado pela chance do teste ter dado positivo corretamente**;\n",
    "\n",
    "Analogamente, a chance de você **não ter a doença e o teste detecta-la mesmo assim (falso positivo)** é igual **a chance de você não ter a doença multiplicado pela chance do teste ter dado positivo incorretamente**;\n",
    "\n",
    "E assim por diante, para todos os resultados. Atualizamos então a tabela, que fica assim:\n",
    "\n",
    "|                | Pessoa Doente                            | Pessoa Não Doente                               | Soma\n",
    "|----------------|------------------------------------------|-------------------------------------------------|-------|\n",
    "| **Teste positivo** | Prob Doente e teste pos: 1% × 90% = 0,9% | Prob Não Doente e teste pos: 99% × 5% = 4,95%   | 5,85%\n",
    "| **Teste Negativo** | Prob Doente e teste neg: 1% × 10% = 0,1% | Prob Não Doente e teste neg: 99% × 95% = 94,05% | 94,15%\n",
    "| **Soma** | 1% | 99% | 100%\n",
    "\n",
    "Estas então são nossas probabilidades para cada evento. Note que, se somadas, o resultado é 1, ou 100%. \n",
    "\n",
    "Agora, vamos supor que você fez o teste e o **resultado deu positivo**. \n",
    "\n",
    "Como devemos interpretar este resultado? Qual a chance de você de fato ter a doença? \n",
    "\n",
    "Considerando o cálculo básico de probabilidade, temos que a chance de ter a doença é igual à **chance do evento desejado dividido por todas as possibilidades**. \n",
    "\n",
    "O evento desejado é um positivo verdadeiro, ou seja, **teste positivo e a pessoa com doença**. Para este caso, a probabilidade é de 0,9% (olhe na tabela!) \n",
    "\n",
    "O **total de possibilidades com relação ao teste positivo** seria a **soma da probabilidade de “doente e teste pos”** (verdadeiro positivo) com **“não doente e teste pos” (falso positivo)**, que resultará em 0,9% + 4,95%, igual a 5,85%.\n",
    "\n",
    "Fazendo toda a conta, nossa chance de ter a doença se temos um teste positivo é de **0,9%/5,85% = 0.1538**, ou **15,38%**. \n",
    "\n",
    "É uma chance bem mais baixa do que imaginamos apenas ao olhar para o problema e para a suposta precisão do teste!\n",
    "\n",
    "#### Em equações, temos:\n",
    "\n",
    "* P(C|+) = Probabilidade de ter a doença dado um teste positivo (este é a probabilidade que desejamos saber)\n",
    "\n",
    "* P(C) = Probabilidade da pessoa ter a doença = 1%\n",
    "\n",
    "* P(+|C) = Probabilidade de um teste positivo se a pessoa tem a doença = 0,9% \n",
    "\n",
    "* P(+|¬C) = Probabilidade de um teste positivo se a pessoa não tem a doença = 4,95%\n",
    "\n",
    "    **O Teorema de bayes diz que :**\n",
    "    \n",
    "    \n",
    "$$ P(C|+) = \\frac{P(+|C) \\ P(C)}{P(+|C) \\ P(C)  + P(+|¬ C) \\ P(¬ C)}    $$"
   ]
  },
  {
   "cell_type": "markdown",
   "id": "780971d5",
   "metadata": {},
   "source": [
    "## "
   ]
  },
  {
   "cell_type": "markdown",
   "id": "06a5b5b9",
   "metadata": {},
   "source": [
    "## Exercícios"
   ]
  },
  {
   "cell_type": "markdown",
   "id": "7305090c",
   "metadata": {},
   "source": [
    "__1)__ Um teste para identificação de malária na população amazônica possui uma taxa de 8% de falso positivo e 2% de falso negativo, ou seja, em 8% dos não-infectados acusa como infectados, e em 2% dos infectados acusa como não infectados. Sabendo que atualmente 0,4% da população amazônica está infectada, calcule a probabilidade de um paciente cujo teste apontou positivo estar realmente não infectado."
   ]
  },
  {
   "cell_type": "code",
   "execution_count": null,
   "id": "1d87e5ce",
   "metadata": {},
   "outputs": [],
   "source": []
  },
  {
   "cell_type": "code",
   "execution_count": null,
   "id": "9f279b46",
   "metadata": {},
   "outputs": [],
   "source": []
  },
  {
   "cell_type": "markdown",
   "id": "7d7504e8",
   "metadata": {},
   "source": [
    "__2)__ Luiza tem um pote de cápsulas de café onde têm cápsulas de diversas cores. Então Luiza decidiu contar quantas cápsulas de cada ela tem:\n",
    "\n",
    "- Azul: 10 cápsulas\n",
    "- Roxo: 7 cápsulas\n",
    "- Preto: 8 cápsulas\n",
    "- Vermelho: 5 cápsulas\n",
    "\n",
    "Colocando todas as cápsulas de volta e escolhendo duas quaisquer para tomar, qual a probabilidade de Luiza pegar aleatoriamente primeiro uma cápsula azul e depois uma vermelha, dado que são eventos independentes?"
   ]
  },
  {
   "cell_type": "code",
   "execution_count": null,
   "id": "c8126e73",
   "metadata": {},
   "outputs": [],
   "source": []
  },
  {
   "cell_type": "code",
   "execution_count": null,
   "id": "fb13caaf",
   "metadata": {},
   "outputs": [],
   "source": []
  },
  {
   "cell_type": "markdown",
   "id": "c94c1d2a",
   "metadata": {},
   "source": [
    "__3)__ Se uma moeda for lançada 5 vezes, qual é a probabilidade de sair pelo menos 4 caras?"
   ]
  },
  {
   "cell_type": "code",
   "execution_count": null,
   "id": "a46a6ad4",
   "metadata": {},
   "outputs": [],
   "source": []
  },
  {
   "cell_type": "code",
   "execution_count": null,
   "id": "b93b1614",
   "metadata": {},
   "outputs": [],
   "source": []
  },
  {
   "cell_type": "markdown",
   "id": "a6029215",
   "metadata": {},
   "source": [
    "__4)__ Dois dados são lançados e vamos definir os eventos A e B como:\n",
    "    \n",
    "- __A__: a soma dos dados é igual a 6;\n",
    "    \n",
    "- __B__: saiu o valor 4 no primeiro dado.\n",
    "    \n",
    "Esses eventos são independentes?"
   ]
  },
  {
   "cell_type": "code",
   "execution_count": null,
   "id": "2caa33b5",
   "metadata": {},
   "outputs": [],
   "source": []
  },
  {
   "cell_type": "markdown",
   "id": "78cfd7a7",
   "metadata": {},
   "source": [
    "## "
   ]
  }
 ],
 "metadata": {
  "hide_input": false,
  "kernelspec": {
   "display_name": "Python 3 (ipykernel)",
   "language": "python",
   "name": "python3"
  },
  "language_info": {
   "codemirror_mode": {
    "name": "ipython",
    "version": 3
   },
   "file_extension": ".py",
   "mimetype": "text/x-python",
   "name": "python",
   "nbconvert_exporter": "python",
   "pygments_lexer": "ipython3",
   "version": "3.11.7"
  },
  "varInspector": {
   "cols": {
    "lenName": 16,
    "lenType": 16,
    "lenVar": 40
   },
   "kernels_config": {
    "python": {
     "delete_cmd_postfix": "",
     "delete_cmd_prefix": "del ",
     "library": "var_list.py",
     "varRefreshCmd": "print(var_dic_list())"
    },
    "r": {
     "delete_cmd_postfix": ") ",
     "delete_cmd_prefix": "rm(",
     "library": "var_list.r",
     "varRefreshCmd": "cat(var_dic_list()) "
    }
   },
   "types_to_exclude": [
    "module",
    "function",
    "builtin_function_or_method",
    "instance",
    "_Feature"
   ],
   "window_display": false
  }
 },
 "nbformat": 4,
 "nbformat_minor": 5
}
