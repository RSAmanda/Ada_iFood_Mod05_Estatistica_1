{
 "cells": [
  {
   "cell_type": "markdown",
   "id": "0cde99e2",
   "metadata": {},
   "source": [
    "Rogério Mainardes\n",
    "\n",
    "- https://www.linkedin.com/in/rogerioomds/\n",
    "- Email: r.otavioms@gmail.com\n",
    "- Material: https://github.com/RogerioOMDS"
   ]
  },
  {
   "cell_type": "markdown",
   "id": "dc8425a4",
   "metadata": {},
   "source": [
    "### Conteúdo\n",
    "\n",
    "- Estatística distribuitiva;\n",
    "- Probabilidade;\n",
    "- Distribuições de probabilidade;\n",
    "- Distribuição normal;\n",
    "- Amostragem;\n",
    "- Teste de hipóteses;\n",
    "- Mais testes de hipóteses;\n",
    "- Séries temporais;\n",
    "- Projeto/Prova"
   ]
  },
  {
   "cell_type": "markdown",
   "id": "fb90d3d6",
   "metadata": {},
   "source": [
    "# 01 - Estatística Descritiva\n",
    "\n",
    "Nessa aula, iremos tratar dos seguintes conteúdos:\n",
    "- Introdução\n",
    "- Tipos de Variáveis\n",
    "- Estatística Descritiva\n",
    "- Métricas de Posição\n",
    "- Boxplot\n",
    "- Outliers\n",
    "- Métricas de Dispersão\n",
    "- Correlação\n",
    "- Assimetria\n",
    "- Tabela de Frequências"
   ]
  },
  {
   "cell_type": "markdown",
   "id": "b1fe5244",
   "metadata": {},
   "source": [
    "<img src = \"https://encrypted-tbn0.gstatic.com/images?q=tbn:ANd9GcTIqUDdVObHKev_QuHhakpATphyz6L62qflwl3vn79djOLS07sc4sbSot6M2oO_DR5tnycZygSagBuB6g&usqp=CAU\" width = 800>"
   ]
  },
  {
   "cell_type": "markdown",
   "id": "57c7c7c6",
   "metadata": {},
   "source": [
    "## "
   ]
  },
  {
   "cell_type": "markdown",
   "id": "527a5498",
   "metadata": {},
   "source": [
    "## Estatística Descritiva"
   ]
  },
  {
   "cell_type": "markdown",
   "id": "70095e71",
   "metadata": {},
   "source": [
    "Nessa e na próxima aula iniciaremos nossa introdução a **Probabilidade e Estatística**.\n",
    "\n",
    "Essas duas áreas são extremamente amplas, e fornecem toda a base da __ciência de dados__. Por isso, vamos dar uma olhada nos principais conceitos. A probabilidade e estatística podem ser divididas nos seguintes três pilares:\n",
    "\n",
    "**Probabilidade**: é a teoria matemática utilizada para se estudar a incerteza oriundas de `fenômenos de caráter aleátorio`.\n",
    "\n",
    "**Estatística Descritiva**: Etapa inicial da análise estatística, tendo como objetivo tirar informações prévias de modo informal e direto. A ideia é obter informações que `resumam` o conjuto de dados, a fim que estes possam ser `descritos`, e conclusões iniciais possam ser tiradas.\n",
    "\n",
    "**Inferência Estatística**: É o conjunto de técnicas que possibilitam a extrapolação de conclusões tiradas a partir de um conjunto pequeno de dados (denominado `amostra`) para todo o universo sob análise (denominado (`população`).\n"
   ]
  },
  {
   "cell_type": "markdown",
   "id": "c07abf80",
   "metadata": {},
   "source": [
    "##  "
   ]
  },
  {
   "cell_type": "markdown",
   "id": "309f78a1",
   "metadata": {},
   "source": [
    "## Tipos de Variáveis \n",
    "\n",
    "Antes de explorarmos a estatística descritiva é importante formalizarmos os **tipos de dados** com os quais normalmente trabalhamos:\n",
    "\n",
    "- **Variavél qualitativa** \n",
    "-- *Nominal* \n",
    "\n",
    "Valores que expressam **atributos sem nenhum tipo de ordem**. Ex : sexo, estado civil, país de origem, ser fumante ou não, etc.\n",
    "\n",
    "    - São representados por strings\n",
    "\n",
    "\n",
    "- **Variavél qualitativa** \n",
    "-- *Ordinal* \n",
    "\n",
    "Valores que expressam **atributos com algum tipo de ordem ou grau**. Ex: escolaridade, resposta de um paciente(piora, igual, melhora), classe social(alta, média,baixa), classe do navio, etc.\n",
    "\n",
    "    - São representados por strings\n",
    "    \n",
    "\n",
    "- **Variavél quantitativa** \n",
    "-- *Discreta*  \n",
    "\n",
    "Valores numéricos inteiros. Ex: idade em anos inteiros, número de banheiros em uma casa, número de filhos, etc.\n",
    "\n",
    "    - São representados por ints\n",
    "    \n",
    "\n",
    "- **Variavél quantitativa** \n",
    "-- *Contínua*  \n",
    "\n",
    "Valores numéricos racionais. Ex: salário, preço, temperatura, gorjeta, etc.\n",
    "\n",
    "    - São representados por floats"
   ]
  },
  {
   "cell_type": "markdown",
   "id": "f8d055c9",
   "metadata": {},
   "source": [
    "##  "
   ]
  },
  {
   "cell_type": "markdown",
   "id": "6fbe548d",
   "metadata": {},
   "source": [
    "## Métricas de Posição\n",
    "\n",
    "Como mencionamos anteriormente, o principal objetivo da estatística descritiva é gerar **medidas que resumam** o conjunto de dados que estamos analisando, ou seja, medidas que descrevam **a distribuição** dos dados, de forma quantitativa. Temos dois tipos de métricas disponíveis: as métricas de __posição__ e __dispersão__. Vamos conhecer melhor essas métricas a seguir:"
   ]
  },
  {
   "cell_type": "markdown",
   "id": "fe7abf76",
   "metadata": {},
   "source": [
    "__Métricas de Posição:__ Estas são medidas que **resumem** algumas propriedades do conjunto de dados:\n",
    "\n",
    "<img src=\"https://i.pinimg.com/originals/3e/8a/90/3e8a90c122ad25240cc46ac075cb0f4c.png\" width=200>\n",
    "\n",
    "### Média\n",
    "\n",
    "Seja $X$ uma variável quantitativa e $x_1,x_2,x_3, ...$ os valores assumidos por X. Define-se média de $\\overline{X}$ como sendo :\n",
    "\n",
    "$$\\overline{X} = \\frac{\\sum_{i=1}^{n}x_i}{n}= \\frac{x_1+ x_2 + x_3 +... +x_n}{n}$$"
   ]
  },
  {
   "cell_type": "code",
   "execution_count": 2,
   "id": "23d2bf68",
   "metadata": {
    "ExecuteTime": {
     "end_time": "2023-05-03T23:20:41.505502Z",
     "start_time": "2023-05-03T23:20:41.502072Z"
    }
   },
   "outputs": [
    {
     "name": "stderr",
     "output_type": "stream",
     "text": [
      "C:\\Users\\Amanda Rodrigues\\AppData\\Local\\Temp\\ipykernel_2888\\4279124494.py:2: DeprecationWarning: \n",
      "Pyarrow will become a required dependency of pandas in the next major release of pandas (pandas 3.0),\n",
      "(to allow more performant data types, such as the Arrow string type, and better interoperability with other libraries)\n",
      "but was not found to be installed on your system.\n",
      "If this would cause problems for you,\n",
      "please provide us feedback at https://github.com/pandas-dev/pandas/issues/54466\n",
      "        \n",
      "  import pandas as pd\n"
     ]
    }
   ],
   "source": [
    "# Import das Principais Bibliotecas\n",
    "import pandas as pd\n",
    "import numpy as np \n",
    "import matplotlib.pyplot as plt\n",
    "import seaborn as sns\n",
    "\n"
   ]
  },
  {
   "cell_type": "code",
   "execution_count": 3,
   "id": "b4ae2a3c",
   "metadata": {
    "ExecuteTime": {
     "end_time": "2023-04-28T23:43:41.039058Z",
     "start_time": "2023-04-28T23:43:41.021586Z"
    }
   },
   "outputs": [
    {
     "name": "stdout",
     "output_type": "stream",
     "text": [
      "amostra =, [ 7 15 11  8  7 19 11 11  4  8  3  2]\n",
      "Média = 8.833333333333334\n",
      "Média = 8.833333333333334\n"
     ]
    }
   ],
   "source": [
    "# Define uma semente randômica ----> para todas as execuções derem o mesmo valor\n",
    "np.random.seed(42)\n",
    "# Vamos criar uma amostra aleatória de numéros inteiros\n",
    "amostra = np.random.randint(1,20,12)\n",
    "\n",
    "# Print da amostra\n",
    "print(f'amostra =, {amostra}')\n",
    "# Print da Média da Amostra\n",
    "soma_total = sum(amostra)\n",
    "tamanho_total = len(amostra)\n",
    "print(f'Média = {soma_total/tamanho_total}')\n",
    "print(f'Média = {amostra.mean()}')\n"
   ]
  },
  {
   "cell_type": "markdown",
   "id": "2a25d399",
   "metadata": {},
   "source": [
    "## "
   ]
  },
  {
   "cell_type": "markdown",
   "id": "84dc8be1",
   "metadata": {},
   "source": [
    "### Mediana\n",
    "\n",
    "A **mediana** de uma variável é um número tal que há o mesmo número de observações maiores e menores do que ele, ocupando assim a **posição central** da série de observações.\n",
    "\n",
    "Assim, para calcularmos a mediana, basta **ordenarmos os dados, do menor pro maior**, e contar o que está no meio dos dados ordenados (se houver número par de dados, pega-se a média entre os dados que estão \"no meio\")\n",
    "\n",
    "- *Exemplo*\n",
    "\n",
    "i) 3,4,**7**,8,8 **mediana = 7**       (CASO ÍMPAR)\n",
    "\n",
    "ii) 3,4,**7**,**8**,8,9 **mediana = (7+8)/2 = 7,5**   (CASO PAR)\n",
    "\n",
    "<br>\n",
    "\n",
    "Logo, podemos definir: \n",
    "\n",
    "- Mediana de $X = X_{\\frac{n+1}{2}}$ `Se tamanho da amostra ímpar`\n",
    "\n",
    "\n",
    "- Mediana de $X = \\frac{X_{\\frac{n}{2}}+ X_{\\frac{n+1}{2}}}{2}$ `Se tamanho da amostra par`\n",
    "\n",
    "Como os valores de **indice no python** começam em `0`, devemos nos atentar que a equação acima deve ficar como:\n",
    "\n",
    "- Mediana de $X = X_{\\frac{n}{2}}$ `Se tamanho da amostra ímpar`\n",
    "\n",
    "\n",
    "- Mediana de $X = \\frac{X_{\\frac{n-1}{2}}+ X_{\\frac{n}{2}}}{2}$ `Se tamanho da amostra par`"
   ]
  },
  {
   "cell_type": "code",
   "execution_count": 4,
   "id": "cbedaa4e",
   "metadata": {
    "ExecuteTime": {
     "end_time": "2023-04-29T00:21:19.687804Z",
     "start_time": "2023-04-29T00:21:19.673315Z"
    }
   },
   "outputs": [
    {
     "name": "stdout",
     "output_type": "stream",
     "text": [
      "amostra [ 7 15 11  8  7 19 11 11  4  8  3  2 12]\n",
      "amostra ordenada  [2, 3, 4, 7, 7, 8, 8, 11, 11, 11, 12, 15, 19]\n",
      "Mediana  8.0\n"
     ]
    }
   ],
   "source": [
    "# Define a semente randômica\n",
    "np.random.seed(42)\n",
    "# Cria uma amostra de números aleatórios\n",
    "amostra = np.random.randint(1,20,13)\n",
    "# Print da Amostra\n",
    "print('amostra', amostra)\n",
    "# Print da Amostra Ordenada\n",
    "print('amostra ordenada ', sorted(amostra))\n",
    "# Print do Valor da Mediana\n",
    "print('Mediana ', np.median(amostra))"
   ]
  },
  {
   "cell_type": "markdown",
   "id": "39534c92",
   "metadata": {},
   "source": [
    "### Moda\n",
    "\n",
    "A **moda** é o valor que ocorre com **maior frequencia** em um conjunto de dados. Dependendo do conjunto de dados, ele pode ser:\n",
    "\n",
    "- Sem moda: quando nenhum valor se repete \n",
    "\n",
    "- unimodal: Quando existe apenas um valor repetido com maior frequência \n",
    "\n",
    "- multimodal: quando existem mais de um valor com a mesma frequência máxima"
   ]
  },
  {
   "cell_type": "code",
   "execution_count": 5,
   "id": "f09a1319",
   "metadata": {
    "ExecuteTime": {
     "end_time": "2023-04-29T00:32:46.322925Z",
     "start_time": "2023-04-29T00:32:46.314366Z"
    }
   },
   "outputs": [
    {
     "name": "stdout",
     "output_type": "stream",
     "text": [
      "amostra  [ 7 15 11  8  7 19 11 11  4  8  3  2 12]\n",
      "serie\n",
      " 0      7\n",
      "1     15\n",
      "2     11\n",
      "3      8\n",
      "4      7\n",
      "5     19\n",
      "6     11\n",
      "7     11\n",
      "8      4\n",
      "9      8\n",
      "10     3\n",
      "11     2\n",
      "12    12\n",
      "dtype: int32\n",
      "\n",
      "moda =  0    11\n",
      "dtype: int32\n"
     ]
    }
   ],
   "source": [
    "# Print da Amostra\n",
    "print('amostra ', amostra)\n",
    "# não existe método np.mode(), temos que transformar os dados em uma série\n",
    "serie = pd.Series(amostra)\n",
    "print('serie\\n', serie)\n",
    "print('\\nmoda = ', serie.mode()) #indexado"
   ]
  },
  {
   "cell_type": "code",
   "execution_count": 6,
   "id": "27324900",
   "metadata": {},
   "outputs": [
    {
     "name": "stdout",
     "output_type": "stream",
     "text": [
      "moda =  11\n"
     ]
    }
   ],
   "source": [
    "print('moda = ',serie.mode()[0])"
   ]
  },
  {
   "cell_type": "markdown",
   "id": "9d117d74",
   "metadata": {},
   "source": [
    "## "
   ]
  },
  {
   "cell_type": "markdown",
   "id": "4b3f49fa",
   "metadata": {},
   "source": [
    "### Quartis (Q1, Q2 e Q3)\n",
    "\n",
    "São valores dados a partir do conjunto de observações ordenado em ordem crescente, que dividem os dados **em quatro partes iguais**. \n",
    "\n",
    "- O primeiro quartil, Q1, é o número que deixa 25% das observações abaixo e 75% acima;\n",
    "- O segundo quartil, Q2 é a **mediana**, deixa 50% das observações abaixo e 50% das observações acima;\n",
    "- O terceiro quartil, Q3, deixa 75% das observações abaixo e 25% acima;\n",
    "\n",
    "\n",
    "<img src=\"https://aprendendogestao.com.br/wp-content/uploads/2016/07/QE-Figura-1.png\" />"
   ]
  },
  {
   "cell_type": "markdown",
   "id": "84a5d2e5",
   "metadata": {},
   "source": [
    "## "
   ]
  },
  {
   "cell_type": "markdown",
   "id": "7629881b",
   "metadata": {},
   "source": [
    "### Intervalo Interquartil (IQR)\n",
    "\n",
    "Por construção, aproximadamente metade dos dados estão entre o 1º e o 3º quartil, isto é, este também pode ser interpretado como **um intervalo de valores tipicamente assumidos pelas observações**, e também é uma **medida de dispersão**, pois nos dá uma ideia da variação que existe entre o Q1 e o Q3."
   ]
  },
  {
   "cell_type": "code",
   "execution_count": 7,
   "id": "3c851b67",
   "metadata": {
    "ExecuteTime": {
     "end_time": "2023-04-29T00:30:02.356000Z",
     "start_time": "2023-04-29T00:30:02.335815Z"
    }
   },
   "outputs": [
    {
     "name": "stdout",
     "output_type": "stream",
     "text": [
      "[ 7 15 11  8  7 19 11 11  4  8  3  2 12]\n",
      "amostra ordenada  [2, 3, 4, 7, 7, 8, 8, 11, 11, 11, 12, 15, 19]\n",
      "mediana =  8.0\n",
      " - - - - - - - - - - - \n",
      "primeiro quartil =  7.0\n",
      "segundo quartil =  8.0\n",
      "terceiro quartil =  11.0\n",
      "intervalo interquatílica (IQR) =  4.0\n"
     ]
    }
   ],
   "source": [
    "# Print da Amostra\n",
    "print(amostra)\n",
    "# Print da Amostra Ordenada\n",
    "print('amostra ordenada ', sorted(amostra))\n",
    "# Calcula o intervalo interquartil\n",
    "print('mediana = ', np.median(amostra))\n",
    "print(' - - - - - - - - - - - ')\n",
    "print('primeiro quartil = ', np.quantile(amostra,0.25))\n",
    "print('segundo quartil = ', np.quantile(amostra,0.5))\n",
    "print('terceiro quartil = ', np.quantile(amostra,0.75))\n",
    "# Print do IQR\n",
    "print('intervalo interquatílica (IQR) = ',np.quantile(amostra,0.75) - np.quantile(amostra,0.25))\n"
   ]
  },
  {
   "cell_type": "markdown",
   "id": "efa0b467",
   "metadata": {},
   "source": [
    "## "
   ]
  },
  {
   "cell_type": "markdown",
   "id": "4fa06373",
   "metadata": {},
   "source": [
    "Se construirmos uma série do pandas, é possível ter as estatísticas descritivas todas de uma vez, com o describe():"
   ]
  },
  {
   "cell_type": "code",
   "execution_count": 8,
   "id": "86b0f290",
   "metadata": {
    "ExecuteTime": {
     "end_time": "2023-04-29T00:33:24.953009Z",
     "start_time": "2023-04-29T00:33:24.931010Z"
    },
    "scrolled": false
   },
   "outputs": [
    {
     "name": "stdout",
     "output_type": "stream",
     "text": [
      "0      7\n",
      "1     15\n",
      "2     11\n",
      "3      8\n",
      "4      7\n",
      "5     19\n",
      "6     11\n",
      "7     11\n",
      "8      4\n",
      "9      8\n",
      "10     3\n",
      "11     2\n",
      "12    12\n",
      "dtype: int32\n"
     ]
    },
    {
     "data": {
      "text/plain": [
       "count    13.000000\n",
       "mean      9.076923\n",
       "std       4.803845\n",
       "min       2.000000\n",
       "25%       7.000000\n",
       "50%       8.000000\n",
       "75%      11.000000\n",
       "max      19.000000\n",
       "dtype: float64"
      ]
     },
     "execution_count": 8,
     "metadata": {},
     "output_type": "execute_result"
    }
   ],
   "source": [
    "# Cria uma Serie da amostra gerada anteriormente\n",
    "serie = pd.Series(amostra)\n",
    "# Print da Série\n",
    "print(serie)\n",
    "# Print do Sumário Estatístico\n",
    "#serie.describe(percentiles=[0.25,0.5,0.75])\n",
    "serie.describe()\n",
    "# Cálculo da Moda\n",
    "\n",
    "\n",
    "\n"
   ]
  },
  {
   "cell_type": "markdown",
   "id": "aaa7708e",
   "metadata": {},
   "source": [
    "## "
   ]
  },
  {
   "cell_type": "markdown",
   "id": "abf12ac9",
   "metadata": {},
   "source": [
    "### Box Plot\n",
    "\n",
    "O boxplot (gráfico de caixa) é um gráfico utilizado para avaliar a distribuição empírica do dados. O boxplot é formado pelo primeiro e terceiro quartil e pela mediana. As hastes conhecidos como bigodes (**whiskers**) inferiores e superiores se estendem, respectivamente, do quartil inferior até o menor valor não inferior ao limite inferior e do quartil superior até o maior valor não superior ao limite superior. Os limites são calculados da forma abaixo:\n",
    "\n",
    "$IQR = Q_3 - Q_1$\n",
    "\n",
    "Limite inferior: $ \\max\\{\\min(\\text{dados});Q_1-1,5 \\cdot IQR\\} $.\n",
    "\n",
    "Limite superior: $ \\min\\{\\max(\\text{dados});Q_3+1,5 \\cdot IQR\\} $.\n",
    "\n",
    "Para este caso, os pontos fora destes limites são considerados valores discrepantes (Outliers) e são denotados por asterisco (*). A Figura  a seguir apresenta um exemplo do formato de um boxplot.\n",
    "\n",
    "<img src=https://miro.medium.com/max/8000/1*0MPDTLn8KoLApoFvI0P2vQ.png width=500>\n",
    "\n",
    "O boxplot pode ainda ser utilizado para uma comparação visual entre dois ou mais grupos. Por exemplo, duas ou mais caixas são colocadas lado a lado e se compara a variabilidade entre elas, a mediana e assim por diante. Outro ponto importante é a diferença entre os quartis $ (Q_3 - Q_1) $ que é uma medida da variabilidade dos dados."
   ]
  },
  {
   "cell_type": "markdown",
   "id": "d7f57a54",
   "metadata": {},
   "source": [
    "## "
   ]
  },
  {
   "cell_type": "markdown",
   "id": "ef8edffb",
   "metadata": {},
   "source": [
    "### Outliers\n",
    "\n",
    "**Outliers** ou **discrepantes** referem-se a obsevações **extremas**, que se deslocam em muito das outras observações em um conjunto de dados, ou seja, que **destoam do padrão da distribuição** dos dados. Outliers podem existir por motivos diferentes, alguns dos quais são:\n",
    "\n",
    "- erro na entrada de dados (erro humano);\n",
    "- erro na medição/coleta dos dados (erro instrumental);\n",
    "- erros experimentais (planejamento/execução dos experimentos);\n",
    "- outliers naturais (não decorrente de erros)\n",
    "\n",
    "<img src=\"https://miro.medium.com/max/700/1*J5Xm0X-phCJJ-DKZMZ_88w.png\">\n",
    "\n",
    "No caso dos erros, é importante que os outliers sejam tratados (comumente são removidos). Por outro lado, outliers naturais são importantes constituintes dos dados, de modo que não devem ser eliminados mas, muitas vezes, devem ser tratados.\n",
    "\n",
    "De qualquer modo, antes de começarmos a pensar em como **tratar** os outliers, o primeiro passo é **identificá-los** e a melhor forma para isso é utilizar dos boxplots."
   ]
  },
  {
   "cell_type": "code",
   "execution_count": 9,
   "id": "68e36dfd",
   "metadata": {},
   "outputs": [
    {
     "name": "stdout",
     "output_type": "stream",
     "text": [
      "amostra_2 =  [52 93 15 72 61 21 83 87 75 75 88 24  3 22 53  2 88 30 38  2 64 60 21 33\n",
      " 76 58 22 89 49 91 59 42 92 60 80 15 62 62 47 62 51 55 64  3 51  7 21 73\n",
      " 39 18]\n"
     ]
    }
   ],
   "source": [
    "# semente randômica\n",
    "np.random.seed(42)\n",
    "\n",
    "# gerar a amostra\n",
    "amostra_2 = np.random.randint(1,100,50)\n",
    "print(\"amostra_2 = \", amostra_2)"
   ]
  },
  {
   "cell_type": "code",
   "execution_count": 10,
   "id": "e1bbb6b6",
   "metadata": {},
   "outputs": [
    {
     "data": {
      "image/png": "[encoded data removed]",
      "text/plain": [
       "<Figure size 600x500 with 1 Axes>"
      ]
     },
     "metadata": {},
     "output_type": "display_data"
    }
   ],
   "source": [
    "fig, ax = plt.subplots(figsize = (6,5))\n",
    "\n",
    "q1 = np.quantile(amostra_2, 0.25)\n",
    "q3 = np.quantile(amostra_2, 0.75)\n",
    "iqr = q3 - q1\n",
    "\n",
    "minimum = q1 - (1.5 * iqr)\n",
    "minimum_2 = np.max([np.min(amostra_2), minimum])\n",
    "\n",
    "maximum = q3 + (1.5 * iqr)\n",
    "maximum_2 = np.min([np.max(amostra_2), maximum])\n",
    "\n",
    "ax.boxplot(amostra_2)\n",
    "ax.axhline(y = np.median(amostra_2), label = \"mediana (q2)\", color= \"orange\")\n",
    "ax.axhline(y = q1, label =\"q1\", color =\"red\" )\n",
    "ax.axhline(y = q3, label =\"q3\", color =\"blue\" )\n",
    "ax.axhline(y = amostra_2.mean(), label =\"media\", color =\"gray\")\n",
    "ax.axhline(y = minimum_2, label =\"minimum\", color = \"yellow\" )\n",
    "ax.axhline(y = maximum_2, label =\"maximum\", color = \"green\" )\n",
    "ax.legend()\n",
    "ax = ax "
   ]
  },
  {
   "cell_type": "code",
   "execution_count": 11,
   "id": "6478d000",
   "metadata": {},
   "outputs": [
    {
     "data": {
      "text/plain": [
       "0    21\n",
       "1    62\n",
       "dtype: int32"
      ]
     },
     "execution_count": 11,
     "metadata": {},
     "output_type": "execute_result"
    }
   ],
   "source": [
    "# nossa amostra é bimodal, não será graficado\n",
    "serie_2 = pd.Series(amostra_2)\n",
    "serie_2.mode()"
   ]
  },
  {
   "cell_type": "markdown",
   "id": "29860ed2",
   "metadata": {},
   "source": [
    "##  "
   ]
  },
  {
   "cell_type": "markdown",
   "id": "36384393",
   "metadata": {},
   "source": [
    "### Medidas de Dispersão\n",
    "\n",
    "Estas são **medidas de variabilidade**, que indicam o quanto as observações variam ao redor de alguma medida de centralidade (média, mediana, etc.). Em outras palavras, indicam **o quão longe podemos esperar que uma observação esteja do valor típico para aquela variável**. \n",
    "\n",
    "Existem diversas medidas de variabilidade, algumas das quais apresentamos a seguir."
   ]
  },
  {
   "cell_type": "markdown",
   "id": "bf51bbc9",
   "metadata": {},
   "source": [
    "### Amplitude\n",
    "\n",
    "A amplitude é a **diferença entre o maior e o menor valor observado**. Algo bem importante a salientar sobre a amplitude é:\n",
    "\n",
    "- **Fortemente influenciada** por valores extremos nas observações, como outliers. "
   ]
  },
  {
   "cell_type": "code",
   "execution_count": 12,
   "id": "4dd1b1a2",
   "metadata": {
    "ExecuteTime": {
     "end_time": "2023-05-03T23:20:49.602102Z",
     "start_time": "2023-05-03T23:20:49.596614Z"
    }
   },
   "outputs": [
    {
     "data": {
      "text/plain": [
       "count    14.000000\n",
       "mean     14.642857\n",
       "std      21.331115\n",
       "min       2.000000\n",
       "25%       7.000000\n",
       "50%       9.500000\n",
       "75%      11.750000\n",
       "max      87.000000\n",
       "dtype: float64"
      ]
     },
     "execution_count": 12,
     "metadata": {},
     "output_type": "execute_result"
    }
   ],
   "source": [
    "# Define um array de amostra\n",
    "amostra3 = np.array([2, 3, 4, 7, 7, 8, 8, 11, 11, 11, 12, 15, 19, 87])\n",
    "\n",
    "amostra3\n",
    "serie_3 = pd.Series(amostra3)\n",
    "serie_3.describe()"
   ]
  },
  {
   "cell_type": "code",
   "execution_count": 13,
   "id": "23e23677",
   "metadata": {},
   "outputs": [
    {
     "data": {
      "text/plain": [
       "<matplotlib.legend.Legend at 0x1f7563f4f10>"
      ]
     },
     "execution_count": 13,
     "metadata": {},
     "output_type": "execute_result"
    },
    {
     "data": {
      "image/png": "[encoded data removed]",
      "text/plain": [
       "<Figure size 640x480 with 1 Axes>"
      ]
     },
     "metadata": {},
     "output_type": "display_data"
    }
   ],
   "source": [
    "fig, ax = plt.subplots()\n",
    "media = amostra3.mean()\n",
    "dp = amostra3.std()\n",
    "ax.hist(amostra3)\n",
    "ax.axvline(x = media, label = 'media', color = 'red')\n",
    "ax.axvspan(xmin = media - dp, xmax = media, alpha = 0.2, color = 'yellow', label = 'media - dp')\n",
    "ax.axvspan(xmin = media, xmax = media + dp, alpha = 0.2, color =  'red', label = 'media + dp')\n",
    "ax.legend()\n"
   ]
  },
  {
   "cell_type": "code",
   "execution_count": 14,
   "id": "ceaaa20d",
   "metadata": {},
   "outputs": [
    {
     "data": {
      "text/plain": [
       "<matplotlib.legend.Legend at 0x1f758719dd0>"
      ]
     },
     "execution_count": 14,
     "metadata": {},
     "output_type": "execute_result"
    },
    {
     "data": {
      "image/png": "[encoded data removed]",
      "text/plain": [
       "<Figure size 640x480 with 1 Axes>"
      ]
     },
     "metadata": {},
     "output_type": "display_data"
    }
   ],
   "source": [
    "# Define um array de amostra\n",
    "amostra_4 = np.array([2, 3, 4, 7, 7, 8, 8, 11, 11, 11, 12, 15, 19, 19])\n",
    "fig, ax = plt.subplots()\n",
    "media = amostra_4.mean()\n",
    "dp = amostra_4.std()\n",
    "ax.hist(amostra_4)\n",
    "ax.axvline(x = media, label = 'media', color = 'red')\n",
    "ax.axvspan(xmin = media - dp, xmax = media, alpha = 0.2, color = 'yellow', label = 'media - dp')\n",
    "ax.axvspan(xmin = media, xmax = media + dp, alpha = 0.2, color =  'red', label = 'media + dp')\n",
    "ax.legend()"
   ]
  },
  {
   "cell_type": "code",
   "execution_count": 15,
   "id": "135fc2c9",
   "metadata": {},
   "outputs": [
    {
     "data": {
      "text/plain": [
       "count    14.000000\n",
       "mean      9.785714\n",
       "std       5.323079\n",
       "min       2.000000\n",
       "25%       7.000000\n",
       "50%       9.500000\n",
       "75%      11.750000\n",
       "max      19.000000\n",
       "dtype: float64"
      ]
     },
     "execution_count": 15,
     "metadata": {},
     "output_type": "execute_result"
    }
   ],
   "source": [
    "serie_4 = pd.Series(amostra_4)\n",
    "serie_4.describe()"
   ]
  },
  {
   "cell_type": "code",
   "execution_count": 16,
   "id": "1e38f75b",
   "metadata": {
    "ExecuteTime": {
     "end_time": "2023-05-03T23:21:47.391710Z",
     "start_time": "2023-05-03T23:21:47.217840Z"
    }
   },
   "outputs": [
    {
     "data": {
      "text/plain": [
       "<Axes: ylabel='Count'>"
      ]
     },
     "execution_count": 16,
     "metadata": {},
     "output_type": "execute_result"
    },
    {
     "data": {
      "image/png": "[encoded data removed]",
      "text/plain": [
       "<Figure size 640x480 with 1 Axes>"
      ]
     },
     "metadata": {},
     "output_type": "display_data"
    }
   ],
   "source": [
    "sns.histplot(amostra3)"
   ]
  },
  {
   "cell_type": "code",
   "execution_count": 17,
   "id": "7cc052df",
   "metadata": {},
   "outputs": [],
   "source": [
    "amostra3_ordenada = sorted(amostra3)"
   ]
  },
  {
   "cell_type": "code",
   "execution_count": 18,
   "id": "938c6f4d",
   "metadata": {},
   "outputs": [
    {
     "name": "stdout",
     "output_type": "stream",
     "text": [
      "amplitude = 85\n"
     ]
    }
   ],
   "source": [
    "amplitude = amostra3_ordenada[-1] - amostra3_ordenada[0]\n",
    "print(\"amplitude =\", amplitude)"
   ]
  },
  {
   "cell_type": "markdown",
   "id": "9c8b68b2",
   "metadata": {},
   "source": [
    "## "
   ]
  },
  {
   "cell_type": "markdown",
   "id": "6af75f44",
   "metadata": {},
   "source": [
    "### Variância \n",
    "\n",
    "A variância representa **o quanto os dados se afastam da média, em geral**. Por definição, tomamos a média dos **desvios quadráticos da média**:\n",
    "\n",
    "$$ Var(X) = \\sum_{i=1}^{n}\\frac{(x-\\overline{x})^{2}}{n-1} = \\frac{(x_1-\\overline{x})^{2}}{n-1} + \\frac{(x_2-\\overline{x})^{2}}{n-1} + \\cdots$$"
   ]
  },
  {
   "cell_type": "code",
   "execution_count": 19,
   "id": "e4a9d5e8",
   "metadata": {
    "ExecuteTime": {
     "end_time": "2023-05-03T23:23:53.176053Z",
     "start_time": "2023-05-03T23:23:53.172361Z"
    },
    "scrolled": true
   },
   "outputs": [
    {
     "name": "stdout",
     "output_type": "stream",
     "text": [
      "[ 2  3  4  7  7  8  8 11 11 11 12 15 19 87]\n",
      "média      14.642857142857142\n",
      "variância  422.51530612244903\n"
     ]
    }
   ],
   "source": [
    "# Print dos Dados\n",
    "print(amostra3)\n",
    "# Print do Valor da Variância\n",
    "print(\"média     \", amostra3.mean())\n",
    "print(\"variância \", np.var(amostra3)) # os dados são muito disperso\n"
   ]
  },
  {
   "cell_type": "markdown",
   "id": "8e5c0bbc",
   "metadata": {},
   "source": [
    "## "
   ]
  },
  {
   "cell_type": "markdown",
   "id": "f522582d",
   "metadata": {},
   "source": [
    "### Desvio padrão\n",
    "\n",
    "Note que, da forma como foi definida, a variância é um valor **quadrático** nos dados. Para evitar isso, é comum tirar a raiz quadrada da variância, o que define o **desvio padrão**:\n",
    "\n",
    "$$ \\sigma(X) \\equiv \\sqrt{Var(X)} = \\sqrt{\\sum_{i=1}^{n}\\frac{(x-\\overline{x})^{2}}{n - 1}}$$"
   ]
  },
  {
   "cell_type": "code",
   "execution_count": 20,
   "id": "05bef3a7",
   "metadata": {
    "ExecuteTime": {
     "end_time": "2023-05-03T23:27:46.671138Z",
     "start_time": "2023-05-03T23:27:46.666803Z"
    }
   },
   "outputs": [
    {
     "name": "stdout",
     "output_type": "stream",
     "text": [
      "[ 2  3  4  7  7  8  8 11 11 11 12 15 19 87]\n",
      "média          14.642857142857142\n",
      "Desvio Padrão  20.55517711240769\n"
     ]
    }
   ],
   "source": [
    "# Print dos Dados\n",
    "print(amostra3)\n",
    "# Print do Valor do Desvio Padrão\n",
    "print(\"média         \", amostra3.mean())\n",
    "print(\"Desvio Padrão \", np.std(amostra3)) # os dados são muito disperso"
   ]
  },
  {
   "cell_type": "markdown",
   "id": "7616554f",
   "metadata": {},
   "source": [
    "Até agora estamos analisando uma única variável separadamente: ANÁLISE UNIVARIADA\n",
    "\n",
    "Se quero saber a relação de 2 ou mais variáveis, utilizamos uma ANÁLISE MULTIVARIADA"
   ]
  },
  {
   "cell_type": "markdown",
   "id": "86328e97",
   "metadata": {},
   "source": [
    "## "
   ]
  },
  {
   "cell_type": "markdown",
   "id": "a5a576c9",
   "metadata": {},
   "source": [
    "## Métricas de associação entre variáveis quantitativas\n",
    "\n",
    "\n",
    "Sejam $X$ e $Y$ variáveis quantitativas de interesse e as amostras aleatórias observadas $x_1,\\ldots,x_n$ e $y_1,\\ldots,y_n$, respectivamente. As medidas de associação mais utilizadas são:\n",
    "<br>\n",
    "\n",
    "### Covariância \n",
    "\n",
    "A __Covariância__ faz uma comparação similar que a variância, com a diferença que está comparação é entre variáveis distintas $X$ e $Y$:\n",
    "\n",
    "$s_{XY} = \\displaystyle{\\frac{\\displaystyle\\sum_{i=1}^{n}(x_i-\\bar{x})(y_i-\\bar{y})}{n-1}}$\n",
    "\n",
    "| Covariância não é um valor padronizado"
   ]
  },
  {
   "cell_type": "markdown",
   "id": "b754ad90",
   "metadata": {},
   "source": [
    "## "
   ]
  },
  {
   "cell_type": "markdown",
   "id": "c0208637",
   "metadata": {},
   "source": [
    "### Correlação\n",
    "\n",
    "Um dos conceitos mais importantes em Data Science é o da **correlação**. A partir de estudos de correlação, é possível **descobrirmos como diferentes variáveis interagem**.\n",
    "<br>\n",
    "<img src=\"https://www.mathsisfun.com/data/images/correlation-examples.svg\" width=700>\n",
    "<br>\n",
    "É bem importante distinguirmos correlações **lineares** de **não lineares**. \n",
    "<br>\n",
    "<img src=\"https://miro.medium.com/max/1414/1*ZMwog-_YcD0qBHc9_1T1-w.png\" width=700>\n",
    "<br>\n",
    "Para fazer a distinção acima, há testes específicos para correlação. Vamos ver dois coeficientes de correlação específicos que sâo: __Pearson__ e __Spearmann__"
   ]
  },
  {
   "cell_type": "markdown",
   "id": "4612e89a",
   "metadata": {},
   "source": [
    "Para fazer a distinção acima, há testes específicos para correlação. Vamos ver dois coeficientes de correlação específicos que sâo: __Pearson__ e __Spearmann__\n",
    "\n",
    "**OBS.: CORRELAÇÃO NÃO IMPLICA EM CAUSALIDADE**\n",
    "\n",
    "https://www.tylervigen.com/spurious-correlations"
   ]
  },
  {
   "cell_type": "markdown",
   "id": "6f5535d2",
   "metadata": {},
   "source": [
    "## "
   ]
  },
  {
   "cell_type": "markdown",
   "id": "eabc7351",
   "metadata": {},
   "source": [
    "### Correlação de Pearson\n",
    "\n",
    "A [__Correlação de Pearson__](https://pt.wikipedia.org/wiki/Coeficiente_de_correla%C3%A7%C3%A3o_de_Pearson) é expressa como  a **taxa de relação linear entre duas variáveis numéricas**. Quanto mais próximo de 1 ou -1, mais **linearmente correlacionado estão as variáveis testadas**. A fórmula define-se como:\n",
    "\n",
    "\n",
    "$r = \\displaystyle{\\frac{s_{XY}}{\\sqrt{s^2_X s^2_Y }}}$\n",
    "\n",
    "\n",
    "Propriedade: \n",
    "\n",
    " $-1 \\leq r \\leq 1$\n",
    "\n",
    "\n",
    "É comum usar as seguintes classificações:\n",
    "\n",
    "1. $r=1$ indica uma correlação perfeita e positiva\n",
    "\n",
    "2. $r=-1$ indica uma correlação perfeita e negativa\n",
    "\n",
    "3. $0.7 \\leq |r| \\leq 1$ indica uma correlação forte\n",
    "\n",
    "4. $0.5 \\leq |r| \\leq 0.69$ indica uma correlação moderada\n",
    "\n",
    "5. $0 \\leq |r| \\leq 0.49$ indica uma correlação fraca\n",
    "<br>\n",
    "\n",
    "### Correlação de Spearman\n",
    "\n",
    "[__Correlação de Spearmann__](https://pt.wikipedia.org/wiki/Coeficiente_de_correla%C3%A7%C3%A3o_de_postos_de_Spearman) e outra correlação linear bem conhecida e este coeficiente indica se as amostras possuem correlação *monotônica*, isso é, **se aumentarmos ou diminuimos uma, a outra irá aumentar ou diminuir**. \n",
    "\n",
    "O coeficiente varia entre -1 e 1:\n",
    "\n",
    "> Quanto mais próximo de 1 for o coeficiente, mais positivamente correlacionada as amostras, isso é, se aumentarmos uma, a outra ira aumentar (ou se diminuimos uma, a outra irá diminuir); \n",
    "\n",
    "> Quanto mais próximo de -1 for o resultado, mais negativamente correlacionada estão as variáveis, isso é, aumentando uma, a outra irá dimunuir (ou se diminuímos uma, a outra irá aumentar). \n",
    "\n",
    "> Uma correlação de 0 indica ausência de correlação.\n",
    "\n",
    "**Importante:** o coeficiente de Spearman **não** indica correlação necessariamente linear!"
   ]
  },
  {
   "cell_type": "code",
   "execution_count": 21,
   "id": "b47ee925",
   "metadata": {
    "ExecuteTime": {
     "end_time": "2023-05-04T00:09:22.314266Z",
     "start_time": "2023-05-04T00:09:22.289797Z"
    }
   },
   "outputs": [
    {
     "data": {
      "text/html": [
       "<div>\n",
       "<style scoped>\n",
       "    .dataframe tbody tr th:only-of-type {\n",
       "        vertical-align: middle;\n",
       "    }\n",
       "\n",
       "    .dataframe tbody tr th {\n",
       "        vertical-align: top;\n",
       "    }\n",
       "\n",
       "    .dataframe thead th {\n",
       "        text-align: right;\n",
       "    }\n",
       "</style>\n",
       "<table border=\"1\" class=\"dataframe\">\n",
       "  <thead>\n",
       "    <tr style=\"text-align: right;\">\n",
       "      <th></th>\n",
       "      <th>mpg</th>\n",
       "      <th>cylinders</th>\n",
       "      <th>displacement</th>\n",
       "      <th>horsepower</th>\n",
       "      <th>weight</th>\n",
       "      <th>acceleration</th>\n",
       "      <th>model_year</th>\n",
       "      <th>origin</th>\n",
       "      <th>name</th>\n",
       "    </tr>\n",
       "  </thead>\n",
       "  <tbody>\n",
       "    <tr>\n",
       "      <th>0</th>\n",
       "      <td>18.0</td>\n",
       "      <td>8</td>\n",
       "      <td>307.0</td>\n",
       "      <td>130.0</td>\n",
       "      <td>3504</td>\n",
       "      <td>12.0</td>\n",
       "      <td>70</td>\n",
       "      <td>usa</td>\n",
       "      <td>chevrolet chevelle malibu</td>\n",
       "    </tr>\n",
       "    <tr>\n",
       "      <th>1</th>\n",
       "      <td>15.0</td>\n",
       "      <td>8</td>\n",
       "      <td>350.0</td>\n",
       "      <td>165.0</td>\n",
       "      <td>3693</td>\n",
       "      <td>11.5</td>\n",
       "      <td>70</td>\n",
       "      <td>usa</td>\n",
       "      <td>buick skylark 320</td>\n",
       "    </tr>\n",
       "    <tr>\n",
       "      <th>2</th>\n",
       "      <td>18.0</td>\n",
       "      <td>8</td>\n",
       "      <td>318.0</td>\n",
       "      <td>150.0</td>\n",
       "      <td>3436</td>\n",
       "      <td>11.0</td>\n",
       "      <td>70</td>\n",
       "      <td>usa</td>\n",
       "      <td>plymouth satellite</td>\n",
       "    </tr>\n",
       "    <tr>\n",
       "      <th>3</th>\n",
       "      <td>16.0</td>\n",
       "      <td>8</td>\n",
       "      <td>304.0</td>\n",
       "      <td>150.0</td>\n",
       "      <td>3433</td>\n",
       "      <td>12.0</td>\n",
       "      <td>70</td>\n",
       "      <td>usa</td>\n",
       "      <td>amc rebel sst</td>\n",
       "    </tr>\n",
       "    <tr>\n",
       "      <th>4</th>\n",
       "      <td>17.0</td>\n",
       "      <td>8</td>\n",
       "      <td>302.0</td>\n",
       "      <td>140.0</td>\n",
       "      <td>3449</td>\n",
       "      <td>10.5</td>\n",
       "      <td>70</td>\n",
       "      <td>usa</td>\n",
       "      <td>ford torino</td>\n",
       "    </tr>\n",
       "  </tbody>\n",
       "</table>\n",
       "</div>"
      ],
      "text/plain": [
       "    mpg  cylinders  displacement  horsepower  weight  acceleration  \\\n",
       "0  18.0          8         307.0       130.0    3504          12.0   \n",
       "1  15.0          8         350.0       165.0    3693          11.5   \n",
       "2  18.0          8         318.0       150.0    3436          11.0   \n",
       "3  16.0          8         304.0       150.0    3433          12.0   \n",
       "4  17.0          8         302.0       140.0    3449          10.5   \n",
       "\n",
       "   model_year origin                       name  \n",
       "0          70    usa  chevrolet chevelle malibu  \n",
       "1          70    usa          buick skylark 320  \n",
       "2          70    usa         plymouth satellite  \n",
       "3          70    usa              amc rebel sst  \n",
       "4          70    usa                ford torino  "
      ]
     },
     "execution_count": 21,
     "metadata": {},
     "output_type": "execute_result"
    }
   ],
   "source": [
    "mpg = sns.load_dataset('mpg')\n",
    "\n",
    "mpg.head()"
   ]
  },
  {
   "cell_type": "code",
   "execution_count": 22,
   "id": "55ef459b",
   "metadata": {
    "ExecuteTime": {
     "end_time": "2023-05-04T00:09:35.329536Z",
     "start_time": "2023-05-04T00:09:35.317904Z"
    }
   },
   "outputs": [
    {
     "data": {
      "text/html": [
       "<div>\n",
       "<style scoped>\n",
       "    .dataframe tbody tr th:only-of-type {\n",
       "        vertical-align: middle;\n",
       "    }\n",
       "\n",
       "    .dataframe tbody tr th {\n",
       "        vertical-align: top;\n",
       "    }\n",
       "\n",
       "    .dataframe thead th {\n",
       "        text-align: right;\n",
       "    }\n",
       "</style>\n",
       "<table border=\"1\" class=\"dataframe\">\n",
       "  <thead>\n",
       "    <tr style=\"text-align: right;\">\n",
       "      <th></th>\n",
       "      <th>mpg</th>\n",
       "      <th>cylinders</th>\n",
       "      <th>displacement</th>\n",
       "      <th>horsepower</th>\n",
       "      <th>weight</th>\n",
       "      <th>acceleration</th>\n",
       "      <th>model_year</th>\n",
       "    </tr>\n",
       "  </thead>\n",
       "  <tbody>\n",
       "    <tr>\n",
       "      <th>mpg</th>\n",
       "      <td>1.000000</td>\n",
       "      <td>-0.775396</td>\n",
       "      <td>-0.804203</td>\n",
       "      <td>-0.778427</td>\n",
       "      <td>-0.831741</td>\n",
       "      <td>0.420289</td>\n",
       "      <td>0.579267</td>\n",
       "    </tr>\n",
       "    <tr>\n",
       "      <th>cylinders</th>\n",
       "      <td>-0.775396</td>\n",
       "      <td>1.000000</td>\n",
       "      <td>0.950721</td>\n",
       "      <td>0.842983</td>\n",
       "      <td>0.896017</td>\n",
       "      <td>-0.505419</td>\n",
       "      <td>-0.348746</td>\n",
       "    </tr>\n",
       "    <tr>\n",
       "      <th>displacement</th>\n",
       "      <td>-0.804203</td>\n",
       "      <td>0.950721</td>\n",
       "      <td>1.000000</td>\n",
       "      <td>0.897257</td>\n",
       "      <td>0.932824</td>\n",
       "      <td>-0.543684</td>\n",
       "      <td>-0.370164</td>\n",
       "    </tr>\n",
       "    <tr>\n",
       "      <th>horsepower</th>\n",
       "      <td>-0.778427</td>\n",
       "      <td>0.842983</td>\n",
       "      <td>0.897257</td>\n",
       "      <td>1.000000</td>\n",
       "      <td>0.864538</td>\n",
       "      <td>-0.689196</td>\n",
       "      <td>-0.416361</td>\n",
       "    </tr>\n",
       "    <tr>\n",
       "      <th>weight</th>\n",
       "      <td>-0.831741</td>\n",
       "      <td>0.896017</td>\n",
       "      <td>0.932824</td>\n",
       "      <td>0.864538</td>\n",
       "      <td>1.000000</td>\n",
       "      <td>-0.417457</td>\n",
       "      <td>-0.306564</td>\n",
       "    </tr>\n",
       "    <tr>\n",
       "      <th>acceleration</th>\n",
       "      <td>0.420289</td>\n",
       "      <td>-0.505419</td>\n",
       "      <td>-0.543684</td>\n",
       "      <td>-0.689196</td>\n",
       "      <td>-0.417457</td>\n",
       "      <td>1.000000</td>\n",
       "      <td>0.288137</td>\n",
       "    </tr>\n",
       "    <tr>\n",
       "      <th>model_year</th>\n",
       "      <td>0.579267</td>\n",
       "      <td>-0.348746</td>\n",
       "      <td>-0.370164</td>\n",
       "      <td>-0.416361</td>\n",
       "      <td>-0.306564</td>\n",
       "      <td>0.288137</td>\n",
       "      <td>1.000000</td>\n",
       "    </tr>\n",
       "  </tbody>\n",
       "</table>\n",
       "</div>"
      ],
      "text/plain": [
       "                   mpg  cylinders  displacement  horsepower    weight  \\\n",
       "mpg           1.000000  -0.775396     -0.804203   -0.778427 -0.831741   \n",
       "cylinders    -0.775396   1.000000      0.950721    0.842983  0.896017   \n",
       "displacement -0.804203   0.950721      1.000000    0.897257  0.932824   \n",
       "horsepower   -0.778427   0.842983      0.897257    1.000000  0.864538   \n",
       "weight       -0.831741   0.896017      0.932824    0.864538  1.000000   \n",
       "acceleration  0.420289  -0.505419     -0.543684   -0.689196 -0.417457   \n",
       "model_year    0.579267  -0.348746     -0.370164   -0.416361 -0.306564   \n",
       "\n",
       "              acceleration  model_year  \n",
       "mpg               0.420289    0.579267  \n",
       "cylinders        -0.505419   -0.348746  \n",
       "displacement     -0.543684   -0.370164  \n",
       "horsepower       -0.689196   -0.416361  \n",
       "weight           -0.417457   -0.306564  \n",
       "acceleration      1.000000    0.288137  \n",
       "model_year        0.288137    1.000000  "
      ]
     },
     "execution_count": 22,
     "metadata": {},
     "output_type": "execute_result"
    }
   ],
   "source": [
    "mpg_numerico = mpg.select_dtypes(include = np.number)\n",
    "mpg_numerico.corr(method = 'pearson')"
   ]
  },
  {
   "cell_type": "code",
   "execution_count": 24,
   "id": "76d91aa2",
   "metadata": {
    "ExecuteTime": {
     "end_time": "2023-05-04T00:12:07.262942Z",
     "start_time": "2023-05-04T00:12:07.060402Z"
    }
   },
   "outputs": [
    {
     "data": {
      "text/plain": [
       "Text(0.5, 1.0, 'Correlação de spearman')"
      ]
     },
     "execution_count": 24,
     "metadata": {},
     "output_type": "execute_result"
    },
    {
     "data": {
      "image/png": "[encoded data removed]",
      "text/plain": [
       "<Figure size 1600x800 with 4 Axes>"
      ]
     },
     "metadata": {},
     "output_type": "display_data"
    }
   ],
   "source": [
    "fig, ax = plt.subplots(1,2, figsize = ( 16,8))\n",
    "sns.heatmap(mpg_numerico.corr(method = \"spearman\"), ax = ax[0], annot = True)\n",
    "sns.heatmap(mpg_numerico.corr(method = \"pearson\"), ax = ax[1], annot = True)\n",
    "ax[1].set_title(\"Correlação de pearson\")\n",
    "ax[0].set_title(\"Correlação de spearman\")"
   ]
  },
  {
   "cell_type": "markdown",
   "id": "18a7965d",
   "metadata": {},
   "source": [
    "## "
   ]
  },
  {
   "cell_type": "markdown",
   "id": "31699aeb",
   "metadata": {},
   "source": [
    "### Assimetria\n",
    "\n",
    "É o **grau de desvio ou afastamento** da **simetria** de uma distribuição. Quando a curva é simétrica, a `média`, a `mediana` e a `moda` coincidem, num mesmo ponto, havendo um perfeito equilíbrio na distribuição. Um exemplo de distribuição simétrica é a **distribuição normal**. Quando o equilíbrio não acontece, a média, a mediana e a moda recaem em pontos diferentes da distribuição, e a distribuição se torna **assimétrica**:\n",
    "\n",
    "<img src=\"https://www.researchgate.net/profile/Marco_Faria/publication/294890337/figure/fig5/AS:668873900716049@1536483373457/a-Negative-skewness-b-Normal-curve-c-Positive-skewness-Durkhure-and-Lodwal-2014.ppm\" width=600>\n",
    "\n",
    "\n",
    "- Distribuição assimétrica **Negativa ou enviesada a esquerda**: quando os valores se concentram na extremidade superior da escala e se distribuem gradativamente em direção à extremidade inferior.\n",
    "\n",
    "- Distribuição assimétrica **Positiva ou enviesada a direita**: quando os valores se concentram na extremidade inferior da escala e se distribuem gradativamente em direção à extremidade superior.\n",
    "\n",
    "A medidade de assimetria é conhecida como **skewness**, sendo calculada como:\n",
    "\n",
    "$$ s(X) = \\frac{1}{\\sigma^3}\\sum_{i=1}^{n}\\frac{(x-\\overline{x})^{3}}{n}$$\n",
    "\n",
    "O valor da skewness nos indica a assimetria da distribuição:\n",
    "\n",
    "- s = 0: distribuição simétrica\n",
    "- s > 0: assimetria à direira\n",
    "- s < 0: assimetria à esquerda"
   ]
  },
  {
   "cell_type": "code",
   "execution_count": 34,
   "id": "674cfb8f",
   "metadata": {
    "ExecuteTime": {
     "end_time": "2023-05-04T00:17:56.942840Z",
     "start_time": "2023-05-04T00:17:56.936181Z"
    }
   },
   "outputs": [
    {
     "name": "stdout",
     "output_type": "stream",
     "text": [
      "Dados: [ 9  3 14 17  4  3 11 16  8 12  1 17]\n"
     ]
    }
   ],
   "source": [
    "# Vamos criar uma amostra aleatória de numéros inteiros\n",
    "\n",
    "# Print da amostra"
   ]
  },
  {
   "cell_type": "code",
   "execution_count": 35,
   "id": "35b988b1",
   "metadata": {
    "ExecuteTime": {
     "end_time": "2023-05-04T00:18:27.234637Z",
     "start_time": "2023-05-04T00:18:27.230156Z"
    }
   },
   "outputs": [
    {
     "name": "stdout",
     "output_type": "stream",
     "text": [
      "Dados: [ 9  3 14 17  4  3 11 16  8 12  1 17]\n",
      "\n",
      "Skewness: -0.10941947418223709\n"
     ]
    }
   ],
   "source": []
  },
  {
   "cell_type": "code",
   "execution_count": 40,
   "id": "0f0ba561",
   "metadata": {
    "ExecuteTime": {
     "end_time": "2023-05-04T00:21:16.875276Z",
     "start_time": "2023-05-04T00:21:16.865992Z"
    }
   },
   "outputs": [
    {
     "data": {
      "text/plain": [
       "count    398.000000\n",
       "mean      23.514573\n",
       "std        7.815984\n",
       "min        9.000000\n",
       "25%       17.500000\n",
       "50%       23.000000\n",
       "75%       29.000000\n",
       "max       46.600000\n",
       "Name: mpg, dtype: float64"
      ]
     },
     "execution_count": 40,
     "metadata": {},
     "output_type": "execute_result"
    }
   ],
   "source": []
  },
  {
   "cell_type": "code",
   "execution_count": 39,
   "id": "ce14783a",
   "metadata": {
    "ExecuteTime": {
     "end_time": "2023-05-04T00:20:31.095018Z",
     "start_time": "2023-05-04T00:20:31.087811Z"
    }
   },
   "outputs": [
    {
     "data": {
      "text/plain": [
       "0.45706634399491913"
      ]
     },
     "execution_count": 39,
     "metadata": {},
     "output_type": "execute_result"
    }
   ],
   "source": []
  },
  {
   "cell_type": "code",
   "execution_count": 38,
   "id": "719b3d2f",
   "metadata": {
    "ExecuteTime": {
     "end_time": "2023-05-04T00:20:10.501054Z",
     "start_time": "2023-05-04T00:20:10.360466Z"
    }
   },
   "outputs": [
    {
     "data": {
      "text/plain": [
       "<seaborn.axisgrid.FacetGrid at 0x280284130>"
      ]
     },
     "execution_count": 38,
     "metadata": {},
     "output_type": "execute_result"
    },
    {
     "data": {
      "image/png": "[encoded data removed]",
      "text/plain": [
       "<Figure size 500x500 with 1 Axes>"
      ]
     },
     "metadata": {},
     "output_type": "display_data"
    }
   ],
   "source": []
  },
  {
   "cell_type": "code",
   "execution_count": 42,
   "id": "870a5d63",
   "metadata": {
    "ExecuteTime": {
     "end_time": "2023-05-04T00:23:01.909801Z",
     "start_time": "2023-05-04T00:23:01.903948Z"
    }
   },
   "outputs": [
    {
     "data": {
      "text/plain": [
       "usa       249\n",
       "japan      79\n",
       "europe     70\n",
       "Name: origin, dtype: int64"
      ]
     },
     "execution_count": 42,
     "metadata": {},
     "output_type": "execute_result"
    }
   ],
   "source": []
  },
  {
   "cell_type": "markdown",
   "id": "3fd710ef",
   "metadata": {},
   "source": [
    "Acima é uma tabela de frequência"
   ]
  },
  {
   "cell_type": "markdown",
   "id": "0779414a",
   "metadata": {},
   "source": [
    "##  "
   ]
  },
  {
   "cell_type": "markdown",
   "id": "af5e53e0",
   "metadata": {},
   "source": [
    "### Tabelas de Frequência\n",
    "\n",
    "A distribuição de frequências é um agrupamento de dados em classes, de tal forma que contabilizamos o número de ocorrências em cada classe. O objetivo é apresentar os dados de uma maneira mais concisa e que nos permita extrair informação sobre seu comportamento. A seguir, apresentamos algumas definições necessárias à construção da distribuição de frequências.\n",
    "\n",
    "**Frequência absoluta (ƒi):** É o número de observações correspondente a cada classe. A frequência absoluta é, geralmente, chamada apenas de frequência.\n",
    "\n",
    "**Frequência relativa (ƒri):** É o quociente entre a frequência absoluta da classe correspondente e a soma das frequências (total observado), isto é, $ \\displaystyle f_{ri}=\\frac{f_i}{\\sum_{j}f_j} $ onde n representa o número total de observações.\n",
    "\n",
    "**Frequência percentual (pi):** É obtida multiplicando a frequência relativa por 100%.<br><br>"
   ]
  },
  {
   "cell_type": "code",
   "execution_count": 82,
   "id": "34ece879",
   "metadata": {
    "ExecuteTime": {
     "end_time": "2023-05-04T00:23:35.215500Z",
     "start_time": "2023-05-04T00:23:35.194893Z"
    },
    "scrolled": true
   },
   "outputs": [
    {
     "data": {
      "text/html": [
       "<div>\n",
       "<style scoped>\n",
       "    .dataframe tbody tr th:only-of-type {\n",
       "        vertical-align: middle;\n",
       "    }\n",
       "\n",
       "    .dataframe tbody tr th {\n",
       "        vertical-align: top;\n",
       "    }\n",
       "\n",
       "    .dataframe thead th {\n",
       "        text-align: right;\n",
       "    }\n",
       "</style>\n",
       "<table border=\"1\" class=\"dataframe\">\n",
       "  <thead>\n",
       "    <tr style=\"text-align: right;\">\n",
       "      <th></th>\n",
       "      <th>total_bill</th>\n",
       "      <th>tip</th>\n",
       "      <th>sex</th>\n",
       "      <th>smoker</th>\n",
       "      <th>day</th>\n",
       "      <th>time</th>\n",
       "      <th>size</th>\n",
       "    </tr>\n",
       "  </thead>\n",
       "  <tbody>\n",
       "    <tr>\n",
       "      <th>0</th>\n",
       "      <td>16.99</td>\n",
       "      <td>1.01</td>\n",
       "      <td>Female</td>\n",
       "      <td>No</td>\n",
       "      <td>Sun</td>\n",
       "      <td>Dinner</td>\n",
       "      <td>2</td>\n",
       "    </tr>\n",
       "    <tr>\n",
       "      <th>1</th>\n",
       "      <td>10.34</td>\n",
       "      <td>1.66</td>\n",
       "      <td>Male</td>\n",
       "      <td>No</td>\n",
       "      <td>Sun</td>\n",
       "      <td>Dinner</td>\n",
       "      <td>3</td>\n",
       "    </tr>\n",
       "    <tr>\n",
       "      <th>2</th>\n",
       "      <td>21.01</td>\n",
       "      <td>3.50</td>\n",
       "      <td>Male</td>\n",
       "      <td>No</td>\n",
       "      <td>Sun</td>\n",
       "      <td>Dinner</td>\n",
       "      <td>3</td>\n",
       "    </tr>\n",
       "    <tr>\n",
       "      <th>3</th>\n",
       "      <td>23.68</td>\n",
       "      <td>3.31</td>\n",
       "      <td>Male</td>\n",
       "      <td>No</td>\n",
       "      <td>Sun</td>\n",
       "      <td>Dinner</td>\n",
       "      <td>2</td>\n",
       "    </tr>\n",
       "    <tr>\n",
       "      <th>4</th>\n",
       "      <td>24.59</td>\n",
       "      <td>3.61</td>\n",
       "      <td>Female</td>\n",
       "      <td>No</td>\n",
       "      <td>Sun</td>\n",
       "      <td>Dinner</td>\n",
       "      <td>4</td>\n",
       "    </tr>\n",
       "  </tbody>\n",
       "</table>\n",
       "</div>"
      ],
      "text/plain": [
       "   total_bill   tip     sex smoker  day    time  size\n",
       "0       16.99  1.01  Female     No  Sun  Dinner     2\n",
       "1       10.34  1.66    Male     No  Sun  Dinner     3\n",
       "2       21.01  3.50    Male     No  Sun  Dinner     3\n",
       "3       23.68  3.31    Male     No  Sun  Dinner     2\n",
       "4       24.59  3.61  Female     No  Sun  Dinner     4"
      ]
     },
     "execution_count": 82,
     "metadata": {},
     "output_type": "execute_result"
    }
   ],
   "source": [
    "# Print carregando o dataset\n",
    "df = sns.load_dataset('tips')\n",
    "\n",
    "# Print das primeiras linhas\n",
    "df.head()"
   ]
  },
  {
   "cell_type": "code",
   "execution_count": 44,
   "id": "9f216e85",
   "metadata": {
    "ExecuteTime": {
     "end_time": "2023-05-04T00:24:34.076462Z",
     "start_time": "2023-05-04T00:24:34.071293Z"
    }
   },
   "outputs": [
    {
     "data": {
      "text/plain": [
       "['Sun', 'Sat', 'Thur', 'Fri']\n",
       "Categories (4, object): ['Thur', 'Fri', 'Sat', 'Sun']"
      ]
     },
     "execution_count": 44,
     "metadata": {},
     "output_type": "execute_result"
    }
   ],
   "source": [
    "# Olhar as categorias ou melhor, ver os valores únicos\n"
   ]
  },
  {
   "cell_type": "code",
   "execution_count": 46,
   "id": "91164358",
   "metadata": {
    "ExecuteTime": {
     "end_time": "2023-05-04T00:25:26.273266Z",
     "start_time": "2023-05-04T00:25:26.266406Z"
    }
   },
   "outputs": [
    {
     "name": "stdout",
     "output_type": "stream",
     "text": [
      "Tabela de frequência ABSOLUTA da coluna 'sex':\n"
     ]
    },
    {
     "data": {
      "text/plain": [
       "Male      157\n",
       "Female     87\n",
       "Name: sex, dtype: int64"
      ]
     },
     "metadata": {},
     "output_type": "display_data"
    }
   ],
   "source": [
    "# Print do Título\n",
    "print(\"Tabela de frequência ABSOLUTA da coluna 'sex':\")\n",
    "\n",
    "# Print da Tabela de Frequencia absoluta"
   ]
  },
  {
   "cell_type": "code",
   "execution_count": 48,
   "id": "8d8f7c58",
   "metadata": {
    "ExecuteTime": {
     "end_time": "2023-05-04T00:26:26.327839Z",
     "start_time": "2023-05-04T00:26:26.319440Z"
    }
   },
   "outputs": [
    {
     "name": "stdout",
     "output_type": "stream",
     "text": [
      "Tabela de frequência RELATIVA da coluna 'sex':\n"
     ]
    },
    {
     "data": {
      "text/plain": [
       "Male      0.643443\n",
       "Female    0.356557\n",
       "Name: sex, dtype: float64"
      ]
     },
     "metadata": {},
     "output_type": "display_data"
    }
   ],
   "source": [
    "# Print do Título\n",
    "print(\"Tabela de frequência RELATIVA da coluna 'sex':\")\n",
    "\n",
    "# Print da Tabela de Frequencia absoluta"
   ]
  },
  {
   "cell_type": "code",
   "execution_count": 49,
   "id": "cc69dd94",
   "metadata": {
    "ExecuteTime": {
     "end_time": "2023-05-04T00:27:04.666501Z",
     "start_time": "2023-05-04T00:27:04.658914Z"
    }
   },
   "outputs": [
    {
     "name": "stdout",
     "output_type": "stream",
     "text": [
      "Tabela de frequência PERCENTUAL da coluna 'sex':\n"
     ]
    },
    {
     "data": {
      "text/plain": [
       "Male      64.344262\n",
       "Female    35.655738\n",
       "Name: sex, dtype: float64"
      ]
     },
     "metadata": {},
     "output_type": "display_data"
    }
   ],
   "source": [
    "# Print do Titulo\n",
    "print(\"Tabela de frequência PERCENTUAL da coluna 'sex':\")\n",
    "\n",
    "# Print da Tabela de Frequencia Percentual"
   ]
  },
  {
   "cell_type": "code",
   "execution_count": 51,
   "id": "0d845141",
   "metadata": {
    "ExecuteTime": {
     "end_time": "2023-05-04T00:27:37.927862Z",
     "start_time": "2023-05-04T00:27:37.919352Z"
    }
   },
   "outputs": [
    {
     "name": "stdout",
     "output_type": "stream",
     "text": [
      "Tabela de frequência PERCENTUAL da coluna 'sex':\n"
     ]
    },
    {
     "data": {
      "text/plain": [
       "Male      64.34%\n",
       "Female    35.66%\n",
       "Name: sex, dtype: object"
      ]
     },
     "execution_count": 51,
     "metadata": {},
     "output_type": "execute_result"
    }
   ],
   "source": [
    "# Print do Titulo\n",
    "print(\"Tabela de frequência PERCENTUAL da coluna 'sex':\")\n",
    "\n",
    "# se quiser colocar as porcentagens, tem que transformar em string, e concatenar com o \"%\""
   ]
  },
  {
   "cell_type": "code",
   "execution_count": 59,
   "id": "b16fc929",
   "metadata": {
    "ExecuteTime": {
     "end_time": "2023-05-04T00:32:44.420216Z",
     "start_time": "2023-05-04T00:32:44.334685Z"
    },
    "scrolled": false
   },
   "outputs": [
    {
     "data": {
      "image/png": "[encoded data removed]",
      "text/plain": [
       "<Figure size 400x400 with 1 Axes>"
      ]
     },
     "metadata": {},
     "output_type": "display_data"
    }
   ],
   "source": []
  },
  {
   "cell_type": "markdown",
   "id": "761dc684",
   "metadata": {
    "ExecuteTime": {
     "end_time": "2023-02-24T18:51:18.020697Z",
     "start_time": "2023-02-24T18:51:18.008728Z"
    }
   },
   "source": [
    "Agora analisando os dados numéricos (quantitativos)"
   ]
  },
  {
   "cell_type": "code",
   "execution_count": 61,
   "id": "283aaf91",
   "metadata": {
    "ExecuteTime": {
     "end_time": "2023-05-04T00:35:05.334399Z",
     "start_time": "2023-05-04T00:35:05.317274Z"
    }
   },
   "outputs": [
    {
     "data": {
      "text/html": [
       "<div>\n",
       "<style scoped>\n",
       "    .dataframe tbody tr th:only-of-type {\n",
       "        vertical-align: middle;\n",
       "    }\n",
       "\n",
       "    .dataframe tbody tr th {\n",
       "        vertical-align: top;\n",
       "    }\n",
       "\n",
       "    .dataframe thead th {\n",
       "        text-align: right;\n",
       "    }\n",
       "</style>\n",
       "<table border=\"1\" class=\"dataframe\">\n",
       "  <thead>\n",
       "    <tr style=\"text-align: right;\">\n",
       "      <th></th>\n",
       "      <th>total_bill</th>\n",
       "      <th>tip</th>\n",
       "      <th>sex</th>\n",
       "      <th>smoker</th>\n",
       "      <th>day</th>\n",
       "      <th>time</th>\n",
       "      <th>size</th>\n",
       "    </tr>\n",
       "  </thead>\n",
       "  <tbody>\n",
       "    <tr>\n",
       "      <th>0</th>\n",
       "      <td>16.99</td>\n",
       "      <td>1.01</td>\n",
       "      <td>Female</td>\n",
       "      <td>No</td>\n",
       "      <td>Sun</td>\n",
       "      <td>Dinner</td>\n",
       "      <td>2</td>\n",
       "    </tr>\n",
       "    <tr>\n",
       "      <th>1</th>\n",
       "      <td>10.34</td>\n",
       "      <td>1.66</td>\n",
       "      <td>Male</td>\n",
       "      <td>No</td>\n",
       "      <td>Sun</td>\n",
       "      <td>Dinner</td>\n",
       "      <td>3</td>\n",
       "    </tr>\n",
       "    <tr>\n",
       "      <th>2</th>\n",
       "      <td>21.01</td>\n",
       "      <td>3.50</td>\n",
       "      <td>Male</td>\n",
       "      <td>No</td>\n",
       "      <td>Sun</td>\n",
       "      <td>Dinner</td>\n",
       "      <td>3</td>\n",
       "    </tr>\n",
       "    <tr>\n",
       "      <th>3</th>\n",
       "      <td>23.68</td>\n",
       "      <td>3.31</td>\n",
       "      <td>Male</td>\n",
       "      <td>No</td>\n",
       "      <td>Sun</td>\n",
       "      <td>Dinner</td>\n",
       "      <td>2</td>\n",
       "    </tr>\n",
       "    <tr>\n",
       "      <th>4</th>\n",
       "      <td>24.59</td>\n",
       "      <td>3.61</td>\n",
       "      <td>Female</td>\n",
       "      <td>No</td>\n",
       "      <td>Sun</td>\n",
       "      <td>Dinner</td>\n",
       "      <td>4</td>\n",
       "    </tr>\n",
       "    <tr>\n",
       "      <th>...</th>\n",
       "      <td>...</td>\n",
       "      <td>...</td>\n",
       "      <td>...</td>\n",
       "      <td>...</td>\n",
       "      <td>...</td>\n",
       "      <td>...</td>\n",
       "      <td>...</td>\n",
       "    </tr>\n",
       "    <tr>\n",
       "      <th>239</th>\n",
       "      <td>29.03</td>\n",
       "      <td>5.92</td>\n",
       "      <td>Male</td>\n",
       "      <td>No</td>\n",
       "      <td>Sat</td>\n",
       "      <td>Dinner</td>\n",
       "      <td>3</td>\n",
       "    </tr>\n",
       "    <tr>\n",
       "      <th>240</th>\n",
       "      <td>27.18</td>\n",
       "      <td>2.00</td>\n",
       "      <td>Female</td>\n",
       "      <td>Yes</td>\n",
       "      <td>Sat</td>\n",
       "      <td>Dinner</td>\n",
       "      <td>2</td>\n",
       "    </tr>\n",
       "    <tr>\n",
       "      <th>241</th>\n",
       "      <td>22.67</td>\n",
       "      <td>2.00</td>\n",
       "      <td>Male</td>\n",
       "      <td>Yes</td>\n",
       "      <td>Sat</td>\n",
       "      <td>Dinner</td>\n",
       "      <td>2</td>\n",
       "    </tr>\n",
       "    <tr>\n",
       "      <th>242</th>\n",
       "      <td>17.82</td>\n",
       "      <td>1.75</td>\n",
       "      <td>Male</td>\n",
       "      <td>No</td>\n",
       "      <td>Sat</td>\n",
       "      <td>Dinner</td>\n",
       "      <td>2</td>\n",
       "    </tr>\n",
       "    <tr>\n",
       "      <th>243</th>\n",
       "      <td>18.78</td>\n",
       "      <td>3.00</td>\n",
       "      <td>Female</td>\n",
       "      <td>No</td>\n",
       "      <td>Thur</td>\n",
       "      <td>Dinner</td>\n",
       "      <td>2</td>\n",
       "    </tr>\n",
       "  </tbody>\n",
       "</table>\n",
       "<p>244 rows × 7 columns</p>\n",
       "</div>"
      ],
      "text/plain": [
       "     total_bill   tip     sex smoker   day    time  size\n",
       "0         16.99  1.01  Female     No   Sun  Dinner     2\n",
       "1         10.34  1.66    Male     No   Sun  Dinner     3\n",
       "2         21.01  3.50    Male     No   Sun  Dinner     3\n",
       "3         23.68  3.31    Male     No   Sun  Dinner     2\n",
       "4         24.59  3.61  Female     No   Sun  Dinner     4\n",
       "..          ...   ...     ...    ...   ...     ...   ...\n",
       "239       29.03  5.92    Male     No   Sat  Dinner     3\n",
       "240       27.18  2.00  Female    Yes   Sat  Dinner     2\n",
       "241       22.67  2.00    Male    Yes   Sat  Dinner     2\n",
       "242       17.82  1.75    Male     No   Sat  Dinner     2\n",
       "243       18.78  3.00  Female     No  Thur  Dinner     2\n",
       "\n",
       "[244 rows x 7 columns]"
      ]
     },
     "execution_count": 61,
     "metadata": {},
     "output_type": "execute_result"
    }
   ],
   "source": []
  },
  {
   "cell_type": "code",
   "execution_count": 62,
   "id": "0ce70954",
   "metadata": {
    "ExecuteTime": {
     "end_time": "2023-05-04T00:35:37.910732Z",
     "start_time": "2023-05-04T00:35:37.900722Z"
    }
   },
   "outputs": [
    {
     "data": {
      "text/plain": [
       "count    244.000000\n",
       "mean      19.785943\n",
       "std        8.902412\n",
       "min        3.070000\n",
       "25%       13.347500\n",
       "50%       17.795000\n",
       "75%       24.127500\n",
       "max       50.810000\n",
       "Name: total_bill, dtype: float64"
      ]
     },
     "execution_count": 62,
     "metadata": {},
     "output_type": "execute_result"
    }
   ],
   "source": []
  },
  {
   "cell_type": "code",
   "execution_count": 63,
   "id": "46d64568",
   "metadata": {
    "ExecuteTime": {
     "end_time": "2023-05-04T00:36:12.547262Z",
     "start_time": "2023-05-04T00:36:12.531308Z"
    }
   },
   "outputs": [
    {
     "data": {
      "text/html": [
       "<div>\n",
       "<style scoped>\n",
       "    .dataframe tbody tr th:only-of-type {\n",
       "        vertical-align: middle;\n",
       "    }\n",
       "\n",
       "    .dataframe tbody tr th {\n",
       "        vertical-align: top;\n",
       "    }\n",
       "\n",
       "    .dataframe thead th {\n",
       "        text-align: right;\n",
       "    }\n",
       "</style>\n",
       "<table border=\"1\" class=\"dataframe\">\n",
       "  <thead>\n",
       "    <tr style=\"text-align: right;\">\n",
       "      <th></th>\n",
       "      <th>total_bill</th>\n",
       "      <th>tip</th>\n",
       "      <th>size</th>\n",
       "    </tr>\n",
       "  </thead>\n",
       "  <tbody>\n",
       "    <tr>\n",
       "      <th>count</th>\n",
       "      <td>244.000000</td>\n",
       "      <td>244.000000</td>\n",
       "      <td>244.000000</td>\n",
       "    </tr>\n",
       "    <tr>\n",
       "      <th>mean</th>\n",
       "      <td>19.785943</td>\n",
       "      <td>2.998279</td>\n",
       "      <td>2.569672</td>\n",
       "    </tr>\n",
       "    <tr>\n",
       "      <th>std</th>\n",
       "      <td>8.902412</td>\n",
       "      <td>1.383638</td>\n",
       "      <td>0.951100</td>\n",
       "    </tr>\n",
       "    <tr>\n",
       "      <th>min</th>\n",
       "      <td>3.070000</td>\n",
       "      <td>1.000000</td>\n",
       "      <td>1.000000</td>\n",
       "    </tr>\n",
       "    <tr>\n",
       "      <th>25%</th>\n",
       "      <td>13.347500</td>\n",
       "      <td>2.000000</td>\n",
       "      <td>2.000000</td>\n",
       "    </tr>\n",
       "    <tr>\n",
       "      <th>50%</th>\n",
       "      <td>17.795000</td>\n",
       "      <td>2.900000</td>\n",
       "      <td>2.000000</td>\n",
       "    </tr>\n",
       "    <tr>\n",
       "      <th>75%</th>\n",
       "      <td>24.127500</td>\n",
       "      <td>3.562500</td>\n",
       "      <td>3.000000</td>\n",
       "    </tr>\n",
       "    <tr>\n",
       "      <th>max</th>\n",
       "      <td>50.810000</td>\n",
       "      <td>10.000000</td>\n",
       "      <td>6.000000</td>\n",
       "    </tr>\n",
       "  </tbody>\n",
       "</table>\n",
       "</div>"
      ],
      "text/plain": [
       "       total_bill         tip        size\n",
       "count  244.000000  244.000000  244.000000\n",
       "mean    19.785943    2.998279    2.569672\n",
       "std      8.902412    1.383638    0.951100\n",
       "min      3.070000    1.000000    1.000000\n",
       "25%     13.347500    2.000000    2.000000\n",
       "50%     17.795000    2.900000    2.000000\n",
       "75%     24.127500    3.562500    3.000000\n",
       "max     50.810000   10.000000    6.000000"
      ]
     },
     "execution_count": 63,
     "metadata": {},
     "output_type": "execute_result"
    }
   ],
   "source": []
  },
  {
   "cell_type": "code",
   "execution_count": 67,
   "id": "9efd13d5",
   "metadata": {
    "ExecuteTime": {
     "end_time": "2023-05-04T00:37:18.897446Z",
     "start_time": "2023-05-04T00:37:18.886920Z"
    }
   },
   "outputs": [
    {
     "data": {
      "text/html": [
       "<div>\n",
       "<style scoped>\n",
       "    .dataframe tbody tr th:only-of-type {\n",
       "        vertical-align: middle;\n",
       "    }\n",
       "\n",
       "    .dataframe tbody tr th {\n",
       "        vertical-align: top;\n",
       "    }\n",
       "\n",
       "    .dataframe thead th {\n",
       "        text-align: right;\n",
       "    }\n",
       "</style>\n",
       "<table border=\"1\" class=\"dataframe\">\n",
       "  <thead>\n",
       "    <tr style=\"text-align: right;\">\n",
       "      <th></th>\n",
       "      <th>total_bill</th>\n",
       "      <th>tip</th>\n",
       "      <th>sex</th>\n",
       "      <th>smoker</th>\n",
       "      <th>day</th>\n",
       "      <th>time</th>\n",
       "      <th>size</th>\n",
       "    </tr>\n",
       "  </thead>\n",
       "  <tbody>\n",
       "    <tr>\n",
       "      <th>170</th>\n",
       "      <td>50.81</td>\n",
       "      <td>10.0</td>\n",
       "      <td>Male</td>\n",
       "      <td>Yes</td>\n",
       "      <td>Sat</td>\n",
       "      <td>Dinner</td>\n",
       "      <td>3</td>\n",
       "    </tr>\n",
       "  </tbody>\n",
       "</table>\n",
       "</div>"
      ],
      "text/plain": [
       "     total_bill   tip   sex smoker  day    time  size\n",
       "170       50.81  10.0  Male    Yes  Sat  Dinner     3"
      ]
     },
     "execution_count": 67,
     "metadata": {},
     "output_type": "execute_result"
    }
   ],
   "source": []
  },
  {
   "cell_type": "code",
   "execution_count": 68,
   "id": "8d66f179",
   "metadata": {
    "ExecuteTime": {
     "end_time": "2023-05-04T00:37:52.851944Z",
     "start_time": "2023-05-04T00:37:52.834696Z"
    }
   },
   "outputs": [
    {
     "name": "stdout",
     "output_type": "stream",
     "text": [
      "Média de gorjeta: 2.99827868852459\n",
      "Desvio padrão de gorjetas: 1.3836381890011822\n",
      "\n",
      "Gorjeta mínima: 1.0\n",
      "\n",
      "Gorjeta Q1: 2.0\n",
      "Mediana de Gorjetas: 2.9\n",
      "Gorjeta Q3: 3.5625\n",
      "IQR das Gorjetas: 1.5625\n",
      "\n",
      "Gorjeta máxima: 10.0\n",
      "\n",
      "Skewness das Gorjetas: 1.4654510370979401\n",
      "\n",
      " Gorjeta(s) mais comum(s):\n"
     ]
    },
    {
     "data": {
      "text/plain": [
       "0    2.0\n",
       "Name: tip, dtype: float64"
      ]
     },
     "metadata": {},
     "output_type": "display_data"
    }
   ],
   "source": [
    "# Calculo das Metricas para o tip\n",
    "print(\"Média de gorjeta:\", df[\"tip\"].mean())\n",
    "print(\"Desvio padrão de gorjetas:\", df[\"tip\"].std())\n",
    "print(\"\\nGorjeta mínima:\", df[\"tip\"].min())\n",
    "print(\"\\nGorjeta Q1:\", df[\"tip\"].quantile(0.25))\n",
    "print(\"Mediana de Gorjetas:\", df[\"tip\"].median())\n",
    "print(\"Gorjeta Q3:\", df[\"tip\"].quantile(0.75))\n",
    "print(\"IQR das Gorjetas:\", df[\"tip\"].quantile(0.75) - df[\"tip\"].quantile(0.25))\n",
    "print(\"\\nGorjeta máxima:\", df[\"tip\"].max())\n",
    "print(\"\\nSkewness das Gorjetas:\", df[\"tip\"].skew())\n",
    "print(\"\\n Gorjeta(s) mais comum(s):\")\n",
    "display(df[\"tip\"].mode())"
   ]
  },
  {
   "cell_type": "code",
   "execution_count": 70,
   "id": "dafb2eed",
   "metadata": {
    "ExecuteTime": {
     "end_time": "2023-05-04T00:39:00.934659Z",
     "start_time": "2023-05-04T00:39:00.926811Z"
    }
   },
   "outputs": [
    {
     "data": {
      "text/html": [
       "<div>\n",
       "<style scoped>\n",
       "    .dataframe tbody tr th:only-of-type {\n",
       "        vertical-align: middle;\n",
       "    }\n",
       "\n",
       "    .dataframe tbody tr th {\n",
       "        vertical-align: top;\n",
       "    }\n",
       "\n",
       "    .dataframe thead th {\n",
       "        text-align: right;\n",
       "    }\n",
       "</style>\n",
       "<table border=\"1\" class=\"dataframe\">\n",
       "  <thead>\n",
       "    <tr style=\"text-align: right;\">\n",
       "      <th></th>\n",
       "      <th>total_bill</th>\n",
       "      <th>tip</th>\n",
       "      <th>size</th>\n",
       "    </tr>\n",
       "  </thead>\n",
       "  <tbody>\n",
       "    <tr>\n",
       "      <th>total_bill</th>\n",
       "      <td>1.000000</td>\n",
       "      <td>0.675734</td>\n",
       "      <td>0.598315</td>\n",
       "    </tr>\n",
       "    <tr>\n",
       "      <th>tip</th>\n",
       "      <td>0.675734</td>\n",
       "      <td>1.000000</td>\n",
       "      <td>0.489299</td>\n",
       "    </tr>\n",
       "    <tr>\n",
       "      <th>size</th>\n",
       "      <td>0.598315</td>\n",
       "      <td>0.489299</td>\n",
       "      <td>1.000000</td>\n",
       "    </tr>\n",
       "  </tbody>\n",
       "</table>\n",
       "</div>"
      ],
      "text/plain": [
       "            total_bill       tip      size\n",
       "total_bill    1.000000  0.675734  0.598315\n",
       "tip           0.675734  1.000000  0.489299\n",
       "size          0.598315  0.489299  1.000000"
      ]
     },
     "execution_count": 70,
     "metadata": {},
     "output_type": "execute_result"
    }
   ],
   "source": [
    "# Avaliando a Correlação\n",
    "\n",
    "# Mostra a correlação"
   ]
  },
  {
   "cell_type": "code",
   "execution_count": 72,
   "id": "5d9d6884",
   "metadata": {
    "ExecuteTime": {
     "end_time": "2023-05-04T00:39:54.574631Z",
     "start_time": "2023-05-04T00:39:54.455975Z"
    }
   },
   "outputs": [
    {
     "data": {
      "image/png": "[encoded data removed]",
      "text/plain": [
       "<Figure size 800x600 with 2 Axes>"
      ]
     },
     "metadata": {},
     "output_type": "display_data"
    }
   ],
   "source": [
    "#  Define o tamanho da figura\n",
    "\n",
    "# Define o Titulo\n",
    "\n",
    "# Mapa de Calor da Correlação\n",
    "\n",
    "# Mostra o Gráfico"
   ]
  },
  {
   "cell_type": "code",
   "execution_count": 73,
   "id": "6ab28bf7",
   "metadata": {
    "ExecuteTime": {
     "end_time": "2023-05-04T00:40:12.572186Z",
     "start_time": "2023-05-04T00:40:12.431488Z"
    }
   },
   "outputs": [
    {
     "data": {
      "image/png": "[encoded data removed]",
      "text/plain": [
       "<Figure size 1200x600 with 1 Axes>"
      ]
     },
     "metadata": {},
     "output_type": "display_data"
    }
   ],
   "source": [
    "# Define o tamanho da figura\n",
    "\n",
    "# Define o Titulo\n",
    "\n",
    "# Plot do Histograma\n",
    "\n",
    "# plotando média: linha horizontal\n",
    "\n",
    "# plotando a mediana\n",
    "\n",
    "# Loop para plotar as modas\n",
    "\n",
    "# Cria uma legenda\n",
    "\n",
    "# Mostra o Gráfico"
   ]
  },
  {
   "cell_type": "code",
   "execution_count": 74,
   "id": "a1e11b7f",
   "metadata": {
    "ExecuteTime": {
     "end_time": "2023-05-04T00:41:28.389071Z",
     "start_time": "2023-05-04T00:41:28.307053Z"
    }
   },
   "outputs": [
    {
     "data": {
      "image/png": "[encoded data removed]",
      "text/plain": [
       "<Figure size 800x400 with 1 Axes>"
      ]
     },
     "metadata": {},
     "output_type": "display_data"
    }
   ],
   "source": [
    "# Define o tamanho da figuta\n",
    "\n",
    "# Cria um BoxPlot\n",
    "\n",
    "#Mostra o gráfico"
   ]
  },
  {
   "cell_type": "code",
   "execution_count": 75,
   "id": "29d35b42",
   "metadata": {
    "ExecuteTime": {
     "end_time": "2023-05-04T00:42:10.116023Z",
     "start_time": "2023-05-04T00:42:10.018602Z"
    }
   },
   "outputs": [
    {
     "data": {
      "image/png": "[encoded data removed]",
      "text/plain": [
       "<Figure size 1200x600 with 1 Axes>"
      ]
     },
     "metadata": {},
     "output_type": "display_data"
    }
   ],
   "source": [
    "# Define o tamanho da figuta\n",
    "\n",
    "# Cria um BoxPlot\n",
    "\n",
    "#Mostra o gráfico"
   ]
  },
  {
   "cell_type": "code",
   "execution_count": 76,
   "id": "8b1bb6e4",
   "metadata": {
    "ExecuteTime": {
     "end_time": "2023-05-04T00:42:51.248630Z",
     "start_time": "2023-05-04T00:42:51.141832Z"
    }
   },
   "outputs": [
    {
     "data": {
      "image/png": "[encoded data removed]",
      "text/plain": [
       "<Figure size 640x480 with 1 Axes>"
      ]
     },
     "metadata": {},
     "output_type": "display_data"
    }
   ],
   "source": [
    "# Plot do Boxplot\n",
    "\n",
    "# Mostra o gráfico"
   ]
  },
  {
   "cell_type": "code",
   "execution_count": 77,
   "id": "8f6131b4",
   "metadata": {
    "ExecuteTime": {
     "end_time": "2023-05-04T00:45:50.704338Z",
     "start_time": "2023-05-04T00:45:50.594748Z"
    }
   },
   "outputs": [
    {
     "data": {
      "image/png": "[encoded data removed]",
      "text/plain": [
       "<Figure size 640x480 with 1 Axes>"
      ]
     },
     "metadata": {},
     "output_type": "display_data"
    }
   ],
   "source": [
    "# Plot do Boxplot\n",
    "\n",
    "# Mostra o gráfico"
   ]
  },
  {
   "cell_type": "code",
   "execution_count": 78,
   "id": "19ca419b",
   "metadata": {
    "ExecuteTime": {
     "end_time": "2023-05-04T00:46:10.448054Z",
     "start_time": "2023-05-04T00:46:10.431277Z"
    }
   },
   "outputs": [
    {
     "data": {
      "text/html": [
       "<div>\n",
       "<style scoped>\n",
       "    .dataframe tbody tr th:only-of-type {\n",
       "        vertical-align: middle;\n",
       "    }\n",
       "\n",
       "    .dataframe tbody tr th {\n",
       "        vertical-align: top;\n",
       "    }\n",
       "\n",
       "    .dataframe thead th {\n",
       "        text-align: right;\n",
       "    }\n",
       "</style>\n",
       "<table border=\"1\" class=\"dataframe\">\n",
       "  <thead>\n",
       "    <tr style=\"text-align: right;\">\n",
       "      <th></th>\n",
       "      <th>total_bill</th>\n",
       "      <th>tip</th>\n",
       "      <th>sex</th>\n",
       "      <th>smoker</th>\n",
       "      <th>day</th>\n",
       "      <th>time</th>\n",
       "      <th>size</th>\n",
       "    </tr>\n",
       "  </thead>\n",
       "  <tbody>\n",
       "    <tr>\n",
       "      <th>0</th>\n",
       "      <td>16.99</td>\n",
       "      <td>1.01</td>\n",
       "      <td>Female</td>\n",
       "      <td>No</td>\n",
       "      <td>Sun</td>\n",
       "      <td>Dinner</td>\n",
       "      <td>2</td>\n",
       "    </tr>\n",
       "    <tr>\n",
       "      <th>1</th>\n",
       "      <td>10.34</td>\n",
       "      <td>1.66</td>\n",
       "      <td>Male</td>\n",
       "      <td>No</td>\n",
       "      <td>Sun</td>\n",
       "      <td>Dinner</td>\n",
       "      <td>3</td>\n",
       "    </tr>\n",
       "    <tr>\n",
       "      <th>2</th>\n",
       "      <td>21.01</td>\n",
       "      <td>3.50</td>\n",
       "      <td>Male</td>\n",
       "      <td>No</td>\n",
       "      <td>Sun</td>\n",
       "      <td>Dinner</td>\n",
       "      <td>3</td>\n",
       "    </tr>\n",
       "    <tr>\n",
       "      <th>3</th>\n",
       "      <td>23.68</td>\n",
       "      <td>3.31</td>\n",
       "      <td>Male</td>\n",
       "      <td>No</td>\n",
       "      <td>Sun</td>\n",
       "      <td>Dinner</td>\n",
       "      <td>2</td>\n",
       "    </tr>\n",
       "    <tr>\n",
       "      <th>4</th>\n",
       "      <td>24.59</td>\n",
       "      <td>3.61</td>\n",
       "      <td>Female</td>\n",
       "      <td>No</td>\n",
       "      <td>Sun</td>\n",
       "      <td>Dinner</td>\n",
       "      <td>4</td>\n",
       "    </tr>\n",
       "    <tr>\n",
       "      <th>...</th>\n",
       "      <td>...</td>\n",
       "      <td>...</td>\n",
       "      <td>...</td>\n",
       "      <td>...</td>\n",
       "      <td>...</td>\n",
       "      <td>...</td>\n",
       "      <td>...</td>\n",
       "    </tr>\n",
       "    <tr>\n",
       "      <th>239</th>\n",
       "      <td>29.03</td>\n",
       "      <td>5.92</td>\n",
       "      <td>Male</td>\n",
       "      <td>No</td>\n",
       "      <td>Sat</td>\n",
       "      <td>Dinner</td>\n",
       "      <td>3</td>\n",
       "    </tr>\n",
       "    <tr>\n",
       "      <th>240</th>\n",
       "      <td>27.18</td>\n",
       "      <td>2.00</td>\n",
       "      <td>Female</td>\n",
       "      <td>Yes</td>\n",
       "      <td>Sat</td>\n",
       "      <td>Dinner</td>\n",
       "      <td>2</td>\n",
       "    </tr>\n",
       "    <tr>\n",
       "      <th>241</th>\n",
       "      <td>22.67</td>\n",
       "      <td>2.00</td>\n",
       "      <td>Male</td>\n",
       "      <td>Yes</td>\n",
       "      <td>Sat</td>\n",
       "      <td>Dinner</td>\n",
       "      <td>2</td>\n",
       "    </tr>\n",
       "    <tr>\n",
       "      <th>242</th>\n",
       "      <td>17.82</td>\n",
       "      <td>1.75</td>\n",
       "      <td>Male</td>\n",
       "      <td>No</td>\n",
       "      <td>Sat</td>\n",
       "      <td>Dinner</td>\n",
       "      <td>2</td>\n",
       "    </tr>\n",
       "    <tr>\n",
       "      <th>243</th>\n",
       "      <td>18.78</td>\n",
       "      <td>3.00</td>\n",
       "      <td>Female</td>\n",
       "      <td>No</td>\n",
       "      <td>Thur</td>\n",
       "      <td>Dinner</td>\n",
       "      <td>2</td>\n",
       "    </tr>\n",
       "  </tbody>\n",
       "</table>\n",
       "<p>244 rows × 7 columns</p>\n",
       "</div>"
      ],
      "text/plain": [
       "     total_bill   tip     sex smoker   day    time  size\n",
       "0         16.99  1.01  Female     No   Sun  Dinner     2\n",
       "1         10.34  1.66    Male     No   Sun  Dinner     3\n",
       "2         21.01  3.50    Male     No   Sun  Dinner     3\n",
       "3         23.68  3.31    Male     No   Sun  Dinner     2\n",
       "4         24.59  3.61  Female     No   Sun  Dinner     4\n",
       "..          ...   ...     ...    ...   ...     ...   ...\n",
       "239       29.03  5.92    Male     No   Sat  Dinner     3\n",
       "240       27.18  2.00  Female    Yes   Sat  Dinner     2\n",
       "241       22.67  2.00    Male    Yes   Sat  Dinner     2\n",
       "242       17.82  1.75    Male     No   Sat  Dinner     2\n",
       "243       18.78  3.00  Female     No  Thur  Dinner     2\n",
       "\n",
       "[244 rows x 7 columns]"
      ]
     },
     "execution_count": 78,
     "metadata": {},
     "output_type": "execute_result"
    }
   ],
   "source": []
  },
  {
   "cell_type": "code",
   "execution_count": 83,
   "id": "62c9ef04",
   "metadata": {
    "ExecuteTime": {
     "end_time": "2023-05-04T00:49:00.019296Z",
     "start_time": "2023-05-04T00:48:59.832846Z"
    }
   },
   "outputs": [
    {
     "data": {
      "image/png": "[encoded data removed]",
      "text/plain": [
       "<Figure size 640x480 with 1 Axes>"
      ]
     },
     "metadata": {},
     "output_type": "display_data"
    }
   ],
   "source": [
    "# Plot do Boxplot\n",
    "\n",
    "# Mostra o gráfico"
   ]
  },
  {
   "cell_type": "code",
   "execution_count": 84,
   "id": "83211bd0",
   "metadata": {
    "ExecuteTime": {
     "end_time": "2023-05-04T00:50:28.243821Z",
     "start_time": "2023-05-04T00:50:28.227061Z"
    }
   },
   "outputs": [
    {
     "data": {
      "text/html": [
       "<div>\n",
       "<style scoped>\n",
       "    .dataframe tbody tr th:only-of-type {\n",
       "        vertical-align: middle;\n",
       "    }\n",
       "\n",
       "    .dataframe tbody tr th {\n",
       "        vertical-align: top;\n",
       "    }\n",
       "\n",
       "    .dataframe thead th {\n",
       "        text-align: right;\n",
       "    }\n",
       "</style>\n",
       "<table border=\"1\" class=\"dataframe\">\n",
       "  <thead>\n",
       "    <tr style=\"text-align: right;\">\n",
       "      <th></th>\n",
       "      <th>total_bill</th>\n",
       "      <th>tip</th>\n",
       "      <th>sex</th>\n",
       "      <th>smoker</th>\n",
       "      <th>day</th>\n",
       "      <th>time</th>\n",
       "      <th>size</th>\n",
       "    </tr>\n",
       "  </thead>\n",
       "  <tbody>\n",
       "    <tr>\n",
       "      <th>0</th>\n",
       "      <td>16.99</td>\n",
       "      <td>1.01</td>\n",
       "      <td>Female</td>\n",
       "      <td>No</td>\n",
       "      <td>Sun</td>\n",
       "      <td>Dinner</td>\n",
       "      <td>2</td>\n",
       "    </tr>\n",
       "    <tr>\n",
       "      <th>1</th>\n",
       "      <td>10.34</td>\n",
       "      <td>1.66</td>\n",
       "      <td>Male</td>\n",
       "      <td>No</td>\n",
       "      <td>Sun</td>\n",
       "      <td>Dinner</td>\n",
       "      <td>3</td>\n",
       "    </tr>\n",
       "    <tr>\n",
       "      <th>2</th>\n",
       "      <td>21.01</td>\n",
       "      <td>3.50</td>\n",
       "      <td>Male</td>\n",
       "      <td>No</td>\n",
       "      <td>Sun</td>\n",
       "      <td>Dinner</td>\n",
       "      <td>3</td>\n",
       "    </tr>\n",
       "    <tr>\n",
       "      <th>3</th>\n",
       "      <td>23.68</td>\n",
       "      <td>3.31</td>\n",
       "      <td>Male</td>\n",
       "      <td>No</td>\n",
       "      <td>Sun</td>\n",
       "      <td>Dinner</td>\n",
       "      <td>2</td>\n",
       "    </tr>\n",
       "    <tr>\n",
       "      <th>4</th>\n",
       "      <td>24.59</td>\n",
       "      <td>3.61</td>\n",
       "      <td>Female</td>\n",
       "      <td>No</td>\n",
       "      <td>Sun</td>\n",
       "      <td>Dinner</td>\n",
       "      <td>4</td>\n",
       "    </tr>\n",
       "    <tr>\n",
       "      <th>...</th>\n",
       "      <td>...</td>\n",
       "      <td>...</td>\n",
       "      <td>...</td>\n",
       "      <td>...</td>\n",
       "      <td>...</td>\n",
       "      <td>...</td>\n",
       "      <td>...</td>\n",
       "    </tr>\n",
       "    <tr>\n",
       "      <th>239</th>\n",
       "      <td>29.03</td>\n",
       "      <td>5.92</td>\n",
       "      <td>Male</td>\n",
       "      <td>No</td>\n",
       "      <td>Sat</td>\n",
       "      <td>Dinner</td>\n",
       "      <td>3</td>\n",
       "    </tr>\n",
       "    <tr>\n",
       "      <th>240</th>\n",
       "      <td>27.18</td>\n",
       "      <td>2.00</td>\n",
       "      <td>Female</td>\n",
       "      <td>Yes</td>\n",
       "      <td>Sat</td>\n",
       "      <td>Dinner</td>\n",
       "      <td>2</td>\n",
       "    </tr>\n",
       "    <tr>\n",
       "      <th>241</th>\n",
       "      <td>22.67</td>\n",
       "      <td>2.00</td>\n",
       "      <td>Male</td>\n",
       "      <td>Yes</td>\n",
       "      <td>Sat</td>\n",
       "      <td>Dinner</td>\n",
       "      <td>2</td>\n",
       "    </tr>\n",
       "    <tr>\n",
       "      <th>242</th>\n",
       "      <td>17.82</td>\n",
       "      <td>1.75</td>\n",
       "      <td>Male</td>\n",
       "      <td>No</td>\n",
       "      <td>Sat</td>\n",
       "      <td>Dinner</td>\n",
       "      <td>2</td>\n",
       "    </tr>\n",
       "    <tr>\n",
       "      <th>243</th>\n",
       "      <td>18.78</td>\n",
       "      <td>3.00</td>\n",
       "      <td>Female</td>\n",
       "      <td>No</td>\n",
       "      <td>Thur</td>\n",
       "      <td>Dinner</td>\n",
       "      <td>2</td>\n",
       "    </tr>\n",
       "  </tbody>\n",
       "</table>\n",
       "<p>244 rows × 7 columns</p>\n",
       "</div>"
      ],
      "text/plain": [
       "     total_bill   tip     sex smoker   day    time  size\n",
       "0         16.99  1.01  Female     No   Sun  Dinner     2\n",
       "1         10.34  1.66    Male     No   Sun  Dinner     3\n",
       "2         21.01  3.50    Male     No   Sun  Dinner     3\n",
       "3         23.68  3.31    Male     No   Sun  Dinner     2\n",
       "4         24.59  3.61  Female     No   Sun  Dinner     4\n",
       "..          ...   ...     ...    ...   ...     ...   ...\n",
       "239       29.03  5.92    Male     No   Sat  Dinner     3\n",
       "240       27.18  2.00  Female    Yes   Sat  Dinner     2\n",
       "241       22.67  2.00    Male    Yes   Sat  Dinner     2\n",
       "242       17.82  1.75    Male     No   Sat  Dinner     2\n",
       "243       18.78  3.00  Female     No  Thur  Dinner     2\n",
       "\n",
       "[244 rows x 7 columns]"
      ]
     },
     "execution_count": 84,
     "metadata": {},
     "output_type": "execute_result"
    }
   ],
   "source": []
  },
  {
   "cell_type": "markdown",
   "id": "add6b938",
   "metadata": {},
   "source": [
    "## "
   ]
  },
  {
   "cell_type": "markdown",
   "id": "85115532",
   "metadata": {},
   "source": [
    "## Exercícios"
   ]
  },
  {
   "cell_type": "markdown",
   "id": "e8c69f15",
   "metadata": {},
   "source": [
    "__1)__ Façam a análise exploratória sobre a base de dados _mpg_, levante eventuais _outliers_, olhe para a consistência de dados e crie visualizações que achar necessárias.<br><br>"
   ]
  },
  {
   "cell_type": "markdown",
   "id": "5890f9bc",
   "metadata": {},
   "source": [
    "## "
   ]
  }
 ],
 "metadata": {
  "hide_input": false,
  "kernelspec": {
   "display_name": "Python 3 (ipykernel)",
   "language": "python",
   "name": "python3"
  },
  "language_info": {
   "codemirror_mode": {
    "name": "ipython",
    "version": 3
   },
   "file_extension": ".py",
   "mimetype": "text/x-python",
   "name": "python",
   "nbconvert_exporter": "python",
   "pygments_lexer": "ipython3",
   "version": "3.11.7"
  },
  "varInspector": {
   "cols": {
    "lenName": 16,
    "lenType": 16,
    "lenVar": 40
   },
   "kernels_config": {
    "python": {
     "delete_cmd_postfix": "",
     "delete_cmd_prefix": "del ",
     "library": "var_list.py",
     "varRefreshCmd": "print(var_dic_list())"
    },
    "r": {
     "delete_cmd_postfix": ") ",
     "delete_cmd_prefix": "rm(",
     "library": "var_list.r",
     "varRefreshCmd": "cat(var_dic_list()) "
    }
   },
   "types_to_exclude": [
    "module",
    "function",
    "builtin_function_or_method",
    "instance",
    "_Feature"
   ],
   "window_display": false
  }
 },
 "nbformat": 4,
 "nbformat_minor": 5
}
