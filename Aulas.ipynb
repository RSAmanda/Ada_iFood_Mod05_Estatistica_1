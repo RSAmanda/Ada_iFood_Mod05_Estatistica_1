{
 "cells": [
  {
   "cell_type": "markdown",
   "id": "0cde99e2",
   "metadata": {},
   "source": [
    "Rogério Mainardes\n",
    "\n",
    "- https://www.linkedin.com/in/rogerioomds/\n",
    "- Email: r.otavioms@gmail.com\n",
    "- Material: https://github.com/RogerioOMDS"
   ]
  },
  {
   "cell_type": "markdown",
   "id": "dc8425a4",
   "metadata": {},
   "source": [
    "### Conteúdo\n",
    "\n",
    "- Estatística distribuitiva;\n",
    "- Probabilidade;\n",
    "- Distribuições de probabilidade;\n",
    "- Distribuição normal;\n",
    "- Amostragem;\n",
    "- Teste de hipóteses;\n",
    "- Mais testes de hipóteses;\n",
    "- Séries temporais;\n",
    "- Projeto/Prova"
   ]
  },
  {
   "cell_type": "markdown",
   "id": "fb90d3d6",
   "metadata": {},
   "source": [
    "# 01 - Estatística Descritiva\n",
    "\n",
    "Nessa aula, iremos tratar dos seguintes conteúdos:\n",
    "- Introdução\n",
    "- Tipos de Variáveis\n",
    "- Estatística Descritiva\n",
    "- Métricas de Posição\n",
    "- Boxplot\n",
    "- Outliers\n",
    "- Métricas de Dispersão\n",
    "- Correlação\n",
    "- Assimetria\n",
    "- Tabela de Frequências"
   ]
  },
  {
   "cell_type": "markdown",
   "id": "b1fe5244",
   "metadata": {},
   "source": [
    "<img src = \"https://encrypted-tbn0.gstatic.com/images?q=tbn:ANd9GcTIqUDdVObHKev_QuHhakpATphyz6L62qflwl3vn79djOLS07sc4sbSot6M2oO_DR5tnycZygSagBuB6g&usqp=CAU\" width = 800>"
   ]
  },
  {
   "cell_type": "markdown",
   "id": "57c7c7c6",
   "metadata": {},
   "source": [
    "## "
   ]
  },
  {
   "cell_type": "markdown",
   "id": "527a5498",
   "metadata": {},
   "source": [
    "## Estatística Descritiva"
   ]
  },
  {
   "cell_type": "markdown",
   "id": "70095e71",
   "metadata": {},
   "source": [
    "Nessa e na próxima aula iniciaremos nossa introdução a **Probabilidade e Estatística**.\n",
    "\n",
    "Essas duas áreas são extremamente amplas, e fornecem toda a base da __ciência de dados__. Por isso, vamos dar uma olhada nos principais conceitos. A probabilidade e estatística podem ser divididas nos seguintes três pilares:\n",
    "\n",
    "**Probabilidade**: é a teoria matemática utilizada para se estudar a incerteza oriundas de `fenômenos de caráter aleátorio`.\n",
    "\n",
    "**Estatística Descritiva**: Etapa inicial da análise estatística, tendo como objetivo tirar informações prévias de modo informal e direto. A ideia é obter informações que `resumam` o conjuto de dados, a fim que estes possam ser `descritos`, e conclusões iniciais possam ser tiradas.\n",
    "\n",
    "**Inferência Estatística**: É o conjunto de técnicas que possibilitam a extrapolação de conclusões tiradas a partir de um conjunto pequeno de dados (denominado `amostra`) para todo o universo sob análise (denominado (`população`).\n"
   ]
  },
  {
   "cell_type": "markdown",
   "id": "c07abf80",
   "metadata": {},
   "source": [
    "##  "
   ]
  },
  {
   "cell_type": "markdown",
   "id": "309f78a1",
   "metadata": {},
   "source": [
    "## Tipos de Variáveis \n",
    "\n",
    "Antes de explorarmos a estatística descritiva é importante formalizarmos os **tipos de dados** com os quais normalmente trabalhamos:\n",
    "\n",
    "- **Variavél qualitativa** \n",
    "-- *Nominal* \n",
    "\n",
    "Valores que expressam **atributos sem nenhum tipo de ordem**. Ex : sexo, estado civil, país de origem, ser fumante ou não, etc.\n",
    "\n",
    "    - São representados por strings\n",
    "\n",
    "\n",
    "- **Variavél qualitativa** \n",
    "-- *Ordinal* \n",
    "\n",
    "Valores que expressam **atributos com algum tipo de ordem ou grau**. Ex: escolaridade, resposta de um paciente(piora, igual, melhora), classe social(alta, média,baixa), classe do navio, etc.\n",
    "\n",
    "    - São representados por strings\n",
    "    \n",
    "\n",
    "- **Variavél quantitativa** \n",
    "-- *Discreta*  \n",
    "\n",
    "Valores numéricos inteiros. Ex: idade em anos inteiros, número de banheiros em uma casa, número de filhos, etc.\n",
    "\n",
    "    - São representados por ints\n",
    "    \n",
    "\n",
    "- **Variavél quantitativa** \n",
    "-- *Contínua*  \n",
    "\n",
    "Valores numéricos racionais. Ex: salário, preço, temperatura, gorjeta, etc.\n",
    "\n",
    "    - São representados por floats"
   ]
  },
  {
   "cell_type": "markdown",
   "id": "f8d055c9",
   "metadata": {},
   "source": [
    "##  "
   ]
  },
  {
   "cell_type": "markdown",
   "id": "6fbe548d",
   "metadata": {},
   "source": [
    "## Métricas de Posição\n",
    "\n",
    "Como mencionamos anteriormente, o principal objetivo da estatística descritiva é gerar **medidas que resumam** o conjunto de dados que estamos analisando, ou seja, medidas que descrevam **a distribuição** dos dados, de forma quantitativa. Temos dois tipos de métricas disponíveis: as métricas de __posição__ e __dispersão__. Vamos conhecer melhor essas métricas a seguir:"
   ]
  },
  {
   "cell_type": "markdown",
   "id": "fe7abf76",
   "metadata": {},
   "source": [
    "__Métricas de Posição:__ Estas são medidas que **resumem** algumas propriedades do conjunto de dados:\n",
    "\n",
    "<img src=\"https://i.pinimg.com/originals/3e/8a/90/3e8a90c122ad25240cc46ac075cb0f4c.png\" width=200>\n",
    "\n",
    "### Média\n",
    "\n",
    "Seja $X$ uma variável quantitativa e $x_1,x_2,x_3, ...$ os valores assumidos por X. Define-se média de $\\overline{X}$ como sendo :\n",
    "\n",
    "$$\\overline{X} = \\frac{\\sum_{i=1}^{n}x_i}{n}= \\frac{x_1+ x_2 + x_3 +... +x_n}{n}$$"
   ]
  },
  {
   "cell_type": "code",
   "execution_count": 1,
   "id": "23d2bf68",
   "metadata": {
    "ExecuteTime": {
     "end_time": "2023-05-03T23:20:41.505502Z",
     "start_time": "2023-05-03T23:20:41.502072Z"
    }
   },
   "outputs": [
    {
     "name": "stderr",
     "output_type": "stream",
     "text": [
      "C:\\Users\\Amanda Rodrigues\\AppData\\Local\\Temp\\ipykernel_9200\\4279124494.py:2: DeprecationWarning: \n",
      "Pyarrow will become a required dependency of pandas in the next major release of pandas (pandas 3.0),\n",
      "(to allow more performant data types, such as the Arrow string type, and better interoperability with other libraries)\n",
      "but was not found to be installed on your system.\n",
      "If this would cause problems for you,\n",
      "please provide us feedback at https://github.com/pandas-dev/pandas/issues/54466\n",
      "        \n",
      "  import pandas as pd\n"
     ]
    }
   ],
   "source": [
    "# Import das Principais Bibliotecas\n",
    "import pandas as pd\n",
    "import numpy as np \n",
    "import matplotlib.pyplot as plt\n",
    "import seaborn as sns\n",
    "\n"
   ]
  },
  {
   "cell_type": "code",
   "execution_count": 2,
   "id": "b4ae2a3c",
   "metadata": {
    "ExecuteTime": {
     "end_time": "2023-04-28T23:43:41.039058Z",
     "start_time": "2023-04-28T23:43:41.021586Z"
    }
   },
   "outputs": [
    {
     "name": "stdout",
     "output_type": "stream",
     "text": [
      "amostra =, [ 7 15 11  8  7 19 11 11  4  8  3  2]\n",
      "Média = 8.833333333333334\n",
      "Média = 8.833333333333334\n"
     ]
    }
   ],
   "source": [
    "# Define uma semente randômica ----> para todas as execuções derem o mesmo valor\n",
    "np.random.seed(42)\n",
    "# Vamos criar uma amostra aleatória de numéros inteiros\n",
    "amostra = np.random.randint(1,20,12)\n",
    "\n",
    "# Print da amostra\n",
    "print(f'amostra =, {amostra}')\n",
    "# Print da Média da Amostra\n",
    "soma_total = sum(amostra)\n",
    "tamanho_total = len(amostra)\n",
    "print(f'Média = {soma_total/tamanho_total}')\n",
    "print(f'Média = {amostra.mean()}')\n"
   ]
  },
  {
   "cell_type": "markdown",
   "id": "2a25d399",
   "metadata": {},
   "source": [
    "## "
   ]
  },
  {
   "cell_type": "markdown",
   "id": "84dc8be1",
   "metadata": {},
   "source": [
    "### Mediana\n",
    "\n",
    "A **mediana** de uma variável é um número tal que há o mesmo número de observações maiores e menores do que ele, ocupando assim a **posição central** da série de observações.\n",
    "\n",
    "Assim, para calcularmos a mediana, basta **ordenarmos os dados, do menor pro maior**, e contar o que está no meio dos dados ordenados (se houver número par de dados, pega-se a média entre os dados que estão \"no meio\")\n",
    "\n",
    "- *Exemplo*\n",
    "\n",
    "i) 3,4,**7**,8,8 **mediana = 7**       (CASO ÍMPAR)\n",
    "\n",
    "ii) 3,4,**7**,**8**,8,9 **mediana = (7+8)/2 = 7,5**   (CASO PAR)\n",
    "\n",
    "<br>\n",
    "\n",
    "Logo, podemos definir: \n",
    "\n",
    "- Mediana de $X = X_{\\frac{n+1}{2}}$ `Se tamanho da amostra ímpar`\n",
    "\n",
    "\n",
    "- Mediana de $X = \\frac{X_{\\frac{n}{2}}+ X_{\\frac{n+1}{2}}}{2}$ `Se tamanho da amostra par`\n",
    "\n",
    "Como os valores de **indice no python** começam em `0`, devemos nos atentar que a equação acima deve ficar como:\n",
    "\n",
    "- Mediana de $X = X_{\\frac{n}{2}}$ `Se tamanho da amostra ímpar`\n",
    "\n",
    "\n",
    "- Mediana de $X = \\frac{X_{\\frac{n-1}{2}}+ X_{\\frac{n}{2}}}{2}$ `Se tamanho da amostra par`"
   ]
  },
  {
   "cell_type": "code",
   "execution_count": 3,
   "id": "cbedaa4e",
   "metadata": {
    "ExecuteTime": {
     "end_time": "2023-04-29T00:21:19.687804Z",
     "start_time": "2023-04-29T00:21:19.673315Z"
    }
   },
   "outputs": [
    {
     "name": "stdout",
     "output_type": "stream",
     "text": [
      "amostra [ 7 15 11  8  7 19 11 11  4  8  3  2 12]\n",
      "amostra ordenada  [2, 3, 4, 7, 7, 8, 8, 11, 11, 11, 12, 15, 19]\n",
      "Mediana  8.0\n"
     ]
    }
   ],
   "source": [
    "# Define a semente randômica\n",
    "np.random.seed(42)\n",
    "# Cria uma amostra de números aleatórios\n",
    "amostra = np.random.randint(1,20,13)\n",
    "# Print da Amostra\n",
    "print('amostra', amostra)\n",
    "# Print da Amostra Ordenada\n",
    "print('amostra ordenada ', sorted(amostra))\n",
    "# Print do Valor da Mediana\n",
    "print('Mediana ', np.median(amostra))"
   ]
  },
  {
   "cell_type": "markdown",
   "id": "39534c92",
   "metadata": {},
   "source": [
    "### Moda\n",
    "\n",
    "A **moda** é o valor que ocorre com **maior frequencia** em um conjunto de dados. Dependendo do conjunto de dados, ele pode ser:\n",
    "\n",
    "- Sem moda: quando nenhum valor se repete \n",
    "\n",
    "- unimodal: Quando existe apenas um valor repetido com maior frequência \n",
    "\n",
    "- multimodal: quando existem mais de um valor com a mesma frequência máxima"
   ]
  },
  {
   "cell_type": "code",
   "execution_count": 4,
   "id": "f09a1319",
   "metadata": {
    "ExecuteTime": {
     "end_time": "2023-04-29T00:32:46.322925Z",
     "start_time": "2023-04-29T00:32:46.314366Z"
    }
   },
   "outputs": [
    {
     "name": "stdout",
     "output_type": "stream",
     "text": [
      "amostra  [ 7 15 11  8  7 19 11 11  4  8  3  2 12]\n",
      "serie\n",
      " 0      7\n",
      "1     15\n",
      "2     11\n",
      "3      8\n",
      "4      7\n",
      "5     19\n",
      "6     11\n",
      "7     11\n",
      "8      4\n",
      "9      8\n",
      "10     3\n",
      "11     2\n",
      "12    12\n",
      "dtype: int32\n",
      "\n",
      "moda =  0    11\n",
      "dtype: int32\n"
     ]
    }
   ],
   "source": [
    "# Print da Amostra\n",
    "print('amostra ', amostra)\n",
    "# não existe método np.mode(), temos que transformar os dados em uma série\n",
    "serie = pd.Series(amostra)\n",
    "print('serie\\n', serie)\n",
    "print('\\nmoda = ', serie.mode()) #indexado"
   ]
  },
  {
   "cell_type": "code",
   "execution_count": 5,
   "id": "27324900",
   "metadata": {},
   "outputs": [
    {
     "name": "stdout",
     "output_type": "stream",
     "text": [
      "moda =  11\n"
     ]
    }
   ],
   "source": [
    "print('moda = ',serie.mode()[0])"
   ]
  },
  {
   "cell_type": "markdown",
   "id": "9d117d74",
   "metadata": {},
   "source": [
    "## "
   ]
  },
  {
   "cell_type": "markdown",
   "id": "4b3f49fa",
   "metadata": {},
   "source": [
    "### Quartis (Q1, Q2 e Q3)\n",
    "\n",
    "São valores dados a partir do conjunto de observações ordenado em ordem crescente, que dividem os dados **em quatro partes iguais**. \n",
    "\n",
    "- O primeiro quartil, Q1, é o número que deixa 25% das observações abaixo e 75% acima;\n",
    "- O segundo quartil, Q2 é a **mediana**, deixa 50% das observações abaixo e 50% das observações acima;\n",
    "- O terceiro quartil, Q3, deixa 75% das observações abaixo e 25% acima;\n",
    "\n",
    "\n",
    "<img src=\"https://aprendendogestao.com.br/wp-content/uploads/2016/07/QE-Figura-1.png\" />"
   ]
  },
  {
   "cell_type": "markdown",
   "id": "84a5d2e5",
   "metadata": {},
   "source": [
    "## "
   ]
  },
  {
   "cell_type": "markdown",
   "id": "7629881b",
   "metadata": {},
   "source": [
    "### Intervalo Interquartil (IQR)\n",
    "\n",
    "Por construção, aproximadamente metade dos dados estão entre o 1º e o 3º quartil, isto é, este também pode ser interpretado como **um intervalo de valores tipicamente assumidos pelas observações**, e também é uma **medida de dispersão**, pois nos dá uma ideia da variação que existe entre o Q1 e o Q3."
   ]
  },
  {
   "cell_type": "code",
   "execution_count": 6,
   "id": "3c851b67",
   "metadata": {
    "ExecuteTime": {
     "end_time": "2023-04-29T00:30:02.356000Z",
     "start_time": "2023-04-29T00:30:02.335815Z"
    }
   },
   "outputs": [
    {
     "name": "stdout",
     "output_type": "stream",
     "text": [
      "[ 7 15 11  8  7 19 11 11  4  8  3  2 12]\n",
      "amostra ordenada  [2, 3, 4, 7, 7, 8, 8, 11, 11, 11, 12, 15, 19]\n",
      "mediana =  8.0\n",
      " - - - - - - - - - - - \n",
      "primeiro quartil =  7.0\n",
      "segundo quartil =  8.0\n",
      "terceiro quartil =  11.0\n",
      "intervalo interquatílica (IQR) =  4.0\n"
     ]
    }
   ],
   "source": [
    "# Print da Amostra\n",
    "print(amostra)\n",
    "# Print da Amostra Ordenada\n",
    "print('amostra ordenada ', sorted(amostra))\n",
    "# Calcula o intervalo interquartil\n",
    "print('mediana = ', np.median(amostra))\n",
    "print(' - - - - - - - - - - - ')\n",
    "print('primeiro quartil = ', np.quantile(amostra,0.25))\n",
    "print('segundo quartil = ', np.quantile(amostra,0.5))\n",
    "print('terceiro quartil = ', np.quantile(amostra,0.75))\n",
    "# Print do IQR\n",
    "print('intervalo interquatílica (IQR) = ',np.quantile(amostra,0.75) - np.quantile(amostra,0.25))\n"
   ]
  },
  {
   "cell_type": "markdown",
   "id": "efa0b467",
   "metadata": {},
   "source": [
    "## "
   ]
  },
  {
   "cell_type": "markdown",
   "id": "4fa06373",
   "metadata": {},
   "source": [
    "Se construirmos uma série do pandas, é possível ter as estatísticas descritivas todas de uma vez, com o describe():"
   ]
  },
  {
   "cell_type": "code",
   "execution_count": 7,
   "id": "86b0f290",
   "metadata": {
    "ExecuteTime": {
     "end_time": "2023-04-29T00:33:24.953009Z",
     "start_time": "2023-04-29T00:33:24.931010Z"
    },
    "scrolled": false
   },
   "outputs": [
    {
     "name": "stdout",
     "output_type": "stream",
     "text": [
      "0      7\n",
      "1     15\n",
      "2     11\n",
      "3      8\n",
      "4      7\n",
      "5     19\n",
      "6     11\n",
      "7     11\n",
      "8      4\n",
      "9      8\n",
      "10     3\n",
      "11     2\n",
      "12    12\n",
      "dtype: int32\n"
     ]
    },
    {
     "data": {
      "text/plain": [
       "count    13.000000\n",
       "mean      9.076923\n",
       "std       4.803845\n",
       "min       2.000000\n",
       "25%       7.000000\n",
       "50%       8.000000\n",
       "75%      11.000000\n",
       "max      19.000000\n",
       "dtype: float64"
      ]
     },
     "execution_count": 7,
     "metadata": {},
     "output_type": "execute_result"
    }
   ],
   "source": [
    "# Cria uma Serie da amostra gerada anteriormente\n",
    "serie = pd.Series(amostra)\n",
    "# Print da Série\n",
    "print(serie)\n",
    "# Print do Sumário Estatístico\n",
    "#serie.describe(percentiles=[0.25,0.5,0.75])\n",
    "serie.describe()\n",
    "# Cálculo da Moda\n",
    "\n",
    "\n",
    "\n"
   ]
  },
  {
   "cell_type": "markdown",
   "id": "aaa7708e",
   "metadata": {},
   "source": [
    "## "
   ]
  },
  {
   "cell_type": "markdown",
   "id": "abf12ac9",
   "metadata": {},
   "source": [
    "### Box Plot\n",
    "\n",
    "O boxplot (gráfico de caixa) é um gráfico utilizado para avaliar a distribuição empírica do dados. O boxplot é formado pelo primeiro e terceiro quartil e pela mediana. As hastes conhecidos como bigodes (**whiskers**) inferiores e superiores se estendem, respectivamente, do quartil inferior até o menor valor não inferior ao limite inferior e do quartil superior até o maior valor não superior ao limite superior. Os limites são calculados da forma abaixo:\n",
    "\n",
    "$IQR = Q_3 - Q_1$\n",
    "\n",
    "Limite inferior: $ \\max\\{\\min(\\text{dados});Q_1-1,5 \\cdot IQR\\} $.\n",
    "\n",
    "Limite superior: $ \\min\\{\\max(\\text{dados});Q_3+1,5 \\cdot IQR\\} $.\n",
    "\n",
    "Para este caso, os pontos fora destes limites são considerados valores discrepantes (Outliers) e são denotados por asterisco (*). A Figura  a seguir apresenta um exemplo do formato de um boxplot.\n",
    "\n",
    "<img src=https://miro.medium.com/max/8000/1*0MPDTLn8KoLApoFvI0P2vQ.png width=500>\n",
    "\n",
    "O boxplot pode ainda ser utilizado para uma comparação visual entre dois ou mais grupos. Por exemplo, duas ou mais caixas são colocadas lado a lado e se compara a variabilidade entre elas, a mediana e assim por diante. Outro ponto importante é a diferença entre os quartis $ (Q_3 - Q_1) $ que é uma medida da variabilidade dos dados."
   ]
  },
  {
   "cell_type": "markdown",
   "id": "d7f57a54",
   "metadata": {},
   "source": [
    "## "
   ]
  },
  {
   "cell_type": "markdown",
   "id": "ef8edffb",
   "metadata": {},
   "source": [
    "### Outliers\n",
    "\n",
    "**Outliers** ou **discrepantes** referem-se a obsevações **extremas**, que se deslocam em muito das outras observações em um conjunto de dados, ou seja, que **destoam do padrão da distribuição** dos dados. Outliers podem existir por motivos diferentes, alguns dos quais são:\n",
    "\n",
    "- erro na entrada de dados (erro humano);\n",
    "- erro na medição/coleta dos dados (erro instrumental);\n",
    "- erros experimentais (planejamento/execução dos experimentos);\n",
    "- outliers naturais (não decorrente de erros)\n",
    "\n",
    "<img src=\"https://miro.medium.com/max/700/1*J5Xm0X-phCJJ-DKZMZ_88w.png\">\n",
    "\n",
    "No caso dos erros, é importante que os outliers sejam tratados (comumente são removidos). Por outro lado, outliers naturais são importantes constituintes dos dados, de modo que não devem ser eliminados mas, muitas vezes, devem ser tratados.\n",
    "\n",
    "De qualquer modo, antes de começarmos a pensar em como **tratar** os outliers, o primeiro passo é **identificá-los** e a melhor forma para isso é utilizar dos boxplots."
   ]
  },
  {
   "cell_type": "code",
   "execution_count": 8,
   "id": "68e36dfd",
   "metadata": {},
   "outputs": [
    {
     "name": "stdout",
     "output_type": "stream",
     "text": [
      "amostra_2 =  [52 93 15 72 61 21 83 87 75 75 88 24  3 22 53  2 88 30 38  2 64 60 21 33\n",
      " 76 58 22 89 49 91 59 42 92 60 80 15 62 62 47 62 51 55 64  3 51  7 21 73\n",
      " 39 18]\n"
     ]
    }
   ],
   "source": [
    "# semente randômica\n",
    "np.random.seed(42)\n",
    "\n",
    "# gerar a amostra\n",
    "amostra_2 = np.random.randint(1,100,50)\n",
    "print(\"amostra_2 = \", amostra_2)"
   ]
  },
  {
   "cell_type": "code",
   "execution_count": 9,
   "id": "e1bbb6b6",
   "metadata": {},
   "outputs": [
    {
     "data": {
      "image/png": "[encoded data removed]",
      "text/plain": [
       "<Figure size 600x500 with 1 Axes>"
      ]
     },
     "metadata": {},
     "output_type": "display_data"
    }
   ],
   "source": [
    "fig, ax = plt.subplots(figsize = (6,5))\n",
    "\n",
    "q1 = np.quantile(amostra_2, 0.25)\n",
    "q3 = np.quantile(amostra_2, 0.75)\n",
    "iqr = q3 - q1\n",
    "\n",
    "minimum = q1 - (1.5 * iqr)\n",
    "minimum_2 = np.max([np.min(amostra_2), minimum])\n",
    "\n",
    "maximum = q3 + (1.5 * iqr)\n",
    "maximum_2 = np.min([np.max(amostra_2), maximum])\n",
    "\n",
    "ax.boxplot(amostra_2)\n",
    "ax.axhline(y = np.median(amostra_2), label = \"mediana (q2)\", color= \"orange\")\n",
    "ax.axhline(y = q1, label =\"q1\", color =\"red\" )\n",
    "ax.axhline(y = q3, label =\"q3\", color =\"blue\" )\n",
    "ax.axhline(y = amostra_2.mean(), label =\"media\", color =\"gray\")\n",
    "ax.axhline(y = minimum_2, label =\"minimum\", color = \"yellow\" )\n",
    "ax.axhline(y = maximum_2, label =\"maximum\", color = \"green\" )\n",
    "ax.legend()\n",
    "ax = ax "
   ]
  },
  {
   "cell_type": "code",
   "execution_count": 10,
   "id": "6478d000",
   "metadata": {},
   "outputs": [
    {
     "data": {
      "text/plain": [
       "0    21\n",
       "1    62\n",
       "dtype: int32"
      ]
     },
     "execution_count": 10,
     "metadata": {},
     "output_type": "execute_result"
    }
   ],
   "source": [
    "# nossa amostra é bimodal, não será graficado\n",
    "serie_2 = pd.Series(amostra_2)\n",
    "serie_2.mode()"
   ]
  },
  {
   "cell_type": "markdown",
   "id": "29860ed2",
   "metadata": {},
   "source": [
    "##  "
   ]
  },
  {
   "cell_type": "markdown",
   "id": "36384393",
   "metadata": {},
   "source": [
    "### Medidas de Dispersão\n",
    "\n",
    "Estas são **medidas de variabilidade**, que indicam o quanto as observações variam ao redor de alguma medida de centralidade (média, mediana, etc.). Em outras palavras, indicam **o quão longe podemos esperar que uma observação esteja do valor típico para aquela variável**. \n",
    "\n",
    "Existem diversas medidas de variabilidade, algumas das quais apresentamos a seguir."
   ]
  },
  {
   "cell_type": "markdown",
   "id": "bf51bbc9",
   "metadata": {},
   "source": [
    "### Amplitude\n",
    "\n",
    "A amplitude é a **diferença entre o maior e o menor valor observado**. Algo bem importante a salientar sobre a amplitude é:\n",
    "\n",
    "- **Fortemente influenciada** por valores extremos nas observações, como outliers. "
   ]
  },
  {
   "cell_type": "code",
   "execution_count": 11,
   "id": "4dd1b1a2",
   "metadata": {
    "ExecuteTime": {
     "end_time": "2023-05-03T23:20:49.602102Z",
     "start_time": "2023-05-03T23:20:49.596614Z"
    }
   },
   "outputs": [
    {
     "data": {
      "text/plain": [
       "count    14.000000\n",
       "mean     14.642857\n",
       "std      21.331115\n",
       "min       2.000000\n",
       "25%       7.000000\n",
       "50%       9.500000\n",
       "75%      11.750000\n",
       "max      87.000000\n",
       "dtype: float64"
      ]
     },
     "execution_count": 11,
     "metadata": {},
     "output_type": "execute_result"
    }
   ],
   "source": [
    "# Define um array de amostra\n",
    "amostra3 = np.array([2, 3, 4, 7, 7, 8, 8, 11, 11, 11, 12, 15, 19, 87])\n",
    "\n",
    "amostra3\n",
    "serie_3 = pd.Series(amostra3)\n",
    "serie_3.describe()"
   ]
  },
  {
   "cell_type": "code",
   "execution_count": 12,
   "id": "23e23677",
   "metadata": {},
   "outputs": [
    {
     "data": {
      "text/plain": [
       "<matplotlib.legend.Legend at 0x1a3e2f3d090>"
      ]
     },
     "execution_count": 12,
     "metadata": {},
     "output_type": "execute_result"
    },
    {
     "data": {
      "image/png": "[encoded data removed]",
      "text/plain": [
       "<Figure size 640x480 with 1 Axes>"
      ]
     },
     "metadata": {},
     "output_type": "display_data"
    }
   ],
   "source": [
    "fig, ax = plt.subplots()\n",
    "media = amostra3.mean()\n",
    "dp = amostra3.std()\n",
    "ax.hist(amostra3)\n",
    "ax.axvline(x = media, label = 'media', color = 'red')\n",
    "ax.axvspan(xmin = media - dp, xmax = media, alpha = 0.2, color = 'yellow', label = 'media - dp')\n",
    "ax.axvspan(xmin = media, xmax = media + dp, alpha = 0.2, color =  'red', label = 'media + dp')\n",
    "ax.legend()\n"
   ]
  },
  {
   "cell_type": "code",
   "execution_count": 13,
   "id": "ceaaa20d",
   "metadata": {},
   "outputs": [
    {
     "data": {
      "text/plain": [
       "<matplotlib.legend.Legend at 0x1a3e300bd90>"
      ]
     },
     "execution_count": 13,
     "metadata": {},
     "output_type": "execute_result"
    },
    {
     "data": {
      "image/png": "[encoded data removed]",
      "text/plain": [
       "<Figure size 640x480 with 1 Axes>"
      ]
     },
     "metadata": {},
     "output_type": "display_data"
    }
   ],
   "source": [
    "# Define um array de amostra\n",
    "amostra_4 = np.array([2, 3, 4, 7, 7, 8, 8, 11, 11, 11, 12, 15, 19, 19])\n",
    "fig, ax = plt.subplots()\n",
    "media = amostra_4.mean()\n",
    "dp = amostra_4.std()\n",
    "ax.hist(amostra_4)\n",
    "ax.axvline(x = media, label = 'media', color = 'red')\n",
    "ax.axvspan(xmin = media - dp, xmax = media, alpha = 0.2, color = 'yellow', label = 'media - dp')\n",
    "ax.axvspan(xmin = media, xmax = media + dp, alpha = 0.2, color =  'red', label = 'media + dp')\n",
    "ax.legend()"
   ]
  },
  {
   "cell_type": "code",
   "execution_count": 14,
   "id": "135fc2c9",
   "metadata": {},
   "outputs": [
    {
     "data": {
      "text/plain": [
       "count    14.000000\n",
       "mean      9.785714\n",
       "std       5.323079\n",
       "min       2.000000\n",
       "25%       7.000000\n",
       "50%       9.500000\n",
       "75%      11.750000\n",
       "max      19.000000\n",
       "dtype: float64"
      ]
     },
     "execution_count": 14,
     "metadata": {},
     "output_type": "execute_result"
    }
   ],
   "source": [
    "serie_4 = pd.Series(amostra_4)\n",
    "serie_4.describe()"
   ]
  },
  {
   "cell_type": "code",
   "execution_count": 15,
   "id": "1e38f75b",
   "metadata": {
    "ExecuteTime": {
     "end_time": "2023-05-03T23:21:47.391710Z",
     "start_time": "2023-05-03T23:21:47.217840Z"
    }
   },
   "outputs": [
    {
     "data": {
      "text/plain": [
       "<Axes: ylabel='Count'>"
      ]
     },
     "execution_count": 15,
     "metadata": {},
     "output_type": "execute_result"
    },
    {
     "data": {
      "image/png": "[encoded data removed]",
      "text/plain": [
       "<Figure size 640x480 with 1 Axes>"
      ]
     },
     "metadata": {},
     "output_type": "display_data"
    }
   ],
   "source": [
    "sns.histplot(amostra3)"
   ]
  },
  {
   "cell_type": "code",
   "execution_count": 16,
   "id": "7cc052df",
   "metadata": {},
   "outputs": [],
   "source": [
    "amostra3_ordenada = sorted(amostra3)"
   ]
  },
  {
   "cell_type": "code",
   "execution_count": 17,
   "id": "938c6f4d",
   "metadata": {},
   "outputs": [
    {
     "name": "stdout",
     "output_type": "stream",
     "text": [
      "amplitude = 85\n"
     ]
    }
   ],
   "source": [
    "amplitude = amostra3_ordenada[-1] - amostra3_ordenada[0]\n",
    "print(\"amplitude =\", amplitude)"
   ]
  },
  {
   "cell_type": "markdown",
   "id": "9c8b68b2",
   "metadata": {},
   "source": [
    "## "
   ]
  },
  {
   "cell_type": "markdown",
   "id": "6af75f44",
   "metadata": {},
   "source": [
    "### Variância \n",
    "\n",
    "A variância representa **o quanto os dados se afastam da média, em geral**. Por definição, tomamos a média dos **desvios quadráticos da média**:\n",
    "\n",
    "$$ Var(X) = \\sum_{i=1}^{n}\\frac{(x-\\overline{x})^{2}}{n-1} = \\frac{(x_1-\\overline{x})^{2}}{n-1} + \\frac{(x_2-\\overline{x})^{2}}{n-1} + \\cdots$$"
   ]
  },
  {
   "cell_type": "code",
   "execution_count": 18,
   "id": "e4a9d5e8",
   "metadata": {
    "ExecuteTime": {
     "end_time": "2023-05-03T23:23:53.176053Z",
     "start_time": "2023-05-03T23:23:53.172361Z"
    },
    "scrolled": true
   },
   "outputs": [
    {
     "name": "stdout",
     "output_type": "stream",
     "text": [
      "[ 2  3  4  7  7  8  8 11 11 11 12 15 19 87]\n",
      "média      14.642857142857142\n",
      "variância  422.51530612244903\n"
     ]
    }
   ],
   "source": [
    "# Print dos Dados\n",
    "print(amostra3)\n",
    "# Print do Valor da Variância\n",
    "print(\"média     \", amostra3.mean())\n",
    "print(\"variância \", np.var(amostra3)) # os dados são muito disperso\n"
   ]
  },
  {
   "cell_type": "markdown",
   "id": "8e5c0bbc",
   "metadata": {},
   "source": [
    "## "
   ]
  },
  {
   "cell_type": "markdown",
   "id": "f522582d",
   "metadata": {},
   "source": [
    "### Desvio padrão\n",
    "\n",
    "Note que, da forma como foi definida, a variância é um valor **quadrático** nos dados. Para evitar isso, é comum tirar a raiz quadrada da variância, o que define o **desvio padrão**:\n",
    "\n",
    "$$ \\sigma(X) \\equiv \\sqrt{Var(X)} = \\sqrt{\\sum_{i=1}^{n}\\frac{(x-\\overline{x})^{2}}{n - 1}}$$"
   ]
  },
  {
   "cell_type": "code",
   "execution_count": 19,
   "id": "05bef3a7",
   "metadata": {
    "ExecuteTime": {
     "end_time": "2023-05-03T23:27:46.671138Z",
     "start_time": "2023-05-03T23:27:46.666803Z"
    }
   },
   "outputs": [
    {
     "name": "stdout",
     "output_type": "stream",
     "text": [
      "[ 2  3  4  7  7  8  8 11 11 11 12 15 19 87]\n",
      "média          14.642857142857142\n",
      "Desvio Padrão  20.55517711240769\n"
     ]
    }
   ],
   "source": [
    "# Print dos Dados\n",
    "print(amostra3)\n",
    "# Print do Valor do Desvio Padrão\n",
    "print(\"média         \", amostra3.mean())\n",
    "print(\"Desvio Padrão \", np.std(amostra3)) # os dados são muito disperso"
   ]
  },
  {
   "cell_type": "markdown",
   "id": "7616554f",
   "metadata": {},
   "source": [
    "Até agora estamos analisando uma única variável separadamente: ANÁLISE UNIVARIADA\n",
    "\n",
    "Se quero saber a relação de 2 ou mais variáveis, utilizamos uma ANÁLISE MULTIVARIADA"
   ]
  },
  {
   "cell_type": "markdown",
   "id": "86328e97",
   "metadata": {},
   "source": [
    "## "
   ]
  },
  {
   "cell_type": "markdown",
   "id": "a5a576c9",
   "metadata": {},
   "source": [
    "## Métricas de associação entre variáveis quantitativas\n",
    "\n",
    "\n",
    "Sejam $X$ e $Y$ variáveis quantitativas de interesse e as amostras aleatórias observadas $x_1,\\ldots,x_n$ e $y_1,\\ldots,y_n$, respectivamente. As medidas de associação mais utilizadas são:\n",
    "<br>\n",
    "\n",
    "### Covariância \n",
    "\n",
    "A __Covariância__ faz uma comparação similar que a variância, com a diferença que está comparação é entre variáveis distintas $X$ e $Y$:\n",
    "\n",
    "$s_{XY} = \\displaystyle{\\frac{\\displaystyle\\sum_{i=1}^{n}(x_i-\\bar{x})(y_i-\\bar{y})}{n-1}}$\n",
    "\n",
    "| Covariância não é um valor padronizado"
   ]
  },
  {
   "cell_type": "markdown",
   "id": "b754ad90",
   "metadata": {},
   "source": [
    "## "
   ]
  },
  {
   "cell_type": "markdown",
   "id": "c0208637",
   "metadata": {},
   "source": [
    "### Correlação\n",
    "\n",
    "Um dos conceitos mais importantes em Data Science é o da **correlação**. A partir de estudos de correlação, é possível **descobrirmos como diferentes variáveis interagem**.\n",
    "<br>\n",
    "<img src=\"https://www.mathsisfun.com/data/images/correlation-examples.svg\" width=700>\n",
    "<br>\n",
    "É bem importante distinguirmos correlações **lineares** de **não lineares**. \n",
    "<br>\n",
    "<img src=\"https://miro.medium.com/max/1414/1*ZMwog-_YcD0qBHc9_1T1-w.png\" width=700>\n",
    "<br>\n",
    "Para fazer a distinção acima, há testes específicos para correlação. Vamos ver dois coeficientes de correlação específicos que sâo: __Pearson__ e __Spearmann__"
   ]
  },
  {
   "cell_type": "markdown",
   "id": "4612e89a",
   "metadata": {},
   "source": [
    "Para fazer a distinção acima, há testes específicos para correlação. Vamos ver dois coeficientes de correlação específicos que sâo: __Pearson__ e __Spearmann__\n",
    "\n",
    "**OBS.: CORRELAÇÃO NÃO IMPLICA EM CAUSALIDADE**\n",
    "\n",
    "https://www.tylervigen.com/spurious-correlations"
   ]
  },
  {
   "cell_type": "markdown",
   "id": "6f5535d2",
   "metadata": {},
   "source": [
    "## "
   ]
  },
  {
   "cell_type": "markdown",
   "id": "eabc7351",
   "metadata": {},
   "source": [
    "### Correlação de Pearson\n",
    "\n",
    "A [__Correlação de Pearson__](https://pt.wikipedia.org/wiki/Coeficiente_de_correla%C3%A7%C3%A3o_de_Pearson) é expressa como  a **taxa de relação linear entre duas variáveis numéricas**. Quanto mais próximo de 1 ou -1, mais **linearmente correlacionado estão as variáveis testadas**. A fórmula define-se como:\n",
    "\n",
    "\n",
    "$r = \\displaystyle{\\frac{s_{XY}}{\\sqrt{s^2_X s^2_Y }}}$\n",
    "\n",
    "\n",
    "Propriedade: \n",
    "\n",
    " $-1 \\leq r \\leq 1$\n",
    "\n",
    "\n",
    "É comum usar as seguintes classificações:\n",
    "\n",
    "1. $r=1$ indica uma correlação perfeita e positiva\n",
    "\n",
    "2. $r=-1$ indica uma correlação perfeita e negativa\n",
    "\n",
    "3. $0.7 \\leq |r| \\leq 1$ indica uma correlação forte\n",
    "\n",
    "4. $0.5 \\leq |r| \\leq 0.69$ indica uma correlação moderada\n",
    "\n",
    "5. $0 \\leq |r| \\leq 0.49$ indica uma correlação fraca\n",
    "<br>\n",
    "\n",
    "### Correlação de Spearman\n",
    "\n",
    "[__Correlação de Spearmann__](https://pt.wikipedia.org/wiki/Coeficiente_de_correla%C3%A7%C3%A3o_de_postos_de_Spearman) e outra correlação linear bem conhecida e este coeficiente indica se as amostras possuem correlação *monotônica*, isso é, **se aumentarmos ou diminuimos uma, a outra irá aumentar ou diminuir**. \n",
    "\n",
    "O coeficiente varia entre -1 e 1:\n",
    "\n",
    "> Quanto mais próximo de 1 for o coeficiente, mais positivamente correlacionada as amostras, isso é, se aumentarmos uma, a outra ira aumentar (ou se diminuimos uma, a outra irá diminuir); \n",
    "\n",
    "> Quanto mais próximo de -1 for o resultado, mais negativamente correlacionada estão as variáveis, isso é, aumentando uma, a outra irá dimunuir (ou se diminuímos uma, a outra irá aumentar). \n",
    "\n",
    "> Uma correlação de 0 indica ausência de correlação.\n",
    "\n",
    "**Importante:** o coeficiente de Spearman **não** indica correlação necessariamente linear!"
   ]
  },
  {
   "cell_type": "code",
   "execution_count": 20,
   "id": "b47ee925",
   "metadata": {
    "ExecuteTime": {
     "end_time": "2023-05-04T00:09:22.314266Z",
     "start_time": "2023-05-04T00:09:22.289797Z"
    }
   },
   "outputs": [
    {
     "data": {
      "text/html": [
       "<div>\n",
       "<style scoped>\n",
       "    .dataframe tbody tr th:only-of-type {\n",
       "        vertical-align: middle;\n",
       "    }\n",
       "\n",
       "    .dataframe tbody tr th {\n",
       "        vertical-align: top;\n",
       "    }\n",
       "\n",
       "    .dataframe thead th {\n",
       "        text-align: right;\n",
       "    }\n",
       "</style>\n",
       "<table border=\"1\" class=\"dataframe\">\n",
       "  <thead>\n",
       "    <tr style=\"text-align: right;\">\n",
       "      <th></th>\n",
       "      <th>mpg</th>\n",
       "      <th>cylinders</th>\n",
       "      <th>displacement</th>\n",
       "      <th>horsepower</th>\n",
       "      <th>weight</th>\n",
       "      <th>acceleration</th>\n",
       "      <th>model_year</th>\n",
       "      <th>origin</th>\n",
       "      <th>name</th>\n",
       "    </tr>\n",
       "  </thead>\n",
       "  <tbody>\n",
       "    <tr>\n",
       "      <th>0</th>\n",
       "      <td>18.0</td>\n",
       "      <td>8</td>\n",
       "      <td>307.0</td>\n",
       "      <td>130.0</td>\n",
       "      <td>3504</td>\n",
       "      <td>12.0</td>\n",
       "      <td>70</td>\n",
       "      <td>usa</td>\n",
       "      <td>chevrolet chevelle malibu</td>\n",
       "    </tr>\n",
       "    <tr>\n",
       "      <th>1</th>\n",
       "      <td>15.0</td>\n",
       "      <td>8</td>\n",
       "      <td>350.0</td>\n",
       "      <td>165.0</td>\n",
       "      <td>3693</td>\n",
       "      <td>11.5</td>\n",
       "      <td>70</td>\n",
       "      <td>usa</td>\n",
       "      <td>buick skylark 320</td>\n",
       "    </tr>\n",
       "    <tr>\n",
       "      <th>2</th>\n",
       "      <td>18.0</td>\n",
       "      <td>8</td>\n",
       "      <td>318.0</td>\n",
       "      <td>150.0</td>\n",
       "      <td>3436</td>\n",
       "      <td>11.0</td>\n",
       "      <td>70</td>\n",
       "      <td>usa</td>\n",
       "      <td>plymouth satellite</td>\n",
       "    </tr>\n",
       "    <tr>\n",
       "      <th>3</th>\n",
       "      <td>16.0</td>\n",
       "      <td>8</td>\n",
       "      <td>304.0</td>\n",
       "      <td>150.0</td>\n",
       "      <td>3433</td>\n",
       "      <td>12.0</td>\n",
       "      <td>70</td>\n",
       "      <td>usa</td>\n",
       "      <td>amc rebel sst</td>\n",
       "    </tr>\n",
       "    <tr>\n",
       "      <th>4</th>\n",
       "      <td>17.0</td>\n",
       "      <td>8</td>\n",
       "      <td>302.0</td>\n",
       "      <td>140.0</td>\n",
       "      <td>3449</td>\n",
       "      <td>10.5</td>\n",
       "      <td>70</td>\n",
       "      <td>usa</td>\n",
       "      <td>ford torino</td>\n",
       "    </tr>\n",
       "  </tbody>\n",
       "</table>\n",
       "</div>"
      ],
      "text/plain": [
       "    mpg  cylinders  displacement  horsepower  weight  acceleration  \\\n",
       "0  18.0          8         307.0       130.0    3504          12.0   \n",
       "1  15.0          8         350.0       165.0    3693          11.5   \n",
       "2  18.0          8         318.0       150.0    3436          11.0   \n",
       "3  16.0          8         304.0       150.0    3433          12.0   \n",
       "4  17.0          8         302.0       140.0    3449          10.5   \n",
       "\n",
       "   model_year origin                       name  \n",
       "0          70    usa  chevrolet chevelle malibu  \n",
       "1          70    usa          buick skylark 320  \n",
       "2          70    usa         plymouth satellite  \n",
       "3          70    usa              amc rebel sst  \n",
       "4          70    usa                ford torino  "
      ]
     },
     "execution_count": 20,
     "metadata": {},
     "output_type": "execute_result"
    }
   ],
   "source": [
    "mpg = sns.load_dataset('mpg')\n",
    "\n",
    "mpg.head()"
   ]
  },
  {
   "cell_type": "code",
   "execution_count": 21,
   "id": "55ef459b",
   "metadata": {
    "ExecuteTime": {
     "end_time": "2023-05-04T00:09:35.329536Z",
     "start_time": "2023-05-04T00:09:35.317904Z"
    }
   },
   "outputs": [
    {
     "data": {
      "text/html": [
       "<div>\n",
       "<style scoped>\n",
       "    .dataframe tbody tr th:only-of-type {\n",
       "        vertical-align: middle;\n",
       "    }\n",
       "\n",
       "    .dataframe tbody tr th {\n",
       "        vertical-align: top;\n",
       "    }\n",
       "\n",
       "    .dataframe thead th {\n",
       "        text-align: right;\n",
       "    }\n",
       "</style>\n",
       "<table border=\"1\" class=\"dataframe\">\n",
       "  <thead>\n",
       "    <tr style=\"text-align: right;\">\n",
       "      <th></th>\n",
       "      <th>mpg</th>\n",
       "      <th>cylinders</th>\n",
       "      <th>displacement</th>\n",
       "      <th>horsepower</th>\n",
       "      <th>weight</th>\n",
       "      <th>acceleration</th>\n",
       "      <th>model_year</th>\n",
       "    </tr>\n",
       "  </thead>\n",
       "  <tbody>\n",
       "    <tr>\n",
       "      <th>mpg</th>\n",
       "      <td>1.000000</td>\n",
       "      <td>-0.775396</td>\n",
       "      <td>-0.804203</td>\n",
       "      <td>-0.778427</td>\n",
       "      <td>-0.831741</td>\n",
       "      <td>0.420289</td>\n",
       "      <td>0.579267</td>\n",
       "    </tr>\n",
       "    <tr>\n",
       "      <th>cylinders</th>\n",
       "      <td>-0.775396</td>\n",
       "      <td>1.000000</td>\n",
       "      <td>0.950721</td>\n",
       "      <td>0.842983</td>\n",
       "      <td>0.896017</td>\n",
       "      <td>-0.505419</td>\n",
       "      <td>-0.348746</td>\n",
       "    </tr>\n",
       "    <tr>\n",
       "      <th>displacement</th>\n",
       "      <td>-0.804203</td>\n",
       "      <td>0.950721</td>\n",
       "      <td>1.000000</td>\n",
       "      <td>0.897257</td>\n",
       "      <td>0.932824</td>\n",
       "      <td>-0.543684</td>\n",
       "      <td>-0.370164</td>\n",
       "    </tr>\n",
       "    <tr>\n",
       "      <th>horsepower</th>\n",
       "      <td>-0.778427</td>\n",
       "      <td>0.842983</td>\n",
       "      <td>0.897257</td>\n",
       "      <td>1.000000</td>\n",
       "      <td>0.864538</td>\n",
       "      <td>-0.689196</td>\n",
       "      <td>-0.416361</td>\n",
       "    </tr>\n",
       "    <tr>\n",
       "      <th>weight</th>\n",
       "      <td>-0.831741</td>\n",
       "      <td>0.896017</td>\n",
       "      <td>0.932824</td>\n",
       "      <td>0.864538</td>\n",
       "      <td>1.000000</td>\n",
       "      <td>-0.417457</td>\n",
       "      <td>-0.306564</td>\n",
       "    </tr>\n",
       "    <tr>\n",
       "      <th>acceleration</th>\n",
       "      <td>0.420289</td>\n",
       "      <td>-0.505419</td>\n",
       "      <td>-0.543684</td>\n",
       "      <td>-0.689196</td>\n",
       "      <td>-0.417457</td>\n",
       "      <td>1.000000</td>\n",
       "      <td>0.288137</td>\n",
       "    </tr>\n",
       "    <tr>\n",
       "      <th>model_year</th>\n",
       "      <td>0.579267</td>\n",
       "      <td>-0.348746</td>\n",
       "      <td>-0.370164</td>\n",
       "      <td>-0.416361</td>\n",
       "      <td>-0.306564</td>\n",
       "      <td>0.288137</td>\n",
       "      <td>1.000000</td>\n",
       "    </tr>\n",
       "  </tbody>\n",
       "</table>\n",
       "</div>"
      ],
      "text/plain": [
       "                   mpg  cylinders  displacement  horsepower    weight  \\\n",
       "mpg           1.000000  -0.775396     -0.804203   -0.778427 -0.831741   \n",
       "cylinders    -0.775396   1.000000      0.950721    0.842983  0.896017   \n",
       "displacement -0.804203   0.950721      1.000000    0.897257  0.932824   \n",
       "horsepower   -0.778427   0.842983      0.897257    1.000000  0.864538   \n",
       "weight       -0.831741   0.896017      0.932824    0.864538  1.000000   \n",
       "acceleration  0.420289  -0.505419     -0.543684   -0.689196 -0.417457   \n",
       "model_year    0.579267  -0.348746     -0.370164   -0.416361 -0.306564   \n",
       "\n",
       "              acceleration  model_year  \n",
       "mpg               0.420289    0.579267  \n",
       "cylinders        -0.505419   -0.348746  \n",
       "displacement     -0.543684   -0.370164  \n",
       "horsepower       -0.689196   -0.416361  \n",
       "weight           -0.417457   -0.306564  \n",
       "acceleration      1.000000    0.288137  \n",
       "model_year        0.288137    1.000000  "
      ]
     },
     "execution_count": 21,
     "metadata": {},
     "output_type": "execute_result"
    }
   ],
   "source": [
    "mpg_numerico = mpg.select_dtypes(include = np.number)\n",
    "mpg_numerico.corr(method = 'pearson')"
   ]
  },
  {
   "cell_type": "code",
   "execution_count": 22,
   "id": "76d91aa2",
   "metadata": {
    "ExecuteTime": {
     "end_time": "2023-05-04T00:12:07.262942Z",
     "start_time": "2023-05-04T00:12:07.060402Z"
    }
   },
   "outputs": [
    {
     "data": {
      "text/plain": [
       "Text(0.5, 1.0, 'Correlação de spearman')"
      ]
     },
     "execution_count": 22,
     "metadata": {},
     "output_type": "execute_result"
    },
    {
     "data": {
      "image/png": "[encoded data removed]",
      "text/plain": [
       "<Figure size 1600x800 with 4 Axes>"
      ]
     },
     "metadata": {},
     "output_type": "display_data"
    }
   ],
   "source": [
    "fig, ax = plt.subplots(1,2, figsize = ( 16,8))\n",
    "sns.heatmap(mpg_numerico.corr(method = \"spearman\"), ax = ax[0], annot = True)\n",
    "sns.heatmap(mpg_numerico.corr(method = \"pearson\"), ax = ax[1], annot = True)\n",
    "ax[1].set_title(\"Correlação de pearson\")\n",
    "ax[0].set_title(\"Correlação de spearman\")"
   ]
  },
  {
   "cell_type": "markdown",
   "id": "18a7965d",
   "metadata": {},
   "source": [
    "## "
   ]
  },
  {
   "cell_type": "markdown",
   "id": "31699aeb",
   "metadata": {},
   "source": [
    "### Assimetria\n",
    "\n",
    "É o **grau de desvio ou afastamento** da **simetria** de uma distribuição. Quando a curva é simétrica, a `média`, a `mediana` e a `moda` coincidem, num mesmo ponto, havendo um perfeito equilíbrio na distribuição. Um exemplo de distribuição simétrica é a **distribuição normal**. Quando o equilíbrio não acontece, a média, a mediana e a moda recaem em pontos diferentes da distribuição, e a distribuição se torna **assimétrica**:\n",
    "\n",
    "<img src=\"https://www.researchgate.net/profile/Marco_Faria/publication/294890337/figure/fig5/AS:668873900716049@1536483373457/a-Negative-skewness-b-Normal-curve-c-Positive-skewness-Durkhure-and-Lodwal-2014.ppm\" width=600>\n",
    "\n",
    "\n",
    "- Distribuição assimétrica **Negativa ou enviesada a esquerda**: quando os valores se concentram na extremidade superior da escala e se distribuem gradativamente em direção à extremidade inferior.\n",
    "\n",
    "- Distribuição assimétrica **Positiva ou enviesada a direita**: quando os valores se concentram na extremidade inferior da escala e se distribuem gradativamente em direção à extremidade superior.\n",
    "\n",
    "A medidade de assimetria é conhecida como **skewness**, sendo calculada como:\n",
    "\n",
    "$$ s(X) = \\frac{1}{\\sigma^3}\\sum_{i=1}^{n}\\frac{(x-\\overline{x})^{3}}{n}$$\n",
    "\n",
    "O valor da skewness nos indica a assimetria da distribuição:\n",
    "\n",
    "- s = 0: distribuição simétrica\n",
    "- s > 0: assimetria à direira\n",
    "- s < 0: assimetria à esquerda"
   ]
  },
  {
   "cell_type": "code",
   "execution_count": 23,
   "id": "674cfb8f",
   "metadata": {
    "ExecuteTime": {
     "end_time": "2023-05-04T00:17:56.942840Z",
     "start_time": "2023-05-04T00:17:56.936181Z"
    }
   },
   "outputs": [
    {
     "name": "stdout",
     "output_type": "stream",
     "text": [
      "amostra [52 93 15 72 61 21 83 87 75 75 88 24  3 22 53  2 88 30 38  2 64 60 21 33\n",
      " 76 58 22 89 49 91 59 42 92 60 80 15 62 62 47 62 51 55 64  3 51  7 21 73\n",
      " 39 18  4 89 60 14  9 90 53  2 84 92 60 71 44  8 47 35 78 81 36 50]\n"
     ]
    }
   ],
   "source": [
    "# Vamos criar uma amostra aleatória de numéros inteiros\n",
    "np.random.seed(42)\n",
    "amostra = np.random.randint(1,100,70)\n",
    "# Print da amostra\n",
    "print('amostra', amostra)"
   ]
  },
  {
   "cell_type": "code",
   "execution_count": 24,
   "id": "35b988b1",
   "metadata": {
    "ExecuteTime": {
     "end_time": "2023-05-04T00:18:27.234637Z",
     "start_time": "2023-05-04T00:18:27.230156Z"
    }
   },
   "outputs": [
    {
     "data": {
      "text/plain": [
       "-0.21593483423588028"
      ]
     },
     "execution_count": 24,
     "metadata": {},
     "output_type": "execute_result"
    }
   ],
   "source": [
    "serie = pd.Series(amostra)\n",
    "serie.skew() \n",
    "\n",
    "# positivo -> pendendo para esquerda (vácuo na direita)\n",
    "# negativo -> pendendo para direita"
   ]
  },
  {
   "cell_type": "markdown",
   "id": "af5e53e0",
   "metadata": {},
   "source": [
    "### Tabelas de Frequência\n",
    "\n",
    "A distribuição de frequências é um agrupamento de dados em classes, de tal forma que contabilizamos o número de ocorrências em cada classe. O objetivo é apresentar os dados de uma maneira mais concisa e que nos permita extrair informação sobre seu comportamento. A seguir, apresentamos algumas definições necessárias à construção da distribuição de frequências.\n",
    "\n",
    "**Frequência absoluta (ƒi):** É o número de observações correspondente a cada classe. A frequência absoluta é, geralmente, chamada apenas de frequência.\n",
    "\n",
    "**Frequência relativa (ƒri):** É o quociente entre a frequência absoluta da classe correspondente e a soma das frequências (total observado), isto é, $ \\displaystyle f_{ri}=\\frac{f_i}{\\sum_{j}f_j} $ onde n representa o número total de observações.\n",
    "\n",
    "**Frequência percentual (pi):** É obtida multiplicando a frequência relativa por 100%.<br><br>"
   ]
  },
  {
   "cell_type": "code",
   "execution_count": 25,
   "id": "34ece879",
   "metadata": {
    "ExecuteTime": {
     "end_time": "2023-05-04T00:23:35.215500Z",
     "start_time": "2023-05-04T00:23:35.194893Z"
    },
    "scrolled": true
   },
   "outputs": [
    {
     "data": {
      "text/html": [
       "<div>\n",
       "<style scoped>\n",
       "    .dataframe tbody tr th:only-of-type {\n",
       "        vertical-align: middle;\n",
       "    }\n",
       "\n",
       "    .dataframe tbody tr th {\n",
       "        vertical-align: top;\n",
       "    }\n",
       "\n",
       "    .dataframe thead th {\n",
       "        text-align: right;\n",
       "    }\n",
       "</style>\n",
       "<table border=\"1\" class=\"dataframe\">\n",
       "  <thead>\n",
       "    <tr style=\"text-align: right;\">\n",
       "      <th></th>\n",
       "      <th>total_bill</th>\n",
       "      <th>tip</th>\n",
       "      <th>sex</th>\n",
       "      <th>smoker</th>\n",
       "      <th>day</th>\n",
       "      <th>time</th>\n",
       "      <th>size</th>\n",
       "    </tr>\n",
       "  </thead>\n",
       "  <tbody>\n",
       "    <tr>\n",
       "      <th>0</th>\n",
       "      <td>16.99</td>\n",
       "      <td>1.01</td>\n",
       "      <td>Female</td>\n",
       "      <td>No</td>\n",
       "      <td>Sun</td>\n",
       "      <td>Dinner</td>\n",
       "      <td>2</td>\n",
       "    </tr>\n",
       "    <tr>\n",
       "      <th>1</th>\n",
       "      <td>10.34</td>\n",
       "      <td>1.66</td>\n",
       "      <td>Male</td>\n",
       "      <td>No</td>\n",
       "      <td>Sun</td>\n",
       "      <td>Dinner</td>\n",
       "      <td>3</td>\n",
       "    </tr>\n",
       "    <tr>\n",
       "      <th>2</th>\n",
       "      <td>21.01</td>\n",
       "      <td>3.50</td>\n",
       "      <td>Male</td>\n",
       "      <td>No</td>\n",
       "      <td>Sun</td>\n",
       "      <td>Dinner</td>\n",
       "      <td>3</td>\n",
       "    </tr>\n",
       "    <tr>\n",
       "      <th>3</th>\n",
       "      <td>23.68</td>\n",
       "      <td>3.31</td>\n",
       "      <td>Male</td>\n",
       "      <td>No</td>\n",
       "      <td>Sun</td>\n",
       "      <td>Dinner</td>\n",
       "      <td>2</td>\n",
       "    </tr>\n",
       "    <tr>\n",
       "      <th>4</th>\n",
       "      <td>24.59</td>\n",
       "      <td>3.61</td>\n",
       "      <td>Female</td>\n",
       "      <td>No</td>\n",
       "      <td>Sun</td>\n",
       "      <td>Dinner</td>\n",
       "      <td>4</td>\n",
       "    </tr>\n",
       "  </tbody>\n",
       "</table>\n",
       "</div>"
      ],
      "text/plain": [
       "   total_bill   tip     sex smoker  day    time  size\n",
       "0       16.99  1.01  Female     No  Sun  Dinner     2\n",
       "1       10.34  1.66    Male     No  Sun  Dinner     3\n",
       "2       21.01  3.50    Male     No  Sun  Dinner     3\n",
       "3       23.68  3.31    Male     No  Sun  Dinner     2\n",
       "4       24.59  3.61  Female     No  Sun  Dinner     4"
      ]
     },
     "execution_count": 25,
     "metadata": {},
     "output_type": "execute_result"
    }
   ],
   "source": [
    "# Print carregando o dataset\n",
    "df = sns.load_dataset('tips')\n",
    "\n",
    "# Print das primeiras linhas\n",
    "df.head()"
   ]
  },
  {
   "cell_type": "code",
   "execution_count": 26,
   "id": "91164358",
   "metadata": {
    "ExecuteTime": {
     "end_time": "2023-05-04T00:25:26.273266Z",
     "start_time": "2023-05-04T00:25:26.266406Z"
    }
   },
   "outputs": [
    {
     "name": "stdout",
     "output_type": "stream",
     "text": [
      "Tabela de frequência ABSOLUTA da coluna 'sex':\n"
     ]
    },
    {
     "data": {
      "text/plain": [
       "sex\n",
       "Male      157\n",
       "Female     87\n",
       "Name: count, dtype: int64"
      ]
     },
     "execution_count": 26,
     "metadata": {},
     "output_type": "execute_result"
    }
   ],
   "source": [
    "# Print do Título\n",
    "print(\"Tabela de frequência ABSOLUTA da coluna 'sex':\")\n",
    "\n",
    "# Print da Tabela de Frequencia absoluta\n",
    "df[\"sex\"].value_counts()"
   ]
  },
  {
   "cell_type": "code",
   "execution_count": 27,
   "id": "8e1548f5",
   "metadata": {},
   "outputs": [
    {
     "data": {
      "text/plain": [
       "sex\n",
       "Male      157\n",
       "Female     87\n",
       "Name: count, dtype: int64"
      ]
     },
     "execution_count": 27,
     "metadata": {},
     "output_type": "execute_result"
    }
   ],
   "source": [
    "# contabilizando nulo\n",
    "df[\"sex\"].value_counts(dropna = False)"
   ]
  },
  {
   "cell_type": "code",
   "execution_count": 28,
   "id": "8d8f7c58",
   "metadata": {
    "ExecuteTime": {
     "end_time": "2023-05-04T00:26:26.327839Z",
     "start_time": "2023-05-04T00:26:26.319440Z"
    }
   },
   "outputs": [
    {
     "name": "stdout",
     "output_type": "stream",
     "text": [
      "Tabela de frequência RELATIVA da coluna 'sex':\n"
     ]
    },
    {
     "data": {
      "text/plain": [
       "sex\n",
       "Male      0.643443\n",
       "Female    0.356557\n",
       "Name: proportion, dtype: float64"
      ]
     },
     "execution_count": 28,
     "metadata": {},
     "output_type": "execute_result"
    }
   ],
   "source": [
    "# Print do Título\n",
    "print(\"Tabela de frequência RELATIVA da coluna 'sex':\")\n",
    "\n",
    "# Print da Tabela de Frequencia absoluta\n",
    "df[\"sex\"].value_counts(normalize=True)"
   ]
  },
  {
   "cell_type": "code",
   "execution_count": 29,
   "id": "8d66f179",
   "metadata": {
    "ExecuteTime": {
     "end_time": "2023-05-04T00:37:52.851944Z",
     "start_time": "2023-05-04T00:37:52.834696Z"
    }
   },
   "outputs": [
    {
     "name": "stdout",
     "output_type": "stream",
     "text": [
      "Média de gorjeta: 2.99827868852459\n",
      "Desvio padrão de gorjetas: 1.3836381890011822\n",
      "\n",
      "Gorjeta mínima: 1.0\n",
      "\n",
      "Gorjeta Q1: 2.0\n",
      "Mediana de Gorjetas: 2.9\n",
      "Gorjeta Q3: 3.5625\n",
      "IQR das Gorjetas: 1.5625\n",
      "\n",
      "Gorjeta máxima: 10.0\n",
      "\n",
      "Skewness das Gorjetas: 1.4654510370979401\n",
      "\n",
      " Gorjeta(s) mais comum(s):\n"
     ]
    },
    {
     "data": {
      "text/plain": [
       "0    2.0\n",
       "Name: tip, dtype: float64"
      ]
     },
     "metadata": {},
     "output_type": "display_data"
    }
   ],
   "source": [
    "# Calculo das Metricas para o tip\n",
    "print(\"Média de gorjeta:\", df[\"tip\"].mean())\n",
    "print(\"Desvio padrão de gorjetas:\", df[\"tip\"].std())\n",
    "print(\"\\nGorjeta mínima:\", df[\"tip\"].min())\n",
    "print(\"\\nGorjeta Q1:\", df[\"tip\"].quantile(0.25))\n",
    "print(\"Mediana de Gorjetas:\", df[\"tip\"].median())\n",
    "print(\"Gorjeta Q3:\", df[\"tip\"].quantile(0.75))\n",
    "print(\"IQR das Gorjetas:\", df[\"tip\"].quantile(0.75) - df[\"tip\"].quantile(0.25))\n",
    "print(\"\\nGorjeta máxima:\", df[\"tip\"].max())\n",
    "print(\"\\nSkewness das Gorjetas:\", df[\"tip\"].skew())\n",
    "print(\"\\n Gorjeta(s) mais comum(s):\")\n",
    "display(df[\"tip\"].mode())"
   ]
  },
  {
   "cell_type": "code",
   "execution_count": 30,
   "id": "4a14da58",
   "metadata": {},
   "outputs": [
    {
     "data": {
      "text/plain": [
       "count    244.000000\n",
       "mean       2.998279\n",
       "std        1.383638\n",
       "min        1.000000\n",
       "25%        2.000000\n",
       "50%        2.900000\n",
       "75%        3.562500\n",
       "max       10.000000\n",
       "Name: tip, dtype: float64"
      ]
     },
     "execution_count": 30,
     "metadata": {},
     "output_type": "execute_result"
    }
   ],
   "source": [
    "df['tip'].describe()"
   ]
  },
  {
   "cell_type": "markdown",
   "id": "5890f9bc",
   "metadata": {},
   "source": [
    "## "
   ]
  },
  {
   "cell_type": "markdown",
   "id": "7c4183f9",
   "metadata": {},
   "source": [
    "# 02 - Probabilidade\n",
    "\n",
    "Nessa aula, iremos tratar dos seguintes conteúdos:\n",
    "- Probabilidade\n",
    "- Variável Aleatória\n",
    "- Espaço Amostral\n",
    "- Probabilidade - Definição\n",
    "- Probabilidade da Uniâo de Eventos\n",
    "- Eventos Independentes\n",
    "- Teorema de Bayes"
   ]
  },
  {
   "cell_type": "markdown",
   "id": "7055c4cd",
   "metadata": {},
   "source": [
    "<img src = \"https://www.estudopratico.com.br/wp-content/uploads/2014/06/probabilidade-calcular-e1586431045913-1200x675.jpg\" width=800>"
   ]
  },
  {
   "cell_type": "markdown",
   "id": "a77dea2b",
   "metadata": {},
   "source": [
    "## "
   ]
  },
  {
   "cell_type": "markdown",
   "id": "75fa77a4",
   "metadata": {},
   "source": [
    "## Probabilidade\n",
    "\n",
    "Probabilidade é a área da matemática que estuda **eventos aleatórios**, cujos resultados são **probabilísticos** ou **estocásticos**.\n",
    "\n",
    "Existem poucos sistemas na natureza que são de fato inerentemente aleatórias e não-determinísticas. No entanto, uma descrição determinística pode ser muito complicada, de modo que **se torna conveniente** tratar o sistema como um sistema estocástico.\n",
    "\n",
    "Ex.: lançamento de moeda, lançamento de dados, etc.\n",
    "\n",
    "O objetivo da estatística é similar: analisar dados ou criar modelos que **generalizem relações** que não podem ser determinadas diretamente uma vez que não temos acesso à população. Neste sentido, há muita probabilidade envolvida em estatística, e é por isso que vamos olhar para os principais conceitos de probabilidade."
   ]
  },
  {
   "cell_type": "markdown",
   "id": "9f9e602e",
   "metadata": {},
   "source": [
    "## "
   ]
  },
  {
   "cell_type": "markdown",
   "id": "99b31850",
   "metadata": {},
   "source": [
    "## Variável aleatória\n",
    "\n",
    "Uma **variável aleatória** é uma variável cujo valor depende de fatores **não-deterministícos**, isto é, **probabilísticos**. \n",
    "\n",
    "**Exemplo**: resultado do lançamento de um dado.\n",
    "\n",
    "<img src=\"data:image/png;base64,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\" width=300>"
   ]
  },
  {
   "cell_type": "markdown",
   "id": "0d75a299",
   "metadata": {},
   "source": [
    "## "
   ]
  },
  {
   "cell_type": "markdown",
   "id": "bbeed106",
   "metadata": {},
   "source": [
    "## Espaço amostral\n",
    "\n",
    "Chamamos de **espaço amostral** o conjunto de **todos os resultados possíveis de um certo fenômeno aleatório**, ou seja, **os valores possíveis que a variável aleatória de interesse pode assumir**. Representamos o espaço amostral pela letra grega $\\omega$. \n",
    "\n",
    "Os subconjuntos de $\\omega$ são denominados **eventos** e representados pelas letras latinas maiúsculas A, B, etc. \n",
    "\n",
    "**Exemplo**: o espaço amostral dos resultados do lançamento de um dado é:\n",
    "\n",
    "$$ \\omega = \\{1, 2, 3, 4, 5, 6\\} $$\n",
    "\n",
    "Alguns eventos possíveis são:\n",
    "\n",
    "- Evento A = {3} : o resultado do lançamento do dado foi 3;\n",
    "- Evento B = {5} : o resultado do lançamento do dado foi 5.\n",
    "\n",
    "**Exemplo 2**: considere o lançamento de uma moeda:\n",
    "\n",
    "<img src=\"https://www.vertica.com/wp-content/uploads/2019/07/Coin_Flip_183981489-2160.jpg\" width=300>\n",
    "\n",
    "- Se lançarmos uma única moeda:\n",
    "    - A variável aleatória será **o resultado do lançamento da moeda**\n",
    "    - Portanto, o espaço amostral é: $$ \\omega = \\{ K, C \\} $$\n",
    "    \n",
    "- Se lançarmos uma does moedas:\n",
    "    - A variável aleatória será **o resultado do lançamento de cada moeda**\n",
    "    - Portanto, o espaço amostral é: $$ \\omega = \\{ (K, K), (K, C), (C, K), (C, C) \\} $$"
   ]
  },
  {
   "cell_type": "markdown",
   "id": "3d934a99",
   "metadata": {},
   "source": [
    "## "
   ]
  },
  {
   "cell_type": "markdown",
   "id": "ee4ca006",
   "metadata": {},
   "source": [
    "## Definição de probabilidade\n",
    "\n",
    "Definimos uma função $P(.)$ denominada **probabilidade** que deve satisfazer as seguintes propriedades:\n",
    "    \n",
    "- $0\\leq P(A) \\leq 1$ \n",
    "\n",
    "- $ P(\\omega)=1$\n",
    "\n",
    "- $ P(\\cup A_{j})= \\sum_{j=1}^{n}P(A_{j})$"
   ]
  },
  {
   "cell_type": "markdown",
   "id": "f0ac6712",
   "metadata": {},
   "source": [
    "## "
   ]
  },
  {
   "cell_type": "markdown",
   "id": "c364e8dd",
   "metadata": {},
   "source": [
    "## Atribuindo probabilidades aos elementos do espaço amostral\n",
    "\n",
    "Há, essencialmente, duas formas de se **atribuir a probabilidade de cada evento**:\n",
    "\n",
    "> 1) Baseando-se em características teóricas acerca do experimento.\n",
    "\n",
    "**Exemplo**: ao lançarmos um dado, temos o espaço amostral $\\omega=\\{1,2,3,4,5,6\\}$.\n",
    "\n",
    "Admitindo que o dado foi construído de forma homogênea e com medidas rigorosamente simétricas, não temos nenhuma razão para **privilegiar uma face em detrimento das demais**.\n",
    "\n",
    "Assim, consideramos: $p(1) = p(2) = p(3) = p(4) = p(5) = p(6) = \\frac{1}{6}$ \n",
    "\n",
    "> 2) Fazendo muitos experimentos.\n",
    "\n",
    "**Exemplo**: imagine que temos uma moeda não-honesta, que tende cair mais vezes cara do que coroa. Para descobrirmos qual é a probabilidade de cada um dos eventos ($\\omega = \\{K, C\\}$), podemos lançar a moeda muitas vezes, e anotar os resultados:\n"
   ]
  },
  {
   "cell_type": "code",
   "execution_count": 31,
   "id": "4fd15a85",
   "metadata": {},
   "outputs": [],
   "source": [
    "amostra = np.random.uniform(0, 1, 100000) #criando uma amostra aleatória uniformr que começa em 0 e vai até 1 com 100000 elementos"
   ]
  },
  {
   "cell_type": "code",
   "execution_count": 32,
   "id": "e08c1f0a",
   "metadata": {},
   "outputs": [],
   "source": [
    "p = 0.3 # 30% de chance de ser cara (k) e 70% de coroa (c)\n",
    "N = 100\n",
    "amostra = np.random.uniform(0, 1, N)\n",
    "resultados = np.where(amostra <= p, 'K', 'C')\n",
    "\n",
    "\n",
    "\n",
    "# 30% sai cara e 70% sai coroa no lançamento de uma moeda"
   ]
  },
  {
   "cell_type": "code",
   "execution_count": 33,
   "id": "fd865e0b",
   "metadata": {},
   "outputs": [
    {
     "data": {
      "text/plain": [
       "C    0.67\n",
       "K    0.33\n",
       "Name: proportion, dtype: float64"
      ]
     },
     "execution_count": 33,
     "metadata": {},
     "output_type": "execute_result"
    }
   ],
   "source": [
    "pd.Series(resultados).value_counts(normalize=True)"
   ]
  },
  {
   "cell_type": "code",
   "execution_count": 34,
   "id": "d814a500",
   "metadata": {},
   "outputs": [
    {
     "data": {
      "text/plain": [
       "C    0.699\n",
       "K    0.301\n",
       "Name: proportion, dtype: float64"
      ]
     },
     "execution_count": 34,
     "metadata": {},
     "output_type": "execute_result"
    }
   ],
   "source": [
    "p = 0.3\n",
    "N = 1000\n",
    "amostra = np.random.uniform(0, 1, N)\n",
    "resultados = np.where(amostra <= p, 'K', 'C')\n",
    "pd.Series(resultados).value_counts(normalize=True)"
   ]
  },
  {
   "cell_type": "code",
   "execution_count": 35,
   "id": "007829e8",
   "metadata": {},
   "outputs": [
    {
     "data": {
      "text/plain": [
       "C    0.70231\n",
       "K    0.29769\n",
       "Name: proportion, dtype: float64"
      ]
     },
     "execution_count": 35,
     "metadata": {},
     "output_type": "execute_result"
    }
   ],
   "source": [
    "p = 0.3\n",
    "N = 100000\n",
    "amostra = np.random.uniform(0, 1, N)\n",
    "resultados = np.where(amostra <= p, 'K', 'C')\n",
    "pd.Series(resultados).value_counts(normalize=True)"
   ]
  },
  {
   "cell_type": "markdown",
   "id": "070dfe05",
   "metadata": {},
   "source": [
    "Olhando o caso da moeda honesta agora:"
   ]
  },
  {
   "cell_type": "code",
   "execution_count": 36,
   "id": "48eed8d8",
   "metadata": {},
   "outputs": [
    {
     "data": {
      "text/plain": [
       "K    0.52\n",
       "C    0.48\n",
       "Name: proportion, dtype: float64"
      ]
     },
     "execution_count": 36,
     "metadata": {},
     "output_type": "execute_result"
    }
   ],
   "source": [
    "p = 0.5\n",
    "N = 100\n",
    "amostra = np.random.uniform(0, 1, N)\n",
    "resultados = np.where(amostra <= p, 'K', 'C')\n",
    "pd.Series(resultados).value_counts(normalize=True)"
   ]
  },
  {
   "cell_type": "code",
   "execution_count": 37,
   "id": "195a1de5",
   "metadata": {},
   "outputs": [
    {
     "data": {
      "text/plain": [
       "K    0.506\n",
       "C    0.494\n",
       "Name: proportion, dtype: float64"
      ]
     },
     "execution_count": 37,
     "metadata": {},
     "output_type": "execute_result"
    }
   ],
   "source": [
    "p = 0.5\n",
    "N = 10000\n",
    "amostra = np.random.uniform(0, 1, N)\n",
    "resultados = np.where(amostra <= p, 'K', 'C')\n",
    "pd.Series(resultados).value_counts(normalize=True)"
   ]
  },
  {
   "cell_type": "code",
   "execution_count": 38,
   "id": "ee54bc13",
   "metadata": {},
   "outputs": [
    {
     "data": {
      "text/plain": [
       "K    0.500072\n",
       "C    0.499928\n",
       "Name: proportion, dtype: float64"
      ]
     },
     "execution_count": 38,
     "metadata": {},
     "output_type": "execute_result"
    }
   ],
   "source": [
    "p = 0.5\n",
    "N = 1000000\n",
    "amostra = np.random.uniform(0, 1, N)\n",
    "resultados = np.where(amostra <= p, 'K', 'C')\n",
    "pd.Series(resultados).value_counts(normalize=True)"
   ]
  },
  {
   "cell_type": "code",
   "execution_count": 39,
   "id": "19994b7d",
   "metadata": {},
   "outputs": [
    {
     "data": {
      "text/plain": [
       "C    0.500028\n",
       "K    0.499972\n",
       "Name: proportion, dtype: float64"
      ]
     },
     "execution_count": 39,
     "metadata": {},
     "output_type": "execute_result"
    }
   ],
   "source": [
    "p = 0.5\n",
    "N = 10000000\n",
    "amostra = np.random.uniform(0, 1, N)\n",
    "resultados = np.where(amostra <= p, 'K', 'C')\n",
    "pd.Series(resultados).value_counts(normalize=True)"
   ]
  },
  {
   "cell_type": "markdown",
   "id": "03393130",
   "metadata": {},
   "source": [
    "## "
   ]
  },
  {
   "cell_type": "code",
   "execution_count": 40,
   "id": "453b0b5f",
   "metadata": {},
   "outputs": [
    {
     "data": {
      "text/plain": [
       "K    0.50005\n",
       "C    0.49995\n",
       "Name: proportion, dtype: float64"
      ]
     },
     "execution_count": 40,
     "metadata": {},
     "output_type": "execute_result"
    }
   ],
   "source": [
    "p = 0.5\n",
    "N = 100000000\n",
    "amostra = np.random.uniform(0, 1, N)\n",
    "resultados = np.where(amostra <= p, 'K', 'C')\n",
    "pd.Series(resultados).value_counts(normalize=True)"
   ]
  },
  {
   "cell_type": "markdown",
   "id": "e52f12cf",
   "metadata": {},
   "source": [
    "## Probabilidade da União de Eventos"
   ]
  },
  {
   "cell_type": "markdown",
   "id": "70184637",
   "metadata": {},
   "source": [
    "Dados dois elementos $A$ e $B$, o cálculo da união desses eventos é determinada da seguinte forma:\n",
    "    \n",
    "$$ P(A ∪ B) = P(A) + P(B) - P(A ∩ B) $$"
   ]
  },
  {
   "cell_type": "markdown",
   "id": "1e19462d",
   "metadata": {},
   "source": [
    "__Exemplo:__   Qual é a probabilidade de que em um lançamento de um dado saia um número par ou maior do que três?"
   ]
  },
  {
   "cell_type": "markdown",
   "id": "da8cc18c",
   "metadata": {},
   "source": [
    "S(dado) = {1, 2, 3, 4, 5, 6}\n",
    "\n",
    "#Espaço Amostral A\n",
    "\n",
    "S(A) = {2, 4, 6}\n",
    "\n",
    "P(A) = cnt(S(A)) / cnt(S(dado)) = 3/6 = 1/2\n",
    "\n",
    "\n",
    "\n",
    "#Espaço Amostral B\n",
    "\n",
    "S(B) = {4, 5, 6}\n",
    "\n",
    "P(B) = cnt(S(B)) / cnt(S(dado)) = 3/6 = 1/2\n",
    "\n",
    "\n",
    "\n",
    "#Espaço Amostral A ∩ B\n",
    "\n",
    "S(A ∩ B) = {4, 6}\n",
    "\n",
    "P(A ∩ B) = 2/6 = 1/3\n",
    "\n",
    "\n",
    "\n",
    "#Probabilidade da União de A e B\n",
    "\n",
    "P(A ∪ B) = P(A) + P(B) - P(A ∩ B) = 1/2 + 1/2 - 1/3 = 2/3\n",
    "\n",
    "\n",
    "\n",
    "#Espaço Amostral A ∪ B\n",
    "\n",
    "S(A ∪ B) = {2, 4, 5, 6}\n",
    "\n",
    "P(A ∪ B) = 4/6 = 2/3"
   ]
  },
  {
   "cell_type": "markdown",
   "id": "27df0531",
   "metadata": {},
   "source": [
    "## "
   ]
  },
  {
   "cell_type": "markdown",
   "id": "b3f953f1",
   "metadata": {},
   "source": [
    "## Probabilidade Condicional\n",
    "\n",
    "Seja dois eventos A e B, a probabilidade condicional entre esses eventos é definada como:\n",
    "    \n",
    "$$ P(A | B) = \\frac{P(A ∩ B)}{P(B)} $$\n",
    "\n",
    "Lembrando que isso é possível se e somente se $ P(B) > 0$.\n",
    "\n",
    "A forma mais comum de ler um problema de probabilidade condicional seria __\"qual a probabilidade de ocorrer o evento A, dado que ocorreu o evento B\"__.\n",
    "\n",
    "__Exemplo:__  Qual a probabilidade de ao lançar um dado sair um número par, dado que o número que saiu é maior do que 1?"
   ]
  },
  {
   "cell_type": "markdown",
   "id": "4790bd73",
   "metadata": {},
   "source": [
    "# Espaço Amostral\n",
    "\n",
    "S = {1, 2, 3, 4, 5, 6}\n",
    "\n",
    "# Evento B\n",
    "\n",
    "B = {2, 3, 4, 5, 6}\n",
    "\n",
    "P(B) = 5/6\n",
    "\n",
    "# Evento A\n",
    "\n",
    "A = {2, 4, 6}\n",
    "\n",
    "\n",
    "# Evento A ∩ B\n",
    "\n",
    "A ∩ B = {2, 4, 6}\n",
    "\n",
    "P(A ∩ B) = 3/6 = 1/2\n",
    "\n",
    "# Probabilidade condicional A | B\n",
    "\n",
    "P(A | B) = P(A ∩ B)/P(B) = (1/2)/(5/6) = 3/5"
   ]
  },
  {
   "cell_type": "markdown",
   "id": "79549911",
   "metadata": {},
   "source": [
    "![image.png](attachment:image.png)"
   ]
  },
  {
   "cell_type": "markdown",
   "id": "efcfbcaf",
   "metadata": {},
   "source": [
    "## "
   ]
  },
  {
   "cell_type": "markdown",
   "id": "fd0119b7",
   "metadata": {},
   "source": [
    "## Eventos Independentes"
   ]
  },
  {
   "cell_type": "markdown",
   "id": "dad5ded0",
   "metadata": {},
   "source": [
    "Dois eventos $A$ e $B$ são independentes, se e somente se acontecer a seguinte condição:\n",
    "    \n",
    "$$ P(A ∩ B) = P(A)P(B) $$"
   ]
  },
  {
   "cell_type": "markdown",
   "id": "c705c070",
   "metadata": {},
   "source": [
    "__Exemplo 1:__   Foi lançado um dado e uma moeda, qual é a probabilidade de ocorrer um número ímpar e sai cara na moeda?"
   ]
  },
  {
   "cell_type": "code",
   "execution_count": 4,
   "id": "0cf0ea59",
   "metadata": {},
   "outputs": [],
   "source": [
    "## Evento A - Número ímpar no Dado\n",
    "#S(A) = {1, 3, 5}\n",
    "#P(A) = 3/6 = 1/2\n",
    "\n",
    "# Evento B - Sair cara na Moeda\n",
    "#S(B) = {K}\n",
    "#P(B) = 1/2\n",
    "\n",
    "# Probabilidade de A ∩ B\n",
    "#P(A ∩ B) = P(A)P(B) = 1/2 * 1/2 = 1/4\n",
    "\n",
    "# Espaço Amostral Dado e Moeda\n",
    "#S = {(1,K), (2,K), (3,K), (4,K), (5,K), (6,K),\n",
    "#     (1,C), (2,C), (3,C), (4,C), (5,C), (6,C)}\n",
    "\n",
    "#S(A ∩ B) = {(1,K), (3,K), (5,K)}\n",
    "#P(A ∩ B) = 3/12 = 1/4"
   ]
  },
  {
   "cell_type": "markdown",
   "id": "1203fa84",
   "metadata": {},
   "source": [
    "![image.png](attachment:image.png)"
   ]
  },
  {
   "cell_type": "markdown",
   "id": "e14d1ef6",
   "metadata": {},
   "source": [
    "__Exemplo 2:__ Em uma caixa temos 8 bolas pretas e 12 brancas. Vamos calcular a probabilidade de alguns casos:\n",
    "\n",
    "__A)__ A primeira bola sorteada foi uma bola branca, qual a probabilidade disso ocorrer?"
   ]
  },
  {
   "cell_type": "code",
   "execution_count": null,
   "id": "a45e5d45",
   "metadata": {},
   "outputs": [],
   "source": [
    "#P(B) = (bolas brancas) / (total bolas) = 12/20 = 3/5"
   ]
  },
  {
   "cell_type": "markdown",
   "id": "9b9451a1",
   "metadata": {},
   "source": [
    "__B)__ Depois do primeiro sorteio qual a probabilidade de sair uma bola preta, no caso que foi devolvida a bola do primeiro sorteio para a caixa"
   ]
  },
  {
   "cell_type": "code",
   "execution_count": null,
   "id": "5cab068b",
   "metadata": {},
   "outputs": [],
   "source": [
    "#P(A) = (bolas pretas) / (total bolas) = 8/20 = 2/5"
   ]
  },
  {
   "cell_type": "markdown",
   "id": "c6fabf18",
   "metadata": {},
   "source": [
    "__C)__ Como ficaria essa probabilidade da bola preta caso a bola branca não seja devolvida a caixa?"
   ]
  },
  {
   "cell_type": "code",
   "execution_count": null,
   "id": "3ca24445",
   "metadata": {},
   "outputs": [],
   "source": [
    "#P(B) = (bolas pretas) / (total bolas - 1) = 8/19"
   ]
  },
  {
   "cell_type": "markdown",
   "id": "af68256f",
   "metadata": {},
   "source": [
    "__D)__ Qual a probabilidade de sortear primeiro uma bola preta e depois uma branca, com reposição neste caso?"
   ]
  },
  {
   "cell_type": "code",
   "execution_count": null,
   "id": "1b421843",
   "metadata": {},
   "outputs": [],
   "source": [
    "#P(A ∩ B) = P(A)P(B) = P(preta)P(branca) = (2/5)*(3/5) = 6/25"
   ]
  },
  {
   "cell_type": "markdown",
   "id": "5ac6803e",
   "metadata": {},
   "source": [
    "__E)__ Repita o item __D__ agora aplicando para o caso sem reposição."
   ]
  },
  {
   "cell_type": "code",
   "execution_count": null,
   "id": "24732348",
   "metadata": {},
   "outputs": [],
   "source": [
    "# Aqui calculamos a partir da probabilidade condicional\n",
    "#P(A ∩ B) = P(B | A)P(A) = P(branca | preta)P(preta)\n",
    "\n",
    "# Probabilidade condicional\n",
    "# Dado que saiu uma bola preta, o nosso espaço amostral agora contem 19 bolas\n",
    "#P(branca | preta) = (12/19)\n",
    "\n",
    "#P(A ∩ B) = P(branca | preta)P(preta) = (12/19)*(2/5) = 24/95"
   ]
  },
  {
   "cell_type": "markdown",
   "id": "0dec3bc1",
   "metadata": {},
   "source": [
    "Propriedade importante sobre a probabilidade condicional! Seja os eventos A e B e a definição da probabilidade condicional:\n",
    "\n",
    "$$ P(A | B) = \\frac{P(A ∩ B)}{P(B)} $$\n",
    "\n",
    "Se pegarmos a probabilidade condicional agora do evento B dado que ocorreu o A:\n",
    "\n",
    "$$ P(B | A) = \\frac{P(A ∩ B)}{P(A)} $$\n",
    "\n",
    "Dessa forma conseguimos tirar a seguinte relação:\n",
    "\n",
    "$$ P(A | B)P(B) = P(B | A)P(A) $$\n",
    "    \n"
   ]
  },
  {
   "cell_type": "markdown",
   "id": "335407ab",
   "metadata": {},
   "source": [
    "## "
   ]
  },
  {
   "cell_type": "markdown",
   "id": "b0755723",
   "metadata": {},
   "source": [
    "![image.png](attachment:image.png)"
   ]
  },
  {
   "cell_type": "markdown",
   "id": "d48900c3",
   "metadata": {},
   "source": [
    "## Teorema de Bayes\n",
    "\n",
    "O **Teorema de Bayes** é um conceito importantíssimo da probabilidade e uma das ferramentas mais importantes de serem aprendidas para um Cientista de Dados, pois é a base de uma área com muitas aplicações práticas chamada [inferência bayesiana](https://en.wikipedia.org/wiki/Bayesian_inference).\n",
    "\n",
    "O Teorema de Bayes é uma forma **calcular probabilidades condicionais de forma reversa**.\n",
    "\n",
    "Vamos considerar o clássico exemplo para explicar o teorema. \n",
    "\n",
    "Temos uma determinada doença C, e um teste T utilizado para detectar esta doença. \n",
    "\n",
    "O teste não é 100% confiável, indicando pessoas que **não têm a doença como doentes (falsos positivos)** e **não detectando a doença em pessoas que a possuem (falsos negativos)**\n",
    "\n",
    "> Consideremos que 1% das pessoas possui a doença: $P(C) = 0.01$\n",
    "\n",
    "> Logo, 99% das pessoas não a possui: $P(¬C) = 0.99$\n",
    "\n",
    "O teste detecta a doença em pessoas efetivamente doentes 90% das vezes e, consequentemente, não detecta a doença em pessoas doentes em 10% dos casos. \n",
    "\n",
    "Em pessoas não doentes, o teste detecta a doença (erradamente) em 5% dos casos e não detecta em 95% dos casos. Podemos resumir desta forma:\n",
    "\n",
    "|                | Pessoa Doente | Pessoa Não Doente |\n",
    "|----------------|---------------|-------------------|\n",
    "| Teste positivo | 90 %          | 5 %               |\n",
    "| Teste Negativo | 10 %          | 95 %              |\n",
    "\n",
    "A tabela acima é chamada de **matriz de confusão**, indicando fora da diagonal os caos confusos (errados), e na diagonal os casos corretos\n",
    "\n",
    "<img src=\"https://miro.medium.com/max/2102/1*fxiTNIgOyvAombPJx5KGeA.png\" width=300>\n",
    "\n",
    "Agora, a chance de você **ter a doença e o teste detecta-la (verdadeiro positivo)** é igual **a chance de você ter a doença multiplicado pela chance do teste ter dado positivo corretamente**;\n",
    "\n",
    "Analogamente, a chance de você **não ter a doença e o teste detecta-la mesmo assim (falso positivo)** é igual **a chance de você não ter a doença multiplicado pela chance do teste ter dado positivo incorretamente**;\n",
    "\n",
    "E assim por diante, para todos os resultados. Atualizamos então a tabela, que fica assim:\n",
    "\n",
    "|                | Pessoa Doente                            | Pessoa Não Doente                               | Soma\n",
    "|----------------|------------------------------------------|-------------------------------------------------|-------|\n",
    "| **Teste positivo** | Prob Doente e teste pos: 1% × 90% = 0,9% | Prob Não Doente e teste pos: 99% × 5% = 4,95%   | 5,85%\n",
    "| **Teste Negativo** | Prob Doente e teste neg: 1% × 10% = 0,1% | Prob Não Doente e teste neg: 99% × 95% = 94,05% | 94,15%\n",
    "| **Soma** | 1% | 99% | 100%\n",
    "\n",
    "Estas então são nossas probabilidades para cada evento. Note que, se somadas, o resultado é 1, ou 100%. \n",
    "\n",
    "Agora, vamos supor que você fez o teste e o **resultado deu positivo**. \n",
    "\n",
    "Como devemos interpretar este resultado? Qual a chance de você de fato ter a doença? \n",
    "\n",
    "Considerando o cálculo básico de probabilidade, temos que a chance de ter a doença é igual à **chance do evento desejado dividido por todas as possibilidades**. \n",
    "\n",
    "O evento desejado é um positivo verdadeiro, ou seja, **teste positivo e a pessoa com doença**. Para este caso, a probabilidade é de 0,9% (olhe na tabela!) \n",
    "\n",
    "O **total de possibilidades com relação ao teste positivo** seria a **soma da probabilidade de “doente e teste pos”** (verdadeiro positivo) com **“não doente e teste pos” (falso positivo)**, que resultará em 0,9% + 4,95%, igual a 5,85%.\n",
    "\n",
    "Fazendo toda a conta, nossa chance de ter a doença se temos um teste positivo é de **0,9%/5,85% = 0.1538**, ou **15,38%**. \n",
    "\n",
    "É uma chance bem mais baixa do que imaginamos apenas ao olhar para o problema e para a suposta precisão do teste!\n",
    "\n",
    "#### Em equações, temos:\n",
    "\n",
    "* P(C|+) = Probabilidade de ter a doença dado um teste positivo (este é a probabilidade que desejamos saber)\n",
    "\n",
    "* P(C) = Probabilidade da pessoa ter a doença = 1%\n",
    "\n",
    "* P(+|C) = Probabilidade de um teste positivo se a pessoa tem a doença = 0,9% \n",
    "\n",
    "* P(+|¬C) = Probabilidade de um teste positivo se a pessoa não tem a doença = 4,95%\n",
    "\n",
    "    **O Teorema de bayes diz que :**\n",
    "    \n",
    "    \n",
    "$$ P(C|+) = \\frac{P(+|C) \\ P(C)}{P(+|C) \\ P(C)  + P(+|¬ C) \\ P(¬ C)}    $$"
   ]
  },
  {
   "cell_type": "markdown",
   "id": "780971d5",
   "metadata": {},
   "source": [
    "## "
   ]
  },
  {
   "cell_type": "markdown",
   "id": "06a5b5b9",
   "metadata": {},
   "source": [
    "## Exercícios"
   ]
  },
  {
   "cell_type": "markdown",
   "id": "7305090c",
   "metadata": {},
   "source": [
    "__1)__ Um teste para identificação de malária na população amazônica possui uma taxa de 8% de falso positivo e 2% de falso negativo, ou seja, em 8% dos não-infectados acusa como infectados, e em 2% dos infectados acusa como não infectados. Sabendo que atualmente 0,4% da população amazônica está infectada, calcule a probabilidade de um paciente cujo teste apontou positivo estar realmente não infectado."
   ]
  },
  {
   "cell_type": "markdown",
   "id": "334ef8a8",
   "metadata": {},
   "source": [
    "* C  = contaminados\n",
    "* ~C = Não contaminados\n",
    "* \\+  = teste positivo\n",
    "\n",
    "\n",
    "P(+|~C) = 8% = 0.08 (Falso positivo)\n",
    "\n",
    "P(-|C) = 2% = 0.02 (Falsos negativos)\n",
    "\n",
    "P(+|C) = 98% = 0.98\n",
    "\n",
    "P(C) = 0.4% = 0.004 \n",
    "\n",
    "P(~C) = 99.6% = 0.996\n",
    "\n",
    "P(~C|+) = $ \\frac{P(+|¬C).P(¬C)}{P(+|¬C).P(¬C)+(+|C).P(C)}$\n",
    "\n",
    "\n",
    "P(~C|+) = $ \\frac{0.08 * 0.996}{0.08*0.996 + 0.98*0.004}$\n",
    "\n",
    "P(~C|+) = $ 95.31\\%$"
   ]
  },
  {
   "cell_type": "markdown",
   "id": "7d7504e8",
   "metadata": {},
   "source": [
    "__2)__ Luiza tem um pote de cápsulas de café onde têm cápsulas de diversas cores. Então Luiza decidiu contar quantas cápsulas de cada ela tem:\n",
    "\n",
    "- Azul: 10 cápsulas\n",
    "- Roxo: 7 cápsulas\n",
    "- Preto: 8 cápsulas\n",
    "- Vermelho: 5 cápsulas\n",
    "\n",
    "Colocando todas as cápsulas de volta e escolhendo duas quaisquer para tomar, qual a probabilidade de Luiza pegar aleatoriamente primeiro uma cápsula azul e depois uma vermelha, dado que são eventos independentes?"
   ]
  },
  {
   "cell_type": "code",
   "execution_count": null,
   "id": "c8126e73",
   "metadata": {},
   "outputs": [],
   "source": []
  },
  {
   "cell_type": "code",
   "execution_count": null,
   "id": "fb13caaf",
   "metadata": {},
   "outputs": [],
   "source": []
  },
  {
   "cell_type": "markdown",
   "id": "c94c1d2a",
   "metadata": {},
   "source": [
    "__3)__ Se uma moeda for lançada 5 vezes, qual é a probabilidade de sair pelo menos 4 caras?"
   ]
  },
  {
   "cell_type": "code",
   "execution_count": null,
   "id": "a46a6ad4",
   "metadata": {},
   "outputs": [],
   "source": []
  },
  {
   "cell_type": "code",
   "execution_count": null,
   "id": "b93b1614",
   "metadata": {},
   "outputs": [],
   "source": []
  },
  {
   "cell_type": "markdown",
   "id": "a6029215",
   "metadata": {},
   "source": [
    "__4)__ Dois dados são lançados e vamos definir os eventos A e B como:\n",
    "    \n",
    "- __A__: a soma dos dados é igual a 6;\n",
    "    \n",
    "- __B__: saiu o valor 4 no primeiro dado.\n",
    "    \n",
    "Esses eventos são independentes?"
   ]
  },
  {
   "cell_type": "markdown",
   "id": "acdc946b",
   "metadata": {},
   "source": [
    "# 03 - Distribuições de Probabilidade\n",
    "\n",
    "Nessa aula, iremos tratar dos seguintes conteúdos:\n",
    "- Tipos de Variáveis Aleatórias\n",
    "- Esperança e Variância\n",
    "- Distribuição de Probabilidade\n",
    "- Distribuição - Bernoulli e Binomial\n",
    "- Distribuição Poisson\n",
    "- Distribuição Exponencial\n",
    "- Distribuição Uniforme"
   ]
  },
  {
   "cell_type": "markdown",
   "id": "e6c01d62",
   "metadata": {},
   "source": [
    "<img src = \"https://miro.medium.com/max/450/1*FSuKbxt4bLeqTrlbhg3hQQ.gif\">"
   ]
  },
  {
   "cell_type": "markdown",
   "id": "68612302",
   "metadata": {},
   "source": [
    "## "
   ]
  },
  {
   "cell_type": "code",
   "execution_count": 42,
   "id": "dcdb2e33",
   "metadata": {},
   "outputs": [],
   "source": [
    "# Bibliotecas\n",
    "import pandas as pd \n",
    "import numpy as np   \n",
    "import matplotlib.pyplot as plt    \n",
    "import seaborn as sns   \n",
    "\n",
    "import scipy as st      \n"
   ]
  },
  {
   "cell_type": "markdown",
   "id": "4f9f7e8c",
   "metadata": {},
   "source": [
    "## Tipos de Variáveis Aleatórias\n",
    "\n",
    "\n",
    "<br>\n",
    "\n",
    "Vimos que uma __variável aleatória__ é uma variável cujo valor depende de fatores não determinísticos, ou melhor dizendo __probabilísticos__. Detalhando um pouco mais sobre as variáveis aleatórias, existem dois tipos mais comuns que vamos trabalhar no nosso curso, sendo elas:\n",
    "\n",
    "- __Discreta:__ são as variáveis aleatórias que a distribuição de probabilidade assume apenas valores enumeráveis;\n",
    "\n",
    "- __Contínua:__ são as variáveis aleatórias que a distribuição de probabilidade assume valores contínuos dentro de um intervalo pré-determinado.\n",
    "\n",
    "Mas para realmente entendermos a diferença entre cada uma delas, precisamos definir o que são __distribuições de probabilidade__."
   ]
  },
  {
   "cell_type": "markdown",
   "id": "9f256efe",
   "metadata": {},
   "source": [
    "## "
   ]
  },
  {
   "cell_type": "markdown",
   "id": "4e04cbca",
   "metadata": {},
   "source": [
    "## Distribuições de Probabilidade\n",
    "\n",
    "<br>\n",
    "\n",
    "Uma **distribuição de probabilidade** é uma função que descreve o comportamento aleatório de um fenômeno dependente do acaso.\n",
    "\n",
    "A distribuição de probabilidade pode **modelar incertezas** e descrever fenômenos físicos, biológicos, econômicos, entre outros.\n",
    "\n",
    "A representação matemática para a distribuição de probabilidade é feita utilizando o que chamamos de __função de densidade de probabilidade__. Para cada um dos casos de variáveis aleatórias temos uma definição de densidade de probabilidade, conforme veremos agora:\n",
    "\n",
    "- __Discretas:__ Para o caso das variáveis aleatórias discretas a definição matemática para a função de densidade de probabilidade, pode ser dada da seguinte forma:\n",
    "\n",
    "$$ P(X = x) = F(X) $$\n",
    "\n",
    "Ou seja, para o caso discreto, a variável aleatória assume é uma função que assume um valor real para cada elemento do espaço amostral. Partir das definições gerais para probabilidade, são conhecidas as seguintes são sempre válidas:\n",
    "\n",
    "- $ 0 \\leq P(X = x) \\leq 1 $;\n",
    "\n",
    "<br>\n",
    "\n",
    "- $ P(X = x) \\geq 0 $;\n",
    "\n",
    "<br>\n",
    "\n",
    "- $ \\sum_{i=1}^{\\infty} P(X = x_{i}) = 1 $ ;\n",
    "\n",
    "<br>\n",
    "\n",
    "- $ P(a \\leq X \\leq b) = \\sum_{x = a}^{x = b} P(X = x)$;"
   ]
  },
  {
   "cell_type": "markdown",
   "id": "d49485a9",
   "metadata": {},
   "source": [
    "## "
   ]
  },
  {
   "cell_type": "markdown",
   "id": "6061feaa",
   "metadata": {},
   "source": [
    "- __Contínuas:__ Para o caso das variáveis aleatórias contínuas a definição matemática para a função de densidade de probabilidade, pode ser dada da seguinte forma:\n",
    "\n",
    "$$ P(X) = \\int p(x) \\,dx $$\n",
    "\n",
    "Da mesma forma que para o caso discreto, vamos definir algumas relações conhecidas as v. a. contínuas:\n",
    "\n",
    "- $ p(x) \\geq 0, \\forall x \\in \\mathbb{R}$;\n",
    "\n",
    "<br>\n",
    "\n",
    "- $ \\int_{-\\infty}^{\\infty} p(x) \\,dx = 1 $ ;\n",
    "\n",
    "<br>\n",
    "\n",
    "- $ P(a \\leq X \\leq b) = \\int_{a}^{b} p(x) \\,dx$;\n",
    "\n",
    "<br>\n",
    "\n",
    "Uma outra forma de interpretarmos a probabilidade de uma dada distribuição entre o intervalo $a$ e $b$, seria como a área abaixo ao gráfico da função de densidade de probabilidade:\n",
    "\n",
    "<img src=\"https://work.thaslwanter.at/Stats/html/_images/PDF.png\" width=400>\n"
   ]
  },
  {
   "cell_type": "markdown",
   "id": "4de99850",
   "metadata": {},
   "source": [
    "## "
   ]
  },
  {
   "cell_type": "markdown",
   "id": "58f62106",
   "metadata": {},
   "source": [
    "## Valor Esperado (Esperança) e Variância\n",
    "\n",
    "<br>\n",
    "\n",
    "Assim como no caso da Estatística Descritiva, no casos de modelos probabilísticos também existem parâmetros de posição e variabilidade utilizada para caracterizar uma distribuição de probabilidade:\n",
    "\n",
    "- __Valor Esperado (Esperança):__ O valor esperado seria o produto da variável aleatória $x$ e sua respectiva probabilidade, funcionando como se fosse uma média ponderada para as probabilidades. O cálculo do valor esperado é definido da seguinte forma:\n",
    "\n",
    "\n",
    "__Caso Discreto:__  $ E[X] = \\sum xP(X = x) $\n",
    "\n",
    "\n",
    "__Caso Contínuo:__  $ E[X] = \\int xp(x) dx $\n",
    "\n",
    "<br><br>\n",
    "\n",
    "- __Variância:__ A variância é o valor que mede a variabilidade, ou seja o quão dispersão estão as probabilidade em relação ao valor esperado. A variância é definida da seguinte forma:\n",
    "\n",
    "<br>\n",
    "\n",
    "$$ V[X] = \\sigma^{2} = E[(X - E[X])^2] = E[X^2] - E[X]^2$$\n",
    "\n",
    "<br>\n",
    "Onde, \n",
    "\n",
    "$$ \n",
    "E[X^2] = \\sum x^2P(X = x) \n",
    "$$"
   ]
  },
  {
   "cell_type": "markdown",
   "id": "d8f4318e",
   "metadata": {},
   "source": [
    "## "
   ]
  },
  {
   "cell_type": "markdown",
   "id": "8c36f153",
   "metadata": {},
   "source": [
    "## Distribuições\n",
    "\n",
    "Nos próximos tópicos, vamos apresentar algumas das principais distribuições utilizadas!"
   ]
  },
  {
   "cell_type": "markdown",
   "id": "201cc67a",
   "metadata": {},
   "source": [
    "## "
   ]
  },
  {
   "cell_type": "code",
   "execution_count": null,
   "id": "d8cec80c",
   "metadata": {},
   "outputs": [],
   "source": []
  },
  {
   "cell_type": "markdown",
   "id": "e9e1f767",
   "metadata": {},
   "source": [
    "## Distribuição Uniforme"
   ]
  },
  {
   "cell_type": "markdown",
   "id": "e7dab5ee",
   "metadata": {},
   "source": [
    "A distribuição uniforme é uma distribuição bem simples e não possui parâmetros, a única diferença é que só vai haver probabilidade para um determinado evento $x$, se $x \\in [a, b]$. Dessa forma a equação de densidade de probabilidade para a distribuição uniforme é dado por:\n",
    "\n",
    "$$ f(x) = \\frac{1}{b - a}, a \\leq x \\leq b $$\n",
    "\n",
    "E para o caso de $x \\notin [a, b]$, a função de densidade será $f(x) = 0$\n",
    "\n",
    "<br>\n",
    "Os valores para o valor esperado e a variância para a distribuição exponencial serão respectivamente:\n",
    "\n",
    "- __Valor Esperado:__ $ E[X] = \\frac{a + b}{2} $;\n",
    "\n",
    "- __Variância:__ $ V[X] = \\frac{(b - a)^2}{12}$.\n"
   ]
  },
  {
   "cell_type": "code",
   "execution_count": null,
   "id": "8dd42c18",
   "metadata": {},
   "outputs": [],
   "source": [
    "# simulação de uma distribuição uniforme\n"
   ]
  },
  {
   "cell_type": "code",
   "execution_count": null,
   "id": "bc19ff1f",
   "metadata": {},
   "outputs": [],
   "source": []
  },
  {
   "cell_type": "markdown",
   "id": "002c98ef",
   "metadata": {},
   "source": [
    "## "
   ]
  },
  {
   "cell_type": "markdown",
   "id": "7c07b50b",
   "metadata": {},
   "source": [
    "## Distribuição de Bernoulli/Binomial\n",
    "\n",
    "A distribuição de Bernoulli  é uma distribuição discreta para um espaço amostral $k \\in \\{0, 1\\}$, baseando a probabilidade em __sucessos__ e __falhas__. Onde a probabilidade de sucesso de um evento ($k = 1$) é igual a $p$ e a probabilidade de falha ($k = 0$) seria o valor complementar $1 - p$. A função que descreve a distribuição de Bernoulli pode ser definida como:\n",
    "\n",
    "<br>\n",
    "\n",
    "$$ P(X = k) = p^{k}(1-p)^{(1-k)} $$\n",
    "\n",
    "<br>\n",
    "Os valores para o valor esperado e a variância para a distribuição de Bernoulli serão respectivamente:\n",
    "\n",
    "- __Valor Esperado:__ $ E[X] = p $;\n",
    "\n",
    "- __Variância:__ $ V[X] = p(1-p)$.\n",
    "\n",
    "<br>\n",
    "\n",
    "Mas o caso da distribuição de Bernoulli, tratamos apenas para um evento isolado, como por exemplo o lançamento de uma moeda. Quando trabalhamos com eventos __com repetições__, utiliza-se o caso geral da distribuição de Bernoulli que seria uma __Distribuição Binomial.__\n"
   ]
  },
  {
   "cell_type": "markdown",
   "id": "f12b4c3b",
   "metadata": {},
   "source": [
    "### Distribuição Binomial\n",
    "\n",
    "Seja a variável aleatória baseado em $n$ repetições de Bernoulli, temos que a definição da distribuição Binomial é dada por:\n",
    "\n",
    "$$ P(X = k) = \\binom{n}{k}p^{k}(1-p)^{(n-k)} = \\frac{n!}{k!(n - k)!}p^{k}(1-p)^{(n-k)}$$\n",
    "\n",
    "<br>\n",
    "Os valores para o valor esperado e a variância para a distribuição Binomial serão respectivamente:\n",
    "\n",
    "- __Valor Esperado:__ $ E[X] = np $;\n",
    "\n",
    "- __Variância:__ $ V[X] = np(1-p)$."
   ]
  },
  {
   "cell_type": "code",
   "execution_count": 2,
   "id": "77c67ab7",
   "metadata": {},
   "outputs": [],
   "source": [
    "from scipy import stats as st\n",
    "import numpy as np"
   ]
  },
  {
   "cell_type": "code",
   "execution_count": 44,
   "id": "82cca9e8",
   "metadata": {},
   "outputs": [],
   "source": [
    "n = 4 # numero de tentativas\n",
    "k  = 3 # numero de sucessos\n",
    "p = 0.2 # prob de sucesso\n",
    "\n",
    "fp = st.binom(n=n, p=p)\n",
    "#fb= pmf(k=k) # probability mass function (area)"
   ]
  },
  {
   "cell_type": "code",
   "execution_count": 45,
   "id": "6d89cea2",
   "metadata": {},
   "outputs": [],
   "source": [
    "n = 4 # numero de tentativas\n",
    "p = 0.2 # prob de sucesso\n",
    "\n",
    "fp = st.binom(n=n, p=p)\n",
    "resposta = fp.pmf(k=3) + fp.pmf(k=4)"
   ]
  },
  {
   "cell_type": "code",
   "execution_count": 46,
   "id": "3517ef1f",
   "metadata": {},
   "outputs": [
    {
     "name": "stdout",
     "output_type": "stream",
     "text": [
      "P(X >=3) = 0.027200000000000002\n"
     ]
    }
   ],
   "source": [
    "print('P(X >=3) =', resposta)"
   ]
  },
  {
   "cell_type": "markdown",
   "id": "17c9d512",
   "metadata": {},
   "source": [
    "__Exemplo:__ Em uma caixa há 8 bolas brancas e 4 pretas. Retira-se 5 bolas com reposição. Calcule a probabilidade de que:\n",
    "\n",
    "__A)__ saiam duas bolas brancas:"
   ]
  },
  {
   "cell_type": "markdown",
   "id": "0d0b1957",
   "metadata": {},
   "source": [
    "https://docs.scipy.org/doc/scipy/reference/generated/scipy.stats.binom.html"
   ]
  },
  {
   "cell_type": "code",
   "execution_count": 47,
   "id": "5b72cce9",
   "metadata": {},
   "outputs": [
    {
     "name": "stdout",
     "output_type": "stream",
     "text": [
      "P(X=2) = 0.16460905349794244\n"
     ]
    }
   ],
   "source": [
    "# x = numero de bolas brancas\n",
    "\n",
    "n = 5\n",
    "p = 8/12\n",
    "k = 2\n",
    "\n",
    "fp = st.binom(n = n, p = p)\n",
    "\n",
    "resultado = fp.pmf(k=k)\n",
    "print('P(X=2) =', resultado)"
   ]
  },
  {
   "cell_type": "markdown",
   "id": "ab6d5c67",
   "metadata": {},
   "source": [
    "__B)__ saiam pelo menos 3 pretas:"
   ]
  },
  {
   "cell_type": "code",
   "execution_count": 3,
   "id": "9a2fe8c5",
   "metadata": {},
   "outputs": [
    {
     "name": "stdout",
     "output_type": "stream",
     "text": [
      "P(X=2) = 0.20576131687242782\n"
     ]
    }
   ],
   "source": [
    "\n",
    "n = 5\n",
    "p = 4/12\n",
    "\n",
    "\n",
    "fp = st.binom(n = n, p = p)\n",
    "\n",
    "resultado = fp.pmf(k=3) + fp.pmf(k=4)\n",
    "print('P(X=2) =', resultado)"
   ]
  },
  {
   "cell_type": "markdown",
   "id": "21cdd9f5",
   "metadata": {},
   "source": [
    "## "
   ]
  },
  {
   "cell_type": "markdown",
   "id": "95d5a05b",
   "metadata": {},
   "source": [
    "## Distribuição de Poisson"
   ]
  },
  {
   "cell_type": "markdown",
   "id": "650466ab",
   "metadata": {},
   "source": [
    "Uma variável aleatória tem distribuição de Poisson quando podemos descrever um evento em relação ao uma taxa/contagem de ocorrência, normalmente chamada de $ \\lambda $, sendo $ \\lambda > 0$. Dessa forma a equação para a distribuição de Poisson será definida como:\n",
    "\n",
    "$$ P(X = k) = \\frac{e^{-\\lambda}\\lambda^{k}}{k!} $$\n",
    "\n",
    "<br>\n",
    "Os valores para o valor esperado e a variância para a distribuição de Poisson serão respectivamente:\n",
    "\n",
    "- __Valor Esperado:__ $ E[X] = \\lambda $;\n",
    "\n",
    "- __Variância:__ $ V[X] = \\lambda$."
   ]
  },
  {
   "cell_type": "code",
   "execution_count": 49,
   "id": "29cea6d2",
   "metadata": {},
   "outputs": [
    {
     "name": "stdout",
     "output_type": "stream",
     "text": [
      "P(X <= 2) =  0.12465201948308113\n"
     ]
    }
   ],
   "source": [
    "lbda = 5 # 5 ligações por hr\n",
    "fp = st.poisson(lbda)\n",
    "resultado = fp.pmf(k =0) + fp.pmf(k =1) + fp.pmf(k =2)\n",
    "print('P(X <= 2) = ', resultado)"
   ]
  },
  {
   "cell_type": "code",
   "execution_count": 50,
   "id": "080646b2",
   "metadata": {},
   "outputs": [
    {
     "name": "stdout",
     "output_type": "stream",
     "text": [
      "P(X = 25) =  0.05111533742894147\n"
     ]
    }
   ],
   "source": [
    "# 25 lig  no exp (6h)\n",
    "lbda = 6*5\n",
    "fp = st.poisson(lbda)\n",
    "resultado = fp.pmf(k =25)\n",
    "print('P(X = 25) = ', resultado)"
   ]
  },
  {
   "cell_type": "code",
   "execution_count": null,
   "id": "6f91259d",
   "metadata": {},
   "outputs": [],
   "source": []
  },
  {
   "cell_type": "markdown",
   "id": "623d31d2",
   "metadata": {},
   "source": [
    "__Exemplo:__ Em uma central telefônica chegam 300 ligações por hora. Sabendo que segue uma distribuição de Poisson, qual é a probabilidade de que:\n",
    "   \n",
    "__A)__ Em um minuto não ocorra ligações;"
   ]
  },
  {
   "cell_type": "code",
   "execution_count": null,
   "id": "878d6951",
   "metadata": {},
   "outputs": [],
   "source": []
  },
  {
   "cell_type": "markdown",
   "id": "4236812d",
   "metadata": {},
   "source": [
    "__B)__ Em 2 minutos ocorram 2 chamadas;"
   ]
  },
  {
   "cell_type": "code",
   "execution_count": null,
   "id": "91974b7c",
   "metadata": {},
   "outputs": [],
   "source": []
  },
  {
   "cell_type": "markdown",
   "id": "6ee45062",
   "metadata": {},
   "source": [
    "## "
   ]
  },
  {
   "cell_type": "markdown",
   "id": "b63433ad",
   "metadata": {},
   "source": [
    "## Distribuição Exponencial"
   ]
  },
  {
   "cell_type": "markdown",
   "id": "e74fb967",
   "metadata": {},
   "source": [
    "Uma variável aleatória continua tem uma distribuição Exponencial quando queremos avaliar o tempo decorrido entre dois eventos consecutivos, diferente do Poisson que avalia de acordo com uma contagem de ocorrências em um espaço de tempo. A função densidade de probabilidade que descreve a distribuição exponencial pode ser descrita como:\n",
    "\n",
    "$$ f(x) = \\alpha e^{-\\alpha x}, x \\geq 0 $$\n",
    "\n",
    "No caso para $x < 0$, a probabilidade de $f(x) = 0$\n",
    "\n",
    "<br>\n",
    "Os valores para o valor esperado e a variância para a distribuição exponencial serão respectivamente:\n",
    "\n",
    "- __Valor Esperado:__ $ E[X] = \\frac{1}{\\alpha} $;\n",
    "\n",
    "- __Variância:__ $ V[X] = \\frac{1}{\\alpha^2}$.\n"
   ]
  },
  {
   "cell_type": "markdown",
   "id": "f2eb098d",
   "metadata": {},
   "source": [
    "__Exemplo:__ Um aparelho de celular dura em média 2 anos. Qual a probabilidade de que um celular deste modelo dure menos que 2 anos?"
   ]
  },
  {
   "cell_type": "code",
   "execution_count": 51,
   "id": "c7b18c62",
   "metadata": {},
   "outputs": [
    {
     "data": {
      "text/plain": [
       "0.6321205588285577"
      ]
     },
     "execution_count": 51,
     "metadata": {},
     "output_type": "execute_result"
    }
   ],
   "source": [
    "# Experança E[x] = 1/alpha\n",
    "\n",
    "alpha = 0.5\n",
    "\n",
    "st.expon.cdf(2,scale = 1/alpha) # função de distribuição acumulada"
   ]
  },
  {
   "cell_type": "markdown",
   "id": "42363444",
   "metadata": {},
   "source": [
    "__Exemplo:__ Um aparelho de celular dura em média 2 anos. Qual a probabilidade de que um celular deste modelo dure mais que 1 ano e menos que 2 anos?"
   ]
  },
  {
   "cell_type": "code",
   "execution_count": null,
   "id": "0d74abdf",
   "metadata": {},
   "outputs": [
    {
     "data": {
      "text/plain": [
       "0.2386512185411911"
      ]
     },
     "execution_count": 4,
     "metadata": {},
     "output_type": "execute_result"
    }
   ],
   "source": [
    "alpha = 0.5\n",
    "\n",
    "st.expon.cdf(2,scale = 1/alpha) - st.expon.cdf(1,scale = 1/alpha)"
   ]
  },
  {
   "cell_type": "markdown",
   "id": "fb1f3c29",
   "metadata": {},
   "source": [
    "__Exemplo:__ Um aparelho de celular dura em média 2 anos. Qual a probabilidade de que um celular deste modelo dure mais que 1 ano?"
   ]
  },
  {
   "cell_type": "code",
   "execution_count": null,
   "id": "6eb2adc5",
   "metadata": {},
   "outputs": [
    {
     "data": {
      "text/plain": [
       "0.6065306597126334"
      ]
     },
     "execution_count": 5,
     "metadata": {},
     "output_type": "execute_result"
    }
   ],
   "source": [
    "alpha = 0.5\n",
    "\n",
    "1 - st.expon.cdf(1,scale = 1/alpha)"
   ]
  },
  {
   "cell_type": "markdown",
   "id": "13179c11",
   "metadata": {},
   "source": [
    "## "
   ]
  },
  {
   "cell_type": "markdown",
   "id": "1b7c4bd1",
   "metadata": {},
   "source": [
    "## Exercícios"
   ]
  },
  {
   "cell_type": "markdown",
   "id": "f3221a5f",
   "metadata": {},
   "source": [
    "__1)__ Em uma caixa há 7 bolas brancas, 4 pretas e 5 vermelhas. Retira-se 6 bolas com reposição. Calcule a probabilidade de que:\n",
    "\n",
    "__A)__ saiam 4 bolas vermelhas:\n",
    "\n",
    "__B)__ pelo menos 3 bolas brancas:\n",
    "\n",
    "__C)__ 1 ou 2 bolas pretas."
   ]
  },
  {
   "cell_type": "code",
   "execution_count": null,
   "id": "a0d71ab2",
   "metadata": {},
   "outputs": [],
   "source": []
  },
  {
   "cell_type": "markdown",
   "id": "601851d0",
   "metadata": {},
   "source": [
    "## "
   ]
  },
  {
   "cell_type": "markdown",
   "id": "1bb1278e",
   "metadata": {},
   "source": [
    "__2)__ Em um livro de 800 páginas há 800 erros de impressão. Qual a probabilidade de que uma página contenha pelo menos 3 erros?"
   ]
  },
  {
   "cell_type": "code",
   "execution_count": null,
   "id": "b99744af",
   "metadata": {},
   "outputs": [],
   "source": []
  },
  {
   "cell_type": "markdown",
   "id": "73790e07",
   "metadata": {},
   "source": [
    "__3)__ Numa criação de coelhos, 45% são machos. Qual a probabilidade de nascerem pelo menos 5 coelhos machos num dia em que nasceram 15 coelhos?"
   ]
  },
  {
   "cell_type": "code",
   "execution_count": null,
   "id": "f1820419",
   "metadata": {},
   "outputs": [],
   "source": []
  },
  {
   "cell_type": "code",
   "execution_count": null,
   "id": "3fb31f4e",
   "metadata": {},
   "outputs": [],
   "source": []
  },
  {
   "cell_type": "markdown",
   "id": "b736a21d",
   "metadata": {},
   "source": [
    "## "
   ]
  },
  {
   "cell_type": "markdown",
   "id": "98241569",
   "metadata": {},
   "source": [
    "__4)__ Numa estrada há 2 acidentes para cada 100 km. Qual a probabilidade de que em:\n",
    "\n",
    "__A)__ 250 km pelo menos 3 acidentes?"
   ]
  },
  {
   "cell_type": "code",
   "execution_count": 12,
   "id": "0cb18cba",
   "metadata": {},
   "outputs": [],
   "source": [
    "# se em 100 km temos 2 acidentes\n",
    "# então em 50 km temos 1 acidente\n",
    "# logo 5 acidentes para cada 250 km\n",
    "\n",
    "#X = NUMERO DE ACIDENTES\n",
    "#P(X >= 3) = 1 - P(X<3) = 1 P(X=0) + P(X=1) + P(X=2)\n",
    "ldba = 5\n",
    "fp = st.poisson(ldba)\n",
    "#resultado = 1 - (fp.pmf(2) + fp.pmf(1) + fp.pmf(0))\n",
    "# ou\n",
    "resultado = 1 - fp.cdf(2)\n",
    "\n"
   ]
  },
  {
   "cell_type": "markdown",
   "id": "f01d6a5a",
   "metadata": {},
   "source": [
    "![image.png](attachment:image.png)"
   ]
  },
  {
   "cell_type": "markdown",
   "id": "b635c8bb",
   "metadata": {},
   "source": [
    "__B)__ 300 km ocorram 5 acidentes?"
   ]
  },
  {
   "cell_type": "code",
   "execution_count": 13,
   "id": "9029a63c",
   "metadata": {},
   "outputs": [
    {
     "name": "stdout",
     "output_type": "stream",
     "text": [
      "0.16062314104797995\n"
     ]
    }
   ],
   "source": [
    "ldba = 6\n",
    "fp = st.poisson(ldba)\n",
    "resultado = fp.pmf(k = 5)\n",
    "print(resultado)"
   ]
  },
  {
   "cell_type": "markdown",
   "id": "08ae81e0",
   "metadata": {},
   "source": [
    "# 04 - Distribuição Normal e Teorema Central do Limite\n",
    "\n",
    "Nessa aula, iremos tratar dos seguintes conteúdos:\n",
    "- Distribuição Normal\n",
    "- Teorema Central do Limite"
   ]
  },
  {
   "cell_type": "markdown",
   "id": "45d41207",
   "metadata": {},
   "source": [
    "<img src = \"https://miro.medium.com/max/1200/1*IdGgdrY_n_9_YfkaCh-dag.png\" width=800>"
   ]
  },
  {
   "cell_type": "markdown",
   "id": "1c45feb8",
   "metadata": {},
   "source": [
    "## "
   ]
  },
  {
   "cell_type": "markdown",
   "id": "723ce44b",
   "metadata": {},
   "source": [
    "## Distribuição Normal"
   ]
  },
  {
   "cell_type": "markdown",
   "id": "db6efd79",
   "metadata": {},
   "source": [
    "A distribuição normal é uma das distribuições mais conhecidas da estatística/probabilidade! Ela é representada por uma **curva simétrica em torno do seu ponto médio**, apresentando assim seu famoso formato de **sino** (bell shape).  \n",
    "\n",
    "A curva de distribuição normal representa o comportamento de **diversos processos e fenômenos comuns**, como por exemplo: altura ou peso de uma população, a pressão sanguínea de um grupo de pessoas, o tempo que um grupo de estudantes gasta para realizar uma prova, etc.\n",
    "\n",
    "A distribuição normal serve também como base para a inferência estatística clássica, sendo a premissa em diversos modelos e métodos.\n",
    "\n",
    "<br><br>\n",
    "\n",
    "### Definição Matemática\n",
    "\n",
    "A Variável aleatória contínua $X$ que tome todos os valores na reta real $-\\infty < X < \\infty$ segue uma distribuição normal (ou Gaussiana) se sua função de densidade de probabilidade é dada por:\n",
    "\n",
    "$$ f(x) = \\frac{1}{\\sigma\\sqrt{2\\pi}}e^{\\frac{-(x - \\mu)^2}{2\\sigma^2}} $$\n",
    "\n",
    "Onde respectivamente temos como __valor esperado__ e __variância__ da distribuição normal:\n",
    "\n",
    "- __Valor esperado:__ $E[X] = \\mu$\n",
    "\n",
    "- __Variância:__ $V[X] = \\sigma^2$\n",
    "\n",
    "\n",
    "<br>\n",
    "\n",
    "Usualmente aplicamos a notação X ~ N($\\mu$,$\\sigma^2$) para representar uma variável aleatória **com distribuição normal** de valor esperado/média $\\mu$ e variância $\\sigma^2$.\n",
    "\n",
    "<img src=\"https://upload.wikimedia.org/wikipedia/commons/thumb/7/74/Normal_Distribution_PDF.svg/1280px-Normal_Distribution_PDF.svg.png\" width=500>\n",
    "\n",
    "\n",
    "Em uma distribuição normal a média, mediana e moda dos dados possuem o mesmo valor. \n",
    "\n",
    "<img src=\"https://dietassessmentprimer.cancer.gov/images/learn/distribution1.jpg\">\n"
   ]
  },
  {
   "cell_type": "markdown",
   "id": "481c9ffc",
   "metadata": {},
   "source": [
    "Vamos ver algumas formas de gerarmos valores de acordo com uma distribuição Normal:"
   ]
  },
  {
   "cell_type": "code",
   "execution_count": 2,
   "id": "2b68398e",
   "metadata": {},
   "outputs": [],
   "source": [
    "import numpy as np\n",
    "import pandas as pd\n",
    "import matplotlib.pyplot as plt\n",
    "import seaborn as sns\n",
    "import math "
   ]
  },
  {
   "cell_type": "markdown",
   "id": "67db07dc",
   "metadata": {},
   "source": [
    "Gerar uma distribuição normal"
   ]
  },
  {
   "cell_type": "code",
   "execution_count": 3,
   "id": "1f1c63c0",
   "metadata": {},
   "outputs": [
    {
     "data": {
      "image/png": "[encoded data removed]",
      "text/plain": [
       "<Figure size 1000x600 with 1 Axes>"
      ]
     },
     "metadata": {},
     "output_type": "display_data"
    }
   ],
   "source": [
    "# função densidade de probabilidade da normal\n",
    "def normal_dist(x, mu, sigma):\n",
    "    prob_density = (1/(sigma*(math.sqrt(2*np.pi)))) * np.exp(-0.5*((x - mu)/sigma)**2)\n",
    "    return prob_density\n",
    "\n",
    "# define valores para média e desvio padrão (Obs.: sigma = sqrt(variancia))\n",
    "mu = 75\n",
    "sigma = 20 #(desvio padrão)\n",
    "\n",
    "# Número de amostras geradas\n",
    "N = 10000\n",
    "\n",
    "# Define um vetor X com os valores aleatórios da distribuição normal segundo mu e sigma\n",
    "X = np.random.normal(mu, sigma, N)\n",
    "\n",
    "# Define o tamanho de uma figura para o gráfico\n",
    "plt.figure(figsize=(10, 6))\n",
    "\n",
    "# Plot do histograma dos valores aleatórios\n",
    "Pk, bins, ignored = plt.hist(X,\n",
    "                             bins='auto',\n",
    "                             density=True,\n",
    "                             color='#0504aa',\n",
    "                             alpha=0.7, #transparência\n",
    "                             rwidth=0.9)\n",
    "\n",
    "# define os valores de x entre o mínimo e máximo para gerarmos a curva normal\n",
    "x = np.linspace(np.min(X), np.max(X), 200)\n",
    "\n",
    "# Dados para a curva normal\n",
    "pdf = normal_dist(x, mu, sigma)\n",
    "\n",
    "# Cria um título\n",
    "plt.title('Distribuição Normal')\n",
    "\n",
    "# Plot da curva normal\n",
    "plt.plot(x, pdf, color='red')\n",
    "\n",
    "# Label X\n",
    "plt.xlabel('Data points')\n",
    "\n",
    "# Label Y\n",
    "plt.ylabel('Probability Density')\n",
    "\n",
    "# Mostrao Gráfico\n",
    "plt.show()"
   ]
  },
  {
   "cell_type": "markdown",
   "id": "94fe2e16",
   "metadata": {},
   "source": [
    "Gerando outra distribuição normal, agora usando o scipy"
   ]
  },
  {
   "cell_type": "code",
   "execution_count": 4,
   "id": "8c39bd70",
   "metadata": {},
   "outputs": [
    {
     "data": {
      "image/png": "[encoded data removed]",
      "text/plain": [
       "<Figure size 800x600 with 1 Axes>"
      ]
     },
     "metadata": {},
     "output_type": "display_data"
    }
   ],
   "source": [
    "from scipy import stats as st\n",
    "\n",
    "mu = 10\n",
    "\n",
    "sigma = 5\n",
    "\n",
    "N = 10000\n",
    "\n",
    "X = np.random.normal(mu, sigma, N)\n",
    "\n",
    "# define os valores de x entre o mínimo e máximo para gerarmos a curva normal\n",
    "x = np.linspace(np.min(X), np.max(X), 200)\n",
    "\n",
    "y = st.norm(loc = mu, scale = sigma).pdf(x)\n",
    "\n",
    "plt.figure(figsize = (8, 6))\n",
    "\n",
    "plt.plot(x, y)\n",
    "\n",
    "plt.xlabel(\"Pontos\")\n",
    "\n",
    "plt.ylabel(\"Densidade de probabilidade\")\n",
    "\n",
    "plt.show()"
   ]
  },
  {
   "cell_type": "markdown",
   "id": "d4667ab5",
   "metadata": {},
   "source": [
    "## "
   ]
  },
  {
   "cell_type": "markdown",
   "id": "a02e491f",
   "metadata": {},
   "source": [
    "## Normalização ou Z-Score\n",
    "<br>\n",
    "\n",
    "Imagine ter que calcular a probabilidade de uma distribuição normal de um determinado evento, utilizando a função de densidade de probabilidade. Seria bastante trabalho e nem um pouco usual! \n",
    "\n",
    "Para isso então que existe uma relação conhecida como normalização ou __Z-Score__, onde este parâmetro nada mais é que __o número de desvios padrões que a observação está com relação à média__:\n",
    "\n",
    "$$ z = \\frac{x - \\mu}{\\sigma} $$\n",
    "\n",
    "$$ z \\sigma = x - \\mu $$\n",
    "\n",
    "\n",
    "<img src = \"https://miro.medium.com/max/1200/1*IdGgdrY_n_9_YfkaCh-dag.png\" width=800>\n",
    "<br>\n",
    "\n",
    "Como vimos acima, em uma distribuição normal, 99.73% das observações são esperadas de estar entre 3 desvios-padrão da média. Assim, obervações para além desta faixa são muito improváveis de ocorrer (0.27% de chance), de forma que podem ser consideradas outliers. Assim, é comum considerar outliers os pontos tais que $|z| > 3$ (embora seja comum também variar este z-score limite, para 2.5 o, 3.5, etc.)\n",
    "\n",
    "<br>\n",
    "\n",
    "**OBS.: naturalmente, este método é altamente dependente da hipótese de que seus dados são normalmente distribuídos! Por isso, funciona apenas aproximadamente para outros casos. Mas é uma boa aproximação, em geral.**\n",
    "\n",
    "\n",
    "\n",
    "onde o objetivo é convertermos os dados para uma distribuição normal na forma X ~ N($\\mu$, $\\sigma^2$) "
   ]
  },
  {
   "cell_type": "markdown",
   "id": "48099538",
   "metadata": {},
   "source": [
    "Uma forma mais tradicional também para calcular a probabilidade a partir de uma distribuição normal seria justamente utilizar de valores tabelados para o __Z-Score__:"
   ]
  },
  {
   "cell_type": "markdown",
   "id": "da18c02a",
   "metadata": {},
   "source": [
    "<img src = \"https://media.cheggcdn.com/media/70e/70ea2b20-f693-43d1-aa34-33289a97d606/phpqH8k6j\" width = 800>"
   ]
  },
  {
   "cell_type": "markdown",
   "id": "28e3d6b6",
   "metadata": {},
   "source": [
    "**Exemplo**: \n",
    "\n",
    "Se $X \\sim  \\mathcal{N}(\\mu=165,\\,\\sigma^{2}=9)$, calcule $P(X<162)$."
   ]
  },
  {
   "cell_type": "code",
   "execution_count": 5,
   "id": "394b453e",
   "metadata": {},
   "outputs": [
    {
     "name": "stdout",
     "output_type": "stream",
     "text": [
      "Z-score =  -1.0\n",
      " \n",
      "Probabilidade =  0.15865525393145707\n"
     ]
    }
   ],
   "source": [
    "from scipy import stats as st \n",
    "\n",
    "mu = 165 \n",
    "\n",
    "sigma = np.sqrt(9)\n",
    "\n",
    "# calculamos o z-score\n",
    "z = (162 - mu) / sigma\n",
    "\n",
    "print(\"Z-score = \", z)\n",
    "print(\" \")\n",
    "resultado = st.norm.cdf(z)\n",
    "print(\"Probabilidade = \", resultado)"
   ]
  },
  {
   "cell_type": "markdown",
   "id": "6de996b5",
   "metadata": {},
   "source": [
    "**Exemplo**: Se $X \\sim  \\mathcal{N}(\\mu=10,\\,\\sigma^{2}=4)$, calcule $P(X>13)$.\n",
    "\n",
    "Obs.: Lembrando que para calcular essa probabilidade temos que fazer da seguinte forma:\n",
    "\n",
    "$$ P(X > 13) = 1 - P( X \\leq 13) $$"
   ]
  },
  {
   "cell_type": "code",
   "execution_count": 13,
   "id": "83f492a8",
   "metadata": {},
   "outputs": [
    {
     "name": "stdout",
     "output_type": "stream",
     "text": [
      "Z-score =  1.5\n",
      " \n",
      "Probabilidade =  0.06680720126885809\n"
     ]
    }
   ],
   "source": [
    "from scipy import stats as st \n",
    "\n",
    "mu = 10\n",
    "\n",
    "sigma = np.sqrt(4)\n",
    "\n",
    "# calculamos o z-score\n",
    "z = (13 - mu) / sigma\n",
    "\n",
    "print(\"Z-score = \", z)\n",
    "print(\" \")\n",
    "resultado = st.norm.cdf(z)\n",
    "print(\"Probabilidade = \", 1- resultado)"
   ]
  },
  {
   "cell_type": "markdown",
   "id": "14db6145",
   "metadata": {},
   "source": [
    "**Exemplo:** O peso médio de 500 estudantes do sexo masculino de uma determinada universidade é 75,5 Kg e o desvio padrão é 7,5 Kg. Admitindo que os pesos são normalmente distribuídos, determine a percentagem de estudantes que pesam:"
   ]
  },
  {
   "cell_type": "markdown",
   "id": "728f91ee",
   "metadata": {},
   "source": [
    "a) entre 60 e 77,5 Kg.\n",
    "\n",
    "$$\n",
    "P(60 \\leq X \\leq 77,5) = P\\left(\\frac{60-\\mu}{\\sigma} \\leq \\frac{X-\\mu}{\\sigma} \\leq \\frac{77,5-\\mu}{\\sigma}\\right)=P\\left(\\frac{60-\\mu}{\\sigma} \\leq Z \\leq \\frac{77,5-\\mu}{\\sigma}\\right) = \n",
    "$$\n",
    "$$\n",
    "= P\\left(Z \\leq \\frac{77,5-\\mu}{\\sigma}\\right)-P\\left( Z \\leq \\frac{60-\\mu}{\\sigma}\\right)\n",
    "$$ \n"
   ]
  },
  {
   "cell_type": "code",
   "execution_count": 18,
   "id": "b66bffcc",
   "metadata": {},
   "outputs": [
    {
     "name": "stdout",
     "output_type": "stream",
     "text": [
      "A probabilidade do peso estar entre 60 e 77.5kg é de 58.6%.\n"
     ]
    }
   ],
   "source": [
    "mu = 75.5\n",
    "sigma = 7.5\n",
    "\n",
    "z1 = (60.0 - mu)/sigma\n",
    "z2 = (77.5 - mu)/sigma \n",
    "\n",
    "prob_z1 = st.norm.cdf(z1)\n",
    "prob_z2 = st.norm.cdf(z2)\n",
    "\n",
    "print(f'A probabilidade do peso estar entre 60 e 77.5kg é de {round(100*(prob_z2 - prob_z1),1)}%.')"
   ]
  },
  {
   "cell_type": "markdown",
   "id": "f9631770",
   "metadata": {},
   "source": [
    "b) mais do que 92,5 Kg. \n",
    "$$\n",
    "P(X \\geq 92,5) = P\\left( \\frac{X-\\mu}{\\sigma}\\geq \\frac{92,5-\\mu}{\\sigma}\\right) = P\\left( Z \\geq \\frac{92,5-\\mu}{\\sigma}\\right) = 1 - P\\left( Z < \\frac{92,5-\\mu}{\\sigma}\\right)\n",
    "$$"
   ]
  },
  {
   "cell_type": "code",
   "execution_count": 21,
   "id": "66014ba5",
   "metadata": {},
   "outputs": [
    {
     "name": "stdout",
     "output_type": "stream",
     "text": [
      "z-score 2.27\n",
      "A probabilidade do peso estar maior que 92.5kg é de 1.2%.\n"
     ]
    }
   ],
   "source": [
    "mu = 75.5\n",
    "sigma = 7.5\n",
    "\n",
    "z1 = (92.5 - mu)/sigma\n",
    "\n",
    "prob_z1 = st.norm.cdf(z1)\n",
    "print('z-score', round(z1,2))\n",
    "\n",
    "print(f'A probabilidade do peso estar maior que 92.5kg é de {round(100*(1 - prob_z1),1)}%.')"
   ]
  },
  {
   "cell_type": "markdown",
   "id": "a917f522",
   "metadata": {},
   "source": [
    "## "
   ]
  },
  {
   "cell_type": "markdown",
   "id": "95840eea",
   "metadata": {},
   "source": [
    "## Teorema Central do Limite"
   ]
  },
  {
   "cell_type": "markdown",
   "id": "78d2862f",
   "metadata": {},
   "source": [
    "Esse é um dos teoremas mais poderosos e fundamentais da estatística, porque ele é usado **como base para muitos outros resultados**. \n",
    "\n",
    "A ideia é que muitos dos resultados de inferência estatística são válidos assumindo como hipótese que os dados sob análise (**mais precisamente, os estimadores pontuais**) seguem uma distribuição normal. \n",
    "\n",
    "No entanto, há muitos casos de interesse em que a **distribuição populacional não é normal** -- e, na verdade, não temos como saber com segurança qual é a distribuição populacional, dado que temos apenas acesso às amostras!\n",
    "\n",
    "Assim, a priori, muitos dos resultados e métodos da inferência estatística seriam invalidados, dado que não podemos assegurar qual é a distribuição populacional dos dados que estamos analisando.\n",
    "\n",
    "E é neste contexto que o TLC mostra seu poder e importância, pois ele mostra que **estimadores pontuais de parâmetros populacionais serão normalmente distribuídos, INDEPENDENTE DA DISTRIBUIÇÃO POPULACIONAL!**\n"
   ]
  },
  {
   "cell_type": "markdown",
   "id": "13ea7ec7",
   "metadata": {},
   "source": [
    "Seja uma amostra aleatória $(X_1,X_2,\\ldots,X_n)$ retiradas de uma população com média $\\mu$ e desvio padrão $\\sigma$. A distribuição amostral de $\\bar{X}$ aproxima-se, para n grande ($n > 30$), de uma distribuição normal com média $E[\\bar{X}]=\\mu$ e variância $\\sigma^2/n$.<br>."
   ]
  },
  {
   "cell_type": "markdown",
   "id": "dcdba02e",
   "metadata": {},
   "source": [
    "https://seeing-theory.brown.edu/probability-distributions/index.html#section3"
   ]
  },
  {
   "cell_type": "code",
   "execution_count": 22,
   "id": "90c1a91f",
   "metadata": {},
   "outputs": [],
   "source": [
    "import numpy as np \n",
    "import matplotlib.pyplot as plt \n",
    "import seaborn as sns"
   ]
  },
  {
   "cell_type": "code",
   "execution_count": 23,
   "id": "9bb96ad7",
   "metadata": {},
   "outputs": [
    {
     "data": {
      "image/png": "[encoded data removed]",
      "text/plain": [
       "<Figure size 500x500 with 1 Axes>"
      ]
     },
     "metadata": {},
     "output_type": "display_data"
    }
   ],
   "source": [
    "# tamanho da amostra\n",
    "N = 100\n",
    "\n",
    "# Gera a amostra de acordo com a distribuição normal\n",
    "amostra_normal = np.random.normal(0, 1, N)\n",
    "\n",
    "# Gera o gráfico\n",
    "sns.displot(amostra_normal)\n",
    "\n",
    "# Mostra o gráfico\n",
    "plt.show()"
   ]
  },
  {
   "cell_type": "code",
   "execution_count": 24,
   "id": "021c412d",
   "metadata": {},
   "outputs": [
    {
     "data": {
      "image/png": "[encoded data removed]",
      "text/plain": [
       "<Figure size 500x500 with 1 Axes>"
      ]
     },
     "metadata": {},
     "output_type": "display_data"
    }
   ],
   "source": [
    "# tamanho da amostra\n",
    "N = 1000\n",
    "\n",
    "# Gera a amostra de acordo com a distribuição normal\n",
    "amostra_normal = np.random.normal(0, 1, N)\n",
    "\n",
    "# Gera o gráfico\n",
    "sns.displot(amostra_normal)\n",
    "\n",
    "# Mostra o gráfico\n",
    "plt.show()"
   ]
  },
  {
   "cell_type": "code",
   "execution_count": 9,
   "id": "9074bad1",
   "metadata": {},
   "outputs": [
    {
     "data": {
      "image/png": "[encoded data removed]",
      "text/plain": [
       "<Figure size 500x500 with 1 Axes>"
      ]
     },
     "metadata": {},
     "output_type": "display_data"
    }
   ],
   "source": [
    "# tamanho da amostra\n",
    "N = 10000\n",
    "\n",
    "# Gera a amostra de acordo com a distribuição normal\n",
    "amostra_normal = np.random.normal(0, 1, N)\n",
    "\n",
    "# Gera o gráfico\n",
    "sns.displot(amostra_normal)\n",
    "\n",
    "# Mostra o gráfico\n",
    "plt.show()"
   ]
  },
  {
   "cell_type": "markdown",
   "id": "ac2adb8b",
   "metadata": {},
   "source": [
    "**Exemplo:** Seja a variável aleatória com distribuição de probabilidade: P(X=3)=0,4; P(X=6)=0,3; P(X=8)=0,3. Uma amostra com 40 observações é sorteada. Qual é a probabilidade de que a média amostral ser maior do que 5?"
   ]
  },
  {
   "cell_type": "code",
   "execution_count": 10,
   "id": "b625e83a",
   "metadata": {},
   "outputs": [
    {
     "name": "stdout",
     "output_type": "stream",
     "text": [
      "Esperança:  5.4\n",
      "Variância:  4.439999999999991\n"
     ]
    }
   ],
   "source": [
    "# Função para a esperança\n",
    "def esperanca(X, P):\n",
    "    E = 0\n",
    "    for i in range(0, len(X)):\n",
    "        E = E + X[i] * P[i]\n",
    "    return E\n",
    "\n",
    "\n",
    "# Função para a variância\n",
    "def variancia(X, P):\n",
    "    E = 0\n",
    "    E2 = 0\n",
    "    for i in range(0, len(X)):\n",
    "        E = E + X[i] * P[i]\n",
    "        E2 = E2 + (X[i]**2) * P[i]\n",
    "    V = E2 - E**2\n",
    "    return V\n",
    "\n",
    "\n",
    "# Vetor de Eventos\n",
    "X = [3, 6, 8]\n",
    "\n",
    "# Vetor de Probabilidades\n",
    "P = [0.4, 0.3, 0.3]\n",
    "\n",
    "# Calculo da Esperança\n",
    "E = esperanca(X, P)\n",
    "\n",
    "# Calculo da Variância\n",
    "V = variancia(X, P)\n",
    "\n",
    "# Print das métricas\n",
    "print(\"Esperança: \", E)\n",
    "print(\"Variância: \", V)"
   ]
  },
  {
   "cell_type": "markdown",
   "id": "c1ee93f6",
   "metadata": {},
   "source": [
    "Valor teórico a partir do Z-Score:"
   ]
  },
  {
   "cell_type": "code",
   "execution_count": 11,
   "id": "676bae67",
   "metadata": {},
   "outputs": [
    {
     "name": "stdout",
     "output_type": "stream",
     "text": [
      "Probabilidade:  0.885046886863795\n"
     ]
    }
   ],
   "source": [
    "# Função para calcaur a probabilidade pelo Z Score\n",
    "import scipy.stats as st\n",
    "\n",
    "# Define a média\n",
    "mu = E\n",
    "\n",
    "# Define o desvio padrão\n",
    "sigma = np.sqrt(V)\n",
    "\n",
    "# Tamanho da amostra\n",
    "n = 40\n",
    "\n",
    "# X a verificar\n",
    "x = 5\n",
    "\n",
    "# Z-score\n",
    "Z = (x - mu) / (sigma / np.sqrt(n))\n",
    "\n",
    "# Calculo da probabilidade\n",
    "prob = 1 - st.norm.cdf(Z)\n",
    "\n",
    "# PRint da probabilidade\n",
    "print('Probabilidade: ', prob)"
   ]
  },
  {
   "cell_type": "markdown",
   "id": "eb1efc2c",
   "metadata": {},
   "source": [
    "Vamos sortear várias amostras de tamanho n = 40 e verificar qual a probabilidade da média dessa amostra ser maior do que 5."
   ]
  },
  {
   "cell_type": "code",
   "execution_count": null,
   "id": "6aae89ee",
   "metadata": {},
   "outputs": [],
   "source": [
    "import matplotlib.pyplot as plt"
   ]
  },
  {
   "cell_type": "code",
   "execution_count": null,
   "id": "28a74de7",
   "metadata": {},
   "outputs": [
    {
     "data": {
      "image/png": "[encoded data removed]",
      "text/plain": [
       "<Figure size 576x432 with 1 Axes>"
      ]
     },
     "metadata": {},
     "output_type": "display_data"
    },
    {
     "name": "stdout",
     "output_type": "stream",
     "text": [
      "Media das amostras:  5.416425\n",
      "Media da população:  5.4\n"
     ]
    }
   ],
   "source": [
    "# Tamanho de amostras\n",
    "n = 40\n",
    "\n",
    "# numero de simulações\n",
    "ns = 1000\n",
    "\n",
    "# Vetor vazio para armazenar a media amostral\n",
    "vx = []  # armazena a media amostral\n",
    "\n",
    "# Loop para as simulações\n",
    "for s in range(0, ns):\n",
    "    A = np.random.choice(X, n, p=P)\n",
    "    vx.append(np.mean(A))\n",
    "\n",
    "# Plot do gráfico\n",
    "plt.figure(figsize=(8, 6))\n",
    "plt.hist(x=vx,\n",
    "         bins='auto',\n",
    "         color='#0504aa',\n",
    "         alpha=0.7,\n",
    "         rwidth=0.85,\n",
    "         density=True)\n",
    "plt.xlabel(r'$\\bar{X}$', fontsize=20)\n",
    "plt.ylabel(r'$P(\\bar{X})$', fontsize=20)\n",
    "plt.show()\n",
    "\n",
    "# Print das metricas\n",
    "print(\"Media das amostras: \", np.mean(vx))\n",
    "print(\"Media da população: \", E)"
   ]
  },
  {
   "cell_type": "markdown",
   "id": "7faedaaa",
   "metadata": {},
   "source": [
    "A probabilidade de ser maior do que 5:"
   ]
  },
  {
   "cell_type": "code",
   "execution_count": null,
   "id": "a9c4bb84",
   "metadata": {},
   "outputs": [
    {
     "name": "stdout",
     "output_type": "stream",
     "text": [
      "Probabilidade > 5:  0.867\n",
      "Valor teórico    :  0.885046886863795\n"
     ]
    }
   ],
   "source": [
    "prob_s = 0\n",
    "\n",
    "for i in range(0, len(vx)):\n",
    "    if (vx[i] > 5):\n",
    "        prob_s = prob_s + 1\n",
    "\n",
    "prob_s = prob_s / len(vx)\n",
    "\n",
    "print(\"Probabilidade > 5: \", prob_s)\n",
    "print(\"Valor teórico    : \", prob)"
   ]
  },
  {
   "cell_type": "code",
   "execution_count": null,
   "id": "1527b24d",
   "metadata": {},
   "outputs": [
    {
     "data": {
      "text/plain": [
       "1.0208153251024163"
      ]
     },
     "metadata": {},
     "output_type": "display_data"
    }
   ],
   "source": [
    "prob/prob_s"
   ]
  },
  {
   "cell_type": "markdown",
   "id": "f0cc3aa0",
   "metadata": {},
   "source": [
    "## "
   ]
  },
  {
   "cell_type": "markdown",
   "id": "c90c54bd",
   "metadata": {},
   "source": [
    "## Exercícios"
   ]
  },
  {
   "cell_type": "markdown",
   "id": "51f284a8",
   "metadata": {},
   "source": [
    "**1)** Uma máquina de bebidas está regulada de modo a servir uma média de 150ml por copo. Se a quantidade servida por copo seguir uma distribuição normal com desvio padrão de 20 ml, determine a percentagem de copos que conterão mais de 175ml de bebida."
   ]
  },
  {
   "cell_type": "markdown",
   "id": "693803ec",
   "metadata": {},
   "source": [
    "__2)__ O tempo para desenvolver um servidor web em uma empresa é descrito por uma variável aleatória X, medida em dias, com distribuição normal de média $\\mu$ = 45 e variância $\\sigma^2$ = 400. Calcule a probabilidade de que um novo servidor web será finalizado entre 30 e 40 dias."
   ]
  },
  {
   "cell_type": "markdown",
   "id": "98db9415",
   "metadata": {},
   "source": [
    "__3)__ Uma população é descrita pela seguinte distribuição de probabilidades:\n",
    "    \n",
    "- 𝑃(𝑋 = 2) = 0,2;\n",
    "- 𝑃(𝑋 = 4) = 0,4;\n",
    "- 𝑃(𝑋 = 6) = 0,4\n",
    "\n",
    "Uma amostra com 50 observações é sorteada. Calcule a probabilidade de que a média dessa amostra seja maior do que 4.5"
   ]
  },
  {
   "cell_type": "markdown",
   "id": "ac1dc4ac",
   "metadata": {},
   "source": [
    "__4)__ Em uma empresa de vendas planos de internet, a duração de conversas telefônicas (em minutos), segue o modelo de uma distribuição exponencial com parâmetro $\\lambda = \\frac{1}{5}$. Observando-se uma amostra aleatória de 50 dessas chamadas, qual será a probabilidade de que tais amostras em média não ultrapassem 6 minutos?"
   ]
  },
  {
   "cell_type": "code",
   "execution_count": null,
   "id": "cd387607",
   "metadata": {},
   "outputs": [],
   "source": []
  },
  {
   "cell_type": "code",
   "execution_count": null,
   "id": "dfb98524",
   "metadata": {},
   "outputs": [],
   "source": []
  },
  {
   "cell_type": "code",
   "execution_count": null,
   "id": "62c4e8a0",
   "metadata": {},
   "outputs": [],
   "source": []
  },
  {
   "cell_type": "markdown",
   "id": "e98fd8e4",
   "metadata": {},
   "source": [
    "# 05 - Amostragem, Estimação, Inferência e Teste de Hipóteses\n",
    "\n",
    "Nessa aula, iremos tratar dos seguintes conteúdos:\n",
    "- Noções sobre Amostragem\n",
    "- Terminologia\n",
    "- Tipos de amostragem\n",
    "- Métodos de Amostragem\n",
    "- Tamanho amostral\n",
    "- Níveis de confiança e significância\n",
    "- Erro Inferencial e Intervalo de Confiança\n",
    "- Cálculo do Tamanho Amostral\n",
    "- Teste de Hipóteses\n",
    "- Valor p\n",
    "- Comparação entre duas médias"
   ]
  },
  {
   "cell_type": "markdown",
   "id": "cac23572",
   "metadata": {},
   "source": [
    "## "
   ]
  },
  {
   "cell_type": "code",
   "execution_count": null,
   "id": "4d17170a",
   "metadata": {},
   "outputs": [],
   "source": []
  },
  {
   "cell_type": "markdown",
   "id": "637e8f92",
   "metadata": {},
   "source": [
    "## "
   ]
  },
  {
   "cell_type": "markdown",
   "id": "d69f14ad",
   "metadata": {},
   "source": [
    "# Noções sobre Amostragem\n",
    "\n",
    "<br>\n",
    "\n",
    "Aplicar __amostragem__ faz parte do cotidiano das pessoas sem mesmo elas saberem, como por exemplo na culinária, ao cozinhar um feijão para saber se está com suficiente sal e temperos, é retirado uma pequena porção par experimentar e a partir desta porção conclui-se a respeito do feijão como um todo. Tem exemplos também como em análises clínicas, ao retirar amostras de sangue e outro fluídos para a análise e identificação de eventuais alterações. Vale ressaltar que ambos os exemplos, não seria viável analisar o todo para ter conclusões satisfatórias.\n",
    "\n",
    "Em Estátistica, __amostragem__ representa este procedimento quevisa obter informações sobre o todo baseando-se no resultado de uma amostra.\n",
    "\n",
    "<br>\n",
    "\n",
    "<img src= \"https://solvis.com.br/wp-content/uploads/2021/02/imagem-para-blog-calculadora-de-amostragem-quantas-respostas-precisa-ter-na-pesquisa-solvis-e1613076591189.png\" width=500>\n",
    "\n",
    "Fonte [Solvis](https://solvis.com.br/wp-content/uploads/2021/02/imagem-para-blog-calculadora-de-amostragem-quantas-respostas-precisa-ter-na-pesquisa-solvis-e1613076591189.png)\n",
    "\n",
    "<br><br>\n"
   ]
  },
  {
   "cell_type": "markdown",
   "id": "6a8add23",
   "metadata": {},
   "source": [
    "### Terminologia sobre Amostragem\n",
    "\n",
    "<br>\n",
    "\n",
    "Será necessário definir algumas terminologias normalmente utilizadas quando se fala a respeito de amostragem. Este parâmetros estão descritos a seguir:\n",
    "\n",
    "- **População**: ou Universo é o conjunto de todas as unidades elementares de interesse. A população deve ser definida claramente e em termos da informação que se pretende conhecer;\n",
    "\n",
    "<br>\n",
    "\n",
    "- **Unidade**: trata-se de qualquer elemento da população;\n",
    "\n",
    "<br>\n",
    "\n",
    "- **Amostra**: uma parte ou subconjunto da população;\n",
    "\n",
    "<br>\n",
    "\n",
    "- **Censo**:  observação de todos os elementos da população;\n",
    "\n",
    "<br>\n",
    "\n",
    "- **Parâmetro Populacional**: é o vetor correspondente a todos os valores de uma variável de interesse. Pode ser qualitativa (gosto musical, opnião sobre o governo, etc) ou quantitativa (média, proporção, quantidade, etc).\n",
    "\n",
    "<br>\n",
    "\n",
    "- **Função Paramétrica Populacional**:  é uma característica numérica da população, ou seja, uma expressão numérica que condensa os valores do vetor de parâmetro populacional. Por exemplo, média, total, proporção, dentre outros.\n",
    "\n",
    "<br>\n",
    "\n",
    "\n",
    "Utilizando como exemplo, considere uma população formada por 4 alunos de uma escola. Com as seguintes caracteristicas:\n",
    "\n",
    "<br>\n",
    "\n",
    "<table>\n",
    "    <th style=\"text-align: center; border: 1px solid black\">Variável</th>\n",
    "    <th style=\"text-align: center; border: 1px solid black\" colspan=\"4\">Valores</td>\n",
    "    <tr style=\" border: 1px solid black\">\n",
    "        <td style=\"text-align: center; border: 1px solid black\">Aluno</td>\n",
    "        <td style=\"text-align: center; border: 1px solid black\">1</td>\n",
    "        <td style=\"text-align: center; border: 1px solid black\">2</td>\n",
    "        <td style=\"text-align: center; border: 1px solid black\">3</td>\n",
    "        <td style=\"text-align: center; border: 1px solid black\">4</td>\n",
    "    </tr>\n",
    "    <tr style=\"text-align: center; border: 1px solid black\">\n",
    "        <td style=\"text-align: center; border: 1px solid black\">Nome</td>\n",
    "        <td style=\"text-align: center; border: 1px solid black\">Luiz</td>\n",
    "        <td style=\"text-align: center; border: 1px solid black\">Marcela</td>\n",
    "        <td style=\"text-align: center; border: 1px solid black\">Pedro</td>\n",
    "        <td style=\"text-align: center; border: 1px solid black\">Julia</td>\n",
    "    </tr>\n",
    "    <tr style=\"text-align: center; border: 1px solid black\">\n",
    "        <td style=\"text-align: center; border: 1px solid black\">Idade</td>\n",
    "        <td style=\"text-align: center; border: 1px solid black\">15</td>\n",
    "        <td style=\"text-align: center; border: 1px solid black\">14</td>\n",
    "        <td style=\"text-align: center; border: 1px solid black\">13</td>\n",
    "        <td style=\"text-align: center; border: 1px solid black\">16</td>\n",
    "    </tr>\n",
    "        <tr style=\"text-align: center; border: 1px solid black\">\n",
    "        <td style=\"text-align: center; border: 1px solid black\">Sexo</td>\n",
    "        <td style=\"text-align: center; border: 1px solid black\">M</td>\n",
    "        <td style=\"text-align: center; border: 1px solid black\">F</td>\n",
    "        <td style=\"text-align: center; border: 1px solid black\">M</td>\n",
    "        <td style=\"text-align: center; border: 1px solid black\">F</td>\n",
    "    </tr>\n",
    "</table>\n",
    "\n",
    "<br>\n",
    "\n",
    "Neste exemplo, cada aluno é um elemento da população. Com relação à amostragem os subconjuntos (Luiz, Marcela), (Pedro, Julia), (Marcela) são **exemplos de amostra**. **Parâmetros populacionais**: $idade = (15, 14, 13, 16)$ e $sexo = (M, F, M, F)$. Com relação às **funções paramétricas**, poderíamos definir:\n",
    "\n",
    "- Idade média: fazendo idade = I:\n",
    "\n",
    "$$\\mu = \\overline{I} = \\frac{\\sum_{i=1}^{4}I_i}{4}=\\frac{15 + 14 + 13 + 16}{4} = 14,5$$\n",
    "\n",
    "- Idade máxima: max(Y)= max(15, 14, 13, 16) = 16\n",
    "\n",
    "\n",
    "- Porporção de meninas: sexo = Y = (M, F, M, F)\n",
    "\n",
    "$$p(F) = \\frac{1}{2} = 0,5 $$\n",
    "\n",
    "<br><br>\n"
   ]
  },
  {
   "cell_type": "markdown",
   "id": "308acb15",
   "metadata": {},
   "source": [
    "### Tipos de Amostragem\n",
    "\n",
    "<br>\n",
    "\n",
    "Sobre a amostragem, pode-se classificá-la em dois tipos a respeito sobre as probabilidade destas amostra:\n",
    "\n",
    "<br>\n",
    "\n",
    "- **Amostra Probabilística**: todos os elementos da população apresentam probabilidade maior que zero de serem selecionados;\n",
    "\n",
    "<br>\n",
    "\n",
    "- **Amostra Não-Probabilística**: quando não há probabilidade clara/conhecida de seleção dos elementos. Os elementos são escolhidos de forma julgamental;\n",
    "\n",
    "<br><br>\n"
   ]
  },
  {
   "cell_type": "markdown",
   "id": "91bb5fce",
   "metadata": {},
   "source": [
    "### Quando utilizar amostras?\n",
    "\n",
    "<br>\n",
    "\n",
    "Como no exemplo do feijão e do paciente, existe alguns casos que são ideais para utilizar de amostras em análises. A seguir, será listada alguns casos de aplicação de amostragem:\n",
    "\n",
    "<br>\n",
    "\n",
    "- __Populações infinitas__: Quando é possível investigar todos os elementos de uma população;\n",
    "\n",
    "- __Teste Destrutivos__: Estudos onde os elementos avaliados  passarão por algum processo de transformação, sendo este processo destrutivo para a amostra. Exemplo: Ensaio sobre fadiga em asas de avião;\n",
    "\n",
    "- __Resultados Rápidos__: Pesquisas que precisam de mais agilidade na divulgação. Exemplo: pesquisas de opinião, pesquisas que envolvam problemas de saúde pública;\n",
    "\n",
    "- __Custos Elevados__: Quando a população é finita mas muito numerosa, o custo de um censo pode tornar o processo inviável. Exemplo: modelar uma base de 10 milhões de clientes em uma máquina local não adequada.\n",
    "\n",
    "<br><br>\n"
   ]
  },
  {
   "cell_type": "markdown",
   "id": "9593d1a7",
   "metadata": {},
   "source": [
    "## Métodos de Amostragem\n",
    "\n",
    "\n",
    "<br>\n",
    "\n",
    "Neste material, será abordado apenas os métodos relacionados à amostragem probabilística, que tem como objetivo de obter uma **amostra representativa**. Uma amostra é considerada representativa quando consegue **refletir as caracteristicas da população**.\n",
    "\n",
    "<br><br>\n",
    "\n",
    "### Amostra Aleatória Simples\n",
    "\n",
    "<br>\n",
    "\n",
    "Este é o método mais simples e mais importante de seleção de uma amostra, pois pode ser usada em combinação com outros métodos. A premissa assumida é que a população é homogênea com relação à característica de interesse.\n",
    "\n",
    "A amostra aleatória simples pode ser realizada com ou sem reposição. No caso em que há reposição, cada elemento pode ser sorteado mais de uma vez. Para exemplificar, suponha que se queira sortear um número aleatório de uma urna, se for uma AAS com reposição,  este número voltará para urna para participar do próximo sorteio. Se não houver reposição, cada elemento só poderá ser selecionado uma vez para compor a amostra.\n",
    " \n",
    "Considere uma população formada por $N$ elementos (conhecido e finito). Este método consiste em selecionar $n$ elementos, sendo que cada elemento tem a mesma probabilidade de ser selecionado.\n",
    "\n",
    "**Exemplo  de Aplicação**: Considere uma população formada por 50 alunos. Selecionar de forma aleatória 10 alunos, sem reposição.\n"
   ]
  },
  {
   "cell_type": "code",
   "execution_count": 25,
   "id": "217068e2",
   "metadata": {},
   "outputs": [],
   "source": [
    "from random import sample"
   ]
  },
  {
   "cell_type": "markdown",
   "id": "5568b9ca",
   "metadata": {},
   "source": [
    "### Amostra Sistemática\n",
    "\n",
    "<br>\n",
    "\n",
    "Usada quando os elementos população estão ordenados (população de lista telefônica, casas em uma rua). Considere uma população de tamanho $N$ e que se queira uma amostra de tamanho $n$. O processo de amostragem deste método consiste em:\n",
    "\n",
    "- Dividir o tamanho populacional em $K$ partes:\n",
    "$$ k = \\frac{N}{n} $$\n",
    "\n",
    "- Definir a posição de início da amostragem (que também será o primeiro elemento da amostra). Para tal fim, é sorteado $i$ com o uso da amostra aleatória simples no intervalo, em que  $i \\in [1, k]$;\n",
    "\n",
    "- A partir do elemento selecionado aleatoriamente, é realizada sucessão aritimética para selecionar os $n-1$ indivíduos restantes:\n",
    "$$i, i + k, i + 2k, i + 3k, ...., i + (n-1)k$$\n",
    "\n",
    "Segue um exemplo de como implementar uma amostragem sistemática utilizado o _Python_:\n"
   ]
  },
  {
   "cell_type": "code",
   "execution_count": null,
   "id": "2f676b6f",
   "metadata": {},
   "outputs": [],
   "source": []
  },
  {
   "cell_type": "markdown",
   "id": "2b492a85",
   "metadata": {},
   "source": [
    "### Amostra Estratificada \n",
    "\n",
    "<br>\n",
    "\n",
    "Trata-se do método em que a população é dividida em grupos (estratos) segundo alguma(s) característica(s) conhecida(s) na população sob estudo. São exemplos de estrato o gênero, faixa etária, região geográfica, profiissão. No geral, é usada quando a população é heterogênea sob a ótica das características analisadas. Procedimento de amostragem:\n",
    "\n",
    "- Dividir as $N$ unidades da população em $N_1, N_2, \\cdots , N_j$ estratos distintos e homogêneos;\n",
    "\n",
    "- Selecionar, ao acaso, uma amostra de tamanhos $n_1, n_2, \\cdots , n_j$ , de modo que o tamanho da amostra seja $n = n_1+n_2+ \\cdots +n_j$. O tamanho amostral pode ser proporcional à representatividade do estrato.\n",
    "\n",
    "<br>\n",
    "\n",
    "<img src= \"https://viacarreira.com/wp-content/uploads/2020/11/amostra-de-pesquisa-2.png\" width = 500>\n",
    "\n",
    "Fonte: [Via Carreira](https://viacarreira.com/wp-content/uploads/2020/11/amostra-de-pesquisa-2.pn)\n",
    "\n",
    "<br>\n",
    "\n",
    "**Exemplo  de Aplicação**: Considere a população formada pelos integrantes de uma escola. Dependendo do objetivo do estudo, esta população poderia ser dividida em alunos, professores, e demais funcionários (grupos mais homogêneos com relação à função na escola). Agora considere que a proporção de cada estrato seja: 60% alunos, 30% professores e 10% servidores. A amostragem poderia ser realizada dentro de cada estrato de forma que o tamanho amostral preserve esta característica. Sendo assim, se amostra total é $n$, a composição será $0,6 \\times n$ de alunos, $0,3\\times n$ de professores e $0,10\\times n$ de servidores.\n",
    "\n",
    "<br><br>\n",
    "\n",
    "### Amostra por Conglomerados\n",
    "\n",
    "<br>\n",
    "\n",
    "A população é dividida em subpopulações (conglomerados) heterogêneas distintas (quarteirões, residências, famílias, bairros, etc.). Alguns dos conglomerados são selecionados segundo amostra aleatória simples e **todos os elementos** nos conglomerados selecionados são observados. Note que amostragem é feita sobre os conglomerados, e não mais sobre os indivíduos da população. Este procedimento amostral é adequado quando é possível dividir a população em um grande número de pequenas subpopulações.\n",
    "\n",
    "Geralmente este método é usado quando os sistemas de referência da população não são adequados e o custo para atualização é alto, ou quando identificar os elementos da população em campo é cara e consome muito tempo.\n",
    "\n",
    "**Exemplo de Aplicação**: Suponha que o objetivo de uma pesquisa seja determinar a renda média familiar de moradores de uma cidade. Dificilmente dispõe-se de uma lista de famílias, a unidade elementar da população de interesse. Pode-se usar como sistema de referência a lista de setores censitários do IBGE. Neste caso, os setores censitários seriam os conglomerados.\n",
    "\n",
    "<br>"
   ]
  },
  {
   "cell_type": "markdown",
   "id": "a971d64b",
   "metadata": {},
   "source": [
    "## Bootstrap ou Bootstrapping\n",
    "\n",
    "O __Bootstrapping__ é uma interessante técnica de reamostragem, que consiste em gerar amostras aleatórias a partir de uma amostra de uma população finita:\n",
    "\n",
    "<img src=\"https://miro.medium.com/max/724/0*FKUvC_NQ5w7eEX6l.png\" width=800>\n",
    "\n",
    "Está é uma técnica facil de aplicar utilizando programação devido aos milhares de processos de reamostragem e vem ganhando espaço dentro de _Machine Learning_ em modelos baseados em testes massivo, servindo como base parao modelo de floresta aleatória (_Random Forest_).\n",
    "\n",
    "Técnicas de testagem massivas utilizando amostras aleatórias podem ser conhecidas também como __Métodos de Monte Carlo.__"
   ]
  },
  {
   "cell_type": "markdown",
   "id": "307e914c",
   "metadata": {},
   "source": [
    "## "
   ]
  },
  {
   "cell_type": "markdown",
   "id": "f9cabb2b",
   "metadata": {},
   "source": [
    "## Tamanho Amostral\n",
    "\n",
    "<br>\n",
    "\n",
    "Ao se realizar uma amostra para inferir uma determinada função paramétrica (média, máximo ou outra função de um parâmetro), há um erro associado ao planejamento amostral. A medida que o tamanho da amostra aumenta, o erro do estimador decresce. Vale ressaltar que uma amostra muito grande pode implicar em custos desnecessários, enquanto que uma amostra pequena pode tornar a pesquisa inconclusiva. Deste modo, o ponto chave de um levantamento amostral é determinar o tamanho da amostra.  Uma forma de garantir o tamanho amostral seja significativo em relação a população, é utilizado do Teorema Central do Limite.\n",
    "\n",
    "Recapitulando, seja uma amostra aleatória ($x_1, x_2, \\cdots, x_n$) de uma variável aleatória $X$ com qualquer distribuição, média $\\mu$ e desvio padrão $\\sigma$. A medida que $n$ cresce, a distribuição de probabilidade da média amostral, $\\overline{X}$, se aproxima de uma Normal com média $\\mu$ e desvio padrão $\\frac{\\sigma}{\\sqrt{n}}$. Isto é $\\overline{X} \\sim N (\\mu, \\sigma^2/n)$. Se a transformação a baixo for realizada, então $Z \\sim N (0,1)$.\n",
    "\n",
    "$$Z = \\frac{\\overline{X} -\\mu}{\\sigma/ \\sqrt{n}} $$\n",
    "\n",
    "O Teorema do Limite Central afirma que, com o aumento do tamanho da amostra, a distribuição das médias amostrais se aproxima de uma distribuição normal com média igual à média da população e desvio padrão igual ao desvio padrão da variável original dividido pela raiz quadrada do tamanho da amostra. Este fato é assegurado para $n$ maior ou igual a 30.\n",
    "\n",
    "$$\\sigma_\\bar{x} = \\frac{\\sigma}{\\sqrt{n}}$$\n",
    "\n",
    "O desvio padrão das médias amostrais é conhecido como __erro padrão da média__.\n",
    "\n",
    "<br><br>\n",
    "\n",
    "## Níveis de confiança e significância\n",
    "\n",
    "<br>\n",
    "\n",
    "O **nível de confiança** ($1 - \\alpha$) representa a probabilidade de acerto da estimativa. De forma complementar o **nível de significância** ($\\alpha$) expressa a probabilidade de erro da estimativa. O **nível de confiança** representa o grau de confiabilidade do resultado da estimativa estar dentro de determinado intervalo. Quando fixado em uma pesquisa um **nível de confiança** de 95%, por exemplo, é assumindo que existe uma probabilidade de 95% dos resultados da pesquisa representarem bem a realidade, ou seja, estarem corretos.\n",
    "\n",
    "O **nível de confiança** de uma estimativa pode ser obtido a partir da área sob a curva normal como ilustrado na figura abaixo.\n",
    "\n",
    "<br>\n",
    "\n",
    "<img src = \"https://caelum-online-public.s3.amazonaws.com/1178-estatistica-parte2/01/img007.png\" width = 500>\n",
    "\n",
    "Fonte: [Caelum](https://caelum-online-public.s3.amazonaws.com/1178-estatistica-parte2/01/img007.png)\n",
    "\n",
    "<br><br>\n",
    "\n",
    "## Erro inferencial e Intervalo de Confiança\n",
    "\n",
    "<br>\n",
    "\n",
    "O **erro inferencial** é definido pelo **desvio padrão das médias amostrais** $\\sigma_\\bar{x}$ e pelo **nível de confiança** determinado para o processo.\n",
    "\n",
    "$$e = z \\frac{\\sigma}{\\sqrt{n}}$$\n",
    "\n",
    "<br><br>\n",
    "\n",
    "Já o __intervalo de confiança__ pode ser obtido adicionando o erro inferencial aos parâmetros de referência. Levantando os casos de intervalo de confiança para a média da população, pode-se ser aplicados em duas ocasiões:\n",
    "\n",
    "<br>\n",
    "\n",
    "- __Com desvio padrão populacional conhecido:__ $\\mu = \\bar{x} \\pm z\\frac{\\sigma}{\\sqrt{n}}$\n",
    "\n",
    "- __Com desvio padrão populacional desconhecido:__ $\\mu = \\bar{x} \\pm z\\frac{s}{\\sqrt{n}}$\n",
    "\n",
    "<br>\n",
    "\n",
    "__Exemplo de Aplicação__: Suponha que os pesos dos sacos de arroz de uma indústria alimentícia se distribuem aproximadamente como uma normal de **desvio padrão populacional igual a 150 g**. Selecionada uma **amostra aleatória de 30 sacos** de um lote específico, obteve-se um **peso médio de 5.050 g**. Construa um intervalo de confiança para a **média populacional** assumindo um **nível de significância de 5%**.\n",
    "\n",
    "<br>\n",
    "\n",
    "Implementando a resolução do exemplo em _Python_, temos que:"
   ]
  },
  {
   "cell_type": "code",
   "execution_count": null,
   "id": "41456dde",
   "metadata": {},
   "outputs": [],
   "source": []
  },
  {
   "cell_type": "markdown",
   "id": "d977ba3c",
   "metadata": {},
   "source": [
    "Na tabela abaixo, segue uma relação de valores que normalmente são utilizados para nível de confiança, com a probabilidade e o _Z-score_:\n",
    "\n",
    "|Nível de<br>confiança|Valor da área sob<br>a curva normal| $z$ |\n",
    "|:----------------:|:---------------------------------:|:---:|\n",
    "|90%               |0,95                               |1,645|\n",
    "|95%               |0,975                              |1,96 |\n",
    "|99%               |0,995                              |2,575|\n",
    "\n",
    "<br><br>"
   ]
  },
  {
   "cell_type": "markdown",
   "id": "abfcc482",
   "metadata": {},
   "source": [
    "## Cálculo do tamanho amostral baseado na estimativa da média populacional\n",
    "\n",
    "<br>\n",
    "\n",
    "### População Infinita\n",
    "\n",
    "<br>\n",
    "\n",
    "Uma população é considerada infinita quando seu tamanho é muito grande.\n",
    "\n",
    "Ao realizar o cálculo do tamanho da amostra $n$, deve-se levar em consideração o erro $\\epsilon$ máximo que deseja-se assumir (ao estimar a função parâmetrica) e o nível de confiança do resultado (probabilidade). Sendo assim, o problema consiste em determinar $n$ de forma que:\n",
    "\n",
    "$$P(\\mid \\overline{X} - \\mu \\mid \\leq \\epsilon) \\simeq 1 - \\alpha $$\n",
    "\n",
    "Mas pelo Teorema Central do Limite, a equação acima pode ser reescrita como:\n",
    "\n",
    "$$P \\left(\\mid \\overline{X} - \\mu \\mid \\leq z_{\\alpha/2}\\frac{\\sigma}{\\sqrt{n}} \\right) \\simeq 1 - \\alpha $$\n",
    "\n",
    "Sendo assim, dados um erro máximo e nível de confiança, calcular o tamanho amostral consiste em:\n",
    "\n",
    "$$ z_{\\alpha/2}\\frac{\\sigma}{\\sqrt{n}} = \\epsilon  \\Longrightarrow n = \\left(\\frac{z_{\\alpha/2}\\sigma}{\\epsilon }\\right) ^2 $$\n",
    "\n",
    "<br>\n",
    "\n",
    "__Exemplo de Aplicação:__ Um estudo a respeito do rendimento mensal dos chefes de domicílios no Brasil, determinou que o __erro máximo em relação a média seja de R$\\$$ 100,00__. Sabendo que o desvio padrão populacional deste grupo de trabalhadores é de **R$\\$$ 3.323,39$$**. Para um __nível de confiança de 95%__, qual deve ser o tamanho da amostra de nosso estudo?\n"
   ]
  },
  {
   "cell_type": "code",
   "execution_count": null,
   "id": "72c7a7cb",
   "metadata": {},
   "outputs": [],
   "source": []
  },
  {
   "cell_type": "markdown",
   "id": "5bd6310c",
   "metadata": {},
   "source": [
    "### População Finita\n",
    "\n",
    "<br>\n",
    "\n",
    "No caso em que o tamanho populacional não é tão grande, a consideramos finita. **Caso a amostra tenha um tamanho $n$ maior ou igual a 5% do tamanho da população $N$, considera-se que a população é finita**. Neste caso, aplica-se um fator de correção à fórmula vista anteriormente:\n",
    "\n",
    "<br>\n",
    "\n",
    "$$n = \\frac{N (z_{\\alpha/2}\\sigma)^2}{(N-1)\\epsilon^2 + (z_{\\alpha/2}\\sigma)^2 }$$\n",
    "\n",
    "<br>\n",
    "\n",
    "__Exemplo de Aplicação:__ Em um lote de **10.000 latas** de refrigerante foi realizada uma amostra aleatória simples de **500 latas** e foi obtido o **desvio padrão amostral do conteúdo das latas igual a 12 ml**. O fabricante estipula um **erro máximo sobre a média populacional de apenas 5 ml**. Para garantir um **nível de confiança de 95%** qual o tamanho de amostra deve ser selecionado para este estudo?"
   ]
  },
  {
   "cell_type": "code",
   "execution_count": null,
   "id": "3bda5096",
   "metadata": {},
   "outputs": [],
   "source": []
  },
  {
   "cell_type": "markdown",
   "id": "fc090a11",
   "metadata": {},
   "source": [
    "### Variância populacional desconhecida\n",
    "\n",
    "<br>\n",
    "\n",
    "No caso em que a variância populacional é desconhecida, pode-se realizar uma amostragem aleatória preliminar (ao menos 30 elementos) para estimar a variancia amostral e usa-la na equaçao acima.\n",
    "\n",
    "$$\\widehat{\\sigma^2} = s^2 = \\frac{\\sum_{i=1}^{n}(x_i -\\overline{X})^2}{N-1} $$"
   ]
  },
  {
   "cell_type": "markdown",
   "id": "dd560102",
   "metadata": {},
   "source": [
    "## "
   ]
  },
  {
   "cell_type": "markdown",
   "id": "4c0ba86f",
   "metadata": {},
   "source": [
    "## Teste de Hipóteses"
   ]
  },
  {
   "cell_type": "markdown",
   "id": "3b1e7976",
   "metadata": {},
   "source": [
    "O __Teste de Hipóteses__ é a principal ferramenta para tirarmos conclusões a partir de uma dada amostra e extrapolar (ou inferir) conclusões sobre a população. Uma hipótese será uma declaração sobre um parâmetro da população, ou seja para dado $\\mu$, $\\sigma^2$ e $p$ da população usaremos estimadores como $\\overline{X}$, $S^2$ e $\\hat{p}$ para as amostras. Os cálculos desses estimadores são dados da seguinte forma:\n",
    "\n",
    "$$\\overline{X} = \\sum_{i = 1}^{n} \\frac{X_{i}}{n}$$\n",
    "\n",
    "<br>\n",
    "\n",
    "$$ S^{2}  = \\frac{1}{n - 1} \\sum_{i = 1}^{n} (X_{i} - \\overline{X})^2$$\n",
    "\n",
    "<br>\n",
    "\n",
    "$$ \\hat{p} = \\frac{1}{n} \\sum_{i = 1}^{n} I_{i} $$\n",
    "\n",
    "No caso para a proporção $\\hat{p}$, o valor de $I_{i}$ é igual a 1 se a observação tem a característica de interesse, ou seja $I_{i} \\in \\{0, 1\\}$\n",
    "\n",
    "<br>\n",
    "\n",
    "Quando vamos aplicar o teste de hipóteses queremos testar alguma informação relevante sobre um atributo da população, de maneira a aceitar ou rejeitar esta informação. Para isto é que formulamos as chamadas __hipótese nula__ ($ H_{0}$) e a __hipótese alternativa__ ($H_{a}$ ou $H_{1}$), sendo a hipótese alternativa normalmente a rejeição da hipótese nula.\n",
    "\n",
    "Ao testar essas hipóteses podemos cair nos seguintes casos:\n",
    "\n"
   ]
  },
  {
   "cell_type": "markdown",
   "id": "0a9969e8",
   "metadata": {},
   "source": [
    "| Hipóteses | $H_{0}$ é verdadeira | $H_{0}$ é falsa |\n",
    "|-----------|----------------------|-----------------|\n",
    "| Rejeitar $H_{0}$ | Erro tipo I ($\\alpha$) | Sem erro |\n",
    "| Aceitar $H_{0}$  | Sem erro | Erro tipo II ($\\beta$) |\n",
    "\n",
    "<br>\n",
    "\n",
    "Partindo para as distribuições podemos interpretar cada um dos erros também como a figura a seguir:\n",
    "\n",
    "<img src=\"data:image/png;base64,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\" width=800>\n",
    "\n",
    "<br>\n",
    "\n",
    "Usualmente aplicamos teste de hipótese para diminuir a chance de ocorre o erro do Tipo I, ou seja costuma-se trabalhar com o nível de significância $\\alpha$."
   ]
  },
  {
   "cell_type": "markdown",
   "id": "fcb81809",
   "metadata": {},
   "source": [
    "Dos diversos parâmetros que podemos utilizar para aplicar os testes, o mais comum é aplicarmos um teste utilizando a média $\\mu$:\n",
    "\n",
    "\n",
    "\n",
    "![image.png](attachment:image.png)"
   ]
  },
  {
   "cell_type": "markdown",
   "id": "2b84ec3e",
   "metadata": {},
   "source": [
    "![teste.png](attachment:teste.png)"
   ]
  },
  {
   "cell_type": "markdown",
   "id": "f625fbab",
   "metadata": {},
   "source": [
    "**Exemplo 1**: Uma fábrica anuncia que o índice de nicotina dos cigarros de uma dada marca é igual ou menor a 20 mg por cigarro. Um laboratório realiza 20 análises do índice obtendo: 22, 19, 21, 22, 20, 18, 27, 20, 21, 19, 20, 22, 17, 20, 21,18, 25, 16, 20, 21. Sabe-se que o índice de nicotina dos cigarros dessa marca se distribui normalmente com variância 4 mg$^2$. Pode-se aceitar a afirmação do fabricante, ao nível de 5%?"
   ]
  },
  {
   "cell_type": "markdown",
   "id": "9a91e35f",
   "metadata": {},
   "source": [
    "$H_0: \\mu <= 20$<br>\n",
    "$H_1: \\mu > 20$"
   ]
  },
  {
   "cell_type": "markdown",
   "id": "56f18e64",
   "metadata": {},
   "source": [
    "### Resolução Teórica:"
   ]
  },
  {
   "cell_type": "markdown",
   "id": "996026d3",
   "metadata": {},
   "source": [
    "Vamos calcular o valor crítico para o teste e assim conseguir saber se aceitamos ou rejeitamos $H_{0}$:"
   ]
  },
  {
   "cell_type": "markdown",
   "id": "0226dc60",
   "metadata": {},
   "source": [
    "$$ P\\left(Z <\\frac{\\overline{X}_{c} - \\mu}{\\frac{\\sigma}{\\sqrt{n}}} | \\mu =20 \\right) = 1 - \\alpha =  0.95 $$"
   ]
  },
  {
   "cell_type": "code",
   "execution_count": null,
   "id": "4acb97cf",
   "metadata": {},
   "outputs": [
    {
     "ename": "NameError",
     "evalue": "name 'prob' is not defined",
     "output_type": "error",
     "traceback": [
      "\u001b[1;31m---------------------------------------------------------------------------\u001b[0m\n",
      "\u001b[1;31mNameError\u001b[0m                                 Traceback (most recent call last)\n",
      "Input \u001b[1;32mIn [1]\u001b[0m, in \u001b[0;36m<cell line: 4>\u001b[1;34m()\u001b[0m\n",
      "\u001b[0;32m      1\u001b[0m \u001b[38;5;66;03m# Cálculo do Z crítico para a probabilidade de 95%\u001b[39;00m\n",
      "\u001b[0;32m      2\u001b[0m \n",
      "\u001b[0;32m      3\u001b[0m \u001b[38;5;66;03m# Mostra o valor da probabilidade para 95%\u001b[39;00m\n",
      "\u001b[1;32m----> 4\u001b[0m \u001b[38;5;28mprint\u001b[39m(\u001b[38;5;124m\"\u001b[39m\u001b[38;5;124mZ crítico para a probabilidade para 95\u001b[39m\u001b[38;5;124m%\u001b[39m\u001b[38;5;124m: \u001b[39m\u001b[38;5;124m\"\u001b[39m, \u001b[43mprob\u001b[49m)\n",
      "\u001b[0;32m      6\u001b[0m \u001b[38;5;66;03m# Parâmetros para o teste\u001b[39;00m\n",
      "\u001b[0;32m      7\u001b[0m mu \u001b[38;5;241m=\u001b[39m \u001b[38;5;241m20\u001b[39m            \u001b[38;5;66;03m# média\u001b[39;00m\n",
      "\n",
      "\u001b[1;31mNameError\u001b[0m: name 'prob' is not defined"
     ]
    }
   ],
   "source": [
    "# Cálculo do Z crítico para a probabilidade de 95%\n",
    "\n",
    "# Mostra o valor da probabilidade para 95%\n",
    "print(\"Z crítico para a probabilidade para 95%: \", prob)\n",
    "\n",
    "# Parâmetros para o teste\n",
    "mu = 20            # média\n",
    "sigma = np.sqrt(4)  # desvio padrão\n",
    "n = 20             # tamanho da amostra\n",
    "\n",
    "# Cálculo do valor crítico\n",
    "\n",
    "# Mostra o valor crítico\n",
    "\n",
    "# Aplicando as observações\n",
    "X = [22, 19, 21, 22, 20, 18, 27, 20, 21, 19,\n",
    "     20, 22, 17, 20, 21, 18, 25, 16, 20, 21]\n",
    "\n",
    "# Calculando a média das observações\n",
    "Xobs = np.mean(X)\n",
    "\n",
    "# Mostra o valor médio das observações\n",
    "\n",
    "# Verificando se o valor médio ultrapassa o valor crítico\n"
   ]
  },
  {
   "cell_type": "markdown",
   "id": "ed4d297e",
   "metadata": {},
   "source": [
    "**Exemplo 2**: Um pesquisador deseja estudar o efeito de certa substância no tempo de reação de seres vivos a um certo tipo de estímulo. Um experimento é desenvolvido com cobaias, que são inoculadas com a substância e submetidas a um estímulo elétrico, com seus tempos de reação (em segundos) anotados. Os seguintes valores foram obtidos:\n",
    "T = [9.1, 9.3, 7.2, 13.3, 10.9, 7.2, 9.9, 8.0, 8.6, 7.5]<br>\n",
    "Admite-se que, em geral,  o tempo de reação tem distribuição Normal com média 8 segundos e desvio padrão 2 segundos. Entretanto, o pesquisador desconfia que o tempo médio sofre alteração por influência da substância. Verifique ao nível 6% se o tempo de reação das cobaias submetidas à substância foi alterado."
   ]
  },
  {
   "cell_type": "markdown",
   "id": "43b520f3",
   "metadata": {},
   "source": [
    "$H_0: \\mu = 8$<br>\n",
    "$H_1: \\mu \\neq 8$"
   ]
  },
  {
   "cell_type": "markdown",
   "id": "7a1e844b",
   "metadata": {},
   "source": [
    "![image.png](attachment:image.png)"
   ]
  },
  {
   "cell_type": "markdown",
   "id": "e260c643",
   "metadata": {},
   "source": [
    "### Resolução Teórica:"
   ]
  },
  {
   "cell_type": "markdown",
   "id": "7af1416f",
   "metadata": {},
   "source": [
    "Precisamos primeiramente definir a região crítica para o teste de hipótese:"
   ]
  },
  {
   "cell_type": "markdown",
   "id": "b46a6596",
   "metadata": {},
   "source": [
    "$\\alpha$ = P(rejeitar $H_{0}$ | $H_{0}$ é verdadeira) = 0.06, ou seja:\n",
    "\n",
    "$$ P\\left(\\overline{X} < \\overline{X}_{c1} \\cup \\overline{X} > \\overline{X}_{c2} | \\mu = 8 \\right) = 0.06 $$\n",
    "\n",
    "<br>\n",
    "\n",
    "Para o caso do teste bicaudal, temos que a probabilidade para cada um dos casos será igual a $\\alpha/2$:\n",
    "\n",
    "$$ P\\left(\\overline{X} < \\overline{X}_{c1} | \\mu = 8 \\right) = 0.03 $$\n",
    "\n",
    "$$ P\\left(\\overline{X} > \\overline{X}_{c2} | \\mu = 8 \\right) = 0.03 $$\n",
    "\n",
    "<br>\n",
    "\n",
    "Por fim ajustando a probabilidade para o caso crítico 2:\n",
    "\n",
    "$$ P\\left(\\overline{X} < \\overline{X}_{c1} | \\mu = 8 \\right) = 0.03 $$\n",
    "\n",
    "$$ P\\left(\\overline{X} < \\overline{X}_{c2} | \\mu = 8 \\right) = 0.97 $$\n"
   ]
  },
  {
   "cell_type": "code",
   "execution_count": null,
   "id": "1c356d91",
   "metadata": {},
   "outputs": [
    {
     "data": {
      "text/plain": [
       "1.8807936081512509"
      ]
     },
     "metadata": {},
     "output_type": "display_data"
    }
   ],
   "source": [
    "st.norm.ppf(0.97)"
   ]
  },
  {
   "cell_type": "code",
   "execution_count": null,
   "id": "e1cbab69",
   "metadata": {},
   "outputs": [
    {
     "name": "stdout",
     "output_type": "stream",
     "text": [
      "Caso crítico 1\n",
      "Probabilidade caso crítico 1:  -1.880793608151251\n",
      "Valor crítico 1:  6.810481677911164  s\n",
      "==================================================\n",
      "Caso crítico 2\n",
      "Probabilidade caso crítico 2:  1.8807936081512509\n",
      "Valor crítico 2:  9.189518322088837  s\n",
      "==================================================\n",
      "Valor médio observado:  9.1  s\n",
      "Teste de Hipótese: \n",
      "Aceitamos H0\n"
     ]
    }
   ],
   "source": [
    "# nivel de significancia\n",
    "alpha = 0.06\n",
    "\n",
    "# Caso critico 1\n",
    "print(\"Caso crítico 1\")\n",
    "\n",
    "# Calculo da probabilidade 1\n",
    "prob1 = st.norm.ppf(alpha/2)\n",
    "print(\"Probabilidade caso crítico 1: \", prob1)\n",
    "\n",
    "# Parametros do enunciado\n",
    "mu = 8\n",
    "sigma = 2\n",
    "n = 10\n",
    "\n",
    "# Valor critico 1\n",
    "Xc1 = mu + (sigma/np.sqrt(n))*prob1\n",
    "print(\"Valor crítico 1: \", Xc1, \" s\")\n",
    "print(\"==================================================\")\n",
    "\n",
    "# Caso critico 2\n",
    "print(\"Caso crítico 2\")\n",
    "\n",
    "# Probabilidade 2\n",
    "prob2 = st.norm.ppf(1 - alpha/2)\n",
    "print(\"Probabilidade caso crítico 2: \", prob2)\n",
    "\n",
    "# valor critico 2\n",
    "Xc2 = mu + (sigma/np.sqrt(n))*prob2\n",
    "print(\"Valor crítico 2: \", Xc2, \" s\")\n",
    "print(\"==================================================\")\n",
    "\n",
    "# Valores observados\n",
    "X = [9.1, 9.3, 7.2, 13.3, 10.9, 7.2, 9.9, 8.0, 8.6, 7.5]\n",
    "\n",
    "# Valor medio das observações\n",
    "Xobs = np.mean(X)\n",
    "print(\"Valor médio observado: \", Xobs, \" s\")\n",
    "\n",
    "# teste de Hipoteses\n",
    "print(\"Teste de Hipótese: \")\n",
    "if(Xobs < Xc1 or Xobs > Xc2):\n",
    "    print(\"Rejeitamos H0\")\n",
    "else:\n",
    "    print(\"Aceitamos H0\")"
   ]
  },
  {
   "cell_type": "markdown",
   "id": "5e705c4d",
   "metadata": {},
   "source": [
    "## "
   ]
  },
  {
   "cell_type": "markdown",
   "id": "44f246fb",
   "metadata": {},
   "source": [
    "## Valor p (p-valor, p-value)"
   ]
  },
  {
   "cell_type": "markdown",
   "id": "431eafca",
   "metadata": {},
   "source": [
    "Nos casos anteriores, o que fizemos para realizar o teste foi fixar a probabilidade do erro tipo I, dessa forma a aceitação ou não de $H_{0}$ depende do valor de $\\alpha$.\n",
    "\n",
    "Uma outra forma de realizarmos o teste será __calculando a probabilidade de significância__ (nível descritivo) mais conhecido como __p-value__ (valor p).\n",
    "\n",
    "A principal diferença com relação aos casos anteriores consiste em não construir a região crítica, o que se faz é indicar a probabilidade de ocorrer valores de estatística mais extremos do que o observado caso a hipótese seja verdadeira. \n",
    "\n",
    "O exemplo a seguir vai mostra justamente essa transição entre aceitação e rejeição da $H_{0}$:"
   ]
  },
  {
   "cell_type": "markdown",
   "id": "816e5a72",
   "metadata": {},
   "source": [
    "__Exemplo:__ Vamos considerar as seguintes hipóteses:<br>\n",
    "\n",
    "$H_0: \\mu = 10$<br>\n",
    "$H_1: \\mu  10$<br>\n",
    "\n",
    "Assumimos que a população tem distribuição normal com desvio padrão $\\sigma$, definido abaixo:"
   ]
  },
  {
   "cell_type": "code",
   "execution_count": null,
   "id": "3b462e62",
   "metadata": {},
   "outputs": [],
   "source": [
    "import numpy as np \n",
    "import matplotlib.pyplot as plt "
   ]
  },
  {
   "cell_type": "code",
   "execution_count": null,
   "id": "3c7eb43c",
   "metadata": {},
   "outputs": [
    {
     "data": {
      "image/png": "[encoded data removed]",
      "text/plain": [
       "<Figure size 576x288 with 1 Axes>"
      ]
     },
     "metadata": {},
     "output_type": "display_data"
    }
   ],
   "source": [
    "# PArametros\n",
    "mu = 10\n",
    "sigma = 2\n",
    "\n",
    "# tamanho da amostra\n",
    "n = 50\n",
    "\n",
    "# Numero de simulações\n",
    "Ns = 10000\n",
    "\n",
    "# Vetor com as medias amostrais\n",
    "Xm = []\n",
    "\n",
    "# Loop para as simulaçoes\n",
    "for s in range(1, Ns):\n",
    "    x = np.random.normal(mu, sigma, n)  # sorteia uma amostra de tamanho n\n",
    "    Xm.append(np.mean(x))\n",
    "\n",
    "# plot do histograma\n",
    "plt.figure(figsize=(8, 4))\n",
    "a = plt.hist(x=Xm, bins=20, color='#0504aa', alpha=0.7,\n",
    "             rwidth=0.85, label=str(Ns), density=True)\n",
    "plt.axvline(x=mu, color='r', linestyle='--', label='Media')\n",
    "plt.xlabel(r'$\\bar{X}$', fontsize=20)\n",
    "plt.ylabel(r'$P(\\bar{X})$', fontsize=20)\n",
    "plt.show()"
   ]
  },
  {
   "cell_type": "markdown",
   "id": "a7e8c3da",
   "metadata": {},
   "source": [
    "Vamos supor que conhecemos o valor médio observado $\\bar{x}_{obs}$.\n",
    "\n",
    "De acordo com o nível de significância, podemos aceitar ou rejeitar $H_0$, conforme veremos a seguir:"
   ]
  },
  {
   "cell_type": "code",
   "execution_count": null,
   "id": "79f31d7d",
   "metadata": {},
   "outputs": [
    {
     "data": {
      "image/png": "[encoded data removed]",
      "text/plain": [
       "<Figure size 432x216 with 1 Axes>"
      ]
     },
     "metadata": {},
     "output_type": "display_data"
    },
    {
     "data": {
      "image/png": "[encoded data removed]",
      "text/plain": [
       "<Figure size 432x216 with 1 Axes>"
      ]
     },
     "metadata": {},
     "output_type": "display_data"
    },
    {
     "data": {
      "image/png": "[encoded data removed]",
      "text/plain": [
       "<Figure size 432x216 with 1 Axes>"
      ]
     },
     "metadata": {},
     "output_type": "display_data"
    },
    {
     "data": {
      "image/png": "[encoded data removed]",
      "text/plain": [
       "<Figure size 432x216 with 1 Axes>"
      ]
     },
     "metadata": {},
     "output_type": "display_data"
    },
    {
     "data": {
      "image/png": "[encoded data removed]",
      "text/plain": [
       "<Figure size 432x216 with 1 Axes>"
      ]
     },
     "metadata": {},
     "output_type": "display_data"
    },
    {
     "data": {
      "image/png": "[encoded data removed]",
      "text/plain": [
       "<Figure size 432x216 with 1 Axes>"
      ]
     },
     "metadata": {},
     "output_type": "display_data"
    }
   ],
   "source": [
    "# Valor observado\n",
    "xobs = 9.8\n",
    "\n",
    "# Alphas a serem testados\n",
    "alphas = [5, 10, 20, 25, 30, 40]\n",
    "\n",
    "# Loop para criar um grafico para cada alpha\n",
    "for alpha in alphas:\n",
    "    xc = np.percentile(Xm, alpha)\n",
    "    plt.figure(figsize=(6, 3))\n",
    "    a = plt.hist(x=Xm, bins=20, color='#0504aa',\n",
    "                 alpha=0.7, rwidth=0.85, density=True)\n",
    "    plt.axvline(x=xc, color='red', linestyle='--', label='xc1')\n",
    "    plt.axvline(x=xobs, color='green', linestyle='--', label='xobs')\n",
    "    plt.xlabel(r'$\\bar{X}$', fontsize=20)\n",
    "    plt.ylabel(r'$P(\\bar{X})$', fontsize=20)\n",
    "    plt.legend()\n",
    "    if(xobs < xc):\n",
    "        plt.title(\"Rejeitamos H0\"+r' $\\alpha$ = ' + str(alpha/100))\n",
    "    else:\n",
    "        plt.title(\"Aceitamos H0\"+r' $\\alpha$ = ' + str(alpha/100))\n",
    "    plt.show(True)"
   ]
  },
  {
   "cell_type": "markdown",
   "id": "b7657d76",
   "metadata": {},
   "source": [
    "O valor de $\\alpha$ em que há a transição entre aceitar ou rejeitar $H_0$ é o valor p."
   ]
  },
  {
   "cell_type": "markdown",
   "id": "63362d7c",
   "metadata": {},
   "source": [
    "O que podemos concluir sobre o __valor p__ é que ele representa o __menor nível de significância $\\alpha$ no qual é possível rejeitar a hipótese nula__ ou em outras palavras, a probabilidade de observar os dados se a hipótese nula for verdadeira.\n",
    "\n",
    "Quanto melhor o valor p, maior é a evidência contra a aceitação da hipótese nula. Vamos avaliar alguns exemplos diretos:\n",
    "\n",
    "- $p = 0.01$, significa que em 1 de cada 100 experimentos, a $H_{0}$ Será verdadeira;\n",
    "- $p = 0.1$, significa que em 10 de cada 100 experimentos, a $H_{0}$ Será verdadeira;\n",
    "- $p = 0.5$, significa que em 50 de cada 100 experimentos, a $H_{0}$ Será verdadeira;\n",
    "- $p = 0.9$, significa que em 90 de cada 100 experimentos, a $H_{0}$ Será verdadeira.\n",
    "\n",
    "Usualmente costuma-se avaliar o nível de significância de acordo com a tabela abaixo:\n",
    "\n",
    "| Nível de significância | Decisão |\n",
    "|------------------------|---------|\n",
    "| $p < 0.01$ | Evidência muito forte contra $H_{0}$ |\n",
    "| $0.01 < p < 0.05$ | Forte evidência contra $H_{0}$ |\n",
    "| $0.05 < p < 0.1$ | Fraca evidência contra $H_{0}$ |\n",
    "| $p > 0.1$ | Pouquíssima ou nenhuma evidência contra $H_{0}$ |"
   ]
  },
  {
   "cell_type": "markdown",
   "id": "6b55297d",
   "metadata": {},
   "source": [
    "__Exemplo:__ Uma companhia de ônibus planejou uma nova rota. Um estudo preliminar afirma que a duração da viagem pode ser considerada uma variável aleatória com distribuição normal com $\\mu$ = 300 minutos e $\\sigma$ = 30 minutos. As 10 primeiras viagens resultaram em uma média igual a 314 minutos. Esse resultado comprova ou não o estudo preliminar?"
   ]
  },
  {
   "cell_type": "markdown",
   "id": "ac277f81",
   "metadata": {},
   "source": [
    "$H_0: \\mu = 300$ min<br>\n",
    "$H_1: \\mu > 300$ min"
   ]
  },
  {
   "cell_type": "markdown",
   "id": "6b8eec06",
   "metadata": {},
   "source": [
    "$$ P\\left(\\overline{X} > 314 | \\mu = 300\\right) = P\\left(\\frac{\\overline{X} - \\mu}{\\frac{\\sigma}{\\sqrt{n}}} > \\frac{314 - \\mu}{\\frac{\\sigma}{\\sqrt{n}}}\\right) = P\\left(\\frac{\\overline{X} - \\mu}{\\frac{\\sigma}{\\sqrt{n}}} > \\frac{314 - 300}{\\frac{30}{\\sqrt{10}}}\\right) = P(Z > 1,48)$$\n",
    "\n",
    "Lembrando que $P(Z > 1,48) = 1 - P(Z < 1,48)$:"
   ]
  },
  {
   "cell_type": "code",
   "execution_count": null,
   "id": "e1325460",
   "metadata": {},
   "outputs": [
    {
     "name": "stdout",
     "output_type": "stream",
     "text": [
      "Z - Score:  1.4757295747452437\n",
      "Probabilidade:  0.07000825159858448\n"
     ]
    }
   ],
   "source": [
    "# Parametros\n",
    "Xobs = 314\n",
    "mu = 300\n",
    "sigma = 30\n",
    "n = 10\n",
    "\n",
    "# Calculo do Z Score\n",
    "z = (Xobs - mu)/(sigma/np.sqrt(n))\n",
    "\n",
    "# Print do Z Score e da probabilidade\n",
    "print('Z - Score: ', z)\n",
    "print('Probabilidade: ', 1 - st.norm.cdf(z))"
   ]
  },
  {
   "cell_type": "markdown",
   "id": "4473907b",
   "metadata": {},
   "source": [
    "Como o valor p não é tão pequeno, podemos dizer que há poucas evidências para rejeitar $H_{0}$."
   ]
  },
  {
   "cell_type": "markdown",
   "id": "67b5c046",
   "metadata": {},
   "source": [
    "![image.png](attachment:image.png)"
   ]
  },
  {
   "cell_type": "markdown",
   "id": "c6701351",
   "metadata": {},
   "source": [
    "## "
   ]
  },
  {
   "cell_type": "markdown",
   "id": "a0aa8686",
   "metadata": {},
   "source": [
    "## Comparação entre duas médias"
   ]
  },
  {
   "cell_type": "markdown",
   "id": "a0d3d260",
   "metadata": {},
   "source": [
    "Uma das principais aplicações do teste de hipóteses é na seleção de atributos. Vamos comparar duas distribuições e verificar se elas possuem a mesma média. Vamos formular as hipóteses:\n",
    "$$\n",
    "H_0: \\mu_1 = \\mu_2\n",
    "$$\n",
    "$$\n",
    "H_a: \\mu_1 \\neq \\mu_2\n",
    "$$"
   ]
  },
  {
   "cell_type": "code",
   "execution_count": null,
   "id": "55bf33c7",
   "metadata": {},
   "outputs": [
    {
     "data": {
      "image/png": "[encoded data removed]",
      "text/plain": [
       "<Figure size 576x288 with 1 Axes>"
      ]
     },
     "metadata": {},
     "output_type": "display_data"
    }
   ],
   "source": [
    "# Parametros para a curva 1\n",
    "n = 1000\n",
    "mu1 = 0\n",
    "sigma1 = 2\n",
    "x1 = np.random.normal(mu1, sigma1, n)  # sorteia uma amostra de tamanho n\n",
    "\n",
    "# Parametros para a curva 2\n",
    "mu2 = 0\n",
    "sigma2 = 2\n",
    "x2 = np.random.normal(mu2, sigma2, n)  # sorteia uma amostra de tamanho n\n",
    "\n",
    "# Histograma das distribuições\n",
    "plt.figure(figsize=(8, 4))\n",
    "a1 = plt.hist(x=x1, bins=20, color='blue',\n",
    "              alpha=0.7, rwidth=0.85, density=True)\n",
    "a2 = plt.hist(x=x2, bins=20, color='red', alpha=0.7, rwidth=0.85, density=True)\n",
    "plt.show(True)"
   ]
  },
  {
   "cell_type": "markdown",
   "id": "62eea3e6",
   "metadata": {},
   "source": [
    "Para resolver a comparação entre médias, a forma que vamos utilizar para fazer será com o teste [T de Student](https://pt.wikipedia.org/wiki/Teste_t_de_Student):"
   ]
  },
  {
   "cell_type": "code",
   "execution_count": null,
   "id": "008da19c",
   "metadata": {},
   "outputs": [
    {
     "name": "stdout",
     "output_type": "stream",
     "text": [
      "t=-0.13478645597049532, p=0.8927942908580734\n"
     ]
    }
   ],
   "source": [
    "# Import dos stats do scipy\n",
    "from scipy import stats\n",
    "\n",
    "# Aplicando o t-Student\n",
    "t_stat, p = stats.ttest_ind(x1, x2)\n",
    "print(f't={t_stat}, p={p}')"
   ]
  },
  {
   "cell_type": "markdown",
   "id": "6355bf33",
   "metadata": {},
   "source": [
    "Ou seja, como o valor p é alto, podemos concluir que as distribuições possuem a mesma média (aceitamos $H_0$)"
   ]
  },
  {
   "cell_type": "markdown",
   "id": "7c1553fa",
   "metadata": {},
   "source": [
    "Vamos agora considerar duas distribuições com médias distintas."
   ]
  },
  {
   "cell_type": "code",
   "execution_count": null,
   "id": "2110274f",
   "metadata": {},
   "outputs": [
    {
     "data": {
      "image/png": "[encoded data removed]",
      "text/plain": [
       "<Figure size 576x288 with 1 Axes>"
      ]
     },
     "metadata": {},
     "output_type": "display_data"
    }
   ],
   "source": [
    "# PArametros da curva 1\n",
    "n = 1000\n",
    "mu1 = 0\n",
    "sigma1 = 2\n",
    "x1 = np.random.normal(mu1, sigma1, n)  # sorteia uma amostra de tamanho n\n",
    "\n",
    "# PArametros da curva 2\n",
    "mu2 = 5\n",
    "sigma2 = 2\n",
    "x2 = np.random.normal(mu2, sigma2, n)  # sorteia uma amostra de tamanho n\n",
    "\n",
    "# Histograma das distribuições\n",
    "plt.figure(figsize=(8, 4))\n",
    "a1 = plt.hist(x=x1, bins=20, color='blue',\n",
    "              alpha=0.7, rwidth=0.85, density=True)\n",
    "a2 = plt.hist(x=x2, bins=20, color='red', alpha=0.7, rwidth=0.85, density=True)\n",
    "plt.show(True)"
   ]
  },
  {
   "cell_type": "code",
   "execution_count": null,
   "id": "0cb292f8",
   "metadata": {},
   "outputs": [
    {
     "name": "stdout",
     "output_type": "stream",
     "text": [
      "t=-55.95865969600241, p=0.0\n"
     ]
    }
   ],
   "source": [
    "# Calculo do t-student\n",
    "t_stat, p = stats.ttest_ind(x1, x2)\n",
    "print(f't={t_stat}, p={p}')"
   ]
  },
  {
   "cell_type": "markdown",
   "id": "a581426c",
   "metadata": {},
   "source": [
    "Nesse segundo caso, vemos que o valor p é igual a zero, o que nos permite rejeitar $H_0$"
   ]
  },
  {
   "cell_type": "markdown",
   "id": "a8f1647d",
   "metadata": {},
   "source": [
    "Portanto, podemos usar o teste de hipóteses para realizar uma seleção de atributos, onde atributos que não conseguem discriminar duas classes, devem ser removidos do conjunto de dados."
   ]
  },
  {
   "cell_type": "markdown",
   "id": "3d3f1492",
   "metadata": {},
   "source": [
    "## "
   ]
  },
  {
   "cell_type": "markdown",
   "id": "f04703a4",
   "metadata": {},
   "source": [
    "## Exercícios"
   ]
  },
  {
   "cell_type": "markdown",
   "id": "83b9e701",
   "metadata": {},
   "source": [
    "__1)__ Suponha que os pesos das sacas de soja de uma indústria alimentícia se distribuem aproximadamente como uma normal de desvio padrão populacional igual a 570 g. Selecionada uma amostra aleatória de 25 sacas de um lote específico, obteve-se um peso médio de 27.215 g. Construa um intervalo de confiança para a **média populacional** assumindo um **nível de significância de 10%**."
   ]
  },
  {
   "cell_type": "code",
   "execution_count": null,
   "id": "f8f78ab5",
   "metadata": {},
   "outputs": [],
   "source": []
  },
  {
   "cell_type": "code",
   "execution_count": null,
   "id": "23af0cec",
   "metadata": {},
   "outputs": [],
   "source": []
  },
  {
   "cell_type": "code",
   "execution_count": null,
   "id": "5d7fe561",
   "metadata": {},
   "outputs": [],
   "source": []
  },
  {
   "cell_type": "markdown",
   "id": "36de329e",
   "metadata": {},
   "source": [
    "__2)__ Um estudo a respeito do rendimento mensal dos chefes de domicílios no Brasil, determinou que o __erro máximo em relação a média seja de R$\\$$ 370,00__. Sabendo que o desvio padrão populacional deste grupo de trabalhadores é de **R$\\$$ 2.516,28**. Para um __nível de confiança de 99%__, qual deve ser o tamanho da amostra de nosso estudo?"
   ]
  },
  {
   "cell_type": "code",
   "execution_count": null,
   "id": "14ccc34d",
   "metadata": {},
   "outputs": [],
   "source": []
  },
  {
   "cell_type": "code",
   "execution_count": null,
   "id": "57bbeb70",
   "metadata": {},
   "outputs": [],
   "source": []
  },
  {
   "cell_type": "code",
   "execution_count": null,
   "id": "969d30a0",
   "metadata": {},
   "outputs": [],
   "source": []
  },
  {
   "cell_type": "markdown",
   "id": "10693a3e",
   "metadata": {},
   "source": [
    "__3)__ Um fabricante de lajotas de cerâmica introduz um novo material em sua fabricação e acredita que aumentará a resistência média, que é de 206 kg. A resistência das lajotas tem distribuição normal com desvio padrão de 12 kg. Retira-se uma amostra de 30 lajotas, obtendo $\\overline{X}_{obs}$ = 210 kg. Ao nível de 10%, pode o fabricante aceitar que a resistência média de suas lajotas tenha aumentado?"
   ]
  },
  {
   "cell_type": "code",
   "execution_count": null,
   "id": "d6f78fe9",
   "metadata": {},
   "outputs": [],
   "source": []
  },
  {
   "cell_type": "code",
   "execution_count": null,
   "id": "96ff3ac8",
   "metadata": {},
   "outputs": [],
   "source": []
  },
  {
   "cell_type": "code",
   "execution_count": null,
   "id": "ac0ee695",
   "metadata": {},
   "outputs": [],
   "source": []
  },
  {
   "cell_type": "markdown",
   "id": "b384d332",
   "metadata": {},
   "source": [
    "__4)__ Uma fábrica de automóveis anuncia que seus carros consomem, em média, 11 litros por 100 km, com desvio padrão de 0,8 litro. Uma revista decide testar essa afirmação e analisa 35 carros dessa marca, obtendo 11,4 litros por 100 km, como consumo médio. Admitindo que o consumo tenha distribuição normal, ao nível de 5%, o que a revista concluirá sobre o anúncio da fábrica?"
   ]
  },
  {
   "cell_type": "code",
   "execution_count": null,
   "id": "a8e30a1d",
   "metadata": {},
   "outputs": [],
   "source": []
  },
  {
   "cell_type": "code",
   "execution_count": null,
   "id": "fe49c462",
   "metadata": {},
   "outputs": [],
   "source": []
  },
  {
   "cell_type": "code",
   "execution_count": null,
   "id": "692e4051",
   "metadata": {},
   "outputs": [],
   "source": []
  },
  {
   "cell_type": "markdown",
   "id": "d42e3c27",
   "metadata": {},
   "source": [
    "__5)__ Os novos operários de uma empresa são treinados a operarem uma máquina, cujo tempo X (em horas) de aprendizado é anotado. Observou-se que X segue de perto a distribuição normal N(25; 100). Uma nova técnica de ensino, que deve melhorar o tempo de aprendizado, foi testada em 16 novos empregados, os quais apresentaram 20.5 horas como tempo médio de aprendizado. Usando o p-valor, você diria que a nova técnica é melhor que a anterior?"
   ]
  },
  {
   "cell_type": "code",
   "execution_count": null,
   "id": "48619afc",
   "metadata": {},
   "outputs": [],
   "source": []
  },
  {
   "cell_type": "code",
   "execution_count": null,
   "id": "50932fc0",
   "metadata": {},
   "outputs": [],
   "source": []
  },
  {
   "cell_type": "code",
   "execution_count": null,
   "id": "587931bc",
   "metadata": {},
   "outputs": [],
   "source": []
  },
  {
   "cell_type": "markdown",
   "id": "a1670aa3",
   "metadata": {},
   "source": [
    "## "
   ]
  },
  {
   "cell_type": "markdown",
   "id": "78cfd7a7",
   "metadata": {},
   "source": [
    "## "
   ]
  }
 ],
 "metadata": {
  "hide_input": false,
  "kernelspec": {
   "display_name": "Python 3 (ipykernel)",
   "language": "python",
   "name": "python3"
  },
  "language_info": {
   "codemirror_mode": {
    "name": "ipython",
    "version": 3
   },
   "file_extension": ".py",
   "mimetype": "text/x-python",
   "name": "python",
   "nbconvert_exporter": "python",
   "pygments_lexer": "ipython3",
   "version": "3.11.8"
  },
  "varInspector": {
   "cols": {
    "lenName": 16,
    "lenType": 16,
    "lenVar": 40
   },
   "kernels_config": {
    "python": {
     "delete_cmd_postfix": "",
     "delete_cmd_prefix": "del ",
     "library": "var_list.py",
     "varRefreshCmd": "print(var_dic_list())"
    },
    "r": {
     "delete_cmd_postfix": ") ",
     "delete_cmd_prefix": "rm(",
     "library": "var_list.r",
     "varRefreshCmd": "cat(var_dic_list()) "
    }
   },
   "types_to_exclude": [
    "module",
    "function",
    "builtin_function_or_method",
    "instance",
    "_Feature"
   ],
   "window_display": false
  }
 },
 "nbformat": 4,
 "nbformat_minor": 5
}
